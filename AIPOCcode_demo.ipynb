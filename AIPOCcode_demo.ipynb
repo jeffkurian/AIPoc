{
 "cells": [
  {
   "cell_type": "code",
   "execution_count": 2,
   "id": "ab376be8-3607-41d6-b455-64865ba4a06e",
   "metadata": {
    "tags": []
   },
   "outputs": [],
   "source": [
    "###transformer_name = 'sentence-transformers/all-MiniLM-L6-v2'\n",
    "embedding_model_name = \"sentence-transformers/all-mpnet-base-v2\" #open source?\n",
    "llm_name = \"databricks/dolly-v2-2-8b\"\n",
    "\n",
    "KB_doc_folder = \"KnowledgeBaseDocs\"\n",
    "vector_db_path = \"AIProjectDB/vector_db\"\n",
    "\n",
    "text_chunk_size_nchar = 800\n",
    "chunk_overlap_size = 400\n",
    "load = True\n",
    "maxSemResCount = 50\n",
    "recomputePlanCollections = False"
   ]
  },
  {
   "cell_type": "code",
   "execution_count": 3,
   "id": "e372f64c-4031-4d62-8daa-36fd38cec78a",
   "metadata": {
    "collapsed": true,
    "jupyter": {
     "outputs_hidden": true
    },
    "tags": []
   },
   "outputs": [
    {
     "name": "stdout",
     "output_type": "stream",
     "text": [
      "Looking in indexes: https://pypi.org/simple, https://pip.repos.neuron.amazonaws.com\n",
      "Collecting langchain\n",
      "  Downloading langchain-0.0.258-py3-none-any.whl (1.4 MB)\n",
      "\u001b[2K     \u001b[90m━━━━━━━━━━━━━━━━━━━━━━━━━━━━━━━━━━━━━━━━\u001b[0m \u001b[32m1.4/1.4 MB\u001b[0m \u001b[31m17.4 MB/s\u001b[0m eta \u001b[36m0:00:00\u001b[0m00:01\u001b[0m\n",
      "\u001b[?25hRequirement already satisfied: PyYAML>=5.3 in /home/ec2-user/anaconda3/envs/python3/lib/python3.10/site-packages (from langchain) (5.4.1)\n",
      "Requirement already satisfied: SQLAlchemy<3,>=1.4 in /home/ec2-user/anaconda3/envs/python3/lib/python3.10/site-packages (from langchain) (2.0.12)\n",
      "Requirement already satisfied: aiohttp<4.0.0,>=3.8.3 in /home/ec2-user/anaconda3/envs/python3/lib/python3.10/site-packages (from langchain) (3.8.4)\n",
      "Requirement already satisfied: async-timeout<5.0.0,>=4.0.0 in /home/ec2-user/anaconda3/envs/python3/lib/python3.10/site-packages (from langchain) (4.0.2)\n",
      "Collecting dataclasses-json<0.6.0,>=0.5.7 (from langchain)\n",
      "  Downloading dataclasses_json-0.5.14-py3-none-any.whl (26 kB)\n",
      "Collecting langsmith<0.1.0,>=0.0.11 (from langchain)\n",
      "  Downloading langsmith-0.0.19-py3-none-any.whl (31 kB)\n",
      "Collecting numexpr<3.0.0,>=2.8.4 (from langchain)\n",
      "  Downloading numexpr-2.8.5-cp310-cp310-manylinux_2_17_x86_64.manylinux2014_x86_64.whl (383 kB)\n",
      "\u001b[2K     \u001b[90m━━━━━━━━━━━━━━━━━━━━━━━━━━━━━━━━━━━━━━━\u001b[0m \u001b[32m383.2/383.2 kB\u001b[0m \u001b[31m5.8 MB/s\u001b[0m eta \u001b[36m0:00:00\u001b[0m00:01\u001b[0m\n",
      "\u001b[?25hRequirement already satisfied: numpy<2,>=1 in /home/ec2-user/anaconda3/envs/python3/lib/python3.10/site-packages (from langchain) (1.22.3)\n",
      "Collecting openapi-schema-pydantic<2.0,>=1.2 (from langchain)\n",
      "  Downloading openapi_schema_pydantic-1.2.4-py3-none-any.whl (90 kB)\n",
      "\u001b[2K     \u001b[90m━━━━━━━━━━━━━━━━━━━━━━━━━━━━━━━━━━━━━━━━\u001b[0m \u001b[32m90.0/90.0 kB\u001b[0m \u001b[31m2.8 MB/s\u001b[0m eta \u001b[36m0:00:00\u001b[0m\n",
      "\u001b[?25hCollecting pydantic<2,>=1 (from langchain)\n",
      "  Downloading pydantic-1.10.12-cp310-cp310-manylinux_2_17_x86_64.manylinux2014_x86_64.whl (3.1 MB)\n",
      "\u001b[2K     \u001b[90m━━━━━━━━━━━━━━━━━━━━━━━━━━━━━━━━━━━━━━━━\u001b[0m \u001b[32m3.1/3.1 MB\u001b[0m \u001b[31m11.8 MB/s\u001b[0m eta \u001b[36m0:00:00\u001b[0m00:01\u001b[0m\n",
      "\u001b[?25hRequirement already satisfied: requests<3,>=2 in /home/ec2-user/anaconda3/envs/python3/lib/python3.10/site-packages (from langchain) (2.29.0)\n",
      "Requirement already satisfied: tenacity<9.0.0,>=8.1.0 in /home/ec2-user/anaconda3/envs/python3/lib/python3.10/site-packages (from langchain) (8.2.2)\n",
      "Requirement already satisfied: attrs>=17.3.0 in /home/ec2-user/anaconda3/envs/python3/lib/python3.10/site-packages (from aiohttp<4.0.0,>=3.8.3->langchain) (23.1.0)\n",
      "Requirement already satisfied: charset-normalizer<4.0,>=2.0 in /home/ec2-user/anaconda3/envs/python3/lib/python3.10/site-packages (from aiohttp<4.0.0,>=3.8.3->langchain) (2.1.1)\n",
      "Requirement already satisfied: multidict<7.0,>=4.5 in /home/ec2-user/anaconda3/envs/python3/lib/python3.10/site-packages (from aiohttp<4.0.0,>=3.8.3->langchain) (6.0.4)\n",
      "Requirement already satisfied: yarl<2.0,>=1.0 in /home/ec2-user/anaconda3/envs/python3/lib/python3.10/site-packages (from aiohttp<4.0.0,>=3.8.3->langchain) (1.9.1)\n",
      "Requirement already satisfied: frozenlist>=1.1.1 in /home/ec2-user/anaconda3/envs/python3/lib/python3.10/site-packages (from aiohttp<4.0.0,>=3.8.3->langchain) (1.3.3)\n",
      "Requirement already satisfied: aiosignal>=1.1.2 in /home/ec2-user/anaconda3/envs/python3/lib/python3.10/site-packages (from aiohttp<4.0.0,>=3.8.3->langchain) (1.3.1)\n",
      "Collecting marshmallow<4.0.0,>=3.18.0 (from dataclasses-json<0.6.0,>=0.5.7->langchain)\n",
      "  Downloading marshmallow-3.20.1-py3-none-any.whl (49 kB)\n",
      "\u001b[2K     \u001b[90m━━━━━━━━━━━━━━━━━━━━━━━━━━━━━━━━━━━━━━━━\u001b[0m \u001b[32m49.4/49.4 kB\u001b[0m \u001b[31m1.4 MB/s\u001b[0m eta \u001b[36m0:00:00\u001b[0m\n",
      "\u001b[?25hCollecting typing-inspect<1,>=0.4.0 (from dataclasses-json<0.6.0,>=0.5.7->langchain)\n",
      "  Downloading typing_inspect-0.9.0-py3-none-any.whl (8.8 kB)\n",
      "Requirement already satisfied: typing-extensions>=4.2.0 in /home/ec2-user/anaconda3/envs/python3/lib/python3.10/site-packages (from pydantic<2,>=1->langchain) (4.5.0)\n",
      "Requirement already satisfied: idna<4,>=2.5 in /home/ec2-user/anaconda3/envs/python3/lib/python3.10/site-packages (from requests<3,>=2->langchain) (3.4)\n",
      "Requirement already satisfied: urllib3<1.27,>=1.21.1 in /home/ec2-user/anaconda3/envs/python3/lib/python3.10/site-packages (from requests<3,>=2->langchain) (1.26.14)\n",
      "Requirement already satisfied: certifi>=2017.4.17 in /home/ec2-user/anaconda3/envs/python3/lib/python3.10/site-packages (from requests<3,>=2->langchain) (2023.5.7)\n",
      "Requirement already satisfied: greenlet!=0.4.17 in /home/ec2-user/anaconda3/envs/python3/lib/python3.10/site-packages (from SQLAlchemy<3,>=1.4->langchain) (2.0.2)\n",
      "Requirement already satisfied: packaging>=17.0 in /home/ec2-user/anaconda3/envs/python3/lib/python3.10/site-packages (from marshmallow<4.0.0,>=3.18.0->dataclasses-json<0.6.0,>=0.5.7->langchain) (21.3)\n",
      "Requirement already satisfied: mypy-extensions>=0.3.0 in /home/ec2-user/anaconda3/envs/python3/lib/python3.10/site-packages (from typing-inspect<1,>=0.4.0->dataclasses-json<0.6.0,>=0.5.7->langchain) (1.0.0)\n",
      "Requirement already satisfied: pyparsing!=3.0.5,>=2.0.2 in /home/ec2-user/anaconda3/envs/python3/lib/python3.10/site-packages (from packaging>=17.0->marshmallow<4.0.0,>=3.18.0->dataclasses-json<0.6.0,>=0.5.7->langchain) (3.0.9)\n",
      "Installing collected packages: typing-inspect, pydantic, numexpr, openapi-schema-pydantic, marshmallow, langsmith, dataclasses-json, langchain\n",
      "  Attempting uninstall: numexpr\n",
      "    Found existing installation: numexpr 2.7.3\n",
      "    Uninstalling numexpr-2.7.3:\n",
      "      Successfully uninstalled numexpr-2.7.3\n",
      "Successfully installed dataclasses-json-0.5.14 langchain-0.0.258 langsmith-0.0.19 marshmallow-3.20.1 numexpr-2.8.5 openapi-schema-pydantic-1.2.4 pydantic-1.10.12 typing-inspect-0.9.0\n",
      "Looking in indexes: https://pypi.org/simple, https://pip.repos.neuron.amazonaws.com\n",
      "Requirement already satisfied: transformers in /home/ec2-user/anaconda3/envs/python3/lib/python3.10/site-packages (4.32.0.dev0)\n",
      "Requirement already satisfied: filelock in /home/ec2-user/anaconda3/envs/python3/lib/python3.10/site-packages (from transformers) (3.12.0)\n",
      "Requirement already satisfied: huggingface-hub<1.0,>=0.15.1 in /home/ec2-user/anaconda3/envs/python3/lib/python3.10/site-packages (from transformers) (0.16.4)\n",
      "Requirement already satisfied: numpy>=1.17 in /home/ec2-user/anaconda3/envs/python3/lib/python3.10/site-packages (from transformers) (1.22.3)\n",
      "Requirement already satisfied: packaging>=20.0 in /home/ec2-user/anaconda3/envs/python3/lib/python3.10/site-packages (from transformers) (21.3)\n",
      "Requirement already satisfied: pyyaml>=5.1 in /home/ec2-user/anaconda3/envs/python3/lib/python3.10/site-packages (from transformers) (5.4.1)\n",
      "Requirement already satisfied: regex!=2019.12.17 in /home/ec2-user/anaconda3/envs/python3/lib/python3.10/site-packages (from transformers) (2023.5.5)\n",
      "Requirement already satisfied: requests in /home/ec2-user/anaconda3/envs/python3/lib/python3.10/site-packages (from transformers) (2.29.0)\n",
      "Requirement already satisfied: tokenizers!=0.11.3,<0.14,>=0.11.1 in /home/ec2-user/anaconda3/envs/python3/lib/python3.10/site-packages (from transformers) (0.13.3)\n",
      "Requirement already satisfied: safetensors>=0.3.1 in /home/ec2-user/anaconda3/envs/python3/lib/python3.10/site-packages (from transformers) (0.3.2)\n",
      "Requirement already satisfied: tqdm>=4.27 in /home/ec2-user/anaconda3/envs/python3/lib/python3.10/site-packages (from transformers) (4.65.0)\n",
      "Requirement already satisfied: fsspec in /home/ec2-user/anaconda3/envs/python3/lib/python3.10/site-packages (from huggingface-hub<1.0,>=0.15.1->transformers) (2023.5.0)\n",
      "Requirement already satisfied: typing-extensions>=3.7.4.3 in /home/ec2-user/anaconda3/envs/python3/lib/python3.10/site-packages (from huggingface-hub<1.0,>=0.15.1->transformers) (4.5.0)\n",
      "Requirement already satisfied: pyparsing!=3.0.5,>=2.0.2 in /home/ec2-user/anaconda3/envs/python3/lib/python3.10/site-packages (from packaging>=20.0->transformers) (3.0.9)\n",
      "Requirement already satisfied: charset-normalizer<4,>=2 in /home/ec2-user/anaconda3/envs/python3/lib/python3.10/site-packages (from requests->transformers) (2.1.1)\n",
      "Requirement already satisfied: idna<4,>=2.5 in /home/ec2-user/anaconda3/envs/python3/lib/python3.10/site-packages (from requests->transformers) (3.4)\n",
      "Requirement already satisfied: urllib3<1.27,>=1.21.1 in /home/ec2-user/anaconda3/envs/python3/lib/python3.10/site-packages (from requests->transformers) (1.26.14)\n",
      "Requirement already satisfied: certifi>=2017.4.17 in /home/ec2-user/anaconda3/envs/python3/lib/python3.10/site-packages (from requests->transformers) (2023.5.7)\n",
      "Looking in indexes: https://pypi.org/simple, https://pip.repos.neuron.amazonaws.com\n",
      "Collecting sentence-transformers\n",
      "  Downloading sentence-transformers-2.2.2.tar.gz (85 kB)\n",
      "\u001b[2K     \u001b[90m━━━━━━━━━━━━━━━━━━━━━━━━━━━━━━━━━━━━━━━━\u001b[0m \u001b[32m86.0/86.0 kB\u001b[0m \u001b[31m12.4 MB/s\u001b[0m eta \u001b[36m0:00:00\u001b[0m\n",
      "\u001b[?25h  Preparing metadata (setup.py) ... \u001b[?25ldone\n",
      "\u001b[?25hRequirement already satisfied: transformers<5.0.0,>=4.6.0 in /home/ec2-user/anaconda3/envs/python3/lib/python3.10/site-packages (from sentence-transformers) (4.32.0.dev0)\n",
      "Requirement already satisfied: tqdm in /home/ec2-user/anaconda3/envs/python3/lib/python3.10/site-packages (from sentence-transformers) (4.65.0)\n",
      "Requirement already satisfied: torch>=1.6.0 in /home/ec2-user/anaconda3/envs/python3/lib/python3.10/site-packages (from sentence-transformers) (2.0.1)\n",
      "Collecting torchvision (from sentence-transformers)\n",
      "  Downloading torchvision-0.15.2-cp310-cp310-manylinux1_x86_64.whl (6.0 MB)\n",
      "\u001b[2K     \u001b[90m━━━━━━━━━━━━━━━━━━━━━━━━━━━━━━━━━━━━━━━━\u001b[0m \u001b[32m6.0/6.0 MB\u001b[0m \u001b[31m22.8 MB/s\u001b[0m eta \u001b[36m0:00:00\u001b[0m:00:01\u001b[0m00:01\u001b[0m\n",
      "\u001b[?25hRequirement already satisfied: numpy in /home/ec2-user/anaconda3/envs/python3/lib/python3.10/site-packages (from sentence-transformers) (1.22.3)\n",
      "Requirement already satisfied: scikit-learn in /home/ec2-user/anaconda3/envs/python3/lib/python3.10/site-packages (from sentence-transformers) (1.2.2)\n",
      "Requirement already satisfied: scipy in /home/ec2-user/anaconda3/envs/python3/lib/python3.10/site-packages (from sentence-transformers) (1.10.1)\n",
      "Requirement already satisfied: nltk in /home/ec2-user/anaconda3/envs/python3/lib/python3.10/site-packages (from sentence-transformers) (3.8.1)\n",
      "Collecting sentencepiece (from sentence-transformers)\n",
      "  Downloading sentencepiece-0.1.99-cp310-cp310-manylinux_2_17_x86_64.manylinux2014_x86_64.whl (1.3 MB)\n",
      "\u001b[2K     \u001b[90m━━━━━━━━━━━━━━━━━━━━━━━━━━━━━━━━━━━━━━━━\u001b[0m \u001b[32m1.3/1.3 MB\u001b[0m \u001b[31m52.3 MB/s\u001b[0m eta \u001b[36m0:00:00\u001b[0m\n",
      "\u001b[?25hRequirement already satisfied: huggingface-hub>=0.4.0 in /home/ec2-user/anaconda3/envs/python3/lib/python3.10/site-packages (from sentence-transformers) (0.16.4)\n",
      "Requirement already satisfied: filelock in /home/ec2-user/anaconda3/envs/python3/lib/python3.10/site-packages (from huggingface-hub>=0.4.0->sentence-transformers) (3.12.0)\n",
      "Requirement already satisfied: fsspec in /home/ec2-user/anaconda3/envs/python3/lib/python3.10/site-packages (from huggingface-hub>=0.4.0->sentence-transformers) (2023.5.0)\n",
      "Requirement already satisfied: requests in /home/ec2-user/anaconda3/envs/python3/lib/python3.10/site-packages (from huggingface-hub>=0.4.0->sentence-transformers) (2.29.0)\n",
      "Requirement already satisfied: pyyaml>=5.1 in /home/ec2-user/anaconda3/envs/python3/lib/python3.10/site-packages (from huggingface-hub>=0.4.0->sentence-transformers) (5.4.1)\n",
      "Requirement already satisfied: typing-extensions>=3.7.4.3 in /home/ec2-user/anaconda3/envs/python3/lib/python3.10/site-packages (from huggingface-hub>=0.4.0->sentence-transformers) (4.5.0)\n",
      "Requirement already satisfied: packaging>=20.9 in /home/ec2-user/anaconda3/envs/python3/lib/python3.10/site-packages (from huggingface-hub>=0.4.0->sentence-transformers) (21.3)\n",
      "Requirement already satisfied: sympy in /home/ec2-user/anaconda3/envs/python3/lib/python3.10/site-packages (from torch>=1.6.0->sentence-transformers) (1.11.1)\n",
      "Requirement already satisfied: networkx in /home/ec2-user/anaconda3/envs/python3/lib/python3.10/site-packages (from torch>=1.6.0->sentence-transformers) (3.1)\n",
      "Requirement already satisfied: jinja2 in /home/ec2-user/anaconda3/envs/python3/lib/python3.10/site-packages (from torch>=1.6.0->sentence-transformers) (3.1.2)\n",
      "Requirement already satisfied: nvidia-cuda-nvrtc-cu11==11.7.99 in /home/ec2-user/anaconda3/envs/python3/lib/python3.10/site-packages (from torch>=1.6.0->sentence-transformers) (11.7.99)\n",
      "Requirement already satisfied: nvidia-cuda-runtime-cu11==11.7.99 in /home/ec2-user/anaconda3/envs/python3/lib/python3.10/site-packages (from torch>=1.6.0->sentence-transformers) (11.7.99)\n",
      "Requirement already satisfied: nvidia-cuda-cupti-cu11==11.7.101 in /home/ec2-user/anaconda3/envs/python3/lib/python3.10/site-packages (from torch>=1.6.0->sentence-transformers) (11.7.101)\n",
      "Requirement already satisfied: nvidia-cudnn-cu11==8.5.0.96 in /home/ec2-user/anaconda3/envs/python3/lib/python3.10/site-packages (from torch>=1.6.0->sentence-transformers) (8.5.0.96)\n",
      "Requirement already satisfied: nvidia-cublas-cu11==11.10.3.66 in /home/ec2-user/anaconda3/envs/python3/lib/python3.10/site-packages (from torch>=1.6.0->sentence-transformers) (11.10.3.66)\n",
      "Requirement already satisfied: nvidia-cufft-cu11==10.9.0.58 in /home/ec2-user/anaconda3/envs/python3/lib/python3.10/site-packages (from torch>=1.6.0->sentence-transformers) (10.9.0.58)\n",
      "Requirement already satisfied: nvidia-curand-cu11==10.2.10.91 in /home/ec2-user/anaconda3/envs/python3/lib/python3.10/site-packages (from torch>=1.6.0->sentence-transformers) (10.2.10.91)\n",
      "Requirement already satisfied: nvidia-cusolver-cu11==11.4.0.1 in /home/ec2-user/anaconda3/envs/python3/lib/python3.10/site-packages (from torch>=1.6.0->sentence-transformers) (11.4.0.1)\n",
      "Requirement already satisfied: nvidia-cusparse-cu11==11.7.4.91 in /home/ec2-user/anaconda3/envs/python3/lib/python3.10/site-packages (from torch>=1.6.0->sentence-transformers) (11.7.4.91)\n",
      "Requirement already satisfied: nvidia-nccl-cu11==2.14.3 in /home/ec2-user/anaconda3/envs/python3/lib/python3.10/site-packages (from torch>=1.6.0->sentence-transformers) (2.14.3)\n",
      "Requirement already satisfied: nvidia-nvtx-cu11==11.7.91 in /home/ec2-user/anaconda3/envs/python3/lib/python3.10/site-packages (from torch>=1.6.0->sentence-transformers) (11.7.91)\n",
      "Requirement already satisfied: triton==2.0.0 in /home/ec2-user/anaconda3/envs/python3/lib/python3.10/site-packages (from torch>=1.6.0->sentence-transformers) (2.0.0)\n",
      "Requirement already satisfied: setuptools in /home/ec2-user/anaconda3/envs/python3/lib/python3.10/site-packages (from nvidia-cublas-cu11==11.10.3.66->torch>=1.6.0->sentence-transformers) (67.7.2)\n",
      "Requirement already satisfied: wheel in /home/ec2-user/anaconda3/envs/python3/lib/python3.10/site-packages (from nvidia-cublas-cu11==11.10.3.66->torch>=1.6.0->sentence-transformers) (0.40.0)\n",
      "Requirement already satisfied: cmake in /home/ec2-user/anaconda3/envs/python3/lib/python3.10/site-packages (from triton==2.0.0->torch>=1.6.0->sentence-transformers) (3.27.1)\n",
      "Requirement already satisfied: lit in /home/ec2-user/anaconda3/envs/python3/lib/python3.10/site-packages (from triton==2.0.0->torch>=1.6.0->sentence-transformers) (16.0.6)\n",
      "Requirement already satisfied: regex!=2019.12.17 in /home/ec2-user/anaconda3/envs/python3/lib/python3.10/site-packages (from transformers<5.0.0,>=4.6.0->sentence-transformers) (2023.5.5)\n",
      "Requirement already satisfied: tokenizers!=0.11.3,<0.14,>=0.11.1 in /home/ec2-user/anaconda3/envs/python3/lib/python3.10/site-packages (from transformers<5.0.0,>=4.6.0->sentence-transformers) (0.13.3)\n",
      "Requirement already satisfied: safetensors>=0.3.1 in /home/ec2-user/anaconda3/envs/python3/lib/python3.10/site-packages (from transformers<5.0.0,>=4.6.0->sentence-transformers) (0.3.2)\n",
      "Requirement already satisfied: click in /home/ec2-user/anaconda3/envs/python3/lib/python3.10/site-packages (from nltk->sentence-transformers) (8.1.3)\n",
      "Requirement already satisfied: joblib in /home/ec2-user/anaconda3/envs/python3/lib/python3.10/site-packages (from nltk->sentence-transformers) (1.2.0)\n",
      "Requirement already satisfied: threadpoolctl>=2.0.0 in /home/ec2-user/anaconda3/envs/python3/lib/python3.10/site-packages (from scikit-learn->sentence-transformers) (3.1.0)\n",
      "Requirement already satisfied: pillow!=8.3.*,>=5.3.0 in /home/ec2-user/anaconda3/envs/python3/lib/python3.10/site-packages (from torchvision->sentence-transformers) (9.4.0)\n",
      "Requirement already satisfied: pyparsing!=3.0.5,>=2.0.2 in /home/ec2-user/anaconda3/envs/python3/lib/python3.10/site-packages (from packaging>=20.9->huggingface-hub>=0.4.0->sentence-transformers) (3.0.9)\n",
      "Requirement already satisfied: MarkupSafe>=2.0 in /home/ec2-user/anaconda3/envs/python3/lib/python3.10/site-packages (from jinja2->torch>=1.6.0->sentence-transformers) (2.1.2)\n",
      "Requirement already satisfied: charset-normalizer<4,>=2 in /home/ec2-user/anaconda3/envs/python3/lib/python3.10/site-packages (from requests->huggingface-hub>=0.4.0->sentence-transformers) (2.1.1)\n",
      "Requirement already satisfied: idna<4,>=2.5 in /home/ec2-user/anaconda3/envs/python3/lib/python3.10/site-packages (from requests->huggingface-hub>=0.4.0->sentence-transformers) (3.4)\n",
      "Requirement already satisfied: urllib3<1.27,>=1.21.1 in /home/ec2-user/anaconda3/envs/python3/lib/python3.10/site-packages (from requests->huggingface-hub>=0.4.0->sentence-transformers) (1.26.14)\n",
      "Requirement already satisfied: certifi>=2017.4.17 in /home/ec2-user/anaconda3/envs/python3/lib/python3.10/site-packages (from requests->huggingface-hub>=0.4.0->sentence-transformers) (2023.5.7)\n",
      "Requirement already satisfied: mpmath>=0.19 in /home/ec2-user/anaconda3/envs/python3/lib/python3.10/site-packages (from sympy->torch>=1.6.0->sentence-transformers) (1.3.0)\n",
      "Building wheels for collected packages: sentence-transformers\n",
      "  Building wheel for sentence-transformers (setup.py) ... \u001b[?25ldone\n",
      "\u001b[?25h  Created wheel for sentence-transformers: filename=sentence_transformers-2.2.2-py3-none-any.whl size=125926 sha256=9579cbaaa73a4334579009b25f330c91976ff1b8877ff22b5a54327f38a6b469\n",
      "  Stored in directory: /home/ec2-user/.cache/pip/wheels/62/f2/10/1e606fd5f02395388f74e7462910fe851042f97238cbbd902f\n",
      "Successfully built sentence-transformers\n",
      "Installing collected packages: sentencepiece, torchvision, sentence-transformers\n",
      "Successfully installed sentence-transformers-2.2.2 sentencepiece-0.1.99 torchvision-0.15.2\n",
      "Looking in indexes: https://pypi.org/simple, https://pip.repos.neuron.amazonaws.com\n",
      "Collecting unstructured\n",
      "  Downloading unstructured-0.9.0-py3-none-any.whl (1.4 MB)\n",
      "\u001b[2K     \u001b[90m━━━━━━━━━━━━━━━━━━━━━━━━━━━━━━━━━━━━━━━━\u001b[0m \u001b[32m1.4/1.4 MB\u001b[0m \u001b[31m34.9 MB/s\u001b[0m eta \u001b[36m0:00:00\u001b[0m00:01\u001b[0m\n",
      "\u001b[?25hRequirement already satisfied: chardet in /home/ec2-user/anaconda3/envs/python3/lib/python3.10/site-packages (from unstructured) (5.1.0)\n",
      "Collecting filetype (from unstructured)\n",
      "  Downloading filetype-1.2.0-py2.py3-none-any.whl (19 kB)\n",
      "Collecting python-magic (from unstructured)\n",
      "  Downloading python_magic-0.4.27-py2.py3-none-any.whl (13 kB)\n",
      "Collecting lxml (from unstructured)\n",
      "  Downloading lxml-4.9.3-cp310-cp310-manylinux_2_17_x86_64.manylinux2014_x86_64.manylinux_2_24_x86_64.whl (7.0 MB)\n",
      "\u001b[2K     \u001b[90m━━━━━━━━━━━━━━━━━━━━━━━━━━━━━━━━━━━━━━━━\u001b[0m \u001b[32m7.0/7.0 MB\u001b[0m \u001b[31m78.8 MB/s\u001b[0m eta \u001b[36m0:00:00\u001b[0m:00:01\u001b[0m00:01\u001b[0m\n",
      "\u001b[?25hRequirement already satisfied: nltk in /home/ec2-user/anaconda3/envs/python3/lib/python3.10/site-packages (from unstructured) (3.8.1)\n",
      "Collecting tabulate (from unstructured)\n",
      "  Downloading tabulate-0.9.0-py3-none-any.whl (35 kB)\n",
      "Requirement already satisfied: requests in /home/ec2-user/anaconda3/envs/python3/lib/python3.10/site-packages (from unstructured) (2.29.0)\n",
      "Requirement already satisfied: click in /home/ec2-user/anaconda3/envs/python3/lib/python3.10/site-packages (from nltk->unstructured) (8.1.3)\n",
      "Requirement already satisfied: joblib in /home/ec2-user/anaconda3/envs/python3/lib/python3.10/site-packages (from nltk->unstructured) (1.2.0)\n",
      "Requirement already satisfied: regex>=2021.8.3 in /home/ec2-user/anaconda3/envs/python3/lib/python3.10/site-packages (from nltk->unstructured) (2023.5.5)\n",
      "Requirement already satisfied: tqdm in /home/ec2-user/anaconda3/envs/python3/lib/python3.10/site-packages (from nltk->unstructured) (4.65.0)\n",
      "Requirement already satisfied: charset-normalizer<4,>=2 in /home/ec2-user/anaconda3/envs/python3/lib/python3.10/site-packages (from requests->unstructured) (2.1.1)\n",
      "Requirement already satisfied: idna<4,>=2.5 in /home/ec2-user/anaconda3/envs/python3/lib/python3.10/site-packages (from requests->unstructured) (3.4)\n",
      "Requirement already satisfied: urllib3<1.27,>=1.21.1 in /home/ec2-user/anaconda3/envs/python3/lib/python3.10/site-packages (from requests->unstructured) (1.26.14)\n",
      "Requirement already satisfied: certifi>=2017.4.17 in /home/ec2-user/anaconda3/envs/python3/lib/python3.10/site-packages (from requests->unstructured) (2023.5.7)\n",
      "Installing collected packages: filetype, tabulate, python-magic, lxml, unstructured\n",
      "Successfully installed filetype-1.2.0 lxml-4.9.3 python-magic-0.4.27 tabulate-0.9.0 unstructured-0.9.0\n",
      "Looking in indexes: https://pypi.org/simple, https://pip.repos.neuron.amazonaws.com\n",
      "Collecting chromadb==0.3.22\n",
      "  Downloading chromadb-0.3.22-py3-none-any.whl (69 kB)\n",
      "\u001b[2K     \u001b[90m━━━━━━━━━━━━━━━━━━━━━━━━━━━━━━━━━━━━━━━━\u001b[0m \u001b[32m69.2/69.2 kB\u001b[0m \u001b[31m4.4 MB/s\u001b[0m eta \u001b[36m0:00:00\u001b[0m\n",
      "\u001b[?25hCollecting transformers==4.29.0\n",
      "  Downloading transformers-4.29.0-py3-none-any.whl (7.1 MB)\n",
      "\u001b[2K     \u001b[90m━━━━━━━━━━━━━━━━━━━━━━━━━━━━━━━━━━━━━━━━\u001b[0m \u001b[32m7.1/7.1 MB\u001b[0m \u001b[31m30.9 MB/s\u001b[0m eta \u001b[36m0:00:00\u001b[0m:00:01\u001b[0m00:01\u001b[0m\n",
      "\u001b[?25hRequirement already satisfied: pandas>=1.3 in /home/ec2-user/anaconda3/envs/python3/lib/python3.10/site-packages (from chromadb==0.3.22) (2.0.1)\n",
      "Requirement already satisfied: requests>=2.28 in /home/ec2-user/anaconda3/envs/python3/lib/python3.10/site-packages (from chromadb==0.3.22) (2.29.0)\n",
      "Requirement already satisfied: pydantic>=1.9 in /home/ec2-user/anaconda3/envs/python3/lib/python3.10/site-packages (from chromadb==0.3.22) (1.10.12)\n",
      "Collecting hnswlib>=0.7 (from chromadb==0.3.22)\n",
      "  Downloading hnswlib-0.7.0.tar.gz (33 kB)\n",
      "  Installing build dependencies ... \u001b[?25ldone\n",
      "\u001b[?25h  Getting requirements to build wheel ... \u001b[?25ldone\n",
      "\u001b[?25h  Preparing metadata (pyproject.toml) ... \u001b[?25ldone\n",
      "\u001b[?25hCollecting clickhouse-connect>=0.5.7 (from chromadb==0.3.22)\n",
      "  Downloading clickhouse_connect-0.6.8-cp310-cp310-manylinux_2_17_x86_64.manylinux2014_x86_64.whl (966 kB)\n",
      "\u001b[2K     \u001b[90m━━━━━━━━━━━━━━━━━━━━━━━━━━━━━━━━━━━━━━\u001b[0m \u001b[32m966.2/966.2 kB\u001b[0m \u001b[31m21.2 MB/s\u001b[0m eta \u001b[36m0:00:00\u001b[0m00:01\u001b[0m\n",
      "\u001b[?25hRequirement already satisfied: sentence-transformers>=2.2.2 in /home/ec2-user/anaconda3/envs/python3/lib/python3.10/site-packages (from chromadb==0.3.22) (2.2.2)\n",
      "Collecting duckdb>=0.7.1 (from chromadb==0.3.22)\n",
      "  Downloading duckdb-0.8.1-cp310-cp310-manylinux_2_17_x86_64.manylinux2014_x86_64.whl (15.9 MB)\n",
      "\u001b[2K     \u001b[90m━━━━━━━━━━━━━━━━━━━━━━━━━━━━━━━━━━━━━━━━\u001b[0m \u001b[32m15.9/15.9 MB\u001b[0m \u001b[31m31.4 MB/s\u001b[0m eta \u001b[36m0:00:00\u001b[0m00:01\u001b[0m00:01\u001b[0m\n",
      "\u001b[?25hCollecting fastapi>=0.85.1 (from chromadb==0.3.22)\n",
      "  Downloading fastapi-0.101.0-py3-none-any.whl (65 kB)\n",
      "\u001b[2K     \u001b[90m━━━━━━━━━━━━━━━━━━━━━━━━━━━━━━━━━━━━━━━━\u001b[0m \u001b[32m65.7/65.7 kB\u001b[0m \u001b[31m2.3 MB/s\u001b[0m eta \u001b[36m0:00:00\u001b[0m\n",
      "\u001b[?25hCollecting uvicorn[standard]>=0.18.3 (from chromadb==0.3.22)\n",
      "  Downloading uvicorn-0.23.2-py3-none-any.whl (59 kB)\n",
      "\u001b[2K     \u001b[90m━━━━━━━━━━━━━━━━━━━━━━━━━━━━━━━━━━━━━━━━\u001b[0m \u001b[32m59.5/59.5 kB\u001b[0m \u001b[31m16.4 MB/s\u001b[0m eta \u001b[36m0:00:00\u001b[0m\n",
      "\u001b[?25hRequirement already satisfied: numpy>=1.21.6 in /home/ec2-user/anaconda3/envs/python3/lib/python3.10/site-packages (from chromadb==0.3.22) (1.22.3)\n",
      "Collecting posthog>=2.4.0 (from chromadb==0.3.22)\n",
      "  Downloading posthog-3.0.1-py2.py3-none-any.whl (37 kB)\n",
      "Requirement already satisfied: typing-extensions>=4.5.0 in /home/ec2-user/anaconda3/envs/python3/lib/python3.10/site-packages (from chromadb==0.3.22) (4.5.0)\n",
      "Requirement already satisfied: filelock in /home/ec2-user/anaconda3/envs/python3/lib/python3.10/site-packages (from transformers==4.29.0) (3.12.0)\n",
      "Requirement already satisfied: huggingface-hub<1.0,>=0.11.0 in /home/ec2-user/anaconda3/envs/python3/lib/python3.10/site-packages (from transformers==4.29.0) (0.16.4)\n",
      "Requirement already satisfied: packaging>=20.0 in /home/ec2-user/anaconda3/envs/python3/lib/python3.10/site-packages (from transformers==4.29.0) (21.3)\n",
      "Requirement already satisfied: pyyaml>=5.1 in /home/ec2-user/anaconda3/envs/python3/lib/python3.10/site-packages (from transformers==4.29.0) (5.4.1)\n",
      "Requirement already satisfied: regex!=2019.12.17 in /home/ec2-user/anaconda3/envs/python3/lib/python3.10/site-packages (from transformers==4.29.0) (2023.5.5)\n",
      "Requirement already satisfied: tokenizers!=0.11.3,<0.14,>=0.11.1 in /home/ec2-user/anaconda3/envs/python3/lib/python3.10/site-packages (from transformers==4.29.0) (0.13.3)\n",
      "Requirement already satisfied: tqdm>=4.27 in /home/ec2-user/anaconda3/envs/python3/lib/python3.10/site-packages (from transformers==4.29.0) (4.65.0)\n",
      "Requirement already satisfied: certifi in /home/ec2-user/anaconda3/envs/python3/lib/python3.10/site-packages (from clickhouse-connect>=0.5.7->chromadb==0.3.22) (2023.5.7)\n",
      "Requirement already satisfied: importlib-metadata in /home/ec2-user/anaconda3/envs/python3/lib/python3.10/site-packages (from clickhouse-connect>=0.5.7->chromadb==0.3.22) (4.13.0)\n",
      "Requirement already satisfied: urllib3>=1.26 in /home/ec2-user/anaconda3/envs/python3/lib/python3.10/site-packages (from clickhouse-connect>=0.5.7->chromadb==0.3.22) (1.26.14)\n",
      "Requirement already satisfied: pytz in /home/ec2-user/anaconda3/envs/python3/lib/python3.10/site-packages (from clickhouse-connect>=0.5.7->chromadb==0.3.22) (2023.3)\n",
      "Collecting zstandard (from clickhouse-connect>=0.5.7->chromadb==0.3.22)\n",
      "  Downloading zstandard-0.21.0-cp310-cp310-manylinux_2_17_x86_64.manylinux2014_x86_64.whl (2.7 MB)\n",
      "\u001b[2K     \u001b[90m━━━━━━━━━━━━━━━━━━━━━━━━━━━━━━━━━━━━━━━━\u001b[0m \u001b[32m2.7/2.7 MB\u001b[0m \u001b[31m29.3 MB/s\u001b[0m eta \u001b[36m0:00:00\u001b[0m:00:01\u001b[0m\n",
      "\u001b[?25hRequirement already satisfied: lz4 in /home/ec2-user/anaconda3/envs/python3/lib/python3.10/site-packages (from clickhouse-connect>=0.5.7->chromadb==0.3.22) (4.3.2)\n",
      "Collecting starlette<0.28.0,>=0.27.0 (from fastapi>=0.85.1->chromadb==0.3.22)\n",
      "  Downloading starlette-0.27.0-py3-none-any.whl (66 kB)\n",
      "\u001b[2K     \u001b[90m━━━━━━━━━━━━━━━━━━━━━━━━━━━━━━━━━━━━━━━━\u001b[0m \u001b[32m67.0/67.0 kB\u001b[0m \u001b[31m13.2 MB/s\u001b[0m eta \u001b[36m0:00:00\u001b[0m\n",
      "\u001b[?25hRequirement already satisfied: fsspec in /home/ec2-user/anaconda3/envs/python3/lib/python3.10/site-packages (from huggingface-hub<1.0,>=0.11.0->transformers==4.29.0) (2023.5.0)\n",
      "Requirement already satisfied: pyparsing!=3.0.5,>=2.0.2 in /home/ec2-user/anaconda3/envs/python3/lib/python3.10/site-packages (from packaging>=20.0->transformers==4.29.0) (3.0.9)\n",
      "Requirement already satisfied: python-dateutil>=2.8.2 in /home/ec2-user/anaconda3/envs/python3/lib/python3.10/site-packages (from pandas>=1.3->chromadb==0.3.22) (2.8.2)\n",
      "Requirement already satisfied: tzdata>=2022.1 in /home/ec2-user/anaconda3/envs/python3/lib/python3.10/site-packages (from pandas>=1.3->chromadb==0.3.22) (2023.3)\n",
      "Requirement already satisfied: six>=1.5 in /home/ec2-user/anaconda3/envs/python3/lib/python3.10/site-packages (from posthog>=2.4.0->chromadb==0.3.22) (1.16.0)\n",
      "Collecting monotonic>=1.5 (from posthog>=2.4.0->chromadb==0.3.22)\n",
      "  Downloading monotonic-1.6-py2.py3-none-any.whl (8.2 kB)\n",
      "Collecting backoff>=1.10.0 (from posthog>=2.4.0->chromadb==0.3.22)\n",
      "  Downloading backoff-2.2.1-py3-none-any.whl (15 kB)\n",
      "Requirement already satisfied: charset-normalizer<4,>=2 in /home/ec2-user/anaconda3/envs/python3/lib/python3.10/site-packages (from requests>=2.28->chromadb==0.3.22) (2.1.1)\n",
      "Requirement already satisfied: idna<4,>=2.5 in /home/ec2-user/anaconda3/envs/python3/lib/python3.10/site-packages (from requests>=2.28->chromadb==0.3.22) (3.4)\n",
      "Requirement already satisfied: torch>=1.6.0 in /home/ec2-user/anaconda3/envs/python3/lib/python3.10/site-packages (from sentence-transformers>=2.2.2->chromadb==0.3.22) (2.0.1)\n",
      "Requirement already satisfied: torchvision in /home/ec2-user/anaconda3/envs/python3/lib/python3.10/site-packages (from sentence-transformers>=2.2.2->chromadb==0.3.22) (0.15.2)\n",
      "Requirement already satisfied: scikit-learn in /home/ec2-user/anaconda3/envs/python3/lib/python3.10/site-packages (from sentence-transformers>=2.2.2->chromadb==0.3.22) (1.2.2)\n",
      "Requirement already satisfied: scipy in /home/ec2-user/anaconda3/envs/python3/lib/python3.10/site-packages (from sentence-transformers>=2.2.2->chromadb==0.3.22) (1.10.1)\n",
      "Requirement already satisfied: nltk in /home/ec2-user/anaconda3/envs/python3/lib/python3.10/site-packages (from sentence-transformers>=2.2.2->chromadb==0.3.22) (3.8.1)\n",
      "Requirement already satisfied: sentencepiece in /home/ec2-user/anaconda3/envs/python3/lib/python3.10/site-packages (from sentence-transformers>=2.2.2->chromadb==0.3.22) (0.1.99)\n",
      "Requirement already satisfied: click>=7.0 in /home/ec2-user/anaconda3/envs/python3/lib/python3.10/site-packages (from uvicorn[standard]>=0.18.3->chromadb==0.3.22) (8.1.3)\n",
      "Collecting h11>=0.8 (from uvicorn[standard]>=0.18.3->chromadb==0.3.22)\n",
      "  Downloading h11-0.14.0-py3-none-any.whl (58 kB)\n",
      "\u001b[2K     \u001b[90m━━━━━━━━━━━━━━━━━━━━━━━━━━━━━━━━━━━━━━━━\u001b[0m \u001b[32m58.3/58.3 kB\u001b[0m \u001b[31m1.4 MB/s\u001b[0m eta \u001b[36m0:00:00\u001b[0mta \u001b[36m0:00:01\u001b[0m\n",
      "\u001b[?25hCollecting httptools>=0.5.0 (from uvicorn[standard]>=0.18.3->chromadb==0.3.22)\n",
      "  Downloading httptools-0.6.0-cp310-cp310-manylinux_2_5_x86_64.manylinux1_x86_64.manylinux_2_17_x86_64.manylinux2014_x86_64.whl (428 kB)\n",
      "\u001b[2K     \u001b[90m━━━━━━━━━━━━━━━━━━━━━━━━━━━━━━━━━━━━━━━\u001b[0m \u001b[32m428.8/428.8 kB\u001b[0m \u001b[31m6.5 MB/s\u001b[0m eta \u001b[36m0:00:00\u001b[0m00:01\u001b[0m\n",
      "\u001b[?25hCollecting python-dotenv>=0.13 (from uvicorn[standard]>=0.18.3->chromadb==0.3.22)\n",
      "  Downloading python_dotenv-1.0.0-py3-none-any.whl (19 kB)\n",
      "Collecting uvloop!=0.15.0,!=0.15.1,>=0.14.0 (from uvicorn[standard]>=0.18.3->chromadb==0.3.22)\n",
      "  Downloading uvloop-0.17.0-cp310-cp310-manylinux_2_17_x86_64.manylinux2014_x86_64.whl (4.1 MB)\n",
      "\u001b[2K     \u001b[90m━━━━━━━━━━━━━━━━━━━━━━━━━━━━━━━━━━━━━━━━\u001b[0m \u001b[32m4.1/4.1 MB\u001b[0m \u001b[31m48.4 MB/s\u001b[0m eta \u001b[36m0:00:00\u001b[0m:00:01\u001b[0m\n",
      "\u001b[?25hCollecting watchfiles>=0.13 (from uvicorn[standard]>=0.18.3->chromadb==0.3.22)\n",
      "  Downloading watchfiles-0.19.0-cp37-abi3-manylinux_2_17_x86_64.manylinux2014_x86_64.whl (1.3 MB)\n",
      "\u001b[2K     \u001b[90m━━━━━━━━━━━━━━━━━━━━━━━━━━━━━━━━━━━━━━━━\u001b[0m \u001b[32m1.3/1.3 MB\u001b[0m \u001b[31m43.8 MB/s\u001b[0m eta \u001b[36m0:00:00\u001b[0m\n",
      "\u001b[?25hCollecting websockets>=10.4 (from uvicorn[standard]>=0.18.3->chromadb==0.3.22)\n",
      "  Downloading websockets-11.0.3-cp310-cp310-manylinux_2_5_x86_64.manylinux1_x86_64.manylinux_2_17_x86_64.manylinux2014_x86_64.whl (129 kB)\n",
      "\u001b[2K     \u001b[90m━━━━━━━━━━━━━━━━━━━━━━━━━━━━━━━━━━━━━━━\u001b[0m \u001b[32m129.9/129.9 kB\u001b[0m \u001b[31m4.8 MB/s\u001b[0m eta \u001b[36m0:00:00\u001b[0m\n",
      "\u001b[?25hRequirement already satisfied: anyio<5,>=3.4.0 in /home/ec2-user/anaconda3/envs/python3/lib/python3.10/site-packages (from starlette<0.28.0,>=0.27.0->fastapi>=0.85.1->chromadb==0.3.22) (3.6.2)\n",
      "Requirement already satisfied: sympy in /home/ec2-user/anaconda3/envs/python3/lib/python3.10/site-packages (from torch>=1.6.0->sentence-transformers>=2.2.2->chromadb==0.3.22) (1.11.1)\n",
      "Requirement already satisfied: networkx in /home/ec2-user/anaconda3/envs/python3/lib/python3.10/site-packages (from torch>=1.6.0->sentence-transformers>=2.2.2->chromadb==0.3.22) (3.1)\n",
      "Requirement already satisfied: jinja2 in /home/ec2-user/anaconda3/envs/python3/lib/python3.10/site-packages (from torch>=1.6.0->sentence-transformers>=2.2.2->chromadb==0.3.22) (3.1.2)\n",
      "Requirement already satisfied: nvidia-cuda-nvrtc-cu11==11.7.99 in /home/ec2-user/anaconda3/envs/python3/lib/python3.10/site-packages (from torch>=1.6.0->sentence-transformers>=2.2.2->chromadb==0.3.22) (11.7.99)\n",
      "Requirement already satisfied: nvidia-cuda-runtime-cu11==11.7.99 in /home/ec2-user/anaconda3/envs/python3/lib/python3.10/site-packages (from torch>=1.6.0->sentence-transformers>=2.2.2->chromadb==0.3.22) (11.7.99)\n",
      "Requirement already satisfied: nvidia-cuda-cupti-cu11==11.7.101 in /home/ec2-user/anaconda3/envs/python3/lib/python3.10/site-packages (from torch>=1.6.0->sentence-transformers>=2.2.2->chromadb==0.3.22) (11.7.101)\n",
      "Requirement already satisfied: nvidia-cudnn-cu11==8.5.0.96 in /home/ec2-user/anaconda3/envs/python3/lib/python3.10/site-packages (from torch>=1.6.0->sentence-transformers>=2.2.2->chromadb==0.3.22) (8.5.0.96)\n",
      "Requirement already satisfied: nvidia-cublas-cu11==11.10.3.66 in /home/ec2-user/anaconda3/envs/python3/lib/python3.10/site-packages (from torch>=1.6.0->sentence-transformers>=2.2.2->chromadb==0.3.22) (11.10.3.66)\n",
      "Requirement already satisfied: nvidia-cufft-cu11==10.9.0.58 in /home/ec2-user/anaconda3/envs/python3/lib/python3.10/site-packages (from torch>=1.6.0->sentence-transformers>=2.2.2->chromadb==0.3.22) (10.9.0.58)\n",
      "Requirement already satisfied: nvidia-curand-cu11==10.2.10.91 in /home/ec2-user/anaconda3/envs/python3/lib/python3.10/site-packages (from torch>=1.6.0->sentence-transformers>=2.2.2->chromadb==0.3.22) (10.2.10.91)\n",
      "Requirement already satisfied: nvidia-cusolver-cu11==11.4.0.1 in /home/ec2-user/anaconda3/envs/python3/lib/python3.10/site-packages (from torch>=1.6.0->sentence-transformers>=2.2.2->chromadb==0.3.22) (11.4.0.1)\n",
      "Requirement already satisfied: nvidia-cusparse-cu11==11.7.4.91 in /home/ec2-user/anaconda3/envs/python3/lib/python3.10/site-packages (from torch>=1.6.0->sentence-transformers>=2.2.2->chromadb==0.3.22) (11.7.4.91)\n",
      "Requirement already satisfied: nvidia-nccl-cu11==2.14.3 in /home/ec2-user/anaconda3/envs/python3/lib/python3.10/site-packages (from torch>=1.6.0->sentence-transformers>=2.2.2->chromadb==0.3.22) (2.14.3)\n",
      "Requirement already satisfied: nvidia-nvtx-cu11==11.7.91 in /home/ec2-user/anaconda3/envs/python3/lib/python3.10/site-packages (from torch>=1.6.0->sentence-transformers>=2.2.2->chromadb==0.3.22) (11.7.91)\n",
      "Requirement already satisfied: triton==2.0.0 in /home/ec2-user/anaconda3/envs/python3/lib/python3.10/site-packages (from torch>=1.6.0->sentence-transformers>=2.2.2->chromadb==0.3.22) (2.0.0)\n",
      "Requirement already satisfied: setuptools in /home/ec2-user/anaconda3/envs/python3/lib/python3.10/site-packages (from nvidia-cublas-cu11==11.10.3.66->torch>=1.6.0->sentence-transformers>=2.2.2->chromadb==0.3.22) (67.7.2)\n",
      "Requirement already satisfied: wheel in /home/ec2-user/anaconda3/envs/python3/lib/python3.10/site-packages (from nvidia-cublas-cu11==11.10.3.66->torch>=1.6.0->sentence-transformers>=2.2.2->chromadb==0.3.22) (0.40.0)\n",
      "Requirement already satisfied: cmake in /home/ec2-user/anaconda3/envs/python3/lib/python3.10/site-packages (from triton==2.0.0->torch>=1.6.0->sentence-transformers>=2.2.2->chromadb==0.3.22) (3.27.1)\n",
      "Requirement already satisfied: lit in /home/ec2-user/anaconda3/envs/python3/lib/python3.10/site-packages (from triton==2.0.0->torch>=1.6.0->sentence-transformers>=2.2.2->chromadb==0.3.22) (16.0.6)\n",
      "Requirement already satisfied: zipp>=0.5 in /home/ec2-user/anaconda3/envs/python3/lib/python3.10/site-packages (from importlib-metadata->clickhouse-connect>=0.5.7->chromadb==0.3.22) (3.15.0)\n",
      "Requirement already satisfied: joblib in /home/ec2-user/anaconda3/envs/python3/lib/python3.10/site-packages (from nltk->sentence-transformers>=2.2.2->chromadb==0.3.22) (1.2.0)\n",
      "Requirement already satisfied: threadpoolctl>=2.0.0 in /home/ec2-user/anaconda3/envs/python3/lib/python3.10/site-packages (from scikit-learn->sentence-transformers>=2.2.2->chromadb==0.3.22) (3.1.0)\n",
      "Requirement already satisfied: pillow!=8.3.*,>=5.3.0 in /home/ec2-user/anaconda3/envs/python3/lib/python3.10/site-packages (from torchvision->sentence-transformers>=2.2.2->chromadb==0.3.22) (9.4.0)\n",
      "Requirement already satisfied: sniffio>=1.1 in /home/ec2-user/anaconda3/envs/python3/lib/python3.10/site-packages (from anyio<5,>=3.4.0->starlette<0.28.0,>=0.27.0->fastapi>=0.85.1->chromadb==0.3.22) (1.3.0)\n",
      "Requirement already satisfied: MarkupSafe>=2.0 in /home/ec2-user/anaconda3/envs/python3/lib/python3.10/site-packages (from jinja2->torch>=1.6.0->sentence-transformers>=2.2.2->chromadb==0.3.22) (2.1.2)\n",
      "Requirement already satisfied: mpmath>=0.19 in /home/ec2-user/anaconda3/envs/python3/lib/python3.10/site-packages (from sympy->torch>=1.6.0->sentence-transformers>=2.2.2->chromadb==0.3.22) (1.3.0)\n",
      "Building wheels for collected packages: hnswlib\n",
      "  Building wheel for hnswlib (pyproject.toml) ... \u001b[?25ldone\n",
      "\u001b[?25h  Created wheel for hnswlib: filename=hnswlib-0.7.0-cp310-cp310-linux_x86_64.whl size=173859 sha256=281c0b3a1d2e6400a5dafddba88146a8090a9a0a6cd1f433acb2055cc2872495\n",
      "  Stored in directory: /home/ec2-user/.cache/pip/wheels/8a/ae/ec/235a682e0041fbaeee389843670581ec6c66872db856dfa9a4\n",
      "Successfully built hnswlib\n",
      "Installing collected packages: monotonic, duckdb, zstandard, websockets, uvloop, python-dotenv, httptools, hnswlib, h11, backoff, watchfiles, uvicorn, starlette, posthog, clickhouse-connect, transformers, fastapi, chromadb\n",
      "  Attempting uninstall: transformers\n",
      "    Found existing installation: transformers 4.32.0.dev0\n",
      "    Uninstalling transformers-4.32.0.dev0:\n",
      "      Successfully uninstalled transformers-4.32.0.dev0\n",
      "Successfully installed backoff-2.2.1 chromadb-0.3.22 clickhouse-connect-0.6.8 duckdb-0.8.1 fastapi-0.101.0 h11-0.14.0 hnswlib-0.7.0 httptools-0.6.0 monotonic-1.6 posthog-3.0.1 python-dotenv-1.0.0 starlette-0.27.0 transformers-4.29.0 uvicorn-0.23.2 uvloop-0.17.0 watchfiles-0.19.0 websockets-11.0.3 zstandard-0.21.0\n",
      "Looking in indexes: https://pypi.org/simple, https://pip.repos.neuron.amazonaws.com\n",
      "Collecting pdf2image\n",
      "  Downloading pdf2image-1.16.3-py3-none-any.whl (11 kB)\n",
      "Collecting pdfminer\n",
      "  Downloading pdfminer-20191125.tar.gz (4.2 MB)\n",
      "\u001b[2K     \u001b[90m━━━━━━━━━━━━━━━━━━━━━━━━━━━━━━━━━━━━━━━━\u001b[0m \u001b[32m4.2/4.2 MB\u001b[0m \u001b[31m79.0 MB/s\u001b[0m eta \u001b[36m0:00:00\u001b[0ma \u001b[36m0:00:01\u001b[0m\n",
      "\u001b[?25h  Preparing metadata (setup.py) ... \u001b[?25ldone\n",
      "\u001b[?25hRequirement already satisfied: pillow in /home/ec2-user/anaconda3/envs/python3/lib/python3.10/site-packages (from pdf2image) (9.4.0)\n",
      "Requirement already satisfied: pycryptodome in /home/ec2-user/anaconda3/envs/python3/lib/python3.10/site-packages (from pdfminer) (3.16.0)\n",
      "Building wheels for collected packages: pdfminer\n",
      "  Building wheel for pdfminer (setup.py) ... \u001b[?25ldone\n",
      "\u001b[?25h  Created wheel for pdfminer: filename=pdfminer-20191125-py3-none-any.whl size=6140094 sha256=736deb6a5cfcb3613fd3a05463f7a850e6fd5918594f8abe0c6f43e2dbb56e4e\n",
      "  Stored in directory: /home/ec2-user/.cache/pip/wheels/4e/c1/68/f7bd0a8f514661f76b5cbe3b5f76e0033d79f1296012cbbf72\n",
      "Successfully built pdfminer\n",
      "Installing collected packages: pdfminer, pdf2image\n",
      "Successfully installed pdf2image-1.16.3 pdfminer-20191125\n",
      "Looking in indexes: https://pypi.org/simple, https://pip.repos.neuron.amazonaws.com\n",
      "Collecting pdfminer.six\n",
      "  Downloading pdfminer.six-20221105-py3-none-any.whl (5.6 MB)\n",
      "\u001b[2K     \u001b[90m━━━━━━━━━━━━━━━━━━━━━━━━━━━━━━━━━━━━━━━━\u001b[0m \u001b[32m5.6/5.6 MB\u001b[0m \u001b[31m82.4 MB/s\u001b[0m eta \u001b[36m0:00:00\u001b[0ma \u001b[36m0:00:01\u001b[0m\n",
      "\u001b[?25hRequirement already satisfied: charset-normalizer>=2.0.0 in /home/ec2-user/anaconda3/envs/python3/lib/python3.10/site-packages (from pdfminer.six) (2.1.1)\n",
      "Requirement already satisfied: cryptography>=36.0.0 in /home/ec2-user/anaconda3/envs/python3/lib/python3.10/site-packages (from pdfminer.six) (40.0.2)\n",
      "Requirement already satisfied: cffi>=1.12 in /home/ec2-user/anaconda3/envs/python3/lib/python3.10/site-packages (from cryptography>=36.0.0->pdfminer.six) (1.15.1)\n",
      "Requirement already satisfied: pycparser in /home/ec2-user/anaconda3/envs/python3/lib/python3.10/site-packages (from cffi>=1.12->cryptography>=36.0.0->pdfminer.six) (2.21)\n",
      "Installing collected packages: pdfminer.six\n",
      "Successfully installed pdfminer.six-20221105\n"
     ]
    }
   ],
   "source": [
    "if load:\n",
    "    !pip -q install git+https://github.com/huggingface/transformers\n",
    "    !pip -q install accelerate>=0.12.0\n",
    "    !pip install langchain\n",
    "    !pip install transformers\n",
    "    !pip install sentence-transformers\n",
    "    !pip install unstructured\n",
    "    !pip install chromadb==0.3.22 transformers==4.29.0\n",
    "    #!pip install chromadb-client\n",
    "    !pip install pdf2image pdfminer\n",
    "    !pip install pdfminer.six"
   ]
  },
  {
   "cell_type": "code",
   "execution_count": 4,
   "id": "c7f8df3d-aead-4ab8-9009-57efb34149b1",
   "metadata": {
    "tags": []
   },
   "outputs": [
    {
     "data": {
      "application/vnd.jupyter.widget-view+json": {
       "model_id": "53efaf98d3184253ac3b792e7a3aba74",
       "version_major": 2,
       "version_minor": 0
      },
      "text/plain": [
       "Downloading (…)a8e1d/.gitattributes:   0%|          | 0.00/1.18k [00:00<?, ?B/s]"
      ]
     },
     "metadata": {},
     "output_type": "display_data"
    },
    {
     "data": {
      "application/vnd.jupyter.widget-view+json": {
       "model_id": "d2727209d6c7456eba814c7102c26ebc",
       "version_major": 2,
       "version_minor": 0
      },
      "text/plain": [
       "Downloading (…)_Pooling/config.json:   0%|          | 0.00/190 [00:00<?, ?B/s]"
      ]
     },
     "metadata": {},
     "output_type": "display_data"
    },
    {
     "data": {
      "application/vnd.jupyter.widget-view+json": {
       "model_id": "4036f6b1070f42e68ed76ed35757c190",
       "version_major": 2,
       "version_minor": 0
      },
      "text/plain": [
       "Downloading (…)b20bca8e1d/README.md:   0%|          | 0.00/10.6k [00:00<?, ?B/s]"
      ]
     },
     "metadata": {},
     "output_type": "display_data"
    },
    {
     "data": {
      "application/vnd.jupyter.widget-view+json": {
       "model_id": "95f7927a39fa481db73f876984d79af3",
       "version_major": 2,
       "version_minor": 0
      },
      "text/plain": [
       "Downloading (…)0bca8e1d/config.json:   0%|          | 0.00/571 [00:00<?, ?B/s]"
      ]
     },
     "metadata": {},
     "output_type": "display_data"
    },
    {
     "data": {
      "application/vnd.jupyter.widget-view+json": {
       "model_id": "36336563fc854436aaaf8228811de164",
       "version_major": 2,
       "version_minor": 0
      },
      "text/plain": [
       "Downloading (…)ce_transformers.json:   0%|          | 0.00/116 [00:00<?, ?B/s]"
      ]
     },
     "metadata": {},
     "output_type": "display_data"
    },
    {
     "data": {
      "application/vnd.jupyter.widget-view+json": {
       "model_id": "9dfeeaa169704ac69807558ba79d15de",
       "version_major": 2,
       "version_minor": 0
      },
      "text/plain": [
       "Downloading (…)e1d/data_config.json:   0%|          | 0.00/39.3k [00:00<?, ?B/s]"
      ]
     },
     "metadata": {},
     "output_type": "display_data"
    },
    {
     "data": {
      "application/vnd.jupyter.widget-view+json": {
       "model_id": "a9989f95935b49a89c03562802568673",
       "version_major": 2,
       "version_minor": 0
      },
      "text/plain": [
       "Downloading pytorch_model.bin:   0%|          | 0.00/438M [00:00<?, ?B/s]"
      ]
     },
     "metadata": {},
     "output_type": "display_data"
    },
    {
     "data": {
      "application/vnd.jupyter.widget-view+json": {
       "model_id": "f2ef0580c2c842179159f379070e41f0",
       "version_major": 2,
       "version_minor": 0
      },
      "text/plain": [
       "Downloading (…)nce_bert_config.json:   0%|          | 0.00/53.0 [00:00<?, ?B/s]"
      ]
     },
     "metadata": {},
     "output_type": "display_data"
    },
    {
     "data": {
      "application/vnd.jupyter.widget-view+json": {
       "model_id": "8ef9bd6f226241eca3a84185c523104b",
       "version_major": 2,
       "version_minor": 0
      },
      "text/plain": [
       "Downloading (…)cial_tokens_map.json:   0%|          | 0.00/239 [00:00<?, ?B/s]"
      ]
     },
     "metadata": {},
     "output_type": "display_data"
    },
    {
     "data": {
      "application/vnd.jupyter.widget-view+json": {
       "model_id": "c33117dce7324a0c97f0de84c91cd290",
       "version_major": 2,
       "version_minor": 0
      },
      "text/plain": [
       "Downloading (…)a8e1d/tokenizer.json:   0%|          | 0.00/466k [00:00<?, ?B/s]"
      ]
     },
     "metadata": {},
     "output_type": "display_data"
    },
    {
     "data": {
      "application/vnd.jupyter.widget-view+json": {
       "model_id": "a629bddfdd4f467791b753154122ad9c",
       "version_major": 2,
       "version_minor": 0
      },
      "text/plain": [
       "Downloading (…)okenizer_config.json:   0%|          | 0.00/363 [00:00<?, ?B/s]"
      ]
     },
     "metadata": {},
     "output_type": "display_data"
    },
    {
     "data": {
      "application/vnd.jupyter.widget-view+json": {
       "model_id": "0dcd3791aae7488eb74be31bdf83678d",
       "version_major": 2,
       "version_minor": 0
      },
      "text/plain": [
       "Downloading (…)8e1d/train_script.py:   0%|          | 0.00/13.1k [00:00<?, ?B/s]"
      ]
     },
     "metadata": {},
     "output_type": "display_data"
    },
    {
     "data": {
      "application/vnd.jupyter.widget-view+json": {
       "model_id": "0a3999a431ef4f84a403d38a84d1ffaf",
       "version_major": 2,
       "version_minor": 0
      },
      "text/plain": [
       "Downloading (…)b20bca8e1d/vocab.txt:   0%|          | 0.00/232k [00:00<?, ?B/s]"
      ]
     },
     "metadata": {},
     "output_type": "display_data"
    },
    {
     "data": {
      "application/vnd.jupyter.widget-view+json": {
       "model_id": "9ee4a5b5ca8e459881c875e756c8dd43",
       "version_major": 2,
       "version_minor": 0
      },
      "text/plain": [
       "Downloading (…)bca8e1d/modules.json:   0%|          | 0.00/349 [00:00<?, ?B/s]"
      ]
     },
     "metadata": {},
     "output_type": "display_data"
    }
   ],
   "source": [
    "import os\n",
    "from sentence_transformers import SentenceTransformer\n",
    "from langchain.embeddings import HuggingFaceEmbeddings\n",
    "\n",
    "###model = SentenceTransformer(transformer_name)\n",
    "embed_model = HuggingFaceEmbeddings(model_name=embedding_model_name)"
   ]
  },
  {
   "cell_type": "code",
   "execution_count": 5,
   "id": "41fb86ec-5ba8-47f5-a30c-bc741e5231d3",
   "metadata": {
    "tags": []
   },
   "outputs": [],
   "source": [
    "#import chromadb\n",
    "#from chromadb.config import Settings\n",
    "#client = chromadb.PersistentClient(settings=Settings(chroma_api_impl=\"chromadb.api.fastapi.FastAPI\", persist_directory=vector_db_path))\n",
    "#client = chromadb.Client(Settings(chroma_api_impl=\"chromadb.api.fastapi.FastAPI\", persist_directory=vector_db_path, chroma_server_host='LocalHost', chroma_server_http_port=8000))\n",
    "#client = chromadb.HttpClient(host='localhost', port=8000)\n",
    "#client = chromadb.Client()"
   ]
  },
  {
   "cell_type": "code",
   "execution_count": 6,
   "id": "39ec06d1-d2b4-4d6e-aa3c-12bfc406dc09",
   "metadata": {
    "tags": []
   },
   "outputs": [
    {
     "name": "stderr",
     "output_type": "stream",
     "text": [
      "Using embedded DuckDB with persistence: data will be stored in: AIProjectDB/vector_db\n"
     ]
    }
   ],
   "source": [
    "from langchain.document_loaders import UnstructuredPDFLoader, OnlinePDFLoader\n",
    "from langchain.text_splitter import RecursiveCharacterTextSplitter\n",
    "import os.path\n",
    "from langchain.vectorstores import Chroma\n",
    "\n",
    "# Don't recompute the embeddings if they're already available\n",
    "#full_collection = client.create_collection(name=\"public_docs\", embedding_function=embed_model)\n",
    "db = Chroma(collection_name=\"public_docs\", embedding_function=embed_model, persist_directory=vector_db_path)\n",
    "if not os.path.isdir(vector_db_path) or len(os.listdir(vector_db_path)) == 0:\n",
    "    if not os.path.isdir(vector_db_path):\n",
    "      print(f\"creating folder {vector_db_path}\")\n",
    "      !mkdir -p {vector_db_path}\n",
    "    \n",
    "    text_splitter = RecursiveCharacterTextSplitter(chunk_size=text_chunk_size_nchar,chunk_overlap=chunk_overlap_size)\n",
    "    for foldername in os.listdir(KB_doc_folder):\n",
    "        folderpath = KB_doc_folder + \"/\" + foldername\n",
    "        for filename in os.listdir(folderpath):\n",
    "            filepath = folderpath + \"/\" + filename\n",
    "            with open(filepath):\n",
    "                loader = UnstructuredPDFLoader(filepath) #creating multiple times? look into params\n",
    "                data = loader.load()\n",
    "                text_chunks = text_splitter.split_documents(data)\n",
    "\n",
    "                print(f\"Saving document embeddings under {vector_db_path}\")\n",
    "                db = Chroma.from_documents(collection_name=\"public_docs\", documents=text_chunks, embedding=embed_model, persist_directory=vector_db_path)\n",
    "                db.persist()"
   ]
  },
  {
   "cell_type": "code",
   "execution_count": 7,
   "id": "5ee89f6e-eb75-4527-aff3-48b42daad65f",
   "metadata": {
    "tags": []
   },
   "outputs": [],
   "source": [
    "if recomputePlanCollections:\n",
    "    if not os.path.isdir(vector_db_path):\n",
    "      print(f\"creating folder {vector_db_path}\")\n",
    "      !mkdir -p {vector_db_path}\n",
    "    \n",
    "    text_splitter = RecursiveCharacterTextSplitter(chunk_size=text_chunk_size_nchar,chunk_overlap=chunk_overlap_size)\n",
    "    for foldername in os.listdir(KB_doc_folder):\n",
    "        folderpath = KB_doc_folder + \"/\" + foldername\n",
    "        print(os.listdir(KB_doc_folder))\n",
    "        for filename in os.listdir(folderpath):\n",
    "            filepath = folderpath + \"/\" + filename\n",
    "            with open(filepath):\n",
    "                loader = UnstructuredPDFLoader(filepath) #creating multiple times? look into params\n",
    "                data = loader.load()\n",
    "                text_chunks = text_splitter.split_documents(data)\n",
    "                #create a collection for each plan and add the documents to it\n",
    "\n",
    "                print(f\"Saving document embeddings of {foldername} under {vector_db_path}\")\n",
    "                db = Chroma.from_documents(collection_name=foldername, documents=text_chunks, embedding=embed_model, persist_directory=vector_db_path)\n",
    "                db.persist()"
   ]
  },
  {
   "cell_type": "code",
   "execution_count": 7,
   "id": "d5061a5a-f197-41b0-a170-2fa3d539adc9",
   "metadata": {
    "tags": []
   },
   "outputs": [],
   "source": [
    "#VC\n",
    "#import chromadb\n",
    "#chroma_client = chromadb.Client()\n",
    "#chroma_client.list_collections()"
   ]
  },
  {
   "cell_type": "code",
   "execution_count": 8,
   "id": "97ed6fca-dba2-4f56-963b-963786f3cbe9",
   "metadata": {
    "tags": []
   },
   "outputs": [],
   "source": [
    "#VC\n",
    "#import chromadb\n",
    "#from chromadb.config import Settings\n",
    "# Example setup of the client to connect to your chroma server\n",
    "#client = chromadb.HttpClient(host='localhost', port=8000)"
   ]
  },
  {
   "cell_type": "code",
   "execution_count": 8,
   "id": "05f662b6-7107-4e63-8af6-e8c5e74526ed",
   "metadata": {
    "tags": []
   },
   "outputs": [],
   "source": [
    "def get_similar_chunks(question, similar_doc_count, colname):\n",
    "    db_sem = Chroma(collection_name=colname, embedding_function=embed_model, persist_directory=vector_db_path)\n",
    "    return db_sem.similarity_search(question, k=similar_doc_count)"
   ]
  },
  {
   "cell_type": "code",
   "execution_count": 10,
   "id": "ea840e98-05ba-4c5a-b68c-37589b68721c",
   "metadata": {
    "tags": []
   },
   "outputs": [],
   "source": [
    "#BRAVEN\n",
    "#(\"I haven’t gotten any vaccines yet this year. Will I owe a copay if I get the flu shot?\"):\n",
    "#(\"What other vaccines can I get this year without owing a copay?\", 3, \"Braven\"):\n",
    "#(\"Will I owe a copay for lab services?\", 3, \"Braven\"):\n",
    "#(\"Will I owe a copay if I get an MRI?\", 3, \"Braven\"):\n",
    "#(\"My doctor recommended that I go to physical therapy.  Would that be covered? \", 3, \"Braven\"):\n",
    "#(\"I am having surgery performed at a surgical center.  How much will I have to pay?\", 3, \"Braven\"):\n",
    "#(\"I am traveling out of the country and would like to know if I have coverage worldwide.\", 3, \"Braven\"):\n",
    "#(\"Would I owe a copayment for outpatient mental health services?\", 3, \"Braven\"):\n",
    "#(\"How do I find doctors that are in-network with my plan?\", 3, \"Braven\"):\n",
    "#(\"Can I go to an out-of-network provider?\", 3, \"Braven\"):\n",
    "#(\"Do I have to pay a deductible when using this medical plan?\", 3, \"Braven\"):\n",
    "#(\"I have to go for my annual physical exam.  How much will I have to pay for the visit?\", 3, \"Braven\"):\n",
    "#(\"Is there a nurse that I can speak with regarding a recent diagnosis I received?\", 3, \"Braven\"):\n",
    "#(\"Are hearing aids covered under my plan?\", 3, \"Braven\"):\n",
    "#(\"Do I have to pay for my annual dental cleaning?\", 3, \"Braven\"):"
   ]
  },
  {
   "cell_type": "code",
   "execution_count": 9,
   "id": "b046b817-e94d-4774-857a-4be6b07e6601",
   "metadata": {
    "tags": []
   },
   "outputs": [
    {
     "data": {
      "application/vnd.jupyter.widget-view+json": {
       "model_id": "f0f2f9f7368a4eb795056587fd8ca16b",
       "version_major": 2,
       "version_minor": 0
      },
      "text/plain": [
       "Downloading (…)lve/main/config.json:   0%|          | 0.00/819 [00:00<?, ?B/s]"
      ]
     },
     "metadata": {},
     "output_type": "display_data"
    },
    {
     "data": {
      "application/vnd.jupyter.widget-view+json": {
       "model_id": "1d9a6a28654145059afd45481a11e6b4",
       "version_major": 2,
       "version_minor": 0
      },
      "text/plain": [
       "Downloading (…)instruct_pipeline.py:   0%|          | 0.00/9.16k [00:00<?, ?B/s]"
      ]
     },
     "metadata": {},
     "output_type": "display_data"
    },
    {
     "name": "stderr",
     "output_type": "stream",
     "text": [
      "A new version of the following files was downloaded from https://huggingface.co/databricks/dolly-v2-2-8b:\n",
      "- instruct_pipeline.py\n",
      ". Make sure to double-check they do not contain any added malicious code. To avoid downloading new versions of the code file, you can pin a revision.\n"
     ]
    },
    {
     "data": {
      "application/vnd.jupyter.widget-view+json": {
       "model_id": "64092692dd964dfbafeeb8d2bdd37308",
       "version_major": 2,
       "version_minor": 0
      },
      "text/plain": [
       "Downloading pytorch_model.bin:   0%|          | 0.00/5.68G [00:00<?, ?B/s]"
      ]
     },
     "metadata": {},
     "output_type": "display_data"
    },
    {
     "data": {
      "application/vnd.jupyter.widget-view+json": {
       "model_id": "69afed1215994bb7a65bb1ca16ae3eec",
       "version_major": 2,
       "version_minor": 0
      },
      "text/plain": [
       "Downloading (…)okenizer_config.json:   0%|          | 0.00/450 [00:00<?, ?B/s]"
      ]
     },
     "metadata": {},
     "output_type": "display_data"
    },
    {
     "data": {
      "application/vnd.jupyter.widget-view+json": {
       "model_id": "805a9e8f79e6421890e7c216b8d989fa",
       "version_major": 2,
       "version_minor": 0
      },
      "text/plain": [
       "Downloading (…)/main/tokenizer.json:   0%|          | 0.00/2.11M [00:00<?, ?B/s]"
      ]
     },
     "metadata": {},
     "output_type": "display_data"
    },
    {
     "data": {
      "application/vnd.jupyter.widget-view+json": {
       "model_id": "10352d2ecc6e482f92bf61cf386577fa",
       "version_major": 2,
       "version_minor": 0
      },
      "text/plain": [
       "Downloading (…)cial_tokens_map.json:   0%|          | 0.00/228 [00:00<?, ?B/s]"
      ]
     },
     "metadata": {},
     "output_type": "display_data"
    }
   ],
   "source": [
    "import torch\n",
    "from transformers import AutoTokenizer, AutoModelForCausalLM, pipeline\n",
    "from langchain import PromptTemplate\n",
    "from langchain.llms import HuggingFacePipeline\n",
    "from langchain.chains.question_answering import load_qa_chain\n",
    "from langchain.memory import ConversationSummaryBufferMemory\n",
    "\n",
    "\n",
    "def build_qa_chain():\n",
    "    torch.cuda.empty_cache()\n",
    "    model_name = \"databricks/dolly-v2-2-8b\" \n",
    "\n",
    "    instruct_pipeline = pipeline(model=model_name, torch_dtype=torch.bfloat16, trust_remote_code=True, device_map=\"auto\", return_full_text=True, max_new_tokens=256, top_p=0.95, top_k=maxSemResCount)\n",
    "\n",
    "    # Defining our prompt content.langchain will load our similar documents as {context}\n",
    "    template = \"\"\"Below is an instruction that describes a task. Write a response that appropriately completes the request.\n",
    "\n",
    "    Instructions:\n",
    "    You are a customer service representative at a health insurance company and your job is to help providing the best accurate answer to a customer. \n",
    "    1. Limit your response to the information provided in this prompt. Do not conduct refer to external sources.\n",
    "    2. Focus on the infromation rpesented here to form your answer.\n",
    "    3. Do not include personal opinions or assumptions; stick to the facts provided in the prompt.\n",
    "    4. Explain the answer with reference to the provided paragraphs. If the answer is not in the paragraphs, say that you do not know.\n",
    "    5. Write your answer below the prompt.\n",
    "\n",
    "    {context}\n",
    "\n",
    "    Question: {question}\n",
    "\n",
    "    Response:\n",
    "    \"\"\"\n",
    "    prompt = PromptTemplate(input_variables=['context', 'question'], template=template)\n",
    "\n",
    "    hf_pipe = HuggingFacePipeline(pipeline=instruct_pipeline)\n",
    "\n",
    "    #summarizing the chat history\n",
    "    #summarize_model = AutoModelForSeq2SeqLM.from_pretrained(\"t5-small\", device_map=\"auto\", torch_dtype=torch.bfloat16, trust_remote_code=True)\n",
    "    #summarize_tokenizer = AutoTokenizer.from_pretrained(\"t5-small\", padding_side=\"left\", model_max_length = 512)\n",
    "    #pipe_summary = pipeline(\"summarization\", model=summarize_model, tokenizer=summarize_tokenizer) #, max_new_tokens=500, min_new_tokens=300\n",
    "    # langchain pipeline doesn't support summarization yet, we added it as temp fix in the companion notebook _resources/00-init \n",
    "    #hf_summary = HuggingFacePipeline_WithSummarization(pipeline=pipe_summary)\n",
    "    #will keep 500 token and then ask for a summary. Removes prefix as our model isn't trained on specific chat prefix and can get confused.\n",
    "    #memory = ConversationSummaryBufferMemory(llm=hf_summary, memory_key=\"chat_history\", input_key=\"question\", max_token_limit=500, human_prefix = \"\", ai_prefix = \"\")\n",
    "\n",
    "    return load_qa_chain(llm=hf_pipe, chain_type=\"stuff\", prompt=prompt, verbose=True)\n",
    "\n",
    "qa_chain = build_qa_chain()"
   ]
  },
  {
   "cell_type": "code",
   "execution_count": 10,
   "id": "af6c5048-093e-424b-ba68-51ac2ea4046a",
   "metadata": {
    "tags": []
   },
   "outputs": [
    {
     "name": "stderr",
     "output_type": "stream",
     "text": [
      "Using embedded DuckDB with persistence: data will be stored in: AIProjectDB/vector_db\n",
      "Using embedded DuckDB with persistence: data will be stored in: AIProjectDB/vector_db\n"
     ]
    },
    {
     "name": "stdout",
     "output_type": "stream",
     "text": [
      "***************************New Chunk:\n",
      "\n",
      "page_content='Summary of Benefits\\n\\nBraven Medicare Choice (PPO)\\n\\nJanuary 1, 2023 – December 31, 2023\\n\\nService area for this plan includes: Bergen, Essex, Hudson, Middlesex, Monmouth, Ocean, Passaic and Union counties.\\n\\nY0159_H0885_001_SB_2023_M\\n\\nThis booklet gives you a summary of what we cover and what you pay. It doesn’t list every service we cover or list every limitation or exclusion. To get a complete list of services, cost shares and exclusions, please refer to our Evidence of Coverage, which can be found online at BravenHealth.com/2023EOCChoice. Or, you can call us at 1-833-272-8360 (TTY 711) to request a mailed copy. Hours of operation are: October 1 – March 31: Monday – Sunday, from 8:00 a.m. to 8:00 p.m., ET and April 1 – September 30: Monday – Friday, from 8:00 a.m. to 8:00 p.m., ET.' metadata={'source': 'KnowledgeBaseDocs/Braven/BravenPPOBenefits (Bergen).pdf'}\n",
      "***************************New Chunk:\n",
      "\n",
      "page_content='Premiums and Benefits Monthly Plan Premium\\n\\nBraven Medicare Choice (PPO)\\n\\n$0 per month In addition, you must keep paying your Medicare Part B premium. $0 per year\\n\\nAnnual Medical Deductible Maximum Out-of-Pocket Responsibility (does not include prescription drugs)\\n\\n$6,700 per year for services you receive from in-network\\n\\nproviders.\\n\\n$10,000 per year for services you receive from in- network and out-of-network providers combined.\\n\\nIf you reach the limit on out-of-pocket costs, you keep getting covered hospital and medical services and we will pay for the rest of the year. Our plan also has a benefit-specific coverage limit for select benefits. For coverage limit details, see Chapter 4, Medical Benefits Chart (what is covered and what you pay), in your 2023 Evidence of Coverage.' metadata={'source': 'KnowledgeBaseDocs/Braven/BravenPPOBenefits (Bergen).pdf'}\n",
      "***************************New Chunk:\n",
      "\n",
      "page_content='OCR Complaint forms are available at www.hhs.gov/ocr/office/file/index.html.\\n\\nPara ayuda en español, llame a 1-844-498-9393 (TTY 711).\\n\\nY0159_ECN007353B_C\\n\\nMulti-Language Insert - Multi-language Interpreter Services\\n\\nEnglish: We have free interpreter services to answer any questions you may have about our health or drug plan. To get an interpreter, just call us at 1-844-498-9393. Someone who speaks English can help you. This is a free service.\\n\\nSpanish: Tenemos servicios de intérprete sin costo alguno para responder cualquier pregunta que pueda tener sobre nuestro plan de salud o medicamentos. Para hablar con un intérprete, por favor llame al 1-844-498-9393. Alguien que hable español le podrá ayudar. Este es un servicio gratuito.' metadata={'source': 'KnowledgeBaseDocs/Braven/BravenPPOBenefits (Bergen).pdf'}\n"
     ]
    }
   ],
   "source": [
    "db_YA=Chroma(collection_name=\"CoverageofYoungAdultsinNJ\", embedding_function=embed_model, persist_directory=vector_db_path)\n",
    "\n",
    "for chunk in get_similar_chunks(\"I am switching employers, will this impact my child’s DU31 plan?\", 3, \"Braven\"):\n",
    "    print(\"***************************New Chunk:\\n\")\n",
    "    print(chunk)"
   ]
  },
  {
   "cell_type": "code",
   "execution_count": 11,
   "id": "07a572ba-67d5-432e-bed1-375cf7beefb3",
   "metadata": {
    "tags": []
   },
   "outputs": [],
   "source": [
    "def session():\n",
    "    plan = input(\"What plan does the customer have? Enter BR for braven, MED for medicare, IC for insurance claim form,\\n YA for Young Adult Coverage, AS for Assistant at Surgery, NS for Nutritional Support GEN for general, or ALL for everything.\\n\")\n",
    "    if plan.upper()==\"BR\" or plan.upper()==\"BRAVEN\":\n",
    "        #search from braven documentation\n",
    "        return \"Braven\"\n",
    "    elif plan.upper()==\"MED\" or plan.upper()==\"MEDICARE\":\n",
    "        #search from medicare documentation\n",
    "        return \"Medicare\"\n",
    "    elif plan.upper()==\"YA\" or plan.upper()==\"YOUNGADULT\":\n",
    "        return \"CoverageofYoungAdultsinNJ\"\n",
    "    elif plan.upper()==\"GEN\" or plan.upper()==\"GENERAL\":\n",
    "        #search general documents\n",
    "        print(\"general\") #NEEDS TO BE CHANGED\n",
    "    elif plan.upper()==\"IC\" or plan.upper()==\"INSURANCE CLAIM\":\n",
    "        return \"HorizonMedicalHealthInsuranceClaimForm\"\n",
    "    elif plan.upper()==\"AS\" or plan.upper()==\"ASSISTANT SURGERY\":\n",
    "        return \"AssistantAtSurgery\"\n",
    "    elif plan.upper()==\"NS\" or plan.upper()==\"NUTRITIONAL SUPPORT\":\n",
    "        return \"NutrionalSupport\"#\"NutritionalSupport\"\n",
    "    elif plan.upper()==\"AN\" or plan.upper()==\"ANESTHESIA\":\n",
    "        return \"Anesthesia\"\n",
    "    elif plan.upper()==\"ALL\":\n",
    "        #search all plans\n",
    "        return \"public_docs\"\n",
    "    else:\n",
    "        print(\"Sorry, I'm not sure what you're saying\")"
   ]
  },
  {
   "cell_type": "code",
   "execution_count": 12,
   "id": "9c00558c-94fc-4700-aad5-337b727b30b8",
   "metadata": {
    "tags": []
   },
   "outputs": [],
   "source": [
    "def continueprompt():\n",
    "    while True:\n",
    "        ret = input(\"Would you like to ask a related question? Enter Y for yes and N for no.\")\n",
    "        if ret.upper()==\"Y\" or ret.upper()==\"YES\":\n",
    "            return True\n",
    "        elif ret.upper()==\"N\" or ret.upper()==\"NO\":\n",
    "            return False\n",
    "        else:\n",
    "            print(\"I'm sorry, I didn't understand. Would you like to ask a related question? Enter Y for yes and N for no.\")"
   ]
  },
  {
   "cell_type": "code",
   "execution_count": 13,
   "id": "ea895ccb-22e1-4337-a694-6749596748d3",
   "metadata": {
    "tags": []
   },
   "outputs": [],
   "source": [
    "def answer_question(question):\n",
    "    plan = session()\n",
    "    similar_chunks = get_similar_chunks(question, similar_doc_count=3, colname=plan)\n",
    "    result = qa_chain({\"input_documents\": similar_chunks, \"question\": question})\n",
    "    for d in result[\"input_documents\"]:\n",
    "        source_id = d.metadata[\"source\"]\n",
    "    print(source_id)\n",
    "    res = question + result['output_text']\n",
    "    print(res)\n",
    "    if continueprompt()==True:\n",
    "        newq = input(\"Please enter your next question.\")\n",
    "        answer_question(newq)"
   ]
  },
  {
   "cell_type": "code",
   "execution_count": 14,
   "id": "fee96cb9-4d83-4709-91c8-3ffe74b6b47d",
   "metadata": {
    "tags": []
   },
   "outputs": [
    {
     "name": "stdin",
     "output_type": "stream",
     "text": [
      "What plan does the customer have? Enter BR for braven, MED for medicare, IC for insurance claim form,\n",
      " YA for Young Adult Coverage, AS for Assistant at Surgery, NS for Nutritional Support GEN for general, or ALL for everything.\n",
      " br\n"
     ]
    },
    {
     "name": "stderr",
     "output_type": "stream",
     "text": [
      "Using embedded DuckDB with persistence: data will be stored in: AIProjectDB/vector_db\n"
     ]
    },
    {
     "name": "stdout",
     "output_type": "stream",
     "text": [
      "\n",
      "\n",
      "\u001b[1m> Entering new StuffDocumentsChain chain...\u001b[0m\n",
      "\n",
      "\n",
      "\u001b[1m> Entering new LLMChain chain...\u001b[0m\n",
      "Prompt after formatting:\n",
      "\u001b[32;1m\u001b[1;3mBelow is an instruction that describes a task. Write a response that appropriately completes the request.\n",
      "\n",
      "    Instructions:\n",
      "    You are a customer service representative at a health insurance company and your job is to help providing the best accurate answer to a customer. \n",
      "    1. Limit your response to the information provided in this prompt. Do not conduct refer to external sources.\n",
      "    2. Focus on the infromation rpesented here to form your answer.\n",
      "    3. Do not include personal opinions or assumptions; stick to the facts provided in the prompt.\n",
      "    4. Explain the answer with reference to the provided paragraphs. If the answer is not in the paragraphs, say that you do not know.\n",
      "    5. Write your answer below the prompt.\n",
      "\n",
      "    (counseling for people with no sign of tobacco-related disease)\n",
      "\n",
      "Vaccines, including Pneumonia, Flu shots, Hepatitis B,\n",
      "\n",
      "COVID-19 and other vaccines\n",
      "\n",
      "“Welcome to Medicare” preventive visit (one-time)\n",
      "\n",
      "Any additional preventive services approved by Medicare during the contract year will be covered. Flu shot, Hepatitis B, Pneumonia, and COVID-19 vaccines are $0 copayment in-and out-of-network.\n",
      "\n",
      "Important Message About What You Pay for Vaccines – Our plan covers most Part D vaccines at no cost to you even if you haven’t paid your deductible. Call Member Services for more information.\n",
      "\n",
      "Covered Benefits NOTE: Services with a 1 may require prior authorization. Emergency Care\n",
      "\n",
      "Braven Medicare Choice (PPO)\n",
      "\n",
      "Important Message About What You Pay for Vaccines – Our plan covers most Part D vaccines at no cost to you even if you haven’t paid your deductible. Call Member Services for more information.\n",
      "\n",
      "Covered Benefits NOTE: Services with a 1 may require prior authorization. Emergency Care\n",
      "\n",
      "Braven Medicare Choice (PPO)\n",
      "\n",
      "$95 copayment (worldwide) Copayment waived if admitted to a hospital within 24 hours for the same condition. See the “Inpatient Hospital Coverage” section of this booklet for other costs.\n",
      "\n",
      "$40 copayment • $95 copayment for worldwide coverage\n",
      "\n",
      "Urgently Needed Services\n",
      "\n",
      "Copayment waived if admitted to a hospital within 24 hours for the same condition. See the “Inpatient Hospital Coverage” section of this booklet for other costs. Diagnostic Colonoscopy:\n",
      "\n",
      "$40 copayment • $95 copayment for worldwide coverage\n",
      "\n",
      "Urgently Needed Services\n",
      "\n",
      "Copayment waived if admitted to a hospital within 24 hours for the same condition. See the “Inpatient Hospital Coverage” section of this booklet for other costs. Diagnostic Colonoscopy:\n",
      "\n",
      "Diagnostic Services/ Labs/ Imaging1\n",
      "\n",
      "• Out-of-network\n",
      "\n",
      "In-network: $0 copayment\n",
      "\n",
      "o $50 copayment in an office or freestanding facility o $110 copayment in an outpatient hospital\n",
      "\n",
      "Diagnostic Mammogram:\n",
      "\n",
      "• Out-of-network:\n",
      "\n",
      "In-network: $0 copayment\n",
      "\n",
      "o $60 copayment in an office or freestanding facility o $175 copayment in an outpatient hospital\n",
      "\n",
      "Diagnostic radiology services (such as MRIs, CT scans):\n",
      "\n",
      "\n",
      "\n",
      "In-network:\n",
      "\n",
      "o $40 copayment in an office or freestanding facility o $150 copayment in an outpatient hospital\n",
      "\n",
      "Out-of-network:\n",
      "\n",
      "    Question: I haven’t gotten any vaccines yet this year. Will I owe a copay if I get the flu shot?\n",
      "\n",
      "    Response:\n",
      "    \u001b[0m\n",
      "\n",
      "\u001b[1m> Finished chain.\u001b[0m\n",
      "\n",
      "\u001b[1m> Finished chain.\u001b[0m\n",
      "KnowledgeBaseDocs/Braven/BravenPPOBenefits (Bergen).pdf\n",
      "I haven’t gotten any vaccines yet this year. Will I owe a copay if I get the flu shot?\n",
      "No, you will not owe a copay for the flu shot if you receive it in-network. However, if you receive the flu shot out of network you may be responsible for a coinsurance of 10-15 percent before the out-of-pocket maximum applies.\n"
     ]
    },
    {
     "name": "stdin",
     "output_type": "stream",
     "text": [
      "Would you like to ask a related question? Enter Y for yes and N for no. n\n"
     ]
    }
   ],
   "source": [
    "#BRAVEN\n",
    "from langchain.vectorstores import Chroma\n",
    "answer_question(\"I haven’t gotten any vaccines yet this year. Will I owe a copay if I get the flu shot?\")"
   ]
  },
  {
   "cell_type": "code",
   "execution_count": 17,
   "id": "03d4abab-fb7d-454b-b7c3-859b8b135546",
   "metadata": {
    "tags": []
   },
   "outputs": [
    {
     "name": "stdin",
     "output_type": "stream",
     "text": [
      "What plan does the customer have? Enter BR for braven, MED for medicare, IC for insurance claim form,\n",
      " YA for Young Adult Coverage, AS for Assistant at Surgery, NS for Nutritional Support GEN for general, or ALL for everything.\n",
      " br\n"
     ]
    },
    {
     "name": "stderr",
     "output_type": "stream",
     "text": [
      "Using embedded DuckDB with persistence: data will be stored in: AIProjectDB/vector_db\n"
     ]
    },
    {
     "name": "stdout",
     "output_type": "stream",
     "text": [
      "\n",
      "\n",
      "\u001b[1m> Entering new StuffDocumentsChain chain...\u001b[0m\n",
      "\n",
      "\n",
      "\u001b[1m> Entering new LLMChain chain...\u001b[0m\n",
      "Prompt after formatting:\n",
      "\u001b[32;1m\u001b[1;3mBelow is an instruction that describes a task. Write a response that appropriately completes the request.\n",
      "\n",
      "    Instructions:\n",
      "    You are a customer service representative at a health insurance company and your job is to help providing the best accurate answer to a customer. \n",
      "    1. Limit your response to the information provided in this prompt. Do not conduct refer to external sources.\n",
      "    2. Focus on the infromation rpesented here to form your answer.\n",
      "    3. Do not include personal opinions or assumptions; stick to the facts provided in the prompt.\n",
      "    4. Explain the answer with reference to the provided paragraphs. If the answer is not in the paragraphs, say that you do not know.\n",
      "    5. Write your answer below the prompt.\n",
      "\n",
      "    (counseling for people with no sign of tobacco-related disease)\n",
      "\n",
      "Vaccines, including Pneumonia, Flu shots, Hepatitis B,\n",
      "\n",
      "COVID-19 and other vaccines\n",
      "\n",
      "“Welcome to Medicare” preventive visit (one-time)\n",
      "\n",
      "Any additional preventive services approved by Medicare during the contract year will be covered. Flu shot, Hepatitis B, Pneumonia, and COVID-19 vaccines are $0 copayment in-and out-of-network.\n",
      "\n",
      "Important Message About What You Pay for Vaccines – Our plan covers most Part D vaccines at no cost to you even if you haven’t paid your deductible. Call Member Services for more information.\n",
      "\n",
      "Covered Benefits NOTE: Services with a 1 may require prior authorization. Emergency Care\n",
      "\n",
      "Braven Medicare Choice (PPO)\n",
      "\n",
      "Important Message About What You Pay for Vaccines – Our plan covers most Part D vaccines at no cost to you even if you haven’t paid your deductible. Call Member Services for more information.\n",
      "\n",
      "Covered Benefits NOTE: Services with a 1 may require prior authorization. Emergency Care\n",
      "\n",
      "Braven Medicare Choice (PPO)\n",
      "\n",
      "$95 copayment (worldwide) Copayment waived if admitted to a hospital within 24 hours for the same condition. See the “Inpatient Hospital Coverage” section of this booklet for other costs.\n",
      "\n",
      "$40 copayment • $95 copayment for worldwide coverage\n",
      "\n",
      "Urgently Needed Services\n",
      "\n",
      "Copayment waived if admitted to a hospital within 24 hours for the same condition. See the “Inpatient Hospital Coverage” section of this booklet for other costs. Diagnostic Colonoscopy:\n",
      "\n",
      "$40 copayment • $95 copayment for worldwide coverage\n",
      "\n",
      "Urgently Needed Services\n",
      "\n",
      "Copayment waived if admitted to a hospital within 24 hours for the same condition. See the “Inpatient Hospital Coverage” section of this booklet for other costs. Diagnostic Colonoscopy:\n",
      "\n",
      "Diagnostic Services/ Labs/ Imaging1\n",
      "\n",
      "• Out-of-network\n",
      "\n",
      "In-network: $0 copayment\n",
      "\n",
      "o $50 copayment in an office or freestanding facility o $110 copayment in an outpatient hospital\n",
      "\n",
      "Diagnostic Mammogram:\n",
      "\n",
      "• Out-of-network:\n",
      "\n",
      "In-network: $0 copayment\n",
      "\n",
      "o $60 copayment in an office or freestanding facility o $175 copayment in an outpatient hospital\n",
      "\n",
      "Diagnostic radiology services (such as MRIs, CT scans):\n",
      "\n",
      "\n",
      "\n",
      "In-network:\n",
      "\n",
      "o $40 copayment in an office or freestanding facility o $150 copayment in an outpatient hospital\n",
      "\n",
      "Out-of-network:\n",
      "\n",
      "    Question: I haven’t gotten any vaccines yet this year. Will I owe a copay if I get the flu shot?\n",
      "\n",
      "    Response:\n",
      "    \u001b[0m\n",
      "\n",
      "\u001b[1m> Finished chain.\u001b[0m\n",
      "\n",
      "\u001b[1m> Finished chain.\u001b[0m\n",
      "KnowledgeBaseDocs/Braven/BravenPPOBenefits (Bergen).pdf\n",
      "I haven’t gotten any vaccines yet this year. Will I owe a copay if I get the flu shot?\n",
      "No, you will not owe a copay for the flu shot if you receive Medicare Part D coverage through Braven. The copay for your flu shot will be a $0 cost to you regardless of whether you paid your deductible or not. The covered benefits for your flu shot include the vaccination itself and any emergency care (such as transportation to a doctor’s office or hospital emergency room).\n"
     ]
    },
    {
     "name": "stdin",
     "output_type": "stream",
     "text": [
      "Would you like to ask a related question? Enter Y for yes and N for no. n\n"
     ]
    }
   ],
   "source": [
    "#BRAVEN\n",
    "from langchain.vectorstores import Chroma\n",
    "answer_question(\"I haven’t gotten any vaccines yet this year. Will I owe a copay if I get the flu shot?\")"
   ]
  },
  {
   "cell_type": "code",
   "execution_count": 18,
   "id": "ea92e602-fc0d-4950-a992-d8e24f01596d",
   "metadata": {
    "tags": []
   },
   "outputs": [
    {
     "name": "stdin",
     "output_type": "stream",
     "text": [
      "What plan does the customer have? Enter BR for braven, MED for medicare, IC for insurance claim form,\n",
      " YA for Young Adult Coverage, AS for Assistant at Surgery, NS for Nutritional Support GEN for general, or ALL for everything.\n",
      " br\n"
     ]
    },
    {
     "name": "stderr",
     "output_type": "stream",
     "text": [
      "Using embedded DuckDB with persistence: data will be stored in: AIProjectDB/vector_db\n"
     ]
    },
    {
     "name": "stdout",
     "output_type": "stream",
     "text": [
      "\n",
      "\n",
      "\u001b[1m> Entering new StuffDocumentsChain chain...\u001b[0m\n",
      "\n",
      "\n",
      "\u001b[1m> Entering new LLMChain chain...\u001b[0m\n",
      "Prompt after formatting:\n",
      "\u001b[32;1m\u001b[1;3mBelow is an instruction that describes a task. Write a response that appropriately completes the request.\n",
      "\n",
      "    Instructions:\n",
      "    You are a customer service representative at a health insurance company and your job is to help providing the best accurate answer to a customer. \n",
      "    1. Limit your response to the information provided in this prompt. Do not conduct refer to external sources.\n",
      "    2. Focus on the infromation rpesented here to form your answer.\n",
      "    3. Do not include personal opinions or assumptions; stick to the facts provided in the prompt.\n",
      "    4. Explain the answer with reference to the provided paragraphs. If the answer is not in the paragraphs, say that you do not know.\n",
      "    5. Write your answer below the prompt.\n",
      "\n",
      "    (counseling for people with no sign of tobacco-related disease)\n",
      "\n",
      "Vaccines, including Pneumonia, Flu shots, Hepatitis B,\n",
      "\n",
      "COVID-19 and other vaccines\n",
      "\n",
      "“Welcome to Medicare” preventive visit (one-time)\n",
      "\n",
      "Any additional preventive services approved by Medicare during the contract year will be covered. Flu shot, Hepatitis B, Pneumonia, and COVID-19 vaccines are $0 copayment in-and out-of-network.\n",
      "\n",
      "Important Message About What You Pay for Vaccines – Our plan covers most Part D vaccines at no cost to you even if you haven’t paid your deductible. Call Member Services for more information.\n",
      "\n",
      "Covered Benefits NOTE: Services with a 1 may require prior authorization. Emergency Care\n",
      "\n",
      "Braven Medicare Choice (PPO)\n",
      "\n",
      "Important Message About What You Pay for Vaccines – Our plan covers most Part D vaccines at no cost to you even if you haven’t paid your deductible. Call Member Services for more information.\n",
      "\n",
      "Covered Benefits NOTE: Services with a 1 may require prior authorization. Emergency Care\n",
      "\n",
      "Braven Medicare Choice (PPO)\n",
      "\n",
      "$95 copayment (worldwide) Copayment waived if admitted to a hospital within 24 hours for the same condition. See the “Inpatient Hospital Coverage” section of this booklet for other costs.\n",
      "\n",
      "$40 copayment • $95 copayment for worldwide coverage\n",
      "\n",
      "Urgently Needed Services\n",
      "\n",
      "Copayment waived if admitted to a hospital within 24 hours for the same condition. See the “Inpatient Hospital Coverage” section of this booklet for other costs. Diagnostic Colonoscopy:\n",
      "\n",
      "$40 copayment • $95 copayment for worldwide coverage\n",
      "\n",
      "Urgently Needed Services\n",
      "\n",
      "Copayment waived if admitted to a hospital within 24 hours for the same condition. See the “Inpatient Hospital Coverage” section of this booklet for other costs. Diagnostic Colonoscopy:\n",
      "\n",
      "Diagnostic Services/ Labs/ Imaging1\n",
      "\n",
      "• Out-of-network\n",
      "\n",
      "In-network: $0 copayment\n",
      "\n",
      "o $50 copayment in an office or freestanding facility o $110 copayment in an outpatient hospital\n",
      "\n",
      "Diagnostic Mammogram:\n",
      "\n",
      "• Out-of-network:\n",
      "\n",
      "In-network: $0 copayment\n",
      "\n",
      "o $60 copayment in an office or freestanding facility o $175 copayment in an outpatient hospital\n",
      "\n",
      "Diagnostic radiology services (such as MRIs, CT scans):\n",
      "\n",
      "\n",
      "\n",
      "In-network:\n",
      "\n",
      "o $40 copayment in an office or freestanding facility o $150 copayment in an outpatient hospital\n",
      "\n",
      "Out-of-network:\n",
      "\n",
      "    Question: What other vaccines have a $0 copay?\n",
      "\n",
      "    Response:\n",
      "    \u001b[0m\n",
      "\n",
      "\u001b[1m> Finished chain.\u001b[0m\n",
      "\n",
      "\u001b[1m> Finished chain.\u001b[0m\n",
      "KnowledgeBaseDocs/Braven/BravenPPOBenefits (Bergen).pdf\n",
      "What other vaccines have a $0 copay?\n",
      "Pneumonia, Flu shots, Hepatitis B, and COVID-19 vaccines\n"
     ]
    },
    {
     "name": "stdin",
     "output_type": "stream",
     "text": [
      "Would you like to ask a related question? Enter Y for yes and N for no. n\n"
     ]
    }
   ],
   "source": [
    "#BRAVEN\n",
    "answer_question(\"What other vaccines have a $0 copay?\")"
   ]
  },
  {
   "cell_type": "code",
   "execution_count": 19,
   "id": "62d43025-32ad-4e8c-b6b8-bd9fdc93c279",
   "metadata": {
    "tags": []
   },
   "outputs": [
    {
     "name": "stdin",
     "output_type": "stream",
     "text": [
      "What plan does the customer have? Enter BR for braven, MED for medicare, IC for insurance claim form,\n",
      " YA for Young Adult Coverage, AS for Assistant at Surgery, NS for Nutritional Support GEN for general, or ALL for everything.\n",
      " br\n"
     ]
    },
    {
     "name": "stderr",
     "output_type": "stream",
     "text": [
      "Using embedded DuckDB with persistence: data will be stored in: AIProjectDB/vector_db\n"
     ]
    },
    {
     "name": "stdout",
     "output_type": "stream",
     "text": [
      "\n",
      "\n",
      "\u001b[1m> Entering new StuffDocumentsChain chain...\u001b[0m\n",
      "\n",
      "\n",
      "\u001b[1m> Entering new LLMChain chain...\u001b[0m\n",
      "Prompt after formatting:\n",
      "\u001b[32;1m\u001b[1;3mBelow is an instruction that describes a task. Write a response that appropriately completes the request.\n",
      "\n",
      "    Instructions:\n",
      "    You are a customer service representative at a health insurance company and your job is to help providing the best accurate answer to a customer. \n",
      "    1. Limit your response to the information provided in this prompt. Do not conduct refer to external sources.\n",
      "    2. Focus on the infromation rpesented here to form your answer.\n",
      "    3. Do not include personal opinions or assumptions; stick to the facts provided in the prompt.\n",
      "    4. Explain the answer with reference to the provided paragraphs. If the answer is not in the paragraphs, say that you do not know.\n",
      "    5. Write your answer below the prompt.\n",
      "\n",
      "    Lab Services:\n",
      "\n",
      "\n",
      "\n",
      "In-network:\n",
      "\n",
      "o $0 copayment\n",
      "\n",
      "Out-of-network:\n",
      "\n",
      "o $20 copayment at an office o $50 copayment at an outpatient hospital\n",
      "\n",
      "Covered Benefits NOTE: Services with a 1 may require prior authorization. Diagnostic Services/ Labs/ Imaging1\n",
      "\n",
      "Braven Medicare Choice (PPO)\n",
      "\n",
      "Diagnostic tests and procedures:\n",
      "\n",
      "\n",
      "\n",
      "In-network:\n",
      "\n",
      "o $0 copayment at an office o $30 copayment at a freestanding facility o $50 copayment at an outpatient hospital\n",
      "\n",
      "Out-of-network:\n",
      "\n",
      "o $50 copayment at an office o $110 copayment at an outpatient hospital\n",
      "\n",
      "Therapeutic Radiology:\n",
      "\n",
      "X-Rays: •\n",
      "\n",
      "In- and out-of-network: 20% of the cost\n",
      "\n",
      "In-network:\n",
      "\n",
      "o $0 copayment at an office o $25 copayment at all other places of service\n",
      "\n",
      "Out-of-network: $40 copayment\n",
      "\n",
      "Hearing Services (continued on next page)\n",
      "\n",
      "$40 copayment • $95 copayment for worldwide coverage\n",
      "\n",
      "Urgently Needed Services\n",
      "\n",
      "Copayment waived if admitted to a hospital within 24 hours for the same condition. See the “Inpatient Hospital Coverage” section of this booklet for other costs. Diagnostic Colonoscopy:\n",
      "\n",
      "Diagnostic Services/ Labs/ Imaging1\n",
      "\n",
      "• Out-of-network\n",
      "\n",
      "In-network: $0 copayment\n",
      "\n",
      "o $50 copayment in an office or freestanding facility o $110 copayment in an outpatient hospital\n",
      "\n",
      "Diagnostic Mammogram:\n",
      "\n",
      "• Out-of-network:\n",
      "\n",
      "In-network: $0 copayment\n",
      "\n",
      "o $60 copayment in an office or freestanding facility o $175 copayment in an outpatient hospital\n",
      "\n",
      "Diagnostic radiology services (such as MRIs, CT scans):\n",
      "\n",
      "\n",
      "\n",
      "In-network:\n",
      "\n",
      "o $40 copayment in an office or freestanding facility o $150 copayment in an outpatient hospital\n",
      "\n",
      "Out-of-network:\n",
      "\n",
      "Diagnostic Mammogram:\n",
      "\n",
      "• Out-of-network:\n",
      "\n",
      "In-network: $0 copayment\n",
      "\n",
      "o $60 copayment in an office or freestanding facility o $175 copayment in an outpatient hospital\n",
      "\n",
      "Diagnostic radiology services (such as MRIs, CT scans):\n",
      "\n",
      "\n",
      "\n",
      "In-network:\n",
      "\n",
      "o $40 copayment in an office or freestanding facility o $150 copayment in an outpatient hospital\n",
      "\n",
      "Out-of-network:\n",
      "\n",
      "o $60 copayment in an office or freestanding facility o $175 copayment in an outpatient hospital\n",
      "\n",
      "Lab Services:\n",
      "\n",
      "\n",
      "\n",
      "In-network:\n",
      "\n",
      "o $0 copayment\n",
      "\n",
      "Out-of-network:\n",
      "\n",
      "o $20 copayment at an office o $50 copayment at an outpatient hospital\n",
      "\n",
      "Covered Benefits NOTE: Services with a 1 may require prior authorization. Diagnostic Services/ Labs/ Imaging1\n",
      "\n",
      "Braven Medicare Choice (PPO)\n",
      "\n",
      "Diagnostic tests and procedures:\n",
      "\n",
      "\n",
      "\n",
      "In-network:\n",
      "\n",
      "    Question: Will I owe a copay for lab services?\n",
      "\n",
      "    Response:\n",
      "    \u001b[0m\n",
      "\n",
      "\u001b[1m> Finished chain.\u001b[0m\n",
      "\n",
      "\u001b[1m> Finished chain.\u001b[0m\n",
      "KnowledgeBaseDocs/Braven/BravenPPOBenefits (Bergen).pdf\n",
      "Will I owe a copay for lab services?\n",
      "In-network:\n",
      "\n",
      "o $0 copayment\n",
      "\n",
      "Out-of-network:\n",
      "\n",
      "o $20 copayment at an office o $50 copayment at an outpatient hospital\n"
     ]
    },
    {
     "name": "stdin",
     "output_type": "stream",
     "text": [
      "Would you like to ask a related question? Enter Y for yes and N for no. n\n"
     ]
    }
   ],
   "source": [
    "#BRAVEN\n",
    "answer_question(\"Will I owe a copay for lab services?\")"
   ]
  },
  {
   "cell_type": "code",
   "execution_count": 20,
   "id": "55299b11-2fec-44b3-b2b4-dd7c480f3004",
   "metadata": {
    "tags": []
   },
   "outputs": [
    {
     "name": "stdin",
     "output_type": "stream",
     "text": [
      "What plan does the customer have? Enter BR for braven, MED for medicare, IC for insurance claim form,\n",
      " YA for Young Adult Coverage, AS for Assistant at Surgery, NS for Nutritional Support GEN for general, or ALL for everything.\n",
      " br\n"
     ]
    },
    {
     "name": "stderr",
     "output_type": "stream",
     "text": [
      "Using embedded DuckDB with persistence: data will be stored in: AIProjectDB/vector_db\n"
     ]
    },
    {
     "name": "stdout",
     "output_type": "stream",
     "text": [
      "\n",
      "\n",
      "\u001b[1m> Entering new StuffDocumentsChain chain...\u001b[0m\n",
      "\n",
      "\n",
      "\u001b[1m> Entering new LLMChain chain...\u001b[0m\n",
      "Prompt after formatting:\n",
      "\u001b[32;1m\u001b[1;3mBelow is an instruction that describes a task. Write a response that appropriately completes the request.\n",
      "\n",
      "    Instructions:\n",
      "    You are a customer service representative at a health insurance company and your job is to help providing the best accurate answer to a customer. \n",
      "    1. Limit your response to the information provided in this prompt. Do not conduct refer to external sources.\n",
      "    2. Focus on the infromation rpesented here to form your answer.\n",
      "    3. Do not include personal opinions or assumptions; stick to the facts provided in the prompt.\n",
      "    4. Explain the answer with reference to the provided paragraphs. If the answer is not in the paragraphs, say that you do not know.\n",
      "    5. Write your answer below the prompt.\n",
      "\n",
      "    Y0159_ECN008565SB2023_M\n",
      "\n",
      "Notice of Nondiscrimination\n",
      "\n",
      "Braven Health complies with applicable Federal civil rights laws and does not discriminate against nor does it exclude people or treat them differently on the basis of race, color, gender, national origin, age, disability, pregnancy, gender identity, sex, sexual orientation or health status in the administration of the plan, including enrollment and benefit determinations. Braven Health provides free aids and services to people with disabilities (e.g. qualified language interpreters and information in other formats) and to those whose primary language is not English (e.g. information in other languages) to communicate effectively with us.\n",
      "\n",
      "blood test, flexible sigmoidoscopy)\n",
      "\n",
      "Depression screening • Diabetes screenings • Diabetes self-management training (DSMT) • Glaucoma screening • Hepatitis B and Hepatitis C virus screening • HIV screening • Lung cancer screening • Medicare Diabetes Prevention Program (MDPP) • Medical nutrition therapy services • Obesity screening and counseling • Prostate cancer screenings (PSA) • Sexually transmitted infections screening and counseling • Smoking and Tobacco use cessation counseling\n",
      "\n",
      "(counseling for people with no sign of tobacco-related disease)\n",
      "\n",
      "Vaccines, including Pneumonia, Flu shots, Hepatitis B,\n",
      "\n",
      "COVID-19 and other vaccines\n",
      "\n",
      "“Welcome to Medicare” preventive visit (one-time)\n",
      "\n",
      "Braven Health Civil Rights Coordinator Three Penn Plaza East, PP-12L Newark, NJ 07105-2200\n",
      "\n",
      "You can also file a civil rights complaint with the U.S. Department of Health and Human Services, Office for Civil Rights, electronically through the Office for Civil Rights Complaint Portal, available at https://ocrportal.hhs.gov/ocr/portal/lobby.jsf, or by mail or phone at:\n",
      "\n",
      "Office for Civil Rights Headquarters U.S. Department of Health and Human Services 200 Independence Avenue, SW Room 509F, HHH Building Washington, D.C. 20201 1-800-368-1019 or 1-800-537-7697 (TDD)\n",
      "\n",
      "OCR Complaint forms are available at www.hhs.gov/ocr/office/file/index.html.\n",
      "\n",
      "Para ayuda en español, llame a 1-844-498-9393 (TTY 711).\n",
      "\n",
      "Y0159_ECN007353B_C\n",
      "\n",
      "Multi-Language Insert - Multi-language Interpreter Services\n",
      "\n",
      "    Question: Who is the president of the US?\n",
      "\n",
      "    Response:\n",
      "    \u001b[0m\n",
      "\n",
      "\u001b[1m> Finished chain.\u001b[0m\n",
      "\n",
      "\u001b[1m> Finished chain.\u001b[0m\n",
      "KnowledgeBaseDocs/Braven/BravenPPOBenefits (Bergen).pdf\n",
      "Who is the president of the US?\n",
      "The current president of the United States is Donald J. Trump, an American business and political entrepreneur who formerly hosted a real estate and tax controversy reality television show called The Apprentice.\n"
     ]
    },
    {
     "name": "stdin",
     "output_type": "stream",
     "text": [
      "Would you like to ask a related question? Enter Y for yes and N for no. n\n"
     ]
    }
   ],
   "source": [
    "answer_question(\"Who is the president of the US?\")"
   ]
  },
  {
   "cell_type": "code",
   "execution_count": 21,
   "id": "cad4722c-d067-45c7-9362-8ae3717b2ef0",
   "metadata": {
    "tags": []
   },
   "outputs": [
    {
     "name": "stdin",
     "output_type": "stream",
     "text": [
      "What plan does the customer have? Enter BR for braven, MED for medicare, IC for insurance claim form,\n",
      " YA for Young Adult Coverage, AS for Assistant at Surgery, NS for Nutritional Support GEN for general, or ALL for everything.\n",
      " br\n"
     ]
    },
    {
     "name": "stderr",
     "output_type": "stream",
     "text": [
      "Using embedded DuckDB with persistence: data will be stored in: AIProjectDB/vector_db\n"
     ]
    },
    {
     "name": "stdout",
     "output_type": "stream",
     "text": [
      "\n",
      "\n",
      "\u001b[1m> Entering new StuffDocumentsChain chain...\u001b[0m\n",
      "\n",
      "\n",
      "\u001b[1m> Entering new LLMChain chain...\u001b[0m\n",
      "Prompt after formatting:\n",
      "\u001b[32;1m\u001b[1;3mBelow is an instruction that describes a task. Write a response that appropriately completes the request.\n",
      "\n",
      "    Instructions:\n",
      "    You are a customer service representative at a health insurance company and your job is to help providing the best accurate answer to a customer. \n",
      "    1. Limit your response to the information provided in this prompt. Do not conduct refer to external sources.\n",
      "    2. Focus on the infromation rpesented here to form your answer.\n",
      "    3. Do not include personal opinions or assumptions; stick to the facts provided in the prompt.\n",
      "    4. Explain the answer with reference to the provided paragraphs. If the answer is not in the paragraphs, say that you do not know.\n",
      "    5. Write your answer below the prompt.\n",
      "\n",
      "    $40 copayment • $95 copayment for worldwide coverage\n",
      "\n",
      "Urgently Needed Services\n",
      "\n",
      "Copayment waived if admitted to a hospital within 24 hours for the same condition. See the “Inpatient Hospital Coverage” section of this booklet for other costs. Diagnostic Colonoscopy:\n",
      "\n",
      "Diagnostic Services/ Labs/ Imaging1\n",
      "\n",
      "• Out-of-network\n",
      "\n",
      "In-network: $0 copayment\n",
      "\n",
      "o $50 copayment in an office or freestanding facility o $110 copayment in an outpatient hospital\n",
      "\n",
      "Diagnostic Mammogram:\n",
      "\n",
      "• Out-of-network:\n",
      "\n",
      "In-network: $0 copayment\n",
      "\n",
      "o $60 copayment in an office or freestanding facility o $175 copayment in an outpatient hospital\n",
      "\n",
      "Diagnostic radiology services (such as MRIs, CT scans):\n",
      "\n",
      "\n",
      "\n",
      "In-network:\n",
      "\n",
      "o $40 copayment in an office or freestanding facility o $150 copayment in an outpatient hospital\n",
      "\n",
      "Out-of-network:\n",
      "\n",
      "Diagnostic Mammogram:\n",
      "\n",
      "• Out-of-network:\n",
      "\n",
      "In-network: $0 copayment\n",
      "\n",
      "o $60 copayment in an office or freestanding facility o $175 copayment in an outpatient hospital\n",
      "\n",
      "Diagnostic radiology services (such as MRIs, CT scans):\n",
      "\n",
      "\n",
      "\n",
      "In-network:\n",
      "\n",
      "o $40 copayment in an office or freestanding facility o $150 copayment in an outpatient hospital\n",
      "\n",
      "Out-of-network:\n",
      "\n",
      "o $60 copayment in an office or freestanding facility o $175 copayment in an outpatient hospital\n",
      "\n",
      "Lab Services:\n",
      "\n",
      "\n",
      "\n",
      "In-network:\n",
      "\n",
      "o $0 copayment\n",
      "\n",
      "Out-of-network:\n",
      "\n",
      "o $20 copayment at an office o $50 copayment at an outpatient hospital\n",
      "\n",
      "Covered Benefits NOTE: Services with a 1 may require prior authorization. Diagnostic Services/ Labs/ Imaging1\n",
      "\n",
      "Braven Medicare Choice (PPO)\n",
      "\n",
      "Diagnostic tests and procedures:\n",
      "\n",
      "\n",
      "\n",
      "In-network:\n",
      "\n",
      "Important Message About What You Pay for Vaccines – Our plan covers most Part D vaccines at no cost to you even if you haven’t paid your deductible. Call Member Services for more information.\n",
      "\n",
      "Covered Benefits NOTE: Services with a 1 may require prior authorization. Emergency Care\n",
      "\n",
      "Braven Medicare Choice (PPO)\n",
      "\n",
      "$95 copayment (worldwide) Copayment waived if admitted to a hospital within 24 hours for the same condition. See the “Inpatient Hospital Coverage” section of this booklet for other costs.\n",
      "\n",
      "$40 copayment • $95 copayment for worldwide coverage\n",
      "\n",
      "Urgently Needed Services\n",
      "\n",
      "Copayment waived if admitted to a hospital within 24 hours for the same condition. See the “Inpatient Hospital Coverage” section of this booklet for other costs. Diagnostic Colonoscopy:\n",
      "\n",
      "    Question: Will I owe a copay if I get an MRI?\n",
      "\n",
      "    Response:\n",
      "    \u001b[0m\n",
      "\n",
      "\u001b[1m> Finished chain.\u001b[0m\n",
      "\n",
      "\u001b[1m> Finished chain.\u001b[0m\n",
      "KnowledgeBaseDocs/Braven/BravenPPOBenefits (Bergen).pdf\n",
      "Will I owe a copay if I get an MRI?\n",
      "No, you will not owe a copay if you have the appropriate insurance coverage. To check if you have the appropriate insurance coverage, review the coverage provided in the paragraph “In-network:”.\n"
     ]
    },
    {
     "name": "stdin",
     "output_type": "stream",
     "text": [
      "Would you like to ask a related question? Enter Y for yes and N for no. n\n"
     ]
    }
   ],
   "source": [
    "#BRAVEN\n",
    "answer_question(\"Will I owe a copay if I get an MRI?\")"
   ]
  },
  {
   "cell_type": "code",
   "execution_count": 22,
   "id": "9f29a0c3-9e2a-40ad-b254-349edfe58bac",
   "metadata": {
    "tags": []
   },
   "outputs": [
    {
     "name": "stdin",
     "output_type": "stream",
     "text": [
      "What plan does the customer have? Enter BR for braven, MED for medicare, IC for insurance claim form,\n",
      " YA for Young Adult Coverage, AS for Assistant at Surgery, NS for Nutritional Support GEN for general, or ALL for everything.\n",
      " br\n"
     ]
    },
    {
     "name": "stderr",
     "output_type": "stream",
     "text": [
      "Using embedded DuckDB with persistence: data will be stored in: AIProjectDB/vector_db\n"
     ]
    },
    {
     "name": "stdout",
     "output_type": "stream",
     "text": [
      "\n",
      "\n",
      "\u001b[1m> Entering new StuffDocumentsChain chain...\u001b[0m\n",
      "\n",
      "\n",
      "\u001b[1m> Entering new LLMChain chain...\u001b[0m\n",
      "Prompt after formatting:\n",
      "\u001b[32;1m\u001b[1;3mBelow is an instruction that describes a task. Write a response that appropriately completes the request.\n",
      "\n",
      "    Instructions:\n",
      "    You are a customer service representative at a health insurance company and your job is to help providing the best accurate answer to a customer. \n",
      "    1. Limit your response to the information provided in this prompt. Do not conduct refer to external sources.\n",
      "    2. Focus on the infromation rpesented here to form your answer.\n",
      "    3. Do not include personal opinions or assumptions; stick to the facts provided in the prompt.\n",
      "    4. Explain the answer with reference to the provided paragraphs. If the answer is not in the paragraphs, say that you do not know.\n",
      "    5. Write your answer below the prompt.\n",
      "\n",
      "    Physical Therapy1\n",
      "\n",
      "Ambulance1\n",
      "\n",
      "In-network:\n",
      "\n",
      "Ground ambulance (one way): $250 copayment • Air ambulance (one way): $250 copayment\n",
      "\n",
      "Out-of-network:\n",
      "\n",
      "Emergency ground ambulance (one way): $250\n",
      "\n",
      "copayment\n",
      "\n",
      "Emergency air ambulance (one way): $250 copayment • Non-emergency ground/air ambulance (one way): 20%\n",
      "\n",
      "of the cost\n",
      "\n",
      "Non-Medicare covered transportation benefit offered as part of $275 Flex Benefit Allowance. Must use preferred vendor. For Part B drugs such as chemotherapy drugs or other drugs administered by a doctor:\n",
      "\n",
      "Transportation\n",
      "\n",
      "Medicare Part B Drugs1\n",
      "\n",
      "In- and Out-of-network: 20% of the cost • In-network: $0 copayment • Out-of-network: $10 copayment\n",
      "\n",
      "Annual Physical Exam\n",
      "\n",
      "Covered Benefits NOTE: Services with a 1 may require prior authorization. Cardiac Rehab\n",
      "\n",
      "Transportation\n",
      "\n",
      "Medicare Part B Drugs1\n",
      "\n",
      "In- and Out-of-network: 20% of the cost • In-network: $0 copayment • Out-of-network: $10 copayment\n",
      "\n",
      "Annual Physical Exam\n",
      "\n",
      "Covered Benefits NOTE: Services with a 1 may require prior authorization. Cardiac Rehab\n",
      "\n",
      "Braven Medicare Choice (PPO)\n",
      "\n",
      "Cardiac (heart) rehab services (for a maximum of 2 one-hour sessions per day for up to 36 sessions during a 36-week period):\n",
      "\n",
      "In-network: $15 copayment • Out-of-network: $25 copayment\n",
      "\n",
      "Chiropractic Care\n",
      "\n",
      "Manipulation of the spine to correct a subluxation (when 1 or more of the bones of your spine move out of position):\n",
      "\n",
      "In-network: $20 copayment • Out-of-network: $30 copayment\n",
      "\n",
      "Fitness Benefit\n",
      "\n",
      "Our plan covers up to 100 days per benefit period. A new benefit period begins each time you have not been readmitted to a SNF for 60 consecutive days since your last discharge. Each benefit period begins with the Day 1 copayment or coinsurance listed above. There is no annual limit to the number of benefit periods. • In-network: $20 copayment per visit • Out-of-network: $30 copayment per visit\n",
      "\n",
      "Physical Therapy1\n",
      "\n",
      "Ambulance1\n",
      "\n",
      "In-network:\n",
      "\n",
      "Ground ambulance (one way): $250 copayment • Air ambulance (one way): $250 copayment\n",
      "\n",
      "Out-of-network:\n",
      "\n",
      "Emergency ground ambulance (one way): $250\n",
      "\n",
      "copayment\n",
      "\n",
      "Emergency air ambulance (one way): $250 copayment • Non-emergency ground/air ambulance (one way): 20%\n",
      "\n",
      "of the cost\n",
      "\n",
      "    Question: My doctor recommended that I go to physical therapy.  Would that be covered?\n",
      "\n",
      "    Response:\n",
      "    \u001b[0m\n",
      "\n",
      "\u001b[1m> Finished chain.\u001b[0m\n",
      "\n",
      "\u001b[1m> Finished chain.\u001b[0m\n",
      "KnowledgeBaseDocs/Braven/BravenPPOBenefits (Bergen).pdf\n",
      "My doctor recommended that I go to physical therapy.  Would that be covered?\n",
      "Yes, your doctor's recommendation for physical therapy would be covered by your insurance plan. However, there are other considerations which will impact whether the physical therapy is covered. \n",
      "    1.  The physical therapist may require prior authorization. Some physical therapists require authorization for services. This can impact the total cost of the physical therapy.\n",
      "    2.  It is possible that the physical therapy may be out-of-network for some of your medical services. In this case the out-of-network portion of the physical therapy will be covered at the out-of-network rate, which can be more.\n",
      "    3.  You must meet the requirement for the Physical Therapy Benefit that you have not been admitted to the skilled nursing facility (SNF) within the last 60 days for your last discharge. If you do return to the SNF, you will be required to have a 30 day gap period between admissions, so that your out-of-network benefit will be effective for those service dates.\n"
     ]
    },
    {
     "name": "stdin",
     "output_type": "stream",
     "text": [
      "Would you like to ask a related question? Enter Y for yes and N for no. n\n"
     ]
    }
   ],
   "source": [
    "#BRAVEN\n",
    "answer_question(\"My doctor recommended that I go to physical therapy.  Would that be covered?\")"
   ]
  },
  {
   "cell_type": "code",
   "execution_count": 23,
   "id": "5d10a9db-60a4-4099-944e-afdabc0f2718",
   "metadata": {
    "tags": []
   },
   "outputs": [
    {
     "name": "stdin",
     "output_type": "stream",
     "text": [
      "What plan does the customer have? Enter BR for braven, MED for medicare, IC for insurance claim form,\n",
      " YA for Young Adult Coverage, AS for Assistant at Surgery, NS for Nutritional Support GEN for general, or ALL for everything.\n",
      " br\n"
     ]
    },
    {
     "name": "stderr",
     "output_type": "stream",
     "text": [
      "Using embedded DuckDB with persistence: data will be stored in: AIProjectDB/vector_db\n"
     ]
    },
    {
     "name": "stdout",
     "output_type": "stream",
     "text": [
      "\n",
      "\n",
      "\u001b[1m> Entering new StuffDocumentsChain chain...\u001b[0m\n",
      "\n",
      "\n",
      "\u001b[1m> Entering new LLMChain chain...\u001b[0m\n",
      "Prompt after formatting:\n",
      "\u001b[32;1m\u001b[1;3mBelow is an instruction that describes a task. Write a response that appropriately completes the request.\n",
      "\n",
      "    Instructions:\n",
      "    You are a customer service representative at a health insurance company and your job is to help providing the best accurate answer to a customer. \n",
      "    1. Limit your response to the information provided in this prompt. Do not conduct refer to external sources.\n",
      "    2. Focus on the infromation rpesented here to form your answer.\n",
      "    3. Do not include personal opinions or assumptions; stick to the facts provided in the prompt.\n",
      "    4. Explain the answer with reference to the provided paragraphs. If the answer is not in the paragraphs, say that you do not know.\n",
      "    5. Write your answer below the prompt.\n",
      "\n",
      "    $40 copayment • $95 copayment for worldwide coverage\n",
      "\n",
      "Urgently Needed Services\n",
      "\n",
      "Copayment waived if admitted to a hospital within 24 hours for the same condition. See the “Inpatient Hospital Coverage” section of this booklet for other costs. Diagnostic Colonoscopy:\n",
      "\n",
      "Diagnostic Services/ Labs/ Imaging1\n",
      "\n",
      "• Out-of-network\n",
      "\n",
      "In-network: $0 copayment\n",
      "\n",
      "o $50 copayment in an office or freestanding facility o $110 copayment in an outpatient hospital\n",
      "\n",
      "Diagnostic Mammogram:\n",
      "\n",
      "• Out-of-network:\n",
      "\n",
      "In-network: $0 copayment\n",
      "\n",
      "o $60 copayment in an office or freestanding facility o $175 copayment in an outpatient hospital\n",
      "\n",
      "Diagnostic radiology services (such as MRIs, CT scans):\n",
      "\n",
      "\n",
      "\n",
      "In-network:\n",
      "\n",
      "o $40 copayment in an office or freestanding facility o $150 copayment in an outpatient hospital\n",
      "\n",
      "Out-of-network:\n",
      "\n",
      "Lab Services:\n",
      "\n",
      "\n",
      "\n",
      "In-network:\n",
      "\n",
      "o $0 copayment\n",
      "\n",
      "Out-of-network:\n",
      "\n",
      "o $20 copayment at an office o $50 copayment at an outpatient hospital\n",
      "\n",
      "Covered Benefits NOTE: Services with a 1 may require prior authorization. Diagnostic Services/ Labs/ Imaging1\n",
      "\n",
      "Braven Medicare Choice (PPO)\n",
      "\n",
      "Diagnostic tests and procedures:\n",
      "\n",
      "\n",
      "\n",
      "In-network:\n",
      "\n",
      "o $0 copayment at an office o $30 copayment at a freestanding facility o $50 copayment at an outpatient hospital\n",
      "\n",
      "Out-of-network:\n",
      "\n",
      "o $50 copayment at an office o $110 copayment at an outpatient hospital\n",
      "\n",
      "Therapeutic Radiology:\n",
      "\n",
      "X-Rays: •\n",
      "\n",
      "In- and out-of-network: 20% of the cost\n",
      "\n",
      "In-network:\n",
      "\n",
      "o $0 copayment at an office o $25 copayment at all other places of service\n",
      "\n",
      "Out-of-network: $40 copayment\n",
      "\n",
      "Hearing Services (continued on next page)\n",
      "\n",
      "Braven Medicare Choice (PPO)\n",
      "\n",
      "hospital stay. In- and Out-of-network:\n",
      "\n",
      "$335 copayment per day for days 1 through 5 • $0 copayment for days 6 and beyond\n",
      "\n",
      "Outpatient Hospital and Observation Coverage1\n",
      "\n",
      "In-network:\n",
      "\n",
      "$295 copayment\n",
      "\n",
      "Out-of-network:\n",
      "\n",
      "$395 copayment • In-network: $250 copayment • Out-of-network: $350 copayment\n",
      "\n",
      "Ambulatory Surgical Center1\n",
      "\n",
      "Doctor Visits1\n",
      "\n",
      "Primary Care Physician:\n",
      "\n",
      "In-network: $0 copayment • Out-of-network: $10 copayment\n",
      "\n",
      "Specialists: • In-network: $20 copayment • Out-of-network: $30 copayment\n",
      "\n",
      "Covered Benefits NOTE: Services with a 1 may require prior authorization. Preventive Care\n",
      "\n",
      "Braven Medicare Choice (PPO)\n",
      "\n",
      "In-network: $0 copayment • Out-of-network: $10 copayment\n",
      "\n",
      "Our plan covers many preventive services, including:\n",
      "\n",
      "    Question: I am having surgery performed at a surgical center.  How much will I have to pay?\n",
      "\n",
      "    Response:\n",
      "    \u001b[0m\n",
      "\n",
      "\u001b[1m> Finished chain.\u001b[0m\n",
      "\n",
      "\u001b[1m> Finished chain.\u001b[0m\n",
      "KnowledgeBaseDocs/Braven/BravenPPOBenefits (Bergen).pdf\n",
      "I am having surgery performed at a surgical center.  How much will I have to pay?\n",
      "Your plan will cover the cost of all preventive services covered by your plan at the same dollar amount: $10 per preventive service.\n"
     ]
    },
    {
     "name": "stdin",
     "output_type": "stream",
     "text": [
      "Would you like to ask a related question? Enter Y for yes and N for no. n\n"
     ]
    }
   ],
   "source": [
    "#BRAVEN\n",
    "answer_question(\"I am having surgery performed at a surgical center.  How much will I have to pay?\")"
   ]
  },
  {
   "cell_type": "code",
   "execution_count": 24,
   "id": "cbad981e-eaa5-412d-9d11-4dfadc363847",
   "metadata": {
    "tags": []
   },
   "outputs": [
    {
     "name": "stdin",
     "output_type": "stream",
     "text": [
      "What plan does the customer have? Enter BR for braven, MED for medicare, IC for insurance claim form,\n",
      " YA for Young Adult Coverage, AS for Assistant at Surgery, NS for Nutritional Support GEN for general, or ALL for everything.\n",
      " br\n"
     ]
    },
    {
     "name": "stderr",
     "output_type": "stream",
     "text": [
      "Using embedded DuckDB with persistence: data will be stored in: AIProjectDB/vector_db\n"
     ]
    },
    {
     "name": "stdout",
     "output_type": "stream",
     "text": [
      "\n",
      "\n",
      "\u001b[1m> Entering new StuffDocumentsChain chain...\u001b[0m\n",
      "\n",
      "\n",
      "\u001b[1m> Entering new LLMChain chain...\u001b[0m\n",
      "Prompt after formatting:\n",
      "\u001b[32;1m\u001b[1;3mBelow is an instruction that describes a task. Write a response that appropriately completes the request.\n",
      "\n",
      "    Instructions:\n",
      "    You are a customer service representative at a health insurance company and your job is to help providing the best accurate answer to a customer. \n",
      "    1. Limit your response to the information provided in this prompt. Do not conduct refer to external sources.\n",
      "    2. Focus on the infromation rpesented here to form your answer.\n",
      "    3. Do not include personal opinions or assumptions; stick to the facts provided in the prompt.\n",
      "    4. Explain the answer with reference to the provided paragraphs. If the answer is not in the paragraphs, say that you do not know.\n",
      "    5. Write your answer below the prompt.\n",
      "\n",
      "    $40 copayment • $95 copayment for worldwide coverage\n",
      "\n",
      "Urgently Needed Services\n",
      "\n",
      "Copayment waived if admitted to a hospital within 24 hours for the same condition. See the “Inpatient Hospital Coverage” section of this booklet for other costs. Diagnostic Colonoscopy:\n",
      "\n",
      "Diagnostic Services/ Labs/ Imaging1\n",
      "\n",
      "• Out-of-network\n",
      "\n",
      "In-network: $0 copayment\n",
      "\n",
      "o $50 copayment in an office or freestanding facility o $110 copayment in an outpatient hospital\n",
      "\n",
      "Diagnostic Mammogram:\n",
      "\n",
      "• Out-of-network:\n",
      "\n",
      "In-network: $0 copayment\n",
      "\n",
      "o $60 copayment in an office or freestanding facility o $175 copayment in an outpatient hospital\n",
      "\n",
      "Diagnostic radiology services (such as MRIs, CT scans):\n",
      "\n",
      "\n",
      "\n",
      "In-network:\n",
      "\n",
      "o $40 copayment in an office or freestanding facility o $150 copayment in an outpatient hospital\n",
      "\n",
      "Out-of-network:\n",
      "\n",
      "Diagnostic Mammogram:\n",
      "\n",
      "• Out-of-network:\n",
      "\n",
      "In-network: $0 copayment\n",
      "\n",
      "o $60 copayment in an office or freestanding facility o $175 copayment in an outpatient hospital\n",
      "\n",
      "Diagnostic radiology services (such as MRIs, CT scans):\n",
      "\n",
      "\n",
      "\n",
      "In-network:\n",
      "\n",
      "o $40 copayment in an office or freestanding facility o $150 copayment in an outpatient hospital\n",
      "\n",
      "Out-of-network:\n",
      "\n",
      "o $60 copayment in an office or freestanding facility o $175 copayment in an outpatient hospital\n",
      "\n",
      "Lab Services:\n",
      "\n",
      "\n",
      "\n",
      "In-network:\n",
      "\n",
      "o $0 copayment\n",
      "\n",
      "Out-of-network:\n",
      "\n",
      "o $20 copayment at an office o $50 copayment at an outpatient hospital\n",
      "\n",
      "Covered Benefits NOTE: Services with a 1 may require prior authorization. Diagnostic Services/ Labs/ Imaging1\n",
      "\n",
      "Braven Medicare Choice (PPO)\n",
      "\n",
      "Diagnostic tests and procedures:\n",
      "\n",
      "\n",
      "\n",
      "In-network:\n",
      "\n",
      "If you reach the limit on out-of-pocket costs, you keep getting covered hospital and medical services and we will pay for the rest of the year. Our plan also has a benefit-specific coverage limit for select benefits. For coverage limit details, see Chapter 4, Medical Benefits Chart (what is covered and what you pay), in your 2023 Evidence of Coverage.\n",
      "\n",
      "Covered Benefits NOTE: Services with a 1 may require prior authorization. Inpatient Hospital Coverage1 Our plan covers an unlimited number of days for an inpatient\n",
      "\n",
      "Braven Medicare Choice (PPO)\n",
      "\n",
      "hospital stay. In- and Out-of-network:\n",
      "\n",
      "$335 copayment per day for days 1 through 5 • $0 copayment for days 6 and beyond\n",
      "\n",
      "Outpatient Hospital and Observation Coverage1\n",
      "\n",
      "In-network:\n",
      "\n",
      "$295 copayment\n",
      "\n",
      "Out-of-network:\n",
      "\n",
      "    Question: I am traveling out of the country and would like to know if I have coverage worldwide.\n",
      "\n",
      "    Response:\n",
      "    \u001b[0m\n",
      "\n",
      "\u001b[1m> Finished chain.\u001b[0m\n",
      "\n",
      "\u001b[1m> Finished chain.\u001b[0m\n",
      "KnowledgeBaseDocs/Braven/BravenPPOBenefits (Bergen).pdf\n",
      "I am traveling out of the country and would like to know if I have coverage worldwide.\n",
      "Yes, you have coverage worldwide.\n"
     ]
    },
    {
     "name": "stdin",
     "output_type": "stream",
     "text": [
      "Would you like to ask a related question? Enter Y for yes and N for no. n\n"
     ]
    }
   ],
   "source": [
    "#BRAVEN\n",
    "answer_question(\"I am traveling out of the country and would like to know if I have coverage worldwide.\")"
   ]
  },
  {
   "cell_type": "code",
   "execution_count": 25,
   "id": "a0fdb80b-4b63-44ba-ae87-45d6ee107403",
   "metadata": {
    "tags": []
   },
   "outputs": [
    {
     "name": "stdin",
     "output_type": "stream",
     "text": [
      "What plan does the customer have? Enter BR for braven, MED for medicare, IC for insurance claim form,\n",
      " YA for Young Adult Coverage, AS for Assistant at Surgery, NS for Nutritional Support GEN for general, or ALL for everything.\n",
      " br\n"
     ]
    },
    {
     "name": "stderr",
     "output_type": "stream",
     "text": [
      "Using embedded DuckDB with persistence: data will be stored in: AIProjectDB/vector_db\n"
     ]
    },
    {
     "name": "stdout",
     "output_type": "stream",
     "text": [
      "\n",
      "\n",
      "\u001b[1m> Entering new StuffDocumentsChain chain...\u001b[0m\n",
      "\n",
      "\n",
      "\u001b[1m> Entering new LLMChain chain...\u001b[0m\n",
      "Prompt after formatting:\n",
      "\u001b[32;1m\u001b[1;3mBelow is an instruction that describes a task. Write a response that appropriately completes the request.\n",
      "\n",
      "    Instructions:\n",
      "    You are a customer service representative at a health insurance company and your job is to help providing the best accurate answer to a customer. \n",
      "    1. Limit your response to the information provided in this prompt. Do not conduct refer to external sources.\n",
      "    2. Focus on the infromation rpesented here to form your answer.\n",
      "    3. Do not include personal opinions or assumptions; stick to the facts provided in the prompt.\n",
      "    4. Explain the answer with reference to the provided paragraphs. If the answer is not in the paragraphs, say that you do not know.\n",
      "    5. Write your answer below the prompt.\n",
      "\n",
      "    Our plan covers up to 190 days in a lifetime for inpatient\n",
      "\n",
      "mental health care in a psychiatric hospital. Outpatient individual or group therapy office visit:\n",
      "\n",
      "In-network: $40 copayment • Out-of-network: $50 copayment\n",
      "\n",
      "Skilled Nursing Facility (SNF)1\n",
      "\n",
      "In-network:\n",
      "\n",
      "$0 copayment for days 1 through 20 • $196 copayment for days 21 through 100\n",
      "\n",
      "Out-of-network:\n",
      "\n",
      "20% of the cost per stay\n",
      "\n",
      "Our plan covers up to 100 days per benefit period. A new benefit period begins each time you have not been readmitted to a SNF for 60 consecutive days since your last discharge. Each benefit period begins with the Day 1 copayment or coinsurance listed above. There is no annual limit to the number of benefit periods. • In-network: $20 copayment per visit • Out-of-network: $30 copayment per visit\n",
      "\n",
      "Braven Medicare Choice (PPO)\n",
      "\n",
      "Inpatient: •\n",
      "\n",
      "In- and Out-of-network:\n",
      "\n",
      "o $374 copayment per day for days 1 through 5 o $0 copayment for days 6 through 90\n",
      "\n",
      "Our plan covers up to 190 days in a lifetime for inpatient\n",
      "\n",
      "mental health care in a psychiatric hospital. Outpatient individual or group therapy office visit:\n",
      "\n",
      "In-network: $40 copayment • Out-of-network: $50 copayment\n",
      "\n",
      "Skilled Nursing Facility (SNF)1\n",
      "\n",
      "In-network:\n",
      "\n",
      "$0 copayment for days 1 through 20 • $196 copayment for days 21 through 100\n",
      "\n",
      "Out-of-network:\n",
      "\n",
      "20% of the cost per stay\n",
      "\n",
      "Outpatient Rehabilitation1\n",
      "\n",
      "In-network: $20 copayment • Out-of-network: $30 copayment Speech and language therapy office visit • In-network: $20 copayment • Out-of-network: $30 copayment • • Out-of-network: $50 copayment for individual or group\n",
      "\n",
      "Outpatient Substance Use 1\n",
      "\n",
      "In-network: $40 copayment for individual or group sessions\n",
      "\n",
      "sessions\n",
      "\n",
      "Over-the-Counter (OTC) Allowance\n",
      "\n",
      "Our plan provides a $70 allowance every quarter (up to $280 annually) toward the purchase of personal health items from our participating retailers. The quarterly allowance does not carry over from quarter to quarter. Funds will be available on the Braven Health+ Smart Card.\n",
      "\n",
      "    Question: Would I owe a copayment for outpatient mental health services?\n",
      "\n",
      "    Response:\n",
      "    \u001b[0m\n",
      "\n",
      "\u001b[1m> Finished chain.\u001b[0m\n",
      "\n",
      "\u001b[1m> Finished chain.\u001b[0m\n",
      "KnowledgeBaseDocs/Braven/BravenPPOBenefits (Bergen).pdf\n",
      "Would I owe a copayment for outpatient mental health services?\n",
      "Yes, you would owe a copayment for outpatient mental health services. Out-of-pocket copayments for mental health outpatient services can vary between $30 and $60 depending on the plan, your age, and other factors. You may be eligible for a financial hardship waiver if your expenses exceed 10% of your household income. In that case, you would not have to pay out-of-pocket for mental health services. For more information, please refer to the website of your health insurance plan.\n"
     ]
    },
    {
     "name": "stdin",
     "output_type": "stream",
     "text": [
      "Would you like to ask a related question? Enter Y for yes and N for no. n\n"
     ]
    }
   ],
   "source": [
    "#BRAVEN\n",
    "answer_question(\"Would I owe a copayment for outpatient mental health services?\")"
   ]
  },
  {
   "cell_type": "code",
   "execution_count": 26,
   "id": "5150337a-1c9d-4c00-b2dd-23f0f217adea",
   "metadata": {
    "tags": []
   },
   "outputs": [
    {
     "name": "stdin",
     "output_type": "stream",
     "text": [
      "What plan does the customer have? Enter BR for braven, MED for medicare, IC for insurance claim form,\n",
      " YA for Young Adult Coverage, AS for Assistant at Surgery, NS for Nutritional Support GEN for general, or ALL for everything.\n",
      " br\n"
     ]
    },
    {
     "name": "stderr",
     "output_type": "stream",
     "text": [
      "Using embedded DuckDB with persistence: data will be stored in: AIProjectDB/vector_db\n",
      "/home/ec2-user/anaconda3/envs/python3/lib/python3.10/site-packages/transformers/pipelines/base.py:1080: UserWarning: You seem to be using the pipelines sequentially on GPU. In order to maximize efficiency please use a dataset\n",
      "  warnings.warn(\n"
     ]
    },
    {
     "name": "stdout",
     "output_type": "stream",
     "text": [
      "\n",
      "\n",
      "\u001b[1m> Entering new StuffDocumentsChain chain...\u001b[0m\n",
      "\n",
      "\n",
      "\u001b[1m> Entering new LLMChain chain...\u001b[0m\n",
      "Prompt after formatting:\n",
      "\u001b[32;1m\u001b[1;3mBelow is an instruction that describes a task. Write a response that appropriately completes the request.\n",
      "\n",
      "    Instructions:\n",
      "    You are a customer service representative at a health insurance company and your job is to help providing the best accurate answer to a customer. \n",
      "    1. Limit your response to the information provided in this prompt. Do not conduct refer to external sources.\n",
      "    2. Focus on the infromation rpesented here to form your answer.\n",
      "    3. Do not include personal opinions or assumptions; stick to the facts provided in the prompt.\n",
      "    4. Explain the answer with reference to the provided paragraphs. If the answer is not in the paragraphs, say that you do not know.\n",
      "    5. Write your answer below the prompt.\n",
      "\n",
      "    Network providers and pharmacies\n",
      "\n",
      "Braven Medicare Choice (PPO) has a network of doctors, hospitals, pharmacies and other providers. If you use the providers in our network, you may pay less for your covered services. But if you want to, you can also use providers that are not in our network. You can search for a network provider online at doctorfinder.bravenhealth.com.\n",
      "\n",
      "You must generally use network pharmacies to fill your prescriptions for covered Part D Drugs. You can search for a network pharmacy online at bravenhealth.com/find-network-pharmacies.\n",
      "\n",
      "You can always call us and we will send you a copy of the provider directory and pharmacy directories.\n",
      "\n",
      "Primary Care Physician:\n",
      "\n",
      "In-network: $0 copayment • Out-of-network: $10 copayment\n",
      "\n",
      "Specialists: • In-network: $20 copayment • Out-of-network: $30 copayment\n",
      "\n",
      "Covered Benefits NOTE: Services with a 1 may require prior authorization. Preventive Care\n",
      "\n",
      "Braven Medicare Choice (PPO)\n",
      "\n",
      "In-network: $0 copayment • Out-of-network: $10 copayment\n",
      "\n",
      "Our plan covers many preventive services, including:\n",
      "\n",
      "Abdominal aortic aneurysm screening • Alcohol misuse screening and counseling • Annual wellness visit • Bone mass measurement • Breast cancer screening (mammogram) • Cardiovascular disease Intensive Behavioral Therapy (IBT) • Cardiovascular disease screenings • Cervical and vaginal cancer screening • Colorectal cancer screenings (colonoscopy, fecal occult\n",
      "\n",
      "blood test, flexible sigmoidoscopy)\n",
      "\n",
      "About our plan\n",
      "\n",
      "Braven Medicare Choice (PPO) is a Medicare Advantage PPO plan with a Medicare contract.\n",
      "\n",
      "To join this plan, you must be entitled to Medicare Part A, be enrolled in Medicare Part B and live in one of the following counties: Bergen, Essex, Hudson, Middlesex, Monmouth, Ocean, Passaic or Union county.\n",
      "\n",
      "Visit BravenHealth.com for more information.\n",
      "\n",
      "Network providers and pharmacies\n",
      "\n",
      "Braven Medicare Choice (PPO) has a network of doctors, hospitals, pharmacies and other providers. If you use the providers in our network, you may pay less for your covered services. But if you want to, you can also use providers that are not in our network. You can search for a network provider online at doctorfinder.bravenhealth.com.\n",
      "\n",
      "    Question: How do I find doctors that are in-network with my plan?\n",
      "\n",
      "    Response:\n",
      "    \u001b[0m\n",
      "\n",
      "\u001b[1m> Finished chain.\u001b[0m\n",
      "\n",
      "\u001b[1m> Finished chain.\u001b[0m\n",
      "KnowledgeBaseDocs/Braven/BravenPPOBenefits (Bergen).pdf\n",
      "How do I find doctors that are in-network with my plan?\n",
      "To find out if a doctor is in-network with your plan, you can call the network provider's office or go to bravenhealth.com. Once you find the provider, you can call customer service at the health insurance company to find out if the provider is in-network or out-of-network.\n"
     ]
    },
    {
     "name": "stdin",
     "output_type": "stream",
     "text": [
      "Would you like to ask a related question? Enter Y for yes and N for no. n\n"
     ]
    }
   ],
   "source": [
    "#BRAVEN\n",
    "answer_question(\"How do I find doctors that are in-network with my plan?\")"
   ]
  },
  {
   "cell_type": "code",
   "execution_count": 27,
   "id": "1916fb94-daec-45fa-8f3a-231dcc896bdf",
   "metadata": {
    "tags": []
   },
   "outputs": [
    {
     "name": "stdin",
     "output_type": "stream",
     "text": [
      "What plan does the customer have? Enter BR for braven, MED for medicare, IC for insurance claim form,\n",
      " YA for Young Adult Coverage, AS for Assistant at Surgery, NS for Nutritional Support GEN for general, or ALL for everything.\n",
      " br\n"
     ]
    },
    {
     "name": "stderr",
     "output_type": "stream",
     "text": [
      "Using embedded DuckDB with persistence: data will be stored in: AIProjectDB/vector_db\n"
     ]
    },
    {
     "name": "stdout",
     "output_type": "stream",
     "text": [
      "\n",
      "\n",
      "\u001b[1m> Entering new StuffDocumentsChain chain...\u001b[0m\n",
      "\n",
      "\n",
      "\u001b[1m> Entering new LLMChain chain...\u001b[0m\n",
      "Prompt after formatting:\n",
      "\u001b[32;1m\u001b[1;3mBelow is an instruction that describes a task. Write a response that appropriately completes the request.\n",
      "\n",
      "    Instructions:\n",
      "    You are a customer service representative at a health insurance company and your job is to help providing the best accurate answer to a customer. \n",
      "    1. Limit your response to the information provided in this prompt. Do not conduct refer to external sources.\n",
      "    2. Focus on the infromation rpesented here to form your answer.\n",
      "    3. Do not include personal opinions or assumptions; stick to the facts provided in the prompt.\n",
      "    4. Explain the answer with reference to the provided paragraphs. If the answer is not in the paragraphs, say that you do not know.\n",
      "    5. Write your answer below the prompt.\n",
      "\n",
      "    Out-of-network/non-contracted providers are under no obligation to treat plan members, except in emergency situations. Please call our customer service number or see your Evidence of Coverage for more information, including the cost-sharing that applies to out-of-network services. Braven Health has a Medicare contract to offer HMO and PPO Medicare Advantage and Medicare Advantage with Prescription Drug plans. Enrollment in Braven Health’s products depends on contract renewal. Products are provided by Braven Health, an independent licensee of the Blue Cross Blue Shield Association. The Blue Cross® and Blue Shield® names and symbols are registered marks of the Blue Cross Blue Shield Association. Braven HealthSM name and symbols are service marks of Braven Health. © 2023 Braven Health, Three\n",
      "\n",
      "Network providers and pharmacies\n",
      "\n",
      "Braven Medicare Choice (PPO) has a network of doctors, hospitals, pharmacies and other providers. If you use the providers in our network, you may pay less for your covered services. But if you want to, you can also use providers that are not in our network. You can search for a network provider online at doctorfinder.bravenhealth.com.\n",
      "\n",
      "You must generally use network pharmacies to fill your prescriptions for covered Part D Drugs. You can search for a network pharmacy online at bravenhealth.com/find-network-pharmacies.\n",
      "\n",
      "You can always call us and we will send you a copy of the provider directory and pharmacy directories.\n",
      "\n",
      "Out-of-network/non-contracted providers are under no obligation to treat plan members, except in emergency situations. Please call our customer service number or see your Evidence of Coverage for more information, including the cost-sharing that applies to out-of-network services. Braven Health has a Medicare contract to offer HMO and PPO Medicare Advantage and Medicare Advantage with Prescription Drug plans, including group Medicare Advantage and group Medicare Advantage with Prescription Drug plans. Enrollment in Braven Health’s products depends on contract renewal. Products are provided by Braven Health, an independent licensee of the Blue Cross Blue Shield Association. The Blue Cross® and Blue Shield® names and symbols are registered marks of the Blue Cross Blue Shield Association.\n",
      "\n",
      "    Question: Can I go to an out-of-network provider?\n",
      "\n",
      "    Response:\n",
      "    \u001b[0m\n",
      "\n",
      "\u001b[1m> Finished chain.\u001b[0m\n",
      "\n",
      "\u001b[1m> Finished chain.\u001b[0m\n",
      "KnowledgeBaseDocs/Braven/BravenPPOBenefits (Bergen).pdf\n",
      "Can I go to an out-of-network provider?\n",
      "Out-of-network providers are not obligated to treat plan members except in emergency situations. If you need to see a provider immediately, you should call our customer service number. They can help you find an out-of-network provider.\n"
     ]
    },
    {
     "name": "stdin",
     "output_type": "stream",
     "text": [
      "Would you like to ask a related question? Enter Y for yes and N for no. n\n"
     ]
    }
   ],
   "source": [
    "#BRAVEN\n",
    "answer_question(\"Can I go to an out-of-network provider?\")"
   ]
  },
  {
   "cell_type": "code",
   "execution_count": 28,
   "id": "8611261b-156c-448f-be65-03a8922c9843",
   "metadata": {
    "tags": []
   },
   "outputs": [
    {
     "name": "stdin",
     "output_type": "stream",
     "text": [
      "What plan does the customer have? Enter BR for braven, MED for medicare, IC for insurance claim form,\n",
      " YA for Young Adult Coverage, AS for Assistant at Surgery, NS for Nutritional Support GEN for general, or ALL for everything.\n",
      " br\n"
     ]
    },
    {
     "name": "stderr",
     "output_type": "stream",
     "text": [
      "Using embedded DuckDB with persistence: data will be stored in: AIProjectDB/vector_db\n"
     ]
    },
    {
     "name": "stdout",
     "output_type": "stream",
     "text": [
      "\n",
      "\n",
      "\u001b[1m> Entering new StuffDocumentsChain chain...\u001b[0m\n",
      "\n",
      "\n",
      "\u001b[1m> Entering new LLMChain chain...\u001b[0m\n",
      "Prompt after formatting:\n",
      "\u001b[32;1m\u001b[1;3mBelow is an instruction that describes a task. Write a response that appropriately completes the request.\n",
      "\n",
      "    Instructions:\n",
      "    You are a customer service representative at a health insurance company and your job is to help providing the best accurate answer to a customer. \n",
      "    1. Limit your response to the information provided in this prompt. Do not conduct refer to external sources.\n",
      "    2. Focus on the infromation rpesented here to form your answer.\n",
      "    3. Do not include personal opinions or assumptions; stick to the facts provided in the prompt.\n",
      "    4. Explain the answer with reference to the provided paragraphs. If the answer is not in the paragraphs, say that you do not know.\n",
      "    5. Write your answer below the prompt.\n",
      "\n",
      "    Important Message About What You Pay for Vaccines – Our plan covers most Part D vaccines at no cost to you even if you haven’t paid your deductible. Call Member Services for more information.\n",
      "\n",
      "Covered Benefits NOTE: Services with a 1 may require prior authorization. Emergency Care\n",
      "\n",
      "Braven Medicare Choice (PPO)\n",
      "\n",
      "$95 copayment (worldwide) Copayment waived if admitted to a hospital within 24 hours for the same condition. See the “Inpatient Hospital Coverage” section of this booklet for other costs.\n",
      "\n",
      "$40 copayment • $95 copayment for worldwide coverage\n",
      "\n",
      "Urgently Needed Services\n",
      "\n",
      "Copayment waived if admitted to a hospital within 24 hours for the same condition. See the “Inpatient Hospital Coverage” section of this booklet for other costs. Diagnostic Colonoscopy:\n",
      "\n",
      "Premiums and Benefits Monthly Plan Premium\n",
      "\n",
      "Braven Medicare Choice (PPO)\n",
      "\n",
      "$0 per month In addition, you must keep paying your Medicare Part B premium. $0 per year\n",
      "\n",
      "Annual Medical Deductible Maximum Out-of-Pocket Responsibility (does not include prescription drugs)\n",
      "\n",
      "$6,700 per year for services you receive from in-network\n",
      "\n",
      "providers.\n",
      "\n",
      "$10,000 per year for services you receive from in- network and out-of-network providers combined.\n",
      "\n",
      "If you reach the limit on out-of-pocket costs, you keep getting covered hospital and medical services and we will pay for the rest of the year. Our plan also has a benefit-specific coverage limit for select benefits. For coverage limit details, see Chapter 4, Medical Benefits Chart (what is covered and what you pay), in your 2023 Evidence of Coverage.\n",
      "\n",
      "(counseling for people with no sign of tobacco-related disease)\n",
      "\n",
      "Vaccines, including Pneumonia, Flu shots, Hepatitis B,\n",
      "\n",
      "COVID-19 and other vaccines\n",
      "\n",
      "“Welcome to Medicare” preventive visit (one-time)\n",
      "\n",
      "Any additional preventive services approved by Medicare during the contract year will be covered. Flu shot, Hepatitis B, Pneumonia, and COVID-19 vaccines are $0 copayment in-and out-of-network.\n",
      "\n",
      "Important Message About What You Pay for Vaccines – Our plan covers most Part D vaccines at no cost to you even if you haven’t paid your deductible. Call Member Services for more information.\n",
      "\n",
      "Covered Benefits NOTE: Services with a 1 may require prior authorization. Emergency Care\n",
      "\n",
      "Braven Medicare Choice (PPO)\n",
      "\n",
      "    Question: Do I have to pay a deductible when using this medical plan?\n",
      "\n",
      "    Response:\n",
      "    \u001b[0m\n",
      "\n",
      "\u001b[1m> Finished chain.\u001b[0m\n",
      "\n",
      "\u001b[1m> Finished chain.\u001b[0m\n",
      "KnowledgeBaseDocs/Braven/BravenPPOBenefits (Bergen).pdf\n",
      "Do I have to pay a deductible when using this medical plan?\n",
      "No, you do not have to pay a deductible when using this medical plan.\n"
     ]
    },
    {
     "name": "stdin",
     "output_type": "stream",
     "text": [
      "Would you like to ask a related question? Enter Y for yes and N for no. n\n"
     ]
    }
   ],
   "source": [
    "#BRAVEN\n",
    "answer_question(\"Do I have to pay a deductible when using this medical plan?\")"
   ]
  },
  {
   "cell_type": "code",
   "execution_count": 29,
   "id": "1bd74342-d650-4f8a-a444-ebafe41e5385",
   "metadata": {
    "tags": []
   },
   "outputs": [
    {
     "name": "stdin",
     "output_type": "stream",
     "text": [
      "What plan does the customer have? Enter BR for braven, MED for medicare, IC for insurance claim form,\n",
      " YA for Young Adult Coverage, AS for Assistant at Surgery, NS for Nutritional Support GEN for general, or ALL for everything.\n",
      " br\n"
     ]
    },
    {
     "name": "stderr",
     "output_type": "stream",
     "text": [
      "Using embedded DuckDB with persistence: data will be stored in: AIProjectDB/vector_db\n"
     ]
    },
    {
     "name": "stdout",
     "output_type": "stream",
     "text": [
      "\n",
      "\n",
      "\u001b[1m> Entering new StuffDocumentsChain chain...\u001b[0m\n",
      "\n",
      "\n",
      "\u001b[1m> Entering new LLMChain chain...\u001b[0m\n",
      "Prompt after formatting:\n",
      "\u001b[32;1m\u001b[1;3mBelow is an instruction that describes a task. Write a response that appropriately completes the request.\n",
      "\n",
      "    Instructions:\n",
      "    You are a customer service representative at a health insurance company and your job is to help providing the best accurate answer to a customer. \n",
      "    1. Limit your response to the information provided in this prompt. Do not conduct refer to external sources.\n",
      "    2. Focus on the infromation rpesented here to form your answer.\n",
      "    3. Do not include personal opinions or assumptions; stick to the facts provided in the prompt.\n",
      "    4. Explain the answer with reference to the provided paragraphs. If the answer is not in the paragraphs, say that you do not know.\n",
      "    5. Write your answer below the prompt.\n",
      "\n",
      "    $40 copayment • $95 copayment for worldwide coverage\n",
      "\n",
      "Urgently Needed Services\n",
      "\n",
      "Copayment waived if admitted to a hospital within 24 hours for the same condition. See the “Inpatient Hospital Coverage” section of this booklet for other costs. Diagnostic Colonoscopy:\n",
      "\n",
      "Diagnostic Services/ Labs/ Imaging1\n",
      "\n",
      "• Out-of-network\n",
      "\n",
      "In-network: $0 copayment\n",
      "\n",
      "o $50 copayment in an office or freestanding facility o $110 copayment in an outpatient hospital\n",
      "\n",
      "Diagnostic Mammogram:\n",
      "\n",
      "• Out-of-network:\n",
      "\n",
      "In-network: $0 copayment\n",
      "\n",
      "o $60 copayment in an office or freestanding facility o $175 copayment in an outpatient hospital\n",
      "\n",
      "Diagnostic radiology services (such as MRIs, CT scans):\n",
      "\n",
      "\n",
      "\n",
      "In-network:\n",
      "\n",
      "o $40 copayment in an office or freestanding facility o $150 copayment in an outpatient hospital\n",
      "\n",
      "Out-of-network:\n",
      "\n",
      "Physical Therapy1\n",
      "\n",
      "Ambulance1\n",
      "\n",
      "In-network:\n",
      "\n",
      "Ground ambulance (one way): $250 copayment • Air ambulance (one way): $250 copayment\n",
      "\n",
      "Out-of-network:\n",
      "\n",
      "Emergency ground ambulance (one way): $250\n",
      "\n",
      "copayment\n",
      "\n",
      "Emergency air ambulance (one way): $250 copayment • Non-emergency ground/air ambulance (one way): 20%\n",
      "\n",
      "of the cost\n",
      "\n",
      "Non-Medicare covered transportation benefit offered as part of $275 Flex Benefit Allowance. Must use preferred vendor. For Part B drugs such as chemotherapy drugs or other drugs administered by a doctor:\n",
      "\n",
      "Transportation\n",
      "\n",
      "Medicare Part B Drugs1\n",
      "\n",
      "In- and Out-of-network: 20% of the cost • In-network: $0 copayment • Out-of-network: $10 copayment\n",
      "\n",
      "Annual Physical Exam\n",
      "\n",
      "Covered Benefits NOTE: Services with a 1 may require prior authorization. Cardiac Rehab\n",
      "\n",
      "In- and Out-of-network: 20% of the cost\n",
      "\n",
      "Routine eye exam (1 every year): • In-network: $0 copayment • Out-of-network: $30 copayment\n",
      "\n",
      "Vision Services\n",
      "\n",
      "Eyeglasses or contact lenses after cataract surgery\n",
      "\n",
      "\n",
      "\n",
      "In- and Out-of-network: $0 copayment\n",
      "\n",
      "Glaucoma screening:\n",
      "\n",
      "In-network: $0 copayment • Out-of-network: $10 copayment\n",
      "\n",
      "Exam to diagnose and treat diseases and conditions of the eye:\n",
      "\n",
      "In-network: $20 copayment • Out-of-network: $30 copayment\n",
      "\n",
      "Diabetic retinal exam:\n",
      "\n",
      "In-network: $0 copayment • Out-of-network: $30 copayment\n",
      "\n",
      "Our plan covers up to $200 every two years for eyeglasses or contact lenses not associated with cataract surgery. Available in- or out-of-network. Funds will be available on the Braven Health+ Smart Card. Member is responsible for payment beyond $200 coverage limit.\n",
      "\n",
      "    Question: I have to go for my annual physical exam.  How much will I have to pay for the visit?\n",
      "\n",
      "    Response:\n",
      "    \u001b[0m\n",
      "\n",
      "\u001b[1m> Finished chain.\u001b[0m\n",
      "\n",
      "\u001b[1m> Finished chain.\u001b[0m\n",
      "KnowledgeBaseDocs/Braven/BravenPPOBenefits (Bergen).pdf\n",
      "I have to go for my annual physical exam.  How much will I have to pay for the visit?\n",
      "$95 for worldwide coverage\n"
     ]
    },
    {
     "name": "stdin",
     "output_type": "stream",
     "text": [
      "Would you like to ask a related question? Enter Y for yes and N for no. n\n"
     ]
    }
   ],
   "source": [
    "#BRAVEN\n",
    "answer_question(\"I have to go for my annual physical exam.  How much will I have to pay for the visit?\")"
   ]
  },
  {
   "cell_type": "code",
   "execution_count": 30,
   "id": "eb494be0-3583-4944-8c30-c4c64eb94a0b",
   "metadata": {
    "tags": []
   },
   "outputs": [
    {
     "name": "stdin",
     "output_type": "stream",
     "text": [
      "What plan does the customer have? Enter BR for braven, MED for medicare, IC for insurance claim form,\n",
      " YA for Young Adult Coverage, AS for Assistant at Surgery, NS for Nutritional Support GEN for general, or ALL for everything.\n",
      " br\n"
     ]
    },
    {
     "name": "stderr",
     "output_type": "stream",
     "text": [
      "Using embedded DuckDB with persistence: data will be stored in: AIProjectDB/vector_db\n"
     ]
    },
    {
     "name": "stdout",
     "output_type": "stream",
     "text": [
      "\n",
      "\n",
      "\u001b[1m> Entering new StuffDocumentsChain chain...\u001b[0m\n",
      "\n",
      "\n",
      "\u001b[1m> Entering new LLMChain chain...\u001b[0m\n",
      "Prompt after formatting:\n",
      "\u001b[32;1m\u001b[1;3mBelow is an instruction that describes a task. Write a response that appropriately completes the request.\n",
      "\n",
      "    Instructions:\n",
      "    You are a customer service representative at a health insurance company and your job is to help providing the best accurate answer to a customer. \n",
      "    1. Limit your response to the information provided in this prompt. Do not conduct refer to external sources.\n",
      "    2. Focus on the infromation rpesented here to form your answer.\n",
      "    3. Do not include personal opinions or assumptions; stick to the facts provided in the prompt.\n",
      "    4. Explain the answer with reference to the provided paragraphs. If the answer is not in the paragraphs, say that you do not know.\n",
      "    5. Write your answer below the prompt.\n",
      "\n",
      "    French: Nous proposons des services gratuits d'interprétation pour répondre à toutes vos questions relatives à notre régime de santé ou d'assurance-médicaments. Pour accéder au service d'interprétation, il vous suffit de nous appeler au 1-844-498-9393. Un interlocuteur parlant Français pourra vous aider. Ce service est gratuit.\n",
      "\n",
      "Vietnamese: Chúng tôi có dịch vụ thông dịch miễn phí để trả lời các câu hỏi về chương sức khỏe và chương trình thuốc men. Nếu quí vị cần thông dịch viên xin gọi 1-844-498-9393 sẽ có nhân viên nói tiếng Việt giúp đỡ quí vị. Đây là dịch vụ miễn phí .\n",
      "\n",
      "• • •\n",
      "\n",
      "Claim, benefits or enrollment inquiries Lost/stolen ID cards Address changes Any other inquiry related to your benefits or health plan\n",
      "\n",
      "Filing a Section 1557 Grievance If you believe that Braven Health has failed to provide the free communication aids and services or discriminated against you for one of the reasons described above, you can file a discrimination complaint also known as a Section 1557 Grievance. Braven Health’s Civil Rights Coordinator can be reached by calling the Member Services number on the back of your member ID card or by writing to:\n",
      "\n",
      "Braven Health Civil Rights Coordinator Three Penn Plaza East, PP-12L Newark, NJ 07105-2200\n",
      "\n",
      "Braven Health Civil Rights Coordinator Three Penn Plaza East, PP-12L Newark, NJ 07105-2200\n",
      "\n",
      "You can also file a civil rights complaint with the U.S. Department of Health and Human Services, Office for Civil Rights, electronically through the Office for Civil Rights Complaint Portal, available at https://ocrportal.hhs.gov/ocr/portal/lobby.jsf, or by mail or phone at:\n",
      "\n",
      "Office for Civil Rights Headquarters U.S. Department of Health and Human Services 200 Independence Avenue, SW Room 509F, HHH Building Washington, D.C. 20201 1-800-368-1019 or 1-800-537-7697 (TDD)\n",
      "\n",
      "OCR Complaint forms are available at www.hhs.gov/ocr/office/file/index.html.\n",
      "\n",
      "Para ayuda en español, llame a 1-844-498-9393 (TTY 711).\n",
      "\n",
      "Y0159_ECN007353B_C\n",
      "\n",
      "Multi-Language Insert - Multi-language Interpreter Services\n",
      "\n",
      "    Question: Is there a nurse that I can speak with regarding a recent diagnosis I received?\n",
      "\n",
      "    Response:\n",
      "    \u001b[0m\n",
      "\n",
      "\u001b[1m> Finished chain.\u001b[0m\n",
      "\n",
      "\u001b[1m> Finished chain.\u001b[0m\n",
      "KnowledgeBaseDocs/Braven/BravenPPOBenefits (Bergen).pdf\n",
      "Is there a nurse that I can speak with regarding a recent diagnosis I received?\n",
      "Please let me know if there is a nurse that you would like to speak with regarding a recent diagnosis you received.\n"
     ]
    },
    {
     "name": "stdin",
     "output_type": "stream",
     "text": [
      "Would you like to ask a related question? Enter Y for yes and N for no. n\n"
     ]
    }
   ],
   "source": [
    "#BRAVEN\n",
    "answer_question(\"Is there a nurse that I can speak with regarding a recent diagnosis I received?\")"
   ]
  },
  {
   "cell_type": "code",
   "execution_count": 31,
   "id": "d1324671-9f10-4748-89d4-df3f9ea4bc4f",
   "metadata": {
    "tags": []
   },
   "outputs": [
    {
     "name": "stdin",
     "output_type": "stream",
     "text": [
      "What plan does the customer have? Enter BR for braven, MED for medicare, IC for insurance claim form,\n",
      " YA for Young Adult Coverage, AS for Assistant at Surgery, NS for Nutritional Support GEN for general, or ALL for everything.\n",
      " br\n"
     ]
    },
    {
     "name": "stderr",
     "output_type": "stream",
     "text": [
      "Using embedded DuckDB with persistence: data will be stored in: AIProjectDB/vector_db\n"
     ]
    },
    {
     "name": "stdout",
     "output_type": "stream",
     "text": [
      "\n",
      "\n",
      "\u001b[1m> Entering new StuffDocumentsChain chain...\u001b[0m\n",
      "\n",
      "\n",
      "\u001b[1m> Entering new LLMChain chain...\u001b[0m\n",
      "Prompt after formatting:\n",
      "\u001b[32;1m\u001b[1;3mBelow is an instruction that describes a task. Write a response that appropriately completes the request.\n",
      "\n",
      "    Instructions:\n",
      "    You are a customer service representative at a health insurance company and your job is to help providing the best accurate answer to a customer. \n",
      "    1. Limit your response to the information provided in this prompt. Do not conduct refer to external sources.\n",
      "    2. Focus on the infromation rpesented here to form your answer.\n",
      "    3. Do not include personal opinions or assumptions; stick to the facts provided in the prompt.\n",
      "    4. Explain the answer with reference to the provided paragraphs. If the answer is not in the paragraphs, say that you do not know.\n",
      "    5. Write your answer below the prompt.\n",
      "\n",
      "    Fitting/Evaluation for hearing aid (1 per year):\n",
      "\n",
      "In-network: $0 copayment • Out-of-network: $30 copayment • Call HearUSA to schedule a visit with an in-network\n",
      "\n",
      "provider. Your provider must submit claims to HearUSA for any in-network and out-of-network fitting/evaluation for hearing aid.\n",
      "\n",
      "Our plan covers up to $1,250 every year for hearing aids. Plan covers $750 toward the purchase of a hearing aid for one ear and $500 toward the purchase of a hearing aid for the second ear. You are responsible for payment beyond the $1,250 coverage limit. One (1) year supply of batteries are included.\n",
      "\n",
      "Covered Benefits NOTE: Services with a 1 may require prior authorization. Hearing Services\n",
      "\n",
      "Braven Medicare Choice (PPO)\n",
      "\n",
      "Covered Benefits NOTE: Services with a 1 may require prior authorization. Hearing Services\n",
      "\n",
      "Braven Medicare Choice (PPO)\n",
      "\n",
      "You can obtain hearing aids from any HearUSA in-network provider at a discount. If you obtain hearing aids from an out-of- network provider, submit your request to HearUSA for reimbursement up to a $1,250 coverage limit. Routine dental services (preventive/diagnostic):\n",
      "\n",
      "Dental Services\n",
      "\n",
      "\n",
      "\n",
      "In- and Out-of-network:\n",
      "\n",
      "o $0 copayment for cleaning (up to 3 per year) o $0 copayment for fluoride treatment (1 every 6\n",
      "\n",
      "months)\n",
      "\n",
      "o $0 copayment for a full mouth x-ray (1 every 3\n",
      "\n",
      "years)\n",
      "\n",
      "o $0 copayment for bitewing x-ray (1 every 6\n",
      "\n",
      "months)\n",
      "\n",
      "o $0 copayment for oral exam (up to 3 per year)\n",
      "\n",
      "In-network: $20 copayment • Out-of-network: $30 copayment\n",
      "\n",
      "Routine hearing exam (1 per year): • In-network: $0 copayment • Out-of-network: $30 copayment • Call HearUSA to schedule a visit with an in-network\n",
      "\n",
      "provider. Your provider must submit claims to HearUSA for any in-network and out-of-network routine hearing exams.\n",
      "\n",
      "Fitting/Evaluation for hearing aid (1 per year):\n",
      "\n",
      "In-network: $0 copayment • Out-of-network: $30 copayment • Call HearUSA to schedule a visit with an in-network\n",
      "\n",
      "provider. Your provider must submit claims to HearUSA for any in-network and out-of-network fitting/evaluation for hearing aid.\n",
      "\n",
      "    Question: Are hearing aids covered under my plan?\n",
      "\n",
      "    Response:\n",
      "    \u001b[0m\n",
      "\n",
      "\u001b[1m> Finished chain.\u001b[0m\n",
      "\n",
      "\u001b[1m> Finished chain.\u001b[0m\n",
      "KnowledgeBaseDocs/Braven/BravenPPOBenefits (Bergen).pdf\n",
      "Are hearing aids covered under my plan?\n",
      "Hearing aids are included in your plan. You do not pay for hearing aids directly. However, the hearing aids are covered only if they are covered by the In-network provider. For details please refer to the paragraph titled In-network provider below.\n"
     ]
    },
    {
     "name": "stdin",
     "output_type": "stream",
     "text": [
      "Would you like to ask a related question? Enter Y for yes and N for no. n\n"
     ]
    }
   ],
   "source": [
    "#BRAVEN\n",
    "answer_question(\"Are hearing aids covered under my plan?\")"
   ]
  },
  {
   "cell_type": "code",
   "execution_count": 32,
   "id": "b4695bda-ea72-4b7f-8e6c-a3ab0dc4e4b6",
   "metadata": {
    "tags": []
   },
   "outputs": [
    {
     "name": "stdin",
     "output_type": "stream",
     "text": [
      "What plan does the customer have? Enter BR for braven, MED for medicare, IC for insurance claim form,\n",
      " YA for Young Adult Coverage, AS for Assistant at Surgery, NS for Nutritional Support GEN for general, or ALL for everything.\n",
      " br\n"
     ]
    },
    {
     "name": "stderr",
     "output_type": "stream",
     "text": [
      "Using embedded DuckDB with persistence: data will be stored in: AIProjectDB/vector_db\n"
     ]
    },
    {
     "name": "stdout",
     "output_type": "stream",
     "text": [
      "\n",
      "\n",
      "\u001b[1m> Entering new StuffDocumentsChain chain...\u001b[0m\n",
      "\n",
      "\n",
      "\u001b[1m> Entering new LLMChain chain...\u001b[0m\n",
      "Prompt after formatting:\n",
      "\u001b[32;1m\u001b[1;3mBelow is an instruction that describes a task. Write a response that appropriately completes the request.\n",
      "\n",
      "    Instructions:\n",
      "    You are a customer service representative at a health insurance company and your job is to help providing the best accurate answer to a customer. \n",
      "    1. Limit your response to the information provided in this prompt. Do not conduct refer to external sources.\n",
      "    2. Focus on the infromation rpesented here to form your answer.\n",
      "    3. Do not include personal opinions or assumptions; stick to the facts provided in the prompt.\n",
      "    4. Explain the answer with reference to the provided paragraphs. If the answer is not in the paragraphs, say that you do not know.\n",
      "    5. Write your answer below the prompt.\n",
      "\n",
      "    Dental Services\n",
      "\n",
      "\n",
      "\n",
      "In- and Out-of-network:\n",
      "\n",
      "o $0 copayment for cleaning (up to 3 per year) o $0 copayment for fluoride treatment (1 every 6\n",
      "\n",
      "months)\n",
      "\n",
      "o $0 copayment for a full mouth x-ray (1 every 3\n",
      "\n",
      "years)\n",
      "\n",
      "o $0 copayment for bitewing x-ray (1 every 6\n",
      "\n",
      "months)\n",
      "\n",
      "o $0 copayment for oral exam (up to 3 per year)\n",
      "\n",
      "Comprehensive dental services (restorative, endodontics, periodontics and simple extractions): In- and Out-of-network: o 50% coinsurance o $1,000 coverage maximum per year (coverage maximum does not apply to preventive and diagnostic services) Medicare-covered dental services:\n",
      "\n",
      "\n",
      "\n",
      "\n",
      "\n",
      "In- and Out-of-network: 20% of the cost\n",
      "\n",
      "Routine eye exam (1 every year): • In-network: $0 copayment • Out-of-network: $30 copayment\n",
      "\n",
      "Vision Services\n",
      "\n",
      "Eyeglasses or contact lenses after cataract surgery\n",
      "\n",
      "Covered Benefits NOTE: Services with a 1 may require prior authorization. Hearing Services\n",
      "\n",
      "Braven Medicare Choice (PPO)\n",
      "\n",
      "You can obtain hearing aids from any HearUSA in-network provider at a discount. If you obtain hearing aids from an out-of- network provider, submit your request to HearUSA for reimbursement up to a $1,250 coverage limit. Routine dental services (preventive/diagnostic):\n",
      "\n",
      "Dental Services\n",
      "\n",
      "\n",
      "\n",
      "In- and Out-of-network:\n",
      "\n",
      "o $0 copayment for cleaning (up to 3 per year) o $0 copayment for fluoride treatment (1 every 6\n",
      "\n",
      "months)\n",
      "\n",
      "o $0 copayment for a full mouth x-ray (1 every 3\n",
      "\n",
      "years)\n",
      "\n",
      "o $0 copayment for bitewing x-ray (1 every 6\n",
      "\n",
      "months)\n",
      "\n",
      "o $0 copayment for oral exam (up to 3 per year)\n",
      "\n",
      "In- and Out-of-network: 20% of the cost\n",
      "\n",
      "Routine eye exam (1 every year): • In-network: $0 copayment • Out-of-network: $30 copayment\n",
      "\n",
      "Vision Services\n",
      "\n",
      "Eyeglasses or contact lenses after cataract surgery\n",
      "\n",
      "\n",
      "\n",
      "In- and Out-of-network: $0 copayment\n",
      "\n",
      "Glaucoma screening:\n",
      "\n",
      "In-network: $0 copayment • Out-of-network: $10 copayment\n",
      "\n",
      "Exam to diagnose and treat diseases and conditions of the eye:\n",
      "\n",
      "In-network: $20 copayment • Out-of-network: $30 copayment\n",
      "\n",
      "Diabetic retinal exam:\n",
      "\n",
      "In-network: $0 copayment • Out-of-network: $30 copayment\n",
      "\n",
      "Our plan covers up to $200 every two years for eyeglasses or contact lenses not associated with cataract surgery. Available in- or out-of-network. Funds will be available on the Braven Health+ Smart Card. Member is responsible for payment beyond $200 coverage limit.\n",
      "\n",
      "    Question: Do I have to pay for my annual dental cleaning?\n",
      "\n",
      "    Response:\n",
      "    \u001b[0m\n",
      "\n",
      "\u001b[1m> Finished chain.\u001b[0m\n",
      "\n",
      "\u001b[1m> Finished chain.\u001b[0m\n",
      "KnowledgeBaseDocs/Braven/BravenPPOBenefits (Bergen).pdf\n",
      "Do I have to pay for my annual dental cleaning?\n",
      "According to paragraph 2, you will be charged a $0 copayment for your annual dental cleaning.\n"
     ]
    },
    {
     "name": "stdin",
     "output_type": "stream",
     "text": [
      "Would you like to ask a related question? Enter Y for yes and N for no. n\n"
     ]
    }
   ],
   "source": [
    "#BRAVEN\n",
    "answer_question(\"Do I have to pay for my annual dental cleaning?\")"
   ]
  },
  {
   "cell_type": "code",
   "execution_count": 33,
   "id": "551bec0a-7d68-41cd-9537-8001e23fc1c1",
   "metadata": {
    "tags": []
   },
   "outputs": [
    {
     "name": "stdin",
     "output_type": "stream",
     "text": [
      "What plan does the customer have? Enter BR for braven, MED for medicare, IC for insurance claim form,\n",
      " YA for Young Adult Coverage, AS for Assistant at Surgery, NS for Nutritional Support GEN for general, or ALL for everything.\n",
      " br\n"
     ]
    },
    {
     "name": "stderr",
     "output_type": "stream",
     "text": [
      "Using embedded DuckDB with persistence: data will be stored in: AIProjectDB/vector_db\n"
     ]
    },
    {
     "name": "stdout",
     "output_type": "stream",
     "text": [
      "\n",
      "\n",
      "\u001b[1m> Entering new StuffDocumentsChain chain...\u001b[0m\n",
      "\n",
      "\n",
      "\u001b[1m> Entering new LLMChain chain...\u001b[0m\n",
      "Prompt after formatting:\n",
      "\u001b[32;1m\u001b[1;3mBelow is an instruction that describes a task. Write a response that appropriately completes the request.\n",
      "\n",
      "    Instructions:\n",
      "    You are a customer service representative at a health insurance company and your job is to help providing the best accurate answer to a customer. \n",
      "    1. Limit your response to the information provided in this prompt. Do not conduct refer to external sources.\n",
      "    2. Focus on the infromation rpesented here to form your answer.\n",
      "    3. Do not include personal opinions or assumptions; stick to the facts provided in the prompt.\n",
      "    4. Explain the answer with reference to the provided paragraphs. If the answer is not in the paragraphs, say that you do not know.\n",
      "    5. Write your answer below the prompt.\n",
      "\n",
      "    OCR Complaint forms are available at www.hhs.gov/ocr/office/file/index.html.\n",
      "\n",
      "Para ayuda en español, llame a 1-844-498-9393 (TTY 711).\n",
      "\n",
      "Y0159_ECN007353B_C\n",
      "\n",
      "Multi-Language Insert - Multi-language Interpreter Services\n",
      "\n",
      "English: We have free interpreter services to answer any questions you may have about our health or drug plan. To get an interpreter, just call us at 1-844-498-9393. Someone who speaks English can help you. This is a free service.\n",
      "\n",
      "Spanish: Tenemos servicios de intérprete sin costo alguno para responder cualquier pregunta que pueda tener sobre nuestro plan de salud o medicamentos. Para hablar con un intérprete, por favor llame al 1-844-498-9393. Alguien que hable español le podrá ayudar. Este es un servicio gratuito.\n",
      "\n",
      "Braven Health Civil Rights Coordinator Three Penn Plaza East, PP-12L Newark, NJ 07105-2200\n",
      "\n",
      "You can also file a civil rights complaint with the U.S. Department of Health and Human Services, Office for Civil Rights, electronically through the Office for Civil Rights Complaint Portal, available at https://ocrportal.hhs.gov/ocr/portal/lobby.jsf, or by mail or phone at:\n",
      "\n",
      "Office for Civil Rights Headquarters U.S. Department of Health and Human Services 200 Independence Avenue, SW Room 509F, HHH Building Washington, D.C. 20201 1-800-368-1019 or 1-800-537-7697 (TDD)\n",
      "\n",
      "OCR Complaint forms are available at www.hhs.gov/ocr/office/file/index.html.\n",
      "\n",
      "Para ayuda en español, llame a 1-844-498-9393 (TTY 711).\n",
      "\n",
      "Y0159_ECN007353B_C\n",
      "\n",
      "Multi-Language Insert - Multi-language Interpreter Services\n",
      "\n",
      "Special Supplemental Benefit for Chronically Ill (SSBCI)\n",
      "\n",
      "Covered Benefits NOTE: Services with a 1 may require prior authorization. Supervised Exercise Therapy (SET) for Symptomatic Peripheral Artery Disease (PAD) Telehealth\n",
      "\n",
      "Braven Medicare Choice (PPO)\n",
      "\n",
      "In-network: $20 copayment • Out-of-network: $30 copayment\n",
      "\n",
      "$0 copayment for urgently needed services and behavioral health. Must use our preferred vendor.\n",
      "\n",
      "Prescription Drugs Deductible Phase\n",
      "\n",
      "Braven Medicare Choice (PPO)\n",
      "\n",
      "$0 per year for Tiers 1, 2 and 6. $150 per year for Tiers 3, 4 and 5 only. Standard Pharmacy One-month supply\n",
      "\n",
      "Initial Coverage Phase\n",
      "\n",
      "Preferred Mail Order Three-month supply $0 copayment $12 copayment $141 copayment $300 copayment Not offered $0 copayment\n",
      "\n",
      "Standard Mail Order Three-month supply\n",
      "\n",
      "    Question: Can you direct me to the form used to submit a health claim for reimbursement?\n",
      "\n",
      "    Response:\n",
      "    \u001b[0m\n",
      "\n",
      "\u001b[1m> Finished chain.\u001b[0m\n",
      "\n",
      "\u001b[1m> Finished chain.\u001b[0m\n",
      "KnowledgeBaseDocs/Braven/BravenPPOBenefits (Bergen).pdf\n",
      "Can you direct me to the form used to submit a health claim for reimbursement?\n",
      "The OCR complaint form is available at www.hhs.gov/ocr/office/file/index.html.\n"
     ]
    },
    {
     "name": "stdin",
     "output_type": "stream",
     "text": [
      "Would you like to ask a related question? Enter Y for yes and N for no. n\n"
     ]
    }
   ],
   "source": [
    "#Horizon Med Claim Form\n",
    "answer_question(\"Can you direct me to the form used to submit a health claim for reimbursement?\")"
   ]
  },
  {
   "cell_type": "code",
   "execution_count": 34,
   "id": "f20f9a2a-172e-457b-bd5f-490dacbee65b",
   "metadata": {
    "tags": []
   },
   "outputs": [
    {
     "name": "stdin",
     "output_type": "stream",
     "text": [
      "What plan does the customer have? Enter BR for braven, MED for medicare, IC for insurance claim form,\n",
      " YA for Young Adult Coverage, AS for Assistant at Surgery, NS for Nutritional Support GEN for general, or ALL for everything.\n",
      " br\n"
     ]
    },
    {
     "name": "stderr",
     "output_type": "stream",
     "text": [
      "Using embedded DuckDB with persistence: data will be stored in: AIProjectDB/vector_db\n"
     ]
    },
    {
     "name": "stdout",
     "output_type": "stream",
     "text": [
      "\n",
      "\n",
      "\u001b[1m> Entering new StuffDocumentsChain chain...\u001b[0m\n",
      "\n",
      "\n",
      "\u001b[1m> Entering new LLMChain chain...\u001b[0m\n",
      "Prompt after formatting:\n",
      "\u001b[32;1m\u001b[1;3mBelow is an instruction that describes a task. Write a response that appropriately completes the request.\n",
      "\n",
      "    Instructions:\n",
      "    You are a customer service representative at a health insurance company and your job is to help providing the best accurate answer to a customer. \n",
      "    1. Limit your response to the information provided in this prompt. Do not conduct refer to external sources.\n",
      "    2. Focus on the infromation rpesented here to form your answer.\n",
      "    3. Do not include personal opinions or assumptions; stick to the facts provided in the prompt.\n",
      "    4. Explain the answer with reference to the provided paragraphs. If the answer is not in the paragraphs, say that you do not know.\n",
      "    5. Write your answer below the prompt.\n",
      "\n",
      "    Summary of Benefits\n",
      "\n",
      "Braven Medicare Choice (PPO)\n",
      "\n",
      "January 1, 2023 – December 31, 2023\n",
      "\n",
      "Service area for this plan includes: Bergen, Essex, Hudson, Middlesex, Monmouth, Ocean, Passaic and Union counties.\n",
      "\n",
      "Y0159_H0885_001_SB_2023_M\n",
      "\n",
      "This booklet gives you a summary of what we cover and what you pay. It doesn’t list every service we cover or list every limitation or exclusion. To get a complete list of services, cost shares and exclusions, please refer to our Evidence of Coverage, which can be found online at BravenHealth.com/2023EOCChoice. Or, you can call us at 1-833-272-8360 (TTY 711) to request a mailed copy. Hours of operation are: October 1 – March 31: Monday – Sunday, from 8:00 a.m. to 8:00 p.m., ET and April 1 – September 30: Monday – Friday, from 8:00 a.m. to 8:00 p.m., ET.\n",
      "\n",
      "Vietnamese: Chúng tôi có dịch vụ thông dịch miễn phí để trả lời các câu hỏi về chương sức khỏe và chương trình thuốc men. Nếu quí vị cần thông dịch viên xin gọi 1-844-498-9393 sẽ có nhân viên nói tiếng Việt giúp đỡ quí vị. Đây là dịch vụ miễn phí .\n",
      "\n",
      "German: Unser kostenloser Dolmetscherservice beantwortet Ihren Fragen zu unserem Gesundheits- und Arzneimittelplan. Unsere Dolmetscher erreichen Sie unter 1-844-498-9393. Man wird Ihnen dort auf Deutsch weiterhelfen. Dieser Service ist kostenlos.\n",
      "\n",
      "Korean: 당사는 의료 보험 또는 약품 보험에 관한 질문에 답해 드리고자 무료 통역 서비스를 제공하고 있습니다 . 통역\n",
      "\n",
      "서비스를 이용하려면 전화 1-844-498-9393 번으로 문의해 주십시오 . 한국어를 하는 담당자가 도와 드릴 것입니다 . 이\n",
      "\n",
      "서비스는 무료로 운영됩니다 .\n",
      "\n",
      "OCR Complaint forms are available at www.hhs.gov/ocr/office/file/index.html.\n",
      "\n",
      "Para ayuda en español, llame a 1-844-498-9393 (TTY 711).\n",
      "\n",
      "Y0159_ECN007353B_C\n",
      "\n",
      "Multi-Language Insert - Multi-language Interpreter Services\n",
      "\n",
      "English: We have free interpreter services to answer any questions you may have about our health or drug plan. To get an interpreter, just call us at 1-844-498-9393. Someone who speaks English can help you. This is a free service.\n",
      "\n",
      "Spanish: Tenemos servicios de intérprete sin costo alguno para responder cualquier pregunta que pueda tener sobre nuestro plan de salud o medicamentos. Para hablar con un intérprete, por favor llame al 1-844-498-9393. Alguien que hable español le podrá ayudar. Este es un servicio gratuito.\n",
      "\n",
      "    Question: What is the address that I can mail this to?\n",
      "\n",
      "    Response:\n",
      "    \u001b[0m\n",
      "\n",
      "\u001b[1m> Finished chain.\u001b[0m\n",
      "\n",
      "\u001b[1m> Finished chain.\u001b[0m\n",
      "KnowledgeBaseDocs/Braven/BravenPPOBenefits (Bergen).pdf\n",
      "What is the address that I can mail this to?\n",
      "Braven Medicare Choice (PPO)\n",
      "\n",
      "January 1, 2023 – December 31, 2023\n",
      "\n",
      "Service area for this plan includes: Bergen, Essex, Hudson, Middlesex, Monmouth, Ocean, Passaic and Union counties.\n",
      "\n",
      "Y0159_H0885_001_SB_2023_M\n",
      "\n",
      "This booklet gives you a summary of what we cover and what you pay. It doesn’t list every service we cover or list every limitation or exclusion. To get a complete list of services, cost shares and exclusions, please refer to our Evidence of Coverage, which can be found online at BravenHealth.com/2023EOCChoice. Or, you can call us at 1-833-272-8360 (TTY 711) to request a mailed copy. Hours of operation are: October 1 – March 31: Monday – Sunday, from 8:00 a.m. to 8:00 p.m., ET and April 1 – September 30: Monday – Friday, from 8:00 a.m. to 8:00 p.m., ET.\n",
      "\n",
      "Vietnamese: Chúng tôi có dịch vụ thông\n"
     ]
    },
    {
     "name": "stdin",
     "output_type": "stream",
     "text": [
      "Would you like to ask a related question? Enter Y for yes and N for no. u\n"
     ]
    },
    {
     "name": "stdout",
     "output_type": "stream",
     "text": [
      "I'm sorry, I didn't understand. Would you like to ask a related question? Enter Y for yes and N for no.\n"
     ]
    },
    {
     "name": "stdin",
     "output_type": "stream",
     "text": [
      "Would you like to ask a related question? Enter Y for yes and N for no. n\n"
     ]
    }
   ],
   "source": [
    "#Horizon Med Claim Form\n",
    "answer_question(\"What is the address that I can mail this to?\")"
   ]
  },
  {
   "cell_type": "code",
   "execution_count": null,
   "id": "c50b8d02-1c9d-4194-840f-ea6096998d94",
   "metadata": {
    "tags": []
   },
   "outputs": [],
   "source": [
    "answer_question(\"What is the criteria to buy a Horizon Dental insurance plan?\")"
   ]
  },
  {
   "cell_type": "code",
   "execution_count": null,
   "id": "c0ce2d10-ea22-43ba-bb3a-54d589aee9d0",
   "metadata": {
    "tags": []
   },
   "outputs": [],
   "source": [
    "answer_question(\"What is a phone number for dental plans?\")"
   ]
  },
  {
   "cell_type": "code",
   "execution_count": null,
   "id": "ae2b59cf-2697-4908-a386-a8b880b39d05",
   "metadata": {
    "tags": []
   },
   "outputs": [],
   "source": [
    "answer_question(\"Is there a dental plan for kids?\")"
   ]
  },
  {
   "cell_type": "code",
   "execution_count": null,
   "id": "ab9e6630-f4f5-4556-b8e0-873499ba49cd",
   "metadata": {},
   "outputs": [],
   "source": [
    "answer_question(\"Will I owe a copay if I get an MRI?\")"
   ]
  },
  {
   "cell_type": "code",
   "execution_count": null,
   "id": "7dba73ed-2826-4c69-ad25-028acfe7840f",
   "metadata": {
    "tags": []
   },
   "outputs": [],
   "source": [
    "answer_question(\"Will I owe a copay for lab services?\")"
   ]
  },
  {
   "cell_type": "code",
   "execution_count": null,
   "id": "40f06d03-f16f-46b0-a774-17352b6d4d7d",
   "metadata": {
    "tags": []
   },
   "outputs": [],
   "source": [
    "answer_question(\"My doctor recommended physical therapy. Would it be covered?\")"
   ]
  },
  {
   "cell_type": "code",
   "execution_count": null,
   "id": "938c1999-a363-43b3-b41e-8fe67d1d5999",
   "metadata": {
    "tags": []
   },
   "outputs": [],
   "source": [
    "answer_question(\"I am travelling out of the country and would like to know if I have worldwide coverage with Braven.\")"
   ]
  },
  {
   "cell_type": "code",
   "execution_count": null,
   "id": "909b5aa2-ca30-4cd5-a741-eae41754f30e",
   "metadata": {
    "tags": []
   },
   "outputs": [],
   "source": [
    "answer_question(\"Does my plan cover gym memberships or fitness classes?\")"
   ]
  },
  {
   "cell_type": "code",
   "execution_count": null,
   "id": "9f74b1e6-22e8-4bde-a335-dff3593501e3",
   "metadata": {
    "tags": []
   },
   "outputs": [],
   "source": [
    "answer_question(\"Does Medicare cover religious care?\")"
   ]
  },
  {
   "cell_type": "code",
   "execution_count": null,
   "id": "e718bba0-b805-4e7a-9a93-fd52f6f2ac1f",
   "metadata": {
    "tags": []
   },
   "outputs": [],
   "source": [
    "answer_question(\"Will I owe a copay for lab services?\") #Braven"
   ]
  },
  {
   "cell_type": "code",
   "execution_count": null,
   "id": "7f1600bf-9d21-4633-975d-bdaa8fb78424",
   "metadata": {
    "tags": []
   },
   "outputs": [],
   "source": [
    "answer_question(\"Would I owe a copayment for outpatient mental health services?\")"
   ]
  },
  {
   "cell_type": "code",
   "execution_count": 36,
   "id": "52603a37-2b3a-4c5e-87f7-0d12f40286fe",
   "metadata": {
    "tags": []
   },
   "outputs": [
    {
     "name": "stdin",
     "output_type": "stream",
     "text": [
      "What plan does the customer have? Enter BR for braven, MED for medicare, IC for insurance claim form,\n",
      " YA for Young Adult Coverage, AS for Assistant at Surgery, NS for Nutritional Support GEN for general, or ALL for everything.\n",
      " ya\n"
     ]
    },
    {
     "name": "stderr",
     "output_type": "stream",
     "text": [
      "Using embedded DuckDB with persistence: data will be stored in: AIProjectDB/vector_db\n"
     ]
    },
    {
     "name": "stdout",
     "output_type": "stream",
     "text": [
      "\n",
      "\n",
      "\u001b[1m> Entering new StuffDocumentsChain chain...\u001b[0m\n",
      "\n",
      "\n",
      "\u001b[1m> Entering new LLMChain chain...\u001b[0m\n",
      "Prompt after formatting:\n",
      "\u001b[32;1m\u001b[1;3mBelow is an instruction that describes a task. Write a response that appropriately completes the request.\n",
      "\n",
      "    Instructions:\n",
      "    You are a customer service representative at a health insurance company and your job is to help providing the best accurate answer to a customer. \n",
      "    1. Limit your response to the information provided in this prompt. Do not conduct refer to external sources.\n",
      "    2. Focus on the infromation rpesented here to form your answer.\n",
      "    3. Do not include personal opinions or assumptions; stick to the facts provided in the prompt.\n",
      "    4. Explain the answer with reference to the provided paragraphs. If the answer is not in the paragraphs, say that you do not know.\n",
      "    5. Write your answer below the prompt.\n",
      "\n",
      "    The Dependent Under 31 Election (DU31)\n",
      "\n",
      "https://www.state.nj.us/dobi/division_consumers/du31.html#whateligibility\n",
      "\n",
      "1/15\n",
      "\n",
      "8/7/23, 2:39 PM\n",
      "\n",
      "Coverage of Young Adults in New Jersey Up to Age 31\n",
      "\n",
      "DU31, P.L. 2005, c. 375, permits young adults to continue coverage or become covered under a parent’s group health plan as an over-age dependent until the young adult’s 31st birthday.\n",
      "\n",
      "What are the Eligibility Requirements?\n",
      "\n",
      "What is the Cost?\n",
      "\n",
      "A young adult may use the DU31 election right to:\n",
      "\n",
      "When May I Enroll?\n",
      "\n",
      "continue coverage under a parent’s group health benefits plan, when the young adult is “aging-out” of that parent’s coverage; or\n",
      "\n",
      "How Do I Enroll?\n",
      "\n",
      "What If I Am Not Eligible?\n",
      "\n",
      "The Group Coverage The coverage for the employer group in which the young adult wishes to enroll:\n",
      "\n",
      "must be through a group health benefits plan issued in New Jersey (or the State Health Benefits Plan); and\n",
      "\n",
      "must allow for the enrollment of dependents.\n",
      "\n",
      "The Parent The young adult’s parent:\n",
      "\n",
      "must be covered under an employer’s group health benefits plan subject to the DU31 law; and\n",
      "\n",
      "must provide coverage for all family members who meet the definition of a dependent under the group health benefits plan, or must have waived coverage for an eligible dependent because the dependent is covered under another group health plan or government-sponsored plan.\n",
      "\n",
      "The Young Adult If both the employer’s plan and the young adult’s parent meet the DU31 requirements, the young adult may enroll if he or she:\n",
      "\n",
      "some is insured, but much of the coverage is unlikely to qualify as group health benefits plans issued in New Jersey. The best source of information will be the human resources or benefits department handling the parent’s coverage. If the young adult’s parent’s coverage is through TRICARE, the parent is NOT covered under a group health benefits plan issued in New Jersey, so the young adult will not have the opportunity to make a DU31 election.\n",
      "\n",
      "    Question: My son is 28 years old. Can I add him to my job’s health insurance policy by taking the New Jersey Dependent Under 31 (DU31) election?\n",
      "\n",
      "    Response:\n",
      "    \u001b[0m\n",
      "\n",
      "\u001b[1m> Finished chain.\u001b[0m\n",
      "\n",
      "\u001b[1m> Finished chain.\u001b[0m\n",
      "KnowledgeBaseDocs/CoverageofYoungAdultsinNJ/Coverage of Young Adults in New Jersey Up to Age 31.pdf\n",
      "My son is 28 years old. Can I add him to my job’s health insurance policy by taking the New Jersey Dependent Under 31 (DU31) election?\n",
      "Yes, provided all the following conditions are met:\n",
      "1. Your son is age 28 or older (i.e., he or she has hit the “age out” of the parent’s coverage)\n",
      "2. You are covered under a NJ group health benefit plan (i.e., you work for a NJ employer and you are a NJ employee)\n",
      "3. Your son is eligible for group health coverage (i.e., he meets the DU31 criteria)\n",
      "4. Your son is not already enrolled in a group health coverage plan through his or her job\n",
      "5. Your son’s parent has covered your son under an NJ group health benefits plan for at least 6 months (this requirement may be waived if the parent is covered through TRICARE, but the 6-month rule remains)\n"
     ]
    },
    {
     "name": "stdin",
     "output_type": "stream",
     "text": [
      "Would you like to ask a related question? Enter Y for yes and N for no. n\n"
     ]
    }
   ],
   "source": [
    "#YA Coverage\n",
    "answer_question(\"My son is 28 years old. Can I add him to my job’s health insurance policy by taking the New Jersey Dependent Under 31 (DU31) election?\")"
   ]
  },
  {
   "cell_type": "code",
   "execution_count": 37,
   "id": "9eca71c5-ea1f-488d-b4ff-918d1694007c",
   "metadata": {},
   "outputs": [
    {
     "name": "stdin",
     "output_type": "stream",
     "text": [
      "What plan does the customer have? Enter BR for braven, MED for medicare, IC for insurance claim form,\n",
      " YA for Young Adult Coverage, AS for Assistant at Surgery, NS for Nutritional Support GEN for general, or ALL for everything.\n",
      " ya\n"
     ]
    },
    {
     "name": "stderr",
     "output_type": "stream",
     "text": [
      "Using embedded DuckDB with persistence: data will be stored in: AIProjectDB/vector_db\n"
     ]
    },
    {
     "name": "stdout",
     "output_type": "stream",
     "text": [
      "\n",
      "\n",
      "\u001b[1m> Entering new StuffDocumentsChain chain...\u001b[0m\n",
      "\n",
      "\n",
      "\u001b[1m> Entering new LLMChain chain...\u001b[0m\n",
      "Prompt after formatting:\n",
      "\u001b[32;1m\u001b[1;3mBelow is an instruction that describes a task. Write a response that appropriately completes the request.\n",
      "\n",
      "    Instructions:\n",
      "    You are a customer service representative at a health insurance company and your job is to help providing the best accurate answer to a customer. \n",
      "    1. Limit your response to the information provided in this prompt. Do not conduct refer to external sources.\n",
      "    2. Focus on the infromation rpesented here to form your answer.\n",
      "    3. Do not include personal opinions or assumptions; stick to the facts provided in the prompt.\n",
      "    4. Explain the answer with reference to the provided paragraphs. If the answer is not in the paragraphs, say that you do not know.\n",
      "    5. Write your answer below the prompt.\n",
      "\n",
      "    Other possible options and alternatives:\n",
      "\n",
      "If a young adult is working, he or she may have the option to enroll in his or her employer’s own group health plan.\n",
      "\n",
      "If DU31 ineligibility results because a parent’s group health plan is not subject to the DU31 law, a young adult might consider whether he or she is eligible to make a DU31 election under another parent’s group health plan, if any.\n",
      "\n",
      "If a young adult is DU31 ineligible, but still a full-time student, he or she might be able to obtain coverage under group student insurance purchased by the college or university.\n",
      "\n",
      "is not covered under another group health plan, church plan, individual health benefits plan and is not entitled to Medicare as of the date that coverage under the parent’s group health benefits plan would begin (note: a young adult can have other coverage upon the date the DU31 election is made, but not upon the date the DU31 coverage becomes effective);\n",
      "\n",
      "does not have any children; and\n",
      "\n",
      "does not have a spouse, civil union partner or domestic partner.\n",
      "\n",
      "The DU31 Law DOES NOT Require That:\n",
      "\n",
      "the young adult be economically dependent on the parent\n",
      "\n",
      "the young adult live in the same house with the parent\n",
      "\n",
      "the young adult exhaust coverage continued through COBRA or NJSGC\n",
      "\n",
      "the young adult be ineligible for other coverage\n",
      "\n",
      "the young adult have continuous prior creditable coverage\n",
      "\n",
      "What are the Eligibility Requirements?\n",
      "\n",
      "What is the Cost?\n",
      "\n",
      "A young adult may use the DU31 election right to:\n",
      "\n",
      "When May I Enroll?\n",
      "\n",
      "continue coverage under a parent’s group health benefits plan, when the young adult is “aging-out” of that parent’s coverage; or\n",
      "\n",
      "How Do I Enroll?\n",
      "\n",
      "What If I Am Not Eligible?\n",
      "\n",
      "become covered under a parent’s group health benefits plan, so long as the young adult has had coverage at some time in the past.\n",
      "\n",
      "Compare Continuation Options (Chart)\n",
      "\n",
      "    Question: My group health plan is not subject to the DU31 law.  Are there any other options for my child?\n",
      "\n",
      "    Response:\n",
      "    \u001b[0m\n",
      "\n",
      "\u001b[1m> Finished chain.\u001b[0m\n",
      "\n",
      "\u001b[1m> Finished chain.\u001b[0m\n",
      "KnowledgeBaseDocs/CoverageofYoungAdultsinNJ/Coverage of Young Adults in New Jersey Up to Age 31.pdf\n",
      "My group health plan is not subject to the DU31 law.  Are there any other options for my child?\n",
      "The following are some other options and alternatives for a child under age 26 who is not covered under a parent’s group health plan that are not subject to the DU31 law:\n",
      "- Enroll in his or her employer’s own group health plan\n",
      "- Enroll in his or her parent’s other group health plan\n",
      "- Continue coverage under another coverage, such as:\n",
      "    - Church plan\n",
      "    - Individual health benefits plan\n",
      "    - Group student insurance purchased by the college or university\n"
     ]
    },
    {
     "name": "stdin",
     "output_type": "stream",
     "text": [
      "Would you like to ask a related question? Enter Y for yes and N for no. n\n"
     ]
    }
   ],
   "source": [
    "#YA Coverage\n",
    "answer_question(\"My group health plan is not subject to the DU31 law.  Are there any other options for my child?\")"
   ]
  },
  {
   "cell_type": "code",
   "execution_count": 38,
   "id": "13d95023-76f4-4299-a4d1-9f1d2ec645dd",
   "metadata": {},
   "outputs": [
    {
     "name": "stdin",
     "output_type": "stream",
     "text": [
      "What plan does the customer have? Enter BR for braven, MED for medicare, IC for insurance claim form,\n",
      " YA for Young Adult Coverage, AS for Assistant at Surgery, NS for Nutritional Support GEN for general, or ALL for everything.\n",
      " ya\n"
     ]
    },
    {
     "name": "stderr",
     "output_type": "stream",
     "text": [
      "Using embedded DuckDB with persistence: data will be stored in: AIProjectDB/vector_db\n"
     ]
    },
    {
     "name": "stdout",
     "output_type": "stream",
     "text": [
      "\n",
      "\n",
      "\u001b[1m> Entering new StuffDocumentsChain chain...\u001b[0m\n",
      "\n",
      "\n",
      "\u001b[1m> Entering new LLMChain chain...\u001b[0m\n",
      "Prompt after formatting:\n",
      "\u001b[32;1m\u001b[1;3mBelow is an instruction that describes a task. Write a response that appropriately completes the request.\n",
      "\n",
      "    Instructions:\n",
      "    You are a customer service representative at a health insurance company and your job is to help providing the best accurate answer to a customer. \n",
      "    1. Limit your response to the information provided in this prompt. Do not conduct refer to external sources.\n",
      "    2. Focus on the infromation rpesented here to form your answer.\n",
      "    3. Do not include personal opinions or assumptions; stick to the facts provided in the prompt.\n",
      "    4. Explain the answer with reference to the provided paragraphs. If the answer is not in the paragraphs, say that you do not know.\n",
      "    5. Write your answer below the prompt.\n",
      "\n",
      "    parent’s household, or a full-time student. The young adult may remain covered under his or her parent’s plan even if he or she marries. (However, neither the young adult’s spouse nor child is entitled to coverage under the young adult’s parent’s plan). A young adult may be removed from his or her parent’s plan – if it is a “grandfathered” health plan – before reaching age 26 if the young adult could be covered through a group health plan as an employee or an employee’s spouse. Generally, “grandfathered” plans are health plans that were in effect on or before March 23, 2010.\n",
      "\n",
      "20. If a young adult works and has coverage through his or her employer can the young adult\n",
      "\n",
      "really elect coverage on his or her parent’s policy? Yes, so long as the young adult gives up coverage under his or her employer’s group health plan on or before the date coverage under the DU31 election becomes effective.\n",
      "\n",
      "If a young adult’s parent becomes covered under a group health benefits plan sometime after the young adult reaches age 26, but before the young adult’s 31st birthday, the young adult MAY be eligible to enroll as an overage child of the parent by making a DU31 election, even if the young adult didn’t age-out of other coverage, and even if the young adult currently has other coverage in effect (other than Medicare). If the young adult has coverage under his or her own employer plan or an individual policy, the young adult would have to give up the existing policy to move to the parent’s plan.\n",
      "\n",
      "    Question: I am turning 27 and am currently on my parent’s plan through their employer.  Will I be able to continue my coverage?\n",
      "\n",
      "    Response:\n",
      "    \u001b[0m\n",
      "\n",
      "\u001b[1m> Finished chain.\u001b[0m\n",
      "\n",
      "\u001b[1m> Finished chain.\u001b[0m\n",
      "KnowledgeBaseDocs/CoverageofYoungAdultsinNJ/Coverage of Young Adults in New Jersey Up to Age 31.pdf\n",
      "I am turning 27 and am currently on my parent’s plan through their employer.  Will I be able to continue my coverage?\n",
      "Yes, so long as the young adult gives up coverage under his or her employer’s group health plan on or before the date coverage under the DU31 election becomes effective.\n"
     ]
    },
    {
     "name": "stdin",
     "output_type": "stream",
     "text": [
      "Would you like to ask a related question? Enter Y for yes and N for no. n\n"
     ]
    }
   ],
   "source": [
    "#YA Coverage\n",
    "answer_question(\"I am turning 27 and am currently on my parent’s plan through their employer.  Will I be able to continue my coverage?\")"
   ]
  },
  {
   "cell_type": "code",
   "execution_count": 39,
   "id": "299f28a6-61ef-465f-9ac3-aa89924df767",
   "metadata": {},
   "outputs": [
    {
     "name": "stdin",
     "output_type": "stream",
     "text": [
      "What plan does the customer have? Enter BR for braven, MED for medicare, IC for insurance claim form,\n",
      " YA for Young Adult Coverage, AS for Assistant at Surgery, NS for Nutritional Support GEN for general, or ALL for everything.\n",
      " ya\n"
     ]
    },
    {
     "name": "stderr",
     "output_type": "stream",
     "text": [
      "Using embedded DuckDB with persistence: data will be stored in: AIProjectDB/vector_db\n"
     ]
    },
    {
     "name": "stdout",
     "output_type": "stream",
     "text": [
      "\n",
      "\n",
      "\u001b[1m> Entering new StuffDocumentsChain chain...\u001b[0m\n",
      "\n",
      "\n",
      "\u001b[1m> Entering new LLMChain chain...\u001b[0m\n",
      "Prompt after formatting:\n",
      "\u001b[32;1m\u001b[1;3mBelow is an instruction that describes a task. Write a response that appropriately completes the request.\n",
      "\n",
      "    Instructions:\n",
      "    You are a customer service representative at a health insurance company and your job is to help providing the best accurate answer to a customer. \n",
      "    1. Limit your response to the information provided in this prompt. Do not conduct refer to external sources.\n",
      "    2. Focus on the infromation rpesented here to form your answer.\n",
      "    3. Do not include personal opinions or assumptions; stick to the facts provided in the prompt.\n",
      "    4. Explain the answer with reference to the provided paragraphs. If the answer is not in the paragraphs, say that you do not know.\n",
      "    5. Write your answer below the prompt.\n",
      "\n",
      "    When May I Enroll?\n",
      "\n",
      "Generally, the enrollment period for DU31 eligibility is limited to the first 30 days following establishment of eligibility, or during the annual Employee Open Enrollment period of the group, which must be no less than a 30-day period. There is an exception: if an adult child is covered under a parent’s group health plan as his or her 26th birthday approaches, the adult child will have 30 days prior to his or her 26th birthday to make the DU31 election, as well as 30 days after attaining age 26/aging-out. An election made during this period should result in no break in coverage for the Overage Dependent.\n",
      "\n",
      "What are the Eligibility Requirements?\n",
      "\n",
      "What is the Cost?\n",
      "\n",
      "A young adult may use the DU31 election right to:\n",
      "\n",
      "When May I Enroll?\n",
      "\n",
      "continue coverage under a parent’s group health benefits plan, when the young adult is “aging-out” of that parent’s coverage; or\n",
      "\n",
      "How Do I Enroll?\n",
      "\n",
      "What If I Am Not Eligible?\n",
      "\n",
      "become covered under a parent’s group health benefits plan, so long as the young adult has had coverage at some time in the past.\n",
      "\n",
      "Compare Continuation Options (Chart)\n",
      "\n",
      "More questions...\n",
      "\n",
      "How Do I Enroll?\n",
      "\n",
      "Employers may have information and enrollment forms available. If the employer is unable to provide assistance, a young adult should contact the carrier directly.\n",
      "\n",
      "What if I Am Not Eligible?\n",
      "\n",
      "There are many reasons a young adult might not be eligible to make a DU31 election. Depending upon the reasons for the DU31 ineligibility, some different options may be available.\n",
      "\n",
      "COBRA or NJSGC If a young adult is aging-out of a group health plan that is not subject to DU31 (for instance, because the group health plan is a self-funded plan or a group policy issued in another State), the young adult probably will still be eligible to make a COBRA election.\n",
      "\n",
      "    Question: How can I enroll my daughter in a DU31 plan?\n",
      "\n",
      "    Response:\n",
      "    \u001b[0m\n",
      "\n",
      "\u001b[1m> Finished chain.\u001b[0m\n",
      "\n",
      "\u001b[1m> Finished chain.\u001b[0m\n",
      "KnowledgeBaseDocs/CoverageofYoungAdultsinNJ/Coverage of Young Adults in New Jersey Up to Age 31.pdf\n",
      "How can I enroll my daughter in a DU31 plan?\n",
      "According to the prompt you can enroll during the first 30 days following establishment of eligibility, or during the Annual Employee Open Enrollment period of the group. This is the time period the group must be no less than a 30-day period. An exception exists if an adult child is covered under a parent's group health plan as his or her 26th birthday approaches, the adult child will have 30 days prior to his or her 26th birthday to make the DU31 election, as well as 30 days after attaining age 26/aging-out. An election made during this period should result in no break in coverage for the Overage Dependent.\n"
     ]
    },
    {
     "name": "stdin",
     "output_type": "stream",
     "text": [
      "Would you like to ask a related question? Enter Y for yes and N for no. n\n"
     ]
    }
   ],
   "source": [
    "#YA Coverage\n",
    "answer_question(\"How can I enroll my daughter in a DU31 plan?\")"
   ]
  },
  {
   "cell_type": "code",
   "execution_count": 40,
   "id": "c0da8b4c-8068-46b4-be63-de2440594f82",
   "metadata": {},
   "outputs": [
    {
     "name": "stdin",
     "output_type": "stream",
     "text": [
      "What plan does the customer have? Enter BR for braven, MED for medicare, IC for insurance claim form,\n",
      " YA for Young Adult Coverage, AS for Assistant at Surgery, NS for Nutritional Support GEN for general, or ALL for everything.\n",
      " ya\n"
     ]
    },
    {
     "name": "stderr",
     "output_type": "stream",
     "text": [
      "Using embedded DuckDB with persistence: data will be stored in: AIProjectDB/vector_db\n"
     ]
    },
    {
     "name": "stdout",
     "output_type": "stream",
     "text": [
      "\n",
      "\n",
      "\u001b[1m> Entering new StuffDocumentsChain chain...\u001b[0m\n",
      "\n",
      "\n",
      "\u001b[1m> Entering new LLMChain chain...\u001b[0m\n",
      "Prompt after formatting:\n",
      "\u001b[32;1m\u001b[1;3mBelow is an instruction that describes a task. Write a response that appropriately completes the request.\n",
      "\n",
      "    Instructions:\n",
      "    You are a customer service representative at a health insurance company and your job is to help providing the best accurate answer to a customer. \n",
      "    1. Limit your response to the information provided in this prompt. Do not conduct refer to external sources.\n",
      "    2. Focus on the infromation rpesented here to form your answer.\n",
      "    3. Do not include personal opinions or assumptions; stick to the facts provided in the prompt.\n",
      "    4. Explain the answer with reference to the provided paragraphs. If the answer is not in the paragraphs, say that you do not know.\n",
      "    5. Write your answer below the prompt.\n",
      "\n",
      "    What are the Eligibility Requirements?\n",
      "\n",
      "In order for a young adult to be eligible for a DU31 election option:\n",
      "\n",
      "the group coverage must meet certain requirements;\n",
      "\n",
      "the young adult’s parent must meet certain requirements; and\n",
      "\n",
      "the young adult must meet certain requirements.\n",
      "\n",
      "The Group Coverage The coverage for the employer group in which the young adult wishes to enroll:\n",
      "\n",
      "must be through a group health benefits plan issued in New Jersey (or the State Health Benefits Plan); and\n",
      "\n",
      "must allow for the enrollment of dependents.\n",
      "\n",
      "The Parent The young adult’s parent:\n",
      "\n",
      "must be covered under an employer’s group health benefits plan subject to the DU31 law; and\n",
      "\n",
      "If an adult child is not covered under a plan required to comply with the DU31 election at the time the adult child has his or her 26th birthday (and becomes an Overage Dependent), the Overage Dependent will have 30 days following establishment of DU31 eligibility to make the DU31 election. For example, if a 27-year old Overage Dependent’s parent’s plan must comply with the DU31 election, but the Overage Dependent was not covered because he or she was living in another State, when he or she decides to return to New Jersey, the Overage Dependent could make the DU31 election within 30 days after his or her return to New Jersey; otherwise, he or she can enroll later during the group’s annual Employee Open Enrollment Period.\n",
      "\n",
      "More questions...\n",
      "\n",
      "How Do I Enroll?\n",
      "\n",
      "The Dependent Under 31 Election (DU31)\n",
      "\n",
      "https://www.state.nj.us/dobi/division_consumers/du31.html#whateligibility\n",
      "\n",
      "1/15\n",
      "\n",
      "8/7/23, 2:39 PM\n",
      "\n",
      "Coverage of Young Adults in New Jersey Up to Age 31\n",
      "\n",
      "DU31, P.L. 2005, c. 375, permits young adults to continue coverage or become covered under a parent’s group health plan as an over-age dependent until the young adult’s 31st birthday.\n",
      "\n",
      "What are the Eligibility Requirements?\n",
      "\n",
      "What is the Cost?\n",
      "\n",
      "A young adult may use the DU31 election right to:\n",
      "\n",
      "When May I Enroll?\n",
      "\n",
      "continue coverage under a parent’s group health benefits plan, when the young adult is “aging-out” of that parent’s coverage; or\n",
      "\n",
      "How Do I Enroll?\n",
      "\n",
      "What If I Am Not Eligible?\n",
      "\n",
      "    Question: Is there a cost associated with adding my child by taking the New Jersey Under 31 (DU31) election?\n",
      "\n",
      "    Response:\n",
      "    \u001b[0m\n",
      "\n",
      "\u001b[1m> Finished chain.\u001b[0m\n",
      "\n",
      "\u001b[1m> Finished chain.\u001b[0m\n",
      "KnowledgeBaseDocs/CoverageofYoungAdultsinNJ/Coverage of Young Adults in New Jersey Up to Age 31.pdf\n",
      "Is there a cost associated with adding my child by taking the New Jersey Under 31 (DU31) election?\n",
      "No there is no cost to adding a child who is eligible for the DU31 election. Please check the link below to verify that you are eligible.\n"
     ]
    },
    {
     "name": "stdin",
     "output_type": "stream",
     "text": [
      "Would you like to ask a related question? Enter Y for yes and N for no. n\n"
     ]
    }
   ],
   "source": [
    "#YA Coverage\n",
    "answer_question(\"Is there a cost associated with adding my child by taking the New Jersey Under 31 (DU31) election?\")"
   ]
  },
  {
   "cell_type": "code",
   "execution_count": 41,
   "id": "709263d3-20a0-47b0-b92f-da46e73e1df6",
   "metadata": {},
   "outputs": [
    {
     "name": "stdin",
     "output_type": "stream",
     "text": [
      "What plan does the customer have? Enter BR for braven, MED for medicare, IC for insurance claim form,\n",
      " YA for Young Adult Coverage, AS for Assistant at Surgery, NS for Nutritional Support GEN for general, or ALL for everything.\n",
      " ya\n"
     ]
    },
    {
     "name": "stderr",
     "output_type": "stream",
     "text": [
      "Using embedded DuckDB with persistence: data will be stored in: AIProjectDB/vector_db\n"
     ]
    },
    {
     "name": "stdout",
     "output_type": "stream",
     "text": [
      "\n",
      "\n",
      "\u001b[1m> Entering new StuffDocumentsChain chain...\u001b[0m\n",
      "\n",
      "\n",
      "\u001b[1m> Entering new LLMChain chain...\u001b[0m\n",
      "Prompt after formatting:\n",
      "\u001b[32;1m\u001b[1;3mBelow is an instruction that describes a task. Write a response that appropriately completes the request.\n",
      "\n",
      "    Instructions:\n",
      "    You are a customer service representative at a health insurance company and your job is to help providing the best accurate answer to a customer. \n",
      "    1. Limit your response to the information provided in this prompt. Do not conduct refer to external sources.\n",
      "    2. Focus on the infromation rpesented here to form your answer.\n",
      "    3. Do not include personal opinions or assumptions; stick to the facts provided in the prompt.\n",
      "    4. Explain the answer with reference to the provided paragraphs. If the answer is not in the paragraphs, say that you do not know.\n",
      "    5. Write your answer below the prompt.\n",
      "\n",
      "    Self-funded plans of public employers are subject to the laws of the states where located. So, although the SHBP is self-funded, because P.L. 2005, C. 375 specifically said the DU31 law applies to the SHBP, the SHBP must comply with the law. (Other self-funded plans of public employers were not specifically included under P.L. 2005, c. 375.) For more information about the SHBP, contact the Division of Pension and Benefits in the Department of Treasury.\n",
      "\n",
      "10. So, to satisfy the second part of the DU31 eligibility test, must the parent have elected\n",
      "\n",
      "really elect coverage on his or her parent’s policy? Yes, so long as the young adult gives up coverage under his or her employer’s group health plan on or before the date coverage under the DU31 election becomes effective.\n",
      "\n",
      "Before a young adult decides to discontinue an employer’s coverage, he or she should carefully consider the benefits available under the various coverage options, the costs, conditions for keeping coverage, the opportunities for returning to his or her employer’s group health plan, and his or her personal circumstances. (For example, is the young adult expecting to marry in the near future?) There is no one- size-fits-all answer as to whether it is better for a young adult to keep his or her employer’s coverage or make a DU31 election.\n",
      "\n",
      "to COBRA. DU31 is a New Jersey law that allows children older than the child-dependent age in a parent’s coverage to elect to remain covered until age 31, if certain other eligibility standards are met. In all instances, the person making the continuation election may be responsible for the full applicable premium, plus a 2% administrative fee – the employer is not required to contribute to the premium at all.\n",
      "\n",
      "    Question: I am switching employers, will this impact my child’s DU31 plan?\n",
      "\n",
      "    Response:\n",
      "    \u001b[0m\n",
      "\n",
      "\u001b[1m> Finished chain.\u001b[0m\n",
      "\n",
      "\u001b[1m> Finished chain.\u001b[0m\n",
      "KnowledgeBaseDocs/CoverageofYoungAdultsinNJ/Coverage of Young Adults in New Jersey Up to Age 31.pdf\n",
      "I am switching employers, will this impact my child’s DU31 plan?\n",
      "No, as long as the young adult gives up coverage under his or her employer’s group health plan on or before the date coverage under the DU31 election becomes effective.\n"
     ]
    },
    {
     "name": "stdin",
     "output_type": "stream",
     "text": [
      "Would you like to ask a related question? Enter Y for yes and N for no. n\n"
     ]
    }
   ],
   "source": [
    "#YA Coverage\n",
    "answer_question(\"I am switching employers, will this impact my child’s DU31 plan?\")"
   ]
  },
  {
   "cell_type": "code",
   "execution_count": 42,
   "id": "85bbcf93-0633-4583-b6df-29c3b21da459",
   "metadata": {
    "tags": []
   },
   "outputs": [
    {
     "name": "stdin",
     "output_type": "stream",
     "text": [
      "What plan does the customer have? Enter BR for braven, MED for medicare, IC for insurance claim form,\n",
      " YA for Young Adult Coverage, AS for Assistant at Surgery, NS for Nutritional Support GEN for general, or ALL for everything.\n",
      " ya\n"
     ]
    },
    {
     "name": "stderr",
     "output_type": "stream",
     "text": [
      "Using embedded DuckDB with persistence: data will be stored in: AIProjectDB/vector_db\n"
     ]
    },
    {
     "name": "stdout",
     "output_type": "stream",
     "text": [
      "\n",
      "\n",
      "\u001b[1m> Entering new StuffDocumentsChain chain...\u001b[0m\n",
      "\n",
      "\n",
      "\u001b[1m> Entering new LLMChain chain...\u001b[0m\n",
      "Prompt after formatting:\n",
      "\u001b[32;1m\u001b[1;3mBelow is an instruction that describes a task. Write a response that appropriately completes the request.\n",
      "\n",
      "    Instructions:\n",
      "    You are a customer service representative at a health insurance company and your job is to help providing the best accurate answer to a customer. \n",
      "    1. Limit your response to the information provided in this prompt. Do not conduct refer to external sources.\n",
      "    2. Focus on the infromation rpesented here to form your answer.\n",
      "    3. Do not include personal opinions or assumptions; stick to the facts provided in the prompt.\n",
      "    4. Explain the answer with reference to the provided paragraphs. If the answer is not in the paragraphs, say that you do not know.\n",
      "    5. Write your answer below the prompt.\n",
      "\n",
      "    10. So, to satisfy the second part of the DU31 eligibility test, must the parent have elected\n",
      "\n",
      "dependent coverage before a young adult can make a DU31 election? IT DEPENDS. The coverage must allow for dependent coverage to be elected (and most group health benefits plans do), but whether the parent has to make a dependent election depends on the circumstances involved.\n",
      "\n",
      "is not covered under another group health plan, church plan, individual health benefits plan and is not entitled to Medicare as of the date that coverage under the parent’s group health benefits plan would begin (note: a young adult can have other coverage upon the date the DU31 election is made, but not upon the date the DU31 coverage becomes effective);\n",
      "\n",
      "does not have any children; and\n",
      "\n",
      "does not have a spouse, civil union partner or domestic partner.\n",
      "\n",
      "The DU31 Law DOES NOT Require That:\n",
      "\n",
      "the young adult be economically dependent on the parent\n",
      "\n",
      "the young adult live in the same house with the parent\n",
      "\n",
      "the young adult exhaust coverage continued through COBRA or NJSGC\n",
      "\n",
      "the young adult be ineligible for other coverage\n",
      "\n",
      "the young adult have continuous prior creditable coverage\n",
      "\n",
      "If a young adult is DU31 ineligible, but still a full-time student, he or she might be able to obtain coverage under group student insurance purchased by the college or university.\n",
      "\n",
      "If a young adult is DU31 ineligible because he or she has one or more children, NJ FamilyCare might be an option. Depending on gross income, the young adult may be able to insure the family, or may be able to insure his or her child(ren) only.\n",
      "\n",
      "More questions...\n",
      "\n",
      "More Questions\n",
      "\n",
      "https://www.state.nj.us/dobi/division_consumers/du31.html#whateligibility\n",
      "\n",
      "5/15\n",
      "\n",
      "8/7/23, 2:39 PM\n",
      "\n",
      "Coverage of Young Adults in New Jersey Up to Age 31\n",
      "\n",
      "1. What is DU31? Answer\n",
      "\n",
      "2. What are the eligibility requirements? Answer\n",
      "\n",
      "3.\n",
      "\n",
      "    Question: Can I enroll my son under a DU31 plan if he does not live in the same house as me?\n",
      "\n",
      "    Response:\n",
      "    \u001b[0m\n",
      "\n",
      "\u001b[1m> Finished chain.\u001b[0m\n",
      "\n",
      "\u001b[1m> Finished chain.\u001b[0m\n",
      "KnowledgeBaseDocs/CoverageofYoungAdultsinNJ/Coverage of Young Adults in New Jersey Up to Age 31.pdf\n",
      "Can I enroll my son under a DU31 plan if he does not live in the same house as me?\n",
      "The DU31 Law DOES NOT Require That:\n",
      "\n",
      "the young adult be economically dependent on the parent\n",
      "\n",
      "the young adult live in the same house with the parent\n",
      "\n",
      "the young adult exhaust coverage continued through COBRA or NJSGC\n",
      "\n",
      "the young adult be ineligible for other coverage\n",
      "\n",
      "the young adult have continuous prior creditable coverage\n",
      "\n",
      "If a young adult is DU31 ineligible, but still a full-time student, he or she might be able to obtain coverage under group student insurance purchased by the college or university.\n",
      "\n",
      "If a young adult is DU31 ineligible because he or she has one or more children, NJ FamilyCare might be an option. Depending on gross income, the young adult may be able to insure the family, or may be able to insure his or her child(ren) only.\n",
      "\n",
      "More questions...\n",
      "\n",
      "More Questions\n",
      "\n",
      "https://www.state.nj.us/dobi/division_consumers/du31.html#whateligibility\n",
      "\n",
      "4/15\n",
      "\n",
      "8/7/23, 2:39 PM\n",
      "\n",
      "Coverage of Young Adults in New Jersey Up to Age 31\n",
      "\n",
      "  1. What is DU31? \n",
      "  2. What are\n"
     ]
    },
    {
     "name": "stdin",
     "output_type": "stream",
     "text": [
      "Would you like to ask a related question? Enter Y for yes and N for no. n\n"
     ]
    }
   ],
   "source": [
    "#YA Coverage\n",
    "answer_question(\"Can I enroll my son under a DU31 plan if he does not live in the same house as me?\")"
   ]
  },
  {
   "cell_type": "code",
   "execution_count": 43,
   "id": "19fd2386-3722-44c8-a924-13f793c5d31e",
   "metadata": {},
   "outputs": [
    {
     "name": "stdin",
     "output_type": "stream",
     "text": [
      "What plan does the customer have? Enter BR for braven, MED for medicare, IC for insurance claim form,\n",
      " YA for Young Adult Coverage, AS for Assistant at Surgery, NS for Nutritional Support GEN for general, or ALL for everything.\n",
      " as\n"
     ]
    },
    {
     "name": "stderr",
     "output_type": "stream",
     "text": [
      "Using embedded DuckDB with persistence: data will be stored in: AIProjectDB/vector_db\n"
     ]
    },
    {
     "name": "stdout",
     "output_type": "stream",
     "text": [
      "\n",
      "\n",
      "\u001b[1m> Entering new StuffDocumentsChain chain...\u001b[0m\n",
      "\n",
      "\n",
      "\u001b[1m> Entering new LLMChain chain...\u001b[0m\n",
      "Prompt after formatting:\n",
      "\u001b[32;1m\u001b[1;3mBelow is an instruction that describes a task. Write a response that appropriately completes the request.\n",
      "\n",
      "    Instructions:\n",
      "    You are a customer service representative at a health insurance company and your job is to help providing the best accurate answer to a customer. \n",
      "    1. Limit your response to the information provided in this prompt. Do not conduct refer to external sources.\n",
      "    2. Focus on the infromation rpesented here to form your answer.\n",
      "    3. Do not include personal opinions or assumptions; stick to the facts provided in the prompt.\n",
      "    4. Explain the answer with reference to the provided paragraphs. If the answer is not in the paragraphs, say that you do not know.\n",
      "    5. Write your answer below the prompt.\n",
      "\n",
      "    8/7/23, 9:27 PM\n",
      "\n",
      "Assistant at Surgery - Horizon Blue Cross Blue Shield of New Jersey\n",
      "\n",
      "COVID-19\n",
      "\n",
      "Stay informed. Get the latest information on COVID-19. (/providers/covid-19-information)\n",
      "\n",
      "M\n",
      "\n",
      "%\n",
      "\n",
      "Assistant at Surgery\n",
      "\n",
      "Reimbursement Policy:\n",
      "\n",
      "Assistant at Surgery\n",
      "\n",
      "Effective Date:\n",
      "\n",
      "February 1, 2008\n",
      "\n",
      "Revision Date:\n",
      "\n",
      "November 30, 2015\n",
      "\n",
      "Purpose:\n",
      "\n",
      "Provide guidelines for the reimbursement and eligibility of Assistant at Surgery modi\u0000ers. This policy applies to professional providers.\n",
      "\n",
      "Scope:\n",
      "\n",
      "All products are included, except products where Horizon BCBSNJ is secondary to Medicare (e.g. Medigap).\n",
      "\n",
      "All Insured and Administrative Services Only (ASO) accounts are included.\n",
      "\n",
      "De\u0000nitions:\n",
      "\n",
      "Assistant at Surgery: Practitioner who actively assists the physician in charge in performing surgical procedures.\n",
      "\n",
      "Scope:\n",
      "\n",
      "All products are included, except products where Horizon BCBSNJ is secondary to Medicare (e.g. Medigap).\n",
      "\n",
      "All Insured and Administrative Services Only (ASO) accounts are included.\n",
      "\n",
      "De\u0000nitions:\n",
      "\n",
      "Assistant at Surgery: Practitioner who actively assists the physician in charge in performing surgical procedures.\n",
      "\n",
      "Modi\u0000er 80: Used when the assistant surgeon services were provided by a medical doctor. Modi\u0000er 81: Used to identify minimum assistant surgeon services; only submitted with surgery codes.\n",
      "\n",
      "Modi\u0000er 82: used when the assistant surgeon services were provided by a medical doctor and no quali\u0000ed resident was available.\n",
      "\n",
      "Modi\u0000er AS: Used when the assistant surgeon services were provided by a Physician Assistant (PA), Nurse Practitioner (NP) or Clinical Nurse Specialist (CNS), Registered Nurse First Assistant (RFNA)\n",
      "\n",
      "Policy:\n",
      "\n",
      "In accordance with Assistant Surgeon College (ASC) guidelines, Horizon BCBSNJ considers an assistant at surgery medically necessary when the complexity of the surgical\n",
      "\n",
      "procedure necessitates the primary surgeon have additional skilled operative assistance from any of the following:\n",
      "\n",
      "1. Another surgeon\n",
      "\n",
      "2. A licensed Physician Assistant/Nurse Practitioner 3. A Registered Nurse First Assistant\n",
      "\n",
      "For a list of procedure codes in which an assistant at surgery is NOT considered medically necessary, please review Horizon BCBSNJ Medical Policy Assistants at Surgery.\n",
      "\n",
      "Procedure:\n",
      "\n",
      "    Question: When was the Assistant at Surgery document's last revision date?\n",
      "\n",
      "    Response:\n",
      "    \u001b[0m\n",
      "\n",
      "\u001b[1m> Finished chain.\u001b[0m\n",
      "\n",
      "\u001b[1m> Finished chain.\u001b[0m\n",
      "KnowledgeBaseDocs/AssistantAtSurgery/Assistant at Surgery.pdf\n",
      "When was the Assistant at Surgery document's last revision date?\n",
      "November 30, 2015\n"
     ]
    },
    {
     "name": "stdin",
     "output_type": "stream",
     "text": [
      "Would you like to ask a related question? Enter Y for yes and N for no. n\n"
     ]
    }
   ],
   "source": [
    "#Assistant At Surgery\n",
    "answer_question(\"When was the Assistant at Surgery document's last revision date?\")"
   ]
  },
  {
   "cell_type": "code",
   "execution_count": 44,
   "id": "e8e2dc9e-fb56-4869-8f30-de82f39e2de0",
   "metadata": {},
   "outputs": [
    {
     "name": "stdin",
     "output_type": "stream",
     "text": [
      "What plan does the customer have? Enter BR for braven, MED for medicare, IC for insurance claim form,\n",
      " YA for Young Adult Coverage, AS for Assistant at Surgery, NS for Nutritional Support GEN for general, or ALL for everything.\n",
      " as\n"
     ]
    },
    {
     "name": "stderr",
     "output_type": "stream",
     "text": [
      "Using embedded DuckDB with persistence: data will be stored in: AIProjectDB/vector_db\n"
     ]
    },
    {
     "name": "stdout",
     "output_type": "stream",
     "text": [
      "\n",
      "\n",
      "\u001b[1m> Entering new StuffDocumentsChain chain...\u001b[0m\n",
      "\n",
      "\n",
      "\u001b[1m> Entering new LLMChain chain...\u001b[0m\n",
      "Prompt after formatting:\n",
      "\u001b[32;1m\u001b[1;3mBelow is an instruction that describes a task. Write a response that appropriately completes the request.\n",
      "\n",
      "    Instructions:\n",
      "    You are a customer service representative at a health insurance company and your job is to help providing the best accurate answer to a customer. \n",
      "    1. Limit your response to the information provided in this prompt. Do not conduct refer to external sources.\n",
      "    2. Focus on the infromation rpesented here to form your answer.\n",
      "    3. Do not include personal opinions or assumptions; stick to the facts provided in the prompt.\n",
      "    4. Explain the answer with reference to the provided paragraphs. If the answer is not in the paragraphs, say that you do not know.\n",
      "    5. Write your answer below the prompt.\n",
      "\n",
      "    Scope:\n",
      "\n",
      "All products are included, except products where Horizon BCBSNJ is secondary to Medicare (e.g. Medigap).\n",
      "\n",
      "All Insured and Administrative Services Only (ASO) accounts are included.\n",
      "\n",
      "De\u0000nitions:\n",
      "\n",
      "Assistant at Surgery: Practitioner who actively assists the physician in charge in performing surgical procedures.\n",
      "\n",
      "Modi\u0000er 80: Used when the assistant surgeon services were provided by a medical doctor. Modi\u0000er 81: Used to identify minimum assistant surgeon services; only submitted with surgery codes.\n",
      "\n",
      "Modi\u0000er 82: used when the assistant surgeon services were provided by a medical doctor and no quali\u0000ed resident was available.\n",
      "\n",
      "8/7/23, 9:27 PM\n",
      "\n",
      "Assistant at Surgery - Horizon Blue Cross Blue Shield of New Jersey\n",
      "\n",
      "COVID-19\n",
      "\n",
      "Stay informed. Get the latest information on COVID-19. (/providers/covid-19-information)\n",
      "\n",
      "M\n",
      "\n",
      "%\n",
      "\n",
      "Assistant at Surgery\n",
      "\n",
      "Reimbursement Policy:\n",
      "\n",
      "Assistant at Surgery\n",
      "\n",
      "Effective Date:\n",
      "\n",
      "February 1, 2008\n",
      "\n",
      "Revision Date:\n",
      "\n",
      "November 30, 2015\n",
      "\n",
      "Purpose:\n",
      "\n",
      "Provide guidelines for the reimbursement and eligibility of Assistant at Surgery modi\u0000ers. This policy applies to professional providers.\n",
      "\n",
      "Scope:\n",
      "\n",
      "All products are included, except products where Horizon BCBSNJ is secondary to Medicare (e.g. Medigap).\n",
      "\n",
      "All Insured and Administrative Services Only (ASO) accounts are included.\n",
      "\n",
      "De\u0000nitions:\n",
      "\n",
      "Assistant at Surgery: Practitioner who actively assists the physician in charge in performing surgical procedures.\n",
      "\n",
      "Modi\u0000er 80: Used when the assistant surgeon services were provided by a medical doctor. Modi\u0000er 81: Used to identify minimum assistant surgeon services; only submitted with surgery codes.\n",
      "\n",
      "Modi\u0000er 82: used when the assistant surgeon services were provided by a medical doctor and no quali\u0000ed resident was available.\n",
      "\n",
      "Modi\u0000er AS: Used when the assistant surgeon services were provided by a Physician Assistant (PA), Nurse Practitioner (NP) or Clinical Nurse Specialist (CNS), Registered Nurse First Assistant (RFNA)\n",
      "\n",
      "Policy:\n",
      "\n",
      "In accordance with Assistant Surgeon College (ASC) guidelines, Horizon BCBSNJ considers an assistant at surgery medically necessary when the complexity of the surgical\n",
      "\n",
      "    Question: What is the scope?\n",
      "\n",
      "    Response:\n",
      "    \u001b[0m\n",
      "\n",
      "\u001b[1m> Finished chain.\u001b[0m\n",
      "\n",
      "\u001b[1m> Finished chain.\u001b[0m\n",
      "KnowledgeBaseDocs/AssistantAtSurgery/Assistant at Surgery.pdf\n",
      "What is the scope?\n",
      "Assistant at Surgery: Practitioner who actively assists the physician in charge in performing surgical procedures.\n",
      "\n",
      "Modi\u0000er 80: Used when the assistant surgeon services were provided by a medical doctor. Modi\u0000er 81: Used to identify minimum assistant surgeon services; only submitted with surgery codes.\n",
      "\n",
      "Modi\u0000er 82: used when the assistant surgeon services were provided by a medical doctor and no qualified resident was available.\n",
      "\n",
      "Modi\u0000er AS: Used when the assistant surgeon services were provided by a Physician Assistant (PA), Nurse Practitioner (NP) or Clinical Nurse Specialist (CNS), Registered Nurse First Assistant (RFNA)\n"
     ]
    },
    {
     "name": "stdin",
     "output_type": "stream",
     "text": [
      "Would you like to ask a related question? Enter Y for yes and N for no. n\n"
     ]
    }
   ],
   "source": [
    "#Assistant At Surgery\n",
    "answer_question(\"What is the scope?\")"
   ]
  },
  {
   "cell_type": "code",
   "execution_count": 57,
   "id": "b2cbbcbf-c0e9-468a-b31e-521d6a790769",
   "metadata": {},
   "outputs": [
    {
     "name": "stdin",
     "output_type": "stream",
     "text": [
      "What plan does the customer have? Enter BR for braven, MED for medicare, IC for insurance claim form,\n",
      " YA for Young Adult Coverage, AS for Assistant at Surgery, NS for Nutritional Support GEN for general, or ALL for everything.\n",
      " as\n"
     ]
    },
    {
     "name": "stderr",
     "output_type": "stream",
     "text": [
      "Using embedded DuckDB with persistence: data will be stored in: AIProjectDB/vector_db\n"
     ]
    },
    {
     "name": "stdout",
     "output_type": "stream",
     "text": [
      "\n",
      "\n",
      "\u001b[1m> Entering new StuffDocumentsChain chain...\u001b[0m\n",
      "\n",
      "\n",
      "\u001b[1m> Entering new LLMChain chain...\u001b[0m\n",
      "Prompt after formatting:\n",
      "\u001b[32;1m\u001b[1;3mBelow is an instruction that describes a task. Write a response that appropriately completes the request.\n",
      "\n",
      "    Instructions:\n",
      "    You are a customer service representative at a health insurance company and your job is to help providing the best accurate answer to a customer. \n",
      "    1. Limit your response to the information provided in this prompt. Do not conduct refer to external sources.\n",
      "    2. Focus on the infromation rpesented here to form your answer.\n",
      "    3. Do not include personal opinions or assumptions; stick to the facts provided in the prompt.\n",
      "    4. Explain the answer with reference to the provided paragraphs. If the answer is not in the paragraphs, say that you do not know.\n",
      "    5. Write your answer below the prompt.\n",
      "\n",
      "    Modi\u0000er 80: Used when the assistant surgeon services were provided by a medical doctor. Modi\u0000er 81: Used to identify minimum assistant surgeon services; only submitted with surgery codes.\n",
      "\n",
      "Modi\u0000er 82: used when the assistant surgeon services were provided by a medical doctor and no quali\u0000ed resident was available.\n",
      "\n",
      "Modi\u0000er AS: Used when the assistant surgeon services were provided by a Physician Assistant (PA), Nurse Practitioner (NP) or Clinical Nurse Specialist (CNS), Registered Nurse First Assistant (RFNA)\n",
      "\n",
      "Policy:\n",
      "\n",
      "In accordance with Assistant Surgeon College (ASC) guidelines, Horizon BCBSNJ considers an assistant at surgery medically necessary when the complexity of the surgical\n",
      "\n",
      "Scope:\n",
      "\n",
      "All products are included, except products where Horizon BCBSNJ is secondary to Medicare (e.g. Medigap).\n",
      "\n",
      "All Insured and Administrative Services Only (ASO) accounts are included.\n",
      "\n",
      "De\u0000nitions:\n",
      "\n",
      "Assistant at Surgery: Practitioner who actively assists the physician in charge in performing surgical procedures.\n",
      "\n",
      "Modi\u0000er 80: Used when the assistant surgeon services were provided by a medical doctor. Modi\u0000er 81: Used to identify minimum assistant surgeon services; only submitted with surgery codes.\n",
      "\n",
      "Modi\u0000er 82: used when the assistant surgeon services were provided by a medical doctor and no quali\u0000ed resident was available.\n",
      "\n",
      "Modi\u0000er AS: Used when the assistant surgeon services were provided by a Physician Assistant (PA), Nurse Practitioner (NP) or Clinical Nurse Specialist (CNS), Registered Nurse First Assistant (RFNA)\n",
      "\n",
      "Policy:\n",
      "\n",
      "In accordance with Assistant Surgeon College (ASC) guidelines, Horizon BCBSNJ considers an assistant at surgery medically necessary when the complexity of the surgical\n",
      "\n",
      "procedure necessitates the primary surgeon have additional skilled operative assistance from any of the following:\n",
      "\n",
      "1. Another surgeon\n",
      "\n",
      "2. A licensed Physician Assistant/Nurse Practitioner 3. A Registered Nurse First Assistant\n",
      "\n",
      "For a list of procedure codes in which an assistant at surgery is NOT considered medically necessary, please review Horizon BCBSNJ Medical Policy Assistants at Surgery.\n",
      "\n",
      "Procedure:\n",
      "\n",
      "    Question: What is a Modifier 82?\n",
      "\n",
      "    Response:\n",
      "    \u001b[0m\n",
      "\n",
      "\u001b[1m> Finished chain.\u001b[0m\n",
      "\n",
      "\u001b[1m> Finished chain.\u001b[0m\n",
      "KnowledgeBaseDocs/AssistantAtSurgery/Assistant at Surgery.pdf\n",
      "What is a Modifier 82?\n",
      "A modifier 82 is used for procedures where the primary surgeon has an assistant at surgery that is not a licensed physician assistant or nurse practitioner or a registered nurse first assistant.\n"
     ]
    },
    {
     "name": "stdin",
     "output_type": "stream",
     "text": [
      "Would you like to ask a related question? Enter Y for yes and N for no. n\n"
     ]
    }
   ],
   "source": [
    "#Assistant At Surgery\n",
    "answer_question(\"What is a Modifier 82?\")"
   ]
  },
  {
   "cell_type": "code",
   "execution_count": 45,
   "id": "a5023398-e754-41f4-a4a7-b0624158ea79",
   "metadata": {},
   "outputs": [
    {
     "name": "stdin",
     "output_type": "stream",
     "text": [
      "What plan does the customer have? Enter BR for braven, MED for medicare, IC for insurance claim form,\n",
      " YA for Young Adult Coverage, AS for Assistant at Surgery, NS for Nutritional Support GEN for general, or ALL for everything.\n",
      " as\n"
     ]
    },
    {
     "name": "stderr",
     "output_type": "stream",
     "text": [
      "Using embedded DuckDB with persistence: data will be stored in: AIProjectDB/vector_db\n"
     ]
    },
    {
     "name": "stdout",
     "output_type": "stream",
     "text": [
      "\n",
      "\n",
      "\u001b[1m> Entering new StuffDocumentsChain chain...\u001b[0m\n",
      "\n",
      "\n",
      "\u001b[1m> Entering new LLMChain chain...\u001b[0m\n",
      "Prompt after formatting:\n",
      "\u001b[32;1m\u001b[1;3mBelow is an instruction that describes a task. Write a response that appropriately completes the request.\n",
      "\n",
      "    Instructions:\n",
      "    You are a customer service representative at a health insurance company and your job is to help providing the best accurate answer to a customer. \n",
      "    1. Limit your response to the information provided in this prompt. Do not conduct refer to external sources.\n",
      "    2. Focus on the infromation rpesented here to form your answer.\n",
      "    3. Do not include personal opinions or assumptions; stick to the facts provided in the prompt.\n",
      "    4. Explain the answer with reference to the provided paragraphs. If the answer is not in the paragraphs, say that you do not know.\n",
      "    5. Write your answer below the prompt.\n",
      "\n",
      "    follows:\n",
      "\n",
      "Modi\u0000er\n",
      "\n",
      "Reimbursement\n",
      "\n",
      "80\n",
      "\n",
      "16% of applicable Horizon BCBSNJ fee schedule\n",
      "\n",
      "81\n",
      "\n",
      "16% of applicable Horizon BCBSNJ fee schedule\n",
      "\n",
      "82\n",
      "\n",
      "16% of applicable Horizon BCBSNJ fee schedule\n",
      "\n",
      "AS (RNFA)\n",
      "\n",
      "10.4% of the primary surgeon’s applicable Horizon BCBSNJ fee schedule (in accordance with NJ State Mandate).\n",
      "\n",
      "AS (Other than RNFA)\n",
      "\n",
      "13.6% of the applicable Horizon BCBSNJ fee schedule\n",
      "\n",
      "Multiple procedure reductions shall apply if an assistant at surgery submits multiple procedure codes. For additional information on multiple procedure reductions, please refer\n",
      "\n",
      "to Horizon BCBSNJ’s reimbursement policy Multiple Procedure Reductions.\n",
      "\n",
      "No additional reimbursement will be made if the provider is capitated or the reimbursement structure for that provider is a global fee.\n",
      "\n",
      "Scope:\n",
      "\n",
      "All products are included, except products where Horizon BCBSNJ is secondary to Medicare (e.g. Medigap).\n",
      "\n",
      "All Insured and Administrative Services Only (ASO) accounts are included.\n",
      "\n",
      "De\u0000nitions:\n",
      "\n",
      "Assistant at Surgery: Practitioner who actively assists the physician in charge in performing surgical procedures.\n",
      "\n",
      "Modi\u0000er 80: Used when the assistant surgeon services were provided by a medical doctor. Modi\u0000er 81: Used to identify minimum assistant surgeon services; only submitted with surgery codes.\n",
      "\n",
      "Modi\u0000er 82: used when the assistant surgeon services were provided by a medical doctor and no quali\u0000ed resident was available.\n",
      "\n",
      "Modi\u0000er 80: Used when the assistant surgeon services were provided by a medical doctor. Modi\u0000er 81: Used to identify minimum assistant surgeon services; only submitted with surgery codes.\n",
      "\n",
      "Modi\u0000er 82: used when the assistant surgeon services were provided by a medical doctor and no quali\u0000ed resident was available.\n",
      "\n",
      "Modi\u0000er AS: Used when the assistant surgeon services were provided by a Physician Assistant (PA), Nurse Practitioner (NP) or Clinical Nurse Specialist (CNS), Registered Nurse First Assistant (RFNA)\n",
      "\n",
      "Policy:\n",
      "\n",
      "In accordance with Assistant Surgeon College (ASC) guidelines, Horizon BCBSNJ considers an assistant at surgery medically necessary when the complexity of the surgical\n",
      "\n",
      "    Question: What does a modifier 81 reimburse at?\n",
      "\n",
      "    Response:\n",
      "    \u001b[0m\n",
      "\n",
      "\u001b[1m> Finished chain.\u001b[0m\n",
      "\n",
      "\u001b[1m> Finished chain.\u001b[0m\n",
      "KnowledgeBaseDocs/AssistantAtSurgery/Assistant at Surgery.pdf\n",
      "What does a modifier 81 reimburse at?\n",
      "The following reimbursement amounts apply to a modifier 81:\n",
      "\n",
      "Modi\u0000er 81: 16% of the applicable Horizon BCBSNJ fee schedule\n",
      "\n",
      "Modi\u0000er 82: 16% of the applicable Horizon BCBSNJ fee schedule\n"
     ]
    },
    {
     "name": "stdin",
     "output_type": "stream",
     "text": [
      "Would you like to ask a related question? Enter Y for yes and N for no. n\n"
     ]
    }
   ],
   "source": [
    "#Assistant At Surgery\n",
    "answer_question(\"What does a modifier 81 reimburse at?\")"
   ]
  },
  {
   "cell_type": "code",
   "execution_count": 46,
   "id": "f4e5b8f5-3c22-42e6-b311-f7a2daf9a3a0",
   "metadata": {},
   "outputs": [
    {
     "name": "stdin",
     "output_type": "stream",
     "text": [
      "What plan does the customer have? Enter BR for braven, MED for medicare, IC for insurance claim form,\n",
      " YA for Young Adult Coverage, AS for Assistant at Surgery, NS for Nutritional Support GEN for general, or ALL for everything.\n",
      " as\n"
     ]
    },
    {
     "name": "stderr",
     "output_type": "stream",
     "text": [
      "Using embedded DuckDB with persistence: data will be stored in: AIProjectDB/vector_db\n"
     ]
    },
    {
     "name": "stdout",
     "output_type": "stream",
     "text": [
      "\n",
      "\n",
      "\u001b[1m> Entering new StuffDocumentsChain chain...\u001b[0m\n",
      "\n",
      "\n",
      "\u001b[1m> Entering new LLMChain chain...\u001b[0m\n",
      "Prompt after formatting:\n",
      "\u001b[32;1m\u001b[1;3mBelow is an instruction that describes a task. Write a response that appropriately completes the request.\n",
      "\n",
      "    Instructions:\n",
      "    You are a customer service representative at a health insurance company and your job is to help providing the best accurate answer to a customer. \n",
      "    1. Limit your response to the information provided in this prompt. Do not conduct refer to external sources.\n",
      "    2. Focus on the infromation rpesented here to form your answer.\n",
      "    3. Do not include personal opinions or assumptions; stick to the facts provided in the prompt.\n",
      "    4. Explain the answer with reference to the provided paragraphs. If the answer is not in the paragraphs, say that you do not know.\n",
      "    5. Write your answer below the prompt.\n",
      "\n",
      "    1/5\n",
      "\n",
      "8/7/23, 9:27 PM\n",
      "\n",
      "Assistant at Surgery - Horizon Blue Cross Blue Shield of New Jersey\n",
      "\n",
      "In instances where the provider is not participating, member liability shall be up to the provider’s charge.\n",
      "\n",
      "Limitations and Exclusions:\n",
      "\n",
      "While reimbursement is considered, payment determination is subject to, but not limited to:\n",
      "\n",
      "Group or Individual bene\u0000t Provider Participation Agreement Routine claim editing logic, including but not limited to incidental or mutually exclusive logic, and medical necessity Mandated or legislative required criteria will always supersede.\n",
      "\n",
      "Policy 091_v1.0_10122015\n",
      "\n",
      "~ (//www.facebook.com/HorizonBCBSNJ) [ (//twitter.com/horizonbcbsnj)\n",
      "\n",
      "| (//www.linkedin.com/company/horizonbcbsnj) ^ (//instagram.com/HorizonBCBSNJ)\n",
      "\n",
      "Multiple procedure reductions shall apply if an assistant at surgery submits multiple procedure codes. For additional information on multiple procedure reductions, please refer\n",
      "\n",
      "to Horizon BCBSNJ’s reimbursement policy Multiple Procedure Reductions.\n",
      "\n",
      "No additional reimbursement will be made if the provider is capitated or the reimbursement structure for that provider is a global fee.\n",
      "\n",
      "In instances where the provider is participating, based on member bene\u0000ts, co-payment, coinsurance, and/or deductible shall apply.\n",
      "\n",
      "https://www.horizonblue.com/providers/policies-procedures/policies/reimbursement-policies-guidelines/assistant-at-surgery\n",
      "\n",
      "1/5\n",
      "\n",
      "8/7/23, 9:27 PM\n",
      "\n",
      "Assistant at Surgery - Horizon Blue Cross Blue Shield of New Jersey\n",
      "\n",
      "Scope:\n",
      "\n",
      "All products are included, except products where Horizon BCBSNJ is secondary to Medicare (e.g. Medigap).\n",
      "\n",
      "All Insured and Administrative Services Only (ASO) accounts are included.\n",
      "\n",
      "De\u0000nitions:\n",
      "\n",
      "Assistant at Surgery: Practitioner who actively assists the physician in charge in performing surgical procedures.\n",
      "\n",
      "Modi\u0000er 80: Used when the assistant surgeon services were provided by a medical doctor. Modi\u0000er 81: Used to identify minimum assistant surgeon services; only submitted with surgery codes.\n",
      "\n",
      "Modi\u0000er 82: used when the assistant surgeon services were provided by a medical doctor and no quali\u0000ed resident was available.\n",
      "\n",
      "    Question: Are there any limitations and exclusions?\n",
      "\n",
      "    Response:\n",
      "    \u001b[0m\n",
      "\n",
      "\u001b[1m> Finished chain.\u001b[0m\n",
      "\n",
      "\u001b[1m> Finished chain.\u001b[0m\n",
      "KnowledgeBaseDocs/AssistantAtSurgery/Assistant at Surgery.pdf\n",
      "Are there any limitations and exclusions?\n",
      "No additional reimbursement will be made if the provider is capitated or the reimbursement structure for that provider is a global fee.\n"
     ]
    },
    {
     "name": "stdin",
     "output_type": "stream",
     "text": [
      "Would you like to ask a related question? Enter Y for yes and N for no. n\n"
     ]
    }
   ],
   "source": [
    "#Assistant At Surgery\n",
    "answer_question(\"Are there any limitations and exclusions?\")"
   ]
  },
  {
   "cell_type": "code",
   "execution_count": 52,
   "id": "dab77382-2f4d-4e11-8009-71aec20e1550",
   "metadata": {
    "tags": []
   },
   "outputs": [
    {
     "name": "stdin",
     "output_type": "stream",
     "text": [
      "What plan does the customer have? Enter BR for braven, MED for medicare, IC for insurance claim form,\n",
      " YA for Young Adult Coverage, AS for Assistant at Surgery, NS for Nutritional Support GEN for general, or ALL for everything.\n",
      " ns\n"
     ]
    },
    {
     "name": "stderr",
     "output_type": "stream",
     "text": [
      "Using embedded DuckDB with persistence: data will be stored in: AIProjectDB/vector_db\n"
     ]
    },
    {
     "name": "stdout",
     "output_type": "stream",
     "text": [
      "\n",
      "\n",
      "\u001b[1m> Entering new StuffDocumentsChain chain...\u001b[0m\n",
      "\n",
      "\n",
      "\u001b[1m> Entering new LLMChain chain...\u001b[0m\n",
      "Prompt after formatting:\n",
      "\u001b[32;1m\u001b[1;3mBelow is an instruction that describes a task. Write a response that appropriately completes the request.\n",
      "\n",
      "    Instructions:\n",
      "    You are a customer service representative at a health insurance company and your job is to help providing the best accurate answer to a customer. \n",
      "    1. Limit your response to the information provided in this prompt. Do not conduct refer to external sources.\n",
      "    2. Focus on the infromation rpesented here to form your answer.\n",
      "    3. Do not include personal opinions or assumptions; stick to the facts provided in the prompt.\n",
      "    4. Explain the answer with reference to the provided paragraphs. If the answer is not in the paragraphs, say that you do not know.\n",
      "    5. Write your answer below the prompt.\n",
      "\n",
      "    CPT*\n",
      "\n",
      "HCPCS\n",
      "\n",
      "B4102\n",
      "\n",
      "B4103\n",
      "\n",
      "B4104\n",
      "\n",
      "B4105\n",
      "\n",
      "B4149\n",
      "\n",
      "B4150\n",
      "\n",
      "B4152\n",
      "\n",
      "B4153\n",
      "\n",
      "B4154\n",
      "\n",
      "B4155\n",
      "\n",
      "B4157\n",
      "\n",
      "B4158\n",
      "\n",
      "B4159\n",
      "\n",
      "B4160\n",
      "\n",
      "B4161\n",
      "\n",
      "B4162\n",
      "\n",
      "B4164\n",
      "\n",
      "B4168\n",
      "\n",
      "B4172\n",
      "\n",
      "B4176\n",
      "\n",
      "B4178\n",
      "\n",
      "B4180\n",
      "\n",
      "B4185\n",
      "\n",
      "B4189\n",
      "\n",
      "B4193\n",
      "\n",
      "B4197\n",
      "\n",
      "B4199\n",
      "\n",
      "B4216\n",
      "\n",
      "B4220\n",
      "\n",
      "B4222\n",
      "\n",
      "B4224\n",
      "\n",
      "https://www.horizonblue.com/providers/policies-procedures/policies/medical-policies/detail/ba2116b4-0394-0019-5c60-7ed3fe78670f\n",
      "\n",
      "6/9\n",
      "\n",
      "8/7/23, 7:53 PM\n",
      "\n",
      "Nutritional Support (Infant Formulas, Enteral Nutrition and Total Parenteral Nutrition) | Treatment | Treatment_066 | Current - Medic…\n",
      "\n",
      "B5000 Nutritional Support (Infant Formulas, Enteral Nutrition and Total Parenteral Nutrition) B5100 Print Policy | Questions? Email Us (mailto:medpol_ask@horizonblue.com?subject=Re: Medical policy for Treatment/066) B5200\n",
      "\n",
      "B9002\n",
      "\n",
      "B9004\n",
      "\n",
      "B9006\n",
      "\n",
      "B9998\n",
      "\n",
      "B9999\n",
      "\n",
      "S9340\n",
      "\n",
      "S9341\n",
      "\n",
      "S9342\n",
      "\n",
      "Effective Date: 10/8/2019 7/11/1984. [Available at\n",
      "\n",
      "K(last\n",
      "\n",
      "http://www.cms.hhs.gov/mcd/viewncd.asp?ncd_id=180.2&ncd_version=1&basket=ncd%3A180%2E2%3A1%3AEnteral+and+Parenteral+Nutritional+Therapy accessed 9/19/2006).]\n",
      "\n",
      "http://www.cms.hhs.gov/mcd/viewncd.asp?ncd_id=180.2&ncd_version=1&basket=ncd%3A180%2E2%3A1%3AEnteral+and+Parenteral+Nutritional+Therapy opens a dialog window\n",
      "\n",
      "6. Fiocchi A, Schunemann HJ, Brozek J et al. Diagnosis and Rationale for Action Against Cow’s Milk Allergy (DRACMA): a summary report. J Allergy ClinImmunol. 2010\n",
      "\n",
      "Dec;126(6):1119-28.e12.\n",
      "\n",
      "7. Liacouras CA, Furuta GT, Hirano I et al. Eosinophilic esophagitis: updated consensus recommendation for children and adults. J Allergy ClinImmunol. 2011 Jul;128(1):3-\n",
      "\n",
      "20.\n",
      "\n",
      "disease, including coverage for certain foods and food products.\n",
      "\n",
      "2. New Jersey State Mandate (P.L. 2001, c. 361) approved January 6, 2002, which requires bene\u0000ts for expenses incurred in the purchase of certain infant formulas.\n",
      "\n",
      "3. National Center for Health Statistics (NCHS) of the Centers for Disease Control and Prevention.(www.cdc.gov/nchs/) (accessed 04/11/2002)\n",
      "\n",
      "4. United Nations Population Information Network (POPIN). (www.un.org/popin/) (accessed 05/14/2002)\n",
      "\n",
      "5. Centers for Medicare & Medicaid (CMS). National Coverage Determinations (NCDs): NCD for Enteral and Parenteral Nutritional Therapy. Manual Section Number: 180.2;\n",
      "\n",
      "Effective Date: 10/8/2019 7/11/1984. [Available at\n",
      "\n",
      "K(last\n",
      "\n",
      "    Question: When was the Nutritional Support policy's last review date?\n",
      "\n",
      "    Response:\n",
      "    \u001b[0m\n",
      "\n",
      "\u001b[1m> Finished chain.\u001b[0m\n",
      "\n",
      "\u001b[1m> Finished chain.\u001b[0m\n",
      "KnowledgeBaseDocs/NutrionalSupport/Nutritional Support Medical Policy.pdf\n",
      "When was the Nutritional Support policy's last review date?\n",
      "11/14/2018\n"
     ]
    },
    {
     "name": "stdin",
     "output_type": "stream",
     "text": [
      "Would you like to ask a related question? Enter Y for yes and N for no. n\n"
     ]
    }
   ],
   "source": [
    "#Nutritional Support\n",
    "answer_question(\"When was the Nutritional Support policy's last review date?\")"
   ]
  },
  {
   "cell_type": "code",
   "execution_count": 53,
   "id": "6b96a7d3-3d52-4ef2-ab4c-8828b6cbcfe7",
   "metadata": {
    "tags": []
   },
   "outputs": [
    {
     "name": "stdin",
     "output_type": "stream",
     "text": [
      "What plan does the customer have? Enter BR for braven, MED for medicare, IC for insurance claim form,\n",
      " YA for Young Adult Coverage, AS for Assistant at Surgery, NS for Nutritional Support GEN for general, or ALL for everything.\n",
      " ns\n"
     ]
    },
    {
     "name": "stderr",
     "output_type": "stream",
     "text": [
      "Using embedded DuckDB with persistence: data will be stored in: AIProjectDB/vector_db\n"
     ]
    },
    {
     "name": "stdout",
     "output_type": "stream",
     "text": [
      "\n",
      "\n",
      "\u001b[1m> Entering new StuffDocumentsChain chain...\u001b[0m\n",
      "\n",
      "\n",
      "\u001b[1m> Entering new LLMChain chain...\u001b[0m\n",
      "Prompt after formatting:\n",
      "\u001b[32;1m\u001b[1;3mBelow is an instruction that describes a task. Write a response that appropriately completes the request.\n",
      "\n",
      "    Instructions:\n",
      "    You are a customer service representative at a health insurance company and your job is to help providing the best accurate answer to a customer. \n",
      "    1. Limit your response to the information provided in this prompt. Do not conduct refer to external sources.\n",
      "    2. Focus on the infromation rpesented here to form your answer.\n",
      "    3. Do not include personal opinions or assumptions; stick to the facts provided in the prompt.\n",
      "    4. Explain the answer with reference to the provided paragraphs. If the answer is not in the paragraphs, say that you do not know.\n",
      "    5. Write your answer below the prompt.\n",
      "\n",
      "    Nutritional Support (Infant Formulas, Enteral Nutrition and Total Parenteral Nutrition) Print Policy | Questions? Email Us (mailto:medpol_ask@horizonblue.com?subject=Re: Medical policy for Treatment/066)\n",
      "\n",
      "a body weight below healthy levels determined by the licensed medical practitioner\n",
      "\n",
      "a congenital or acquired condition that places the infant at a high risk for development of necrotizing enterocolitis\n",
      "\n",
      "a congenital or acquired condition that may bene\u0000t from the use of donor breast milk as determined by the Department of Health\n",
      "\n",
      "iii. Coverage for donated human breast milk is subject to utilization review, including periodic review, of the continued medical necessity.\n",
      "\n",
      "Disease - Policy #018 in the Treatment Section of this database.)\n",
      "\n",
      "2. Infant Formula Mandate - ”Specialized non-standard infant formulas” are covered in accordance with the New Jersey State Mandate for coverage of certain\n",
      "\n",
      "infant formulas. The mandate requires that bene\u0000ts be provided ”for expenses incurred in the purchase of specialized non-standard infant formulas, when the\n",
      "\n",
      "covered infant’s physician has diagnosed the infant as having multiple food protein intolerance and has determined such formula to be medically necessary, and when the covered infant has not been responsive to trials of standard non-cow milk-based formulas, including soybean and goat milk.” Note that the\n",
      "\n",
      "covered infant’s physician has diagnosed the infant as having multiple food protein intolerance and has determined such formula to be medically necessary, and when the covered infant has not been responsive to trials of standard non-cow milk-based formulas, including soybean and goat milk.” Note that the\n",
      "\n",
      "mandate requires trial(s) of any standard non-cow milk-based formula or any reasonable combination. [An infant is de\u0000ned as up to 12 months of age. This\n",
      "\n",
      "de\u0000nition is consistent with information from the National Center for Health Statistics (NCHS) of the Centers for Disease Control and Prevention (CDC), and the\n",
      "\n",
      "United Nations Population Information Network (POPIN).]\n",
      "\n",
      "    Question: What is the infant formula mandate?\n",
      "\n",
      "    Response:\n",
      "    \u001b[0m\n",
      "\n",
      "\u001b[1m> Finished chain.\u001b[0m\n",
      "\n",
      "\u001b[1m> Finished chain.\u001b[0m\n",
      "KnowledgeBaseDocs/NutrionalSupport/Nutritional Support Medical Policy.pdf\n",
      "What is the infant formula mandate?\n",
      "The New Jersey State Mandate for coverage of certain infant formulas. The mandate requires that bene\u0000ts be provided “for expenses incurred in the purchase of specialized non-standard infant formulas, when the covered infant’s physician has diagnosed the infant as having multiple food protein intolerance and has determined such formula to be medically necessary, and when the covered infant has not been responsive to trials of standard non-cow milk-based formulas, including soybean and goat milk.” Note that the covered infant’s physician has diagnosed the infant as having multiple food protein intolerance and has determined such formula to be medically necessary, and when the covered infant has not been responsive to trials of standard non-cow milk-based formulas, including soybean and goat milk.” Note that the mandate requires trial(s) of any standard non-cow milk-based formula or any reasonable combination.\n"
     ]
    },
    {
     "name": "stdin",
     "output_type": "stream",
     "text": [
      "Would you like to ask a related question? Enter Y for yes and N for no. n\n"
     ]
    }
   ],
   "source": [
    "#Nutritional Support\n",
    "answer_question(\"What is the infant formula mandate?\")"
   ]
  },
  {
   "cell_type": "code",
   "execution_count": 54,
   "id": "a7a4a4b9-91e3-4108-b5bc-947f357fd6af",
   "metadata": {
    "tags": []
   },
   "outputs": [
    {
     "name": "stdin",
     "output_type": "stream",
     "text": [
      "What plan does the customer have? Enter BR for braven, MED for medicare, IC for insurance claim form,\n",
      " YA for Young Adult Coverage, AS for Assistant at Surgery, NS for Nutritional Support GEN for general, or ALL for everything.\n",
      " ns\n"
     ]
    },
    {
     "name": "stderr",
     "output_type": "stream",
     "text": [
      "Using embedded DuckDB with persistence: data will be stored in: AIProjectDB/vector_db\n"
     ]
    },
    {
     "name": "stdout",
     "output_type": "stream",
     "text": [
      "\n",
      "\n",
      "\u001b[1m> Entering new StuffDocumentsChain chain...\u001b[0m\n",
      "\n",
      "\n",
      "\u001b[1m> Entering new LLMChain chain...\u001b[0m\n",
      "Prompt after formatting:\n",
      "\u001b[32;1m\u001b[1;3mBelow is an instruction that describes a task. Write a response that appropriately completes the request.\n",
      "\n",
      "    Instructions:\n",
      "    You are a customer service representative at a health insurance company and your job is to help providing the best accurate answer to a customer. \n",
      "    1. Limit your response to the information provided in this prompt. Do not conduct refer to external sources.\n",
      "    2. Focus on the infromation rpesented here to form your answer.\n",
      "    3. Do not include personal opinions or assumptions; stick to the facts provided in the prompt.\n",
      "    4. Explain the answer with reference to the provided paragraphs. If the answer is not in the paragraphs, say that you do not know.\n",
      "    5. Write your answer below the prompt.\n",
      "\n",
      "    (Refer to policy statement III below)\n",
      "\n",
      "III. Enteral Nutrition (EN):\n",
      "\n",
      "A. Enteral nutrition is medically necessary when both of the following numbered criteria are met:\n",
      "\n",
      "1. An anatomical inability to swallow due to, for example, head and neck cancer or an obstructing tumor or stricture of the esophagus (e.g., due to eosinophilic\n",
      "\n",
      "esophagitis) or stomach; OR\n",
      "\n",
      "A central nervous system disease leading to su\u0000cient interference with the neuromuscular coordination of chewing and swallowing creating a risk of\n",
      "\n",
      "aspiration;\n",
      "\n",
      "AND\n",
      "\n",
      "2. It is the sole source of nutrition. [This means that the member’s total daily caloric requirement to maintain body weight (typically around 2000-2200 calories\n",
      "\n",
      "easier to digest and less likely to cause allergic reactions than other types of formula.\n",
      "\n",
      "In addition, specialized infant formulas are available for premature infants and those who have speci\u0000c medical conditions.\n",
      "\n",
      "Enteral nutrition (EN) is used for patients with a functioning intestinal tract, but with disorders of the pharynx, esophagus, or stomach that prevent nutrients from reaching the absorbing surfaces in the small intestine. The patient is at risk of severe malnutrition. EN involves administering non-sterile liquids directly into the gastrointestinal tract\n",
      "\n",
      "through nasogastric, gastrostomy, or jejunostomy tubes. An infusion pump may be used to assist the \u0000ow of liquids. Feedings may be either intermittent or continuous (infused 24 hours a day).\n",
      "\n",
      "esophagitis) or stomach; OR\n",
      "\n",
      "A central nervous system disease leading to su\u0000cient interference with the neuromuscular coordination of chewing and swallowing creating a risk of\n",
      "\n",
      "aspiration;\n",
      "\n",
      "AND\n",
      "\n",
      "2. It is the sole source of nutrition. [This means that the member’s total daily caloric requirement to maintain body weight (typically around 2000-2200 calories\n",
      "\n",
      "depending on the individual’s size and weight) is exclusively provided by the enteral formula given through the feeding tube.]\n",
      "\n",
      "(Refer to policy statement I.B. above for eligibility of infant formulas administered through an enteral feeding tube.\n",
      "\n",
      "For eligibility of items and services related to a medically necessary enteral nutrition, refer to policy statement VI below.)\n",
      "\n",
      "    Question: Is Enteral Nutrition medically necessary?\n",
      "\n",
      "    Response:\n",
      "    \u001b[0m\n",
      "\n",
      "\u001b[1m> Finished chain.\u001b[0m\n",
      "\n",
      "\u001b[1m> Finished chain.\u001b[0m\n",
      "KnowledgeBaseDocs/NutrionalSupport/Nutritional Support Medical Policy.pdf\n",
      "Is Enteral Nutrition medically necessary?\n",
      "The American Medical Association (AMA) recognizes enteral nutrition as a safe and effective method of delivering nutrients when mouth-to- gastrointestinal tract transit time is unacceptably long, or when a patient with a functional gastrointestinal tract cannot swallow safely.\n",
      "\n",
      "Because enteral nutrition has no taste, it eliminates the patient’s desire to eat, which can lead to undernourishment or even starvation.\n",
      "\n",
      "Enteral nutrition is used to treat patients with disorders of the esophagus, stomach, and pharynx who cannot swallow safely, including head and neck cancer, obstructed ulcers, esophagitis (inflammation of the esophagus), and other disorders such as gastroesophageal reflux disease or hiatal hernia.\n"
     ]
    },
    {
     "name": "stdin",
     "output_type": "stream",
     "text": [
      "Would you like to ask a related question? Enter Y for yes and N for no. n\n"
     ]
    }
   ],
   "source": [
    "#Nutritional Support\n",
    "answer_question(\"Is Enteral Nutrition medically necessary?\")"
   ]
  },
  {
   "cell_type": "code",
   "execution_count": null,
   "id": "fa4f7965-4734-4619-88a3-acc89110134f",
   "metadata": {
    "tags": []
   },
   "outputs": [],
   "source": [
    "#Nutritional Support\n",
    "answer_question(\"When is Relizorb medically necessary?\")"
   ]
  },
  {
   "cell_type": "code",
   "execution_count": 55,
   "id": "47f482a6-9ff0-4992-90d4-de4bd5158503",
   "metadata": {
    "tags": []
   },
   "outputs": [
    {
     "name": "stdin",
     "output_type": "stream",
     "text": [
      "What plan does the customer have? Enter BR for braven, MED for medicare, IC for insurance claim form,\n",
      " YA for Young Adult Coverage, AS for Assistant at Surgery, NS for Nutritional Support GEN for general, or ALL for everything.\n",
      " ns\n"
     ]
    },
    {
     "name": "stderr",
     "output_type": "stream",
     "text": [
      "Using embedded DuckDB with persistence: data will be stored in: AIProjectDB/vector_db\n"
     ]
    },
    {
     "name": "stdout",
     "output_type": "stream",
     "text": [
      "\n",
      "\n",
      "\u001b[1m> Entering new StuffDocumentsChain chain...\u001b[0m\n",
      "\n",
      "\n",
      "\u001b[1m> Entering new LLMChain chain...\u001b[0m\n",
      "Prompt after formatting:\n",
      "\u001b[32;1m\u001b[1;3mBelow is an instruction that describes a task. Write a response that appropriately completes the request.\n",
      "\n",
      "    Instructions:\n",
      "    You are a customer service representative at a health insurance company and your job is to help providing the best accurate answer to a customer. \n",
      "    1. Limit your response to the information provided in this prompt. Do not conduct refer to external sources.\n",
      "    2. Focus on the infromation rpesented here to form your answer.\n",
      "    3. Do not include personal opinions or assumptions; stick to the facts provided in the prompt.\n",
      "    4. Explain the answer with reference to the provided paragraphs. If the answer is not in the paragraphs, say that you do not know.\n",
      "    5. Write your answer below the prompt.\n",
      "\n",
      "    life may not be feasible for all mothers. Infant formulas offer another option.\n",
      "\n",
      "There are three (3) main types of infant formulas:\n",
      "\n",
      "Cow’s milk formulas - most infant formula is made with cow’s milk that has been altered to resemble human breast milk. This gives the formula the right balance of nutrients and makes it easier to digest. Although most infants do well on cow’s milk formula, some need other types of infant formula including, but not limited to, infants\n",
      "\n",
      "who are allergic to the proteins in cow’s milk. Soy-based formulas - this may be an option for infants who are intolerant or allergic to cow’s milk formula or to lactose, a sugar naturally found in cow’s milk. Some\n",
      "\n",
      "Nutritional Support (Infant Formulas, Enteral Nutrition and Total Parenteral Nutrition) Print Policy | Questions? Email Us (mailto:medpol_ask@horizonblue.com?subject=Re: Medical policy for Treatment/066)\n",
      "\n",
      "a body weight below healthy levels determined by the licensed medical practitioner\n",
      "\n",
      "a congenital or acquired condition that places the infant at a high risk for development of necrotizing enterocolitis\n",
      "\n",
      "a congenital or acquired condition that may bene\u0000t from the use of donor breast milk as determined by the Department of Health\n",
      "\n",
      "iii. Coverage for donated human breast milk is subject to utilization review, including periodic review, of the continued medical necessity.\n",
      "\n",
      "Disease - Policy #018 in the Treatment Section of this database.)\n",
      "\n",
      "2. Infant Formula Mandate - ”Specialized non-standard infant formulas” are covered in accordance with the New Jersey State Mandate for coverage of certain\n",
      "\n",
      "infant formulas. The mandate requires that bene\u0000ts be provided ”for expenses incurred in the purchase of specialized non-standard infant formulas, when the\n",
      "\n",
      "covered infant’s physician has diagnosed the infant as having multiple food protein intolerance and has determined such formula to be medically necessary, and when the covered infant has not been responsive to trials of standard non-cow milk-based formulas, including soybean and goat milk.” Note that the\n",
      "\n",
      "    Question: What are the main types of infant formulas?\n",
      "\n",
      "    Response:\n",
      "    \u001b[0m\n",
      "\n",
      "\u001b[1m> Finished chain.\u001b[0m\n",
      "\n",
      "\u001b[1m> Finished chain.\u001b[0m\n",
      "KnowledgeBaseDocs/NutrionalSupport/Nutritional Support Medical Policy.pdf\n",
      "What are the main types of infant formulas?\n",
      "Cow’s milk formulas - most infant formula is made with cow’s milk that has been altered to resemble human breast milk. This gives the formula the right balance of nutrients and makes it easier to digest. Although most infants do well on cow’s milk formula, some need other types of infant formula including, but not limited to, infants who are allergic to the proteins in cow’s milk. Soy-based formulas - this may be an option for infants who are intolerant or allergic to cow’s milk formula or to lactose, a sugar naturally found in cow’s milk. Some infants who are allergic to the proteins in soy-based formulas.\n"
     ]
    },
    {
     "name": "stdin",
     "output_type": "stream",
     "text": [
      "Would you like to ask a related question? Enter Y for yes and N for no. n\n"
     ]
    }
   ],
   "source": [
    "#Nutritional Support\n",
    "answer_question(\"What are the main types of infant formulas?\")"
   ]
  },
  {
   "cell_type": "code",
   "execution_count": 56,
   "id": "0d71e144-c60e-4743-a38a-057946c77a6a",
   "metadata": {
    "tags": []
   },
   "outputs": [
    {
     "name": "stdin",
     "output_type": "stream",
     "text": [
      "What plan does the customer have? Enter BR for braven, MED for medicare, IC for insurance claim form,\n",
      " YA for Young Adult Coverage, AS for Assistant at Surgery, NS for Nutritional Support GEN for general, or ALL for everything.\n",
      " ns\n"
     ]
    },
    {
     "name": "stderr",
     "output_type": "stream",
     "text": [
      "Using embedded DuckDB with persistence: data will be stored in: AIProjectDB/vector_db\n"
     ]
    },
    {
     "name": "stdout",
     "output_type": "stream",
     "text": [
      "\n",
      "\n",
      "\u001b[1m> Entering new StuffDocumentsChain chain...\u001b[0m\n",
      "\n",
      "\n",
      "\u001b[1m> Entering new LLMChain chain...\u001b[0m\n",
      "Prompt after formatting:\n",
      "\u001b[32;1m\u001b[1;3mBelow is an instruction that describes a task. Write a response that appropriately completes the request.\n",
      "\n",
      "    Instructions:\n",
      "    You are a customer service representative at a health insurance company and your job is to help providing the best accurate answer to a customer. \n",
      "    1. Limit your response to the information provided in this prompt. Do not conduct refer to external sources.\n",
      "    2. Focus on the infromation rpesented here to form your answer.\n",
      "    3. Do not include personal opinions or assumptions; stick to the facts provided in the prompt.\n",
      "    4. Explain the answer with reference to the provided paragraphs. If the answer is not in the paragraphs, say that you do not know.\n",
      "    5. Write your answer below the prompt.\n",
      "\n",
      "    Codes:\n",
      "\n",
      "(The list of codes is not intended to be all-inclusive and is included below for informational purposes only. Inclusion or exclusion of a procedure, diagnosis, drug or device\n",
      "\n",
      "code(s) does not constitute or imply authorization, certi\u0000cation, approval, offer of coverage or guarantee of payment.)\n",
      "\n",
      "CPT*\n",
      "\n",
      "HCPCS\n",
      "\n",
      "B4102\n",
      "\n",
      "B4103\n",
      "\n",
      "B4104\n",
      "\n",
      "B4105\n",
      "\n",
      "B4149\n",
      "\n",
      "B4150\n",
      "\n",
      "B4152\n",
      "\n",
      "B4153\n",
      "\n",
      "B4154\n",
      "\n",
      "B4155\n",
      "\n",
      "B4157\n",
      "\n",
      "B4158\n",
      "\n",
      "B4159\n",
      "\n",
      "B4160\n",
      "\n",
      "B4161\n",
      "\n",
      "B4162\n",
      "\n",
      "B4164\n",
      "\n",
      "B4168\n",
      "\n",
      "B4172\n",
      "\n",
      "B4176\n",
      "\n",
      "B4178\n",
      "\n",
      "B4180\n",
      "\n",
      "B4185\n",
      "\n",
      "B4189\n",
      "\n",
      "B4193\n",
      "\n",
      "B4197\n",
      "\n",
      "B4199\n",
      "\n",
      "B4216\n",
      "\n",
      "B4220\n",
      "\n",
      "B4222\n",
      "\n",
      "B4224\n",
      "\n",
      "https://www.horizonblue.com/providers/policies-procedures/policies/medical-policies/detail/ba2116b4-0394-0019-5c60-7ed3fe78670f\n",
      "\n",
      "6/9\n",
      "\n",
      "8/7/23, 7:53 PM\n",
      "\n",
      "COVID-19\n",
      "\n",
      "Stay informed. Get the latest information on COVID-19.\n",
      "\n",
      "\n",
      "\n",
      "Back to Search\n",
      "\n",
      "Policy Number: 066 Section: Treatment Effective Date: 10/03/2022 Last Review Date: 9/13/2022 Status: Current\n",
      "\n",
      "Nutritional Support (Infant Formulas, Enteral Nutrition and Total Parenteral Nutrition)\n",
      "\n",
      "Related Policies:\n",
      "\n",
      "None\n",
      "\n",
      "Policy:\n",
      "\n",
      "(INFORMATIONAL NOTE: Also refer to a separate policy on Medical Nutritional Therapy (Inherited Metabolic Disease Mandate), Policy #018 in the Treatment Section.)\n",
      "\n",
      "For Medicare Advantage, Medicaid and FIDE-SNP, please refer to the Coverage Sections below for coverage guidance.)\n",
      "\n",
      "I. Infant Formulas and Mandated Bene\u0000ts:\n",
      "\n",
      "A. Administered Orally:\n",
      "\n",
      "A. cost of nutrients that require a physician’s prescription (enteral formulas and parenteral nutritional solutions); (Refer to policy statement I.B. above for eligibility of\n",
      "\n",
      "infant formulas administered through an enteral feeding tube.)\n",
      "\n",
      "B. cost of rental or purchase of an infusion pump and heparin lock;\n",
      "\n",
      "C. supplies and equipment necessary for the proper functioning and effective use of a EN or TPN system (e.g., catheters, dressings, IV stand, needles, \u0000lters, extension\n",
      "\n",
      "tubing, and concentrated nutrients);\n",
      "\n",
      "D. home visits by a physician;\n",
      "\n",
      "E. home visits by a registered nurse (R.N.) or licensed practical nurse (L.P.N.) under the order and supervision of a physician;\n",
      "\n",
      "F. placement of gastrostomy or jejunostomy feeding tubes and central venous catheters.\n",
      "\n",
      "    Question: What are the associated formula codes?\n",
      "\n",
      "    Response:\n",
      "    \u001b[0m\n",
      "\n",
      "\u001b[1m> Finished chain.\u001b[0m\n",
      "\n",
      "\u001b[1m> Finished chain.\u001b[0m\n",
      "KnowledgeBaseDocs/NutrionalSupport/Nutritional Support Medical Policy.pdf\n",
      "What are the associated formula codes?\n",
      "B4102, B4103, B4104, B4105, B4149, B4150, B4152, B4153, B4154, B4155, B4157, B4158, B4159, B4160, B4161, B4162, B4164, B4168, B4172, B4176, B4178, B4180, B4185, B4189, B4193, B4197, B4199, B4216, B4220, B4222, B4224\n"
     ]
    },
    {
     "name": "stdin",
     "output_type": "stream",
     "text": [
      "Would you like to ask a related question? Enter Y for yes and N for no. n\n"
     ]
    }
   ],
   "source": [
    "#Nutritional Support\n",
    "answer_question(\"What are the associated formula codes?\")"
   ]
  },
  {
   "cell_type": "code",
   "execution_count": null,
   "id": "4905dcf1-09aa-414b-a5f6-326877b8adff",
   "metadata": {},
   "outputs": [],
   "source": [
    "#Nutritional Support\n",
    "#When was this policy last reviewed?\n",
    "#What is the infant formula mandate?\n",
    "#Is Enteral Nutrition medically necessary?\n",
    "#What are the main types of infant formulas?\n",
    "#What are the associated formula codes?"
   ]
  },
  {
   "cell_type": "code",
   "execution_count": null,
   "id": "02aed4b7-5689-40d5-ace3-a9280d1ac026",
   "metadata": {
    "tags": []
   },
   "outputs": [],
   "source": [
    "import torch\n",
    "from transformers import pipeline\n",
    "\n",
    "generate_text=pipeline(model=\"databricks/dolly-v2-2-8b\",\n",
    "                       torch_dtype=torch.bfloat16,\n",
    "                       trust_remote_code=True,\n",
    "                       device_map=\"auto\")"
   ]
  },
  {
   "cell_type": "code",
   "execution_count": null,
   "id": "9915e50e-4d48-4324-b306-908d34363265",
   "metadata": {},
   "outputs": [],
   "source": [
    "#Anesthesia\n",
    "#What is the definition of anesthesia?\n",
    "#What is the definition of anesthesia time?\n",
    "#What is the reimbursement formula?\n",
    "#What is the desciption of Modifier AA?\n",
    "#What is the reimbursement of Modifier QX?\n",
    "#What modifier are informational only?\n",
    "#Are their any limitations and exclusions?"
   ]
  },
  {
   "cell_type": "code",
   "execution_count": 15,
   "id": "33cadcc2-d99b-4ff1-b51d-4598827b7e0c",
   "metadata": {
    "tags": []
   },
   "outputs": [
    {
     "name": "stdin",
     "output_type": "stream",
     "text": [
      "What plan does the customer have? Enter BR for braven, MED for medicare, IC for insurance claim form,\n",
      " YA for Young Adult Coverage, AS for Assistant at Surgery, NS for Nutritional Support GEN for general, or ALL for everything.\n",
      " an\n"
     ]
    },
    {
     "name": "stderr",
     "output_type": "stream",
     "text": [
      "Using embedded DuckDB with persistence: data will be stored in: AIProjectDB/vector_db\n"
     ]
    },
    {
     "name": "stdout",
     "output_type": "stream",
     "text": [
      "\n",
      "\n",
      "\u001b[1m> Entering new StuffDocumentsChain chain...\u001b[0m\n",
      "\n",
      "\n",
      "\u001b[1m> Entering new LLMChain chain...\u001b[0m\n",
      "Prompt after formatting:\n",
      "\u001b[32;1m\u001b[1;3mBelow is an instruction that describes a task. Write a response that appropriately completes the request.\n",
      "\n",
      "    Instructions:\n",
      "    You are a customer service representative at a health insurance company and your job is to help providing the best accurate answer to a customer. \n",
      "    1. Limit your response to the information provided in this prompt. Do not conduct refer to external sources.\n",
      "    2. Focus on the infromation rpesented here to form your answer.\n",
      "    3. Do not include personal opinions or assumptions; stick to the facts provided in the prompt.\n",
      "    4. Explain the answer with reference to the provided paragraphs. If the answer is not in the paragraphs, say that you do not know.\n",
      "    5. Write your answer below the prompt.\n",
      "\n",
      "    De\u0000nitions:\n",
      "\n",
      "Anesthesia - the administration of a drug or anesthetic agent by an anesthesiologist in order for a patient to obtain muscular relaxation and partial or total loss of sensation\n",
      "\n",
      "and/or consciousness.\n",
      "\n",
      "Anesthesia time - the actual number of anesthesia minutes as reported on the claim. Anesthesia time begins when the anesthetist begins to prepare the patient for the\n",
      "\n",
      "induction of anesthesia in the operating room or in an equivalent area and ends when the anesthetist is no longer in personal attendance, that is, when the patient may be safely placed under post-anesthetic supervision.\n",
      "\n",
      "Anesthesia Reimbursement Guidelines\n",
      "\n",
      "Effective Date:\n",
      "\n",
      "November 1, 2007\n",
      "\n",
      "Last Reviewed Date:\n",
      "\n",
      "January 26, 2023\n",
      "\n",
      "Purpose:\n",
      "\n",
      "Provide guidelines for the reimbursement of anesthesia services.\n",
      "\n",
      "Scope:\n",
      "\n",
      "All products are included, except:\n",
      "\n",
      "Products where Horizon BCBSNJ is secondary to Medicare (i.e., Medigap). COB.\n",
      "\n",
      "All Insured and Administrative Services Only (ASO) accounts are included.\n",
      "\n",
      "De\u0000nitions:\n",
      "\n",
      "Anesthesia - the administration of a drug or anesthetic agent by an anesthesiologist in order for a patient to obtain muscular relaxation and partial or total loss of sensation\n",
      "\n",
      "and/or consciousness.\n",
      "\n",
      "Anesthesia time - the actual number of anesthesia minutes as reported on the claim. Anesthesia time begins when the anesthetist begins to prepare the patient for the\n",
      "\n",
      "take into account the complexity, risk, and skill required to perform the service.\n",
      "\n",
      "Base Unit - value for each anesthesia code that re\u0000ects all activities other than anesthesia time. Anesthesia activities include usual pre-operative and post-operative visits, the\n",
      "\n",
      "administration of \u0000uids or blood incident to anesthesia care, and monitoring services.\n",
      "\n",
      "Policy:\n",
      "\n",
      "This policy has been developed using guidelines from the American Society of Anesthesiologists (ASA), the American Medical Association (AMA), and the Centers for Medicare and Medicaid Services (CMS). Anesthesia services must be reported using the appropriate procedure code from the anesthesia section of the Current Procedural Terminology\n",
      "\n",
      "(CPT®) book (00100-01999).\n",
      "\n",
      "    Question: What is the definition of anesthesia?\n",
      "\n",
      "    Response:\n",
      "    \u001b[0m\n",
      "\n",
      "\u001b[1m> Finished chain.\u001b[0m\n",
      "\n",
      "\u001b[1m> Finished chain.\u001b[0m\n",
      "KnowledgeBaseDocs/Anesthesia/Anesthesia Reimbursement Guidelines.pdf\n",
      "What is the definition of anesthesia?\n",
      "Anesthesia is the administration of a drug or anesthetic agent by an anesthesiologist in order for a patient to obtain muscular relaxation and partial or total loss of sensation and consciousness.\n"
     ]
    },
    {
     "name": "stdin",
     "output_type": "stream",
     "text": [
      "Would you like to ask a related question? Enter Y for yes and N for no. n\n"
     ]
    }
   ],
   "source": [
    "#Anesthesia\n",
    "answer_question(\"What is the definition of anesthesia?\")"
   ]
  },
  {
   "cell_type": "code",
   "execution_count": 16,
   "id": "13b1c4ec-3cfa-466f-8a82-60cdbcc45f8f",
   "metadata": {
    "tags": []
   },
   "outputs": [
    {
     "name": "stdin",
     "output_type": "stream",
     "text": [
      "What plan does the customer have? Enter BR for braven, MED for medicare, IC for insurance claim form,\n",
      " YA for Young Adult Coverage, AS for Assistant at Surgery, NS for Nutritional Support GEN for general, or ALL for everything.\n",
      " an\n"
     ]
    },
    {
     "name": "stderr",
     "output_type": "stream",
     "text": [
      "Using embedded DuckDB with persistence: data will be stored in: AIProjectDB/vector_db\n"
     ]
    },
    {
     "name": "stdout",
     "output_type": "stream",
     "text": [
      "\n",
      "\n",
      "\u001b[1m> Entering new StuffDocumentsChain chain...\u001b[0m\n",
      "\n",
      "\n",
      "\u001b[1m> Entering new LLMChain chain...\u001b[0m\n",
      "Prompt after formatting:\n",
      "\u001b[32;1m\u001b[1;3mBelow is an instruction that describes a task. Write a response that appropriately completes the request.\n",
      "\n",
      "    Instructions:\n",
      "    You are a customer service representative at a health insurance company and your job is to help providing the best accurate answer to a customer. \n",
      "    1. Limit your response to the information provided in this prompt. Do not conduct refer to external sources.\n",
      "    2. Focus on the infromation rpesented here to form your answer.\n",
      "    3. Do not include personal opinions or assumptions; stick to the facts provided in the prompt.\n",
      "    4. Explain the answer with reference to the provided paragraphs. If the answer is not in the paragraphs, say that you do not know.\n",
      "    5. Write your answer below the prompt.\n",
      "\n",
      "    De\u0000nitions:\n",
      "\n",
      "Anesthesia - the administration of a drug or anesthetic agent by an anesthesiologist in order for a patient to obtain muscular relaxation and partial or total loss of sensation\n",
      "\n",
      "and/or consciousness.\n",
      "\n",
      "Anesthesia time - the actual number of anesthesia minutes as reported on the claim. Anesthesia time begins when the anesthetist begins to prepare the patient for the\n",
      "\n",
      "induction of anesthesia in the operating room or in an equivalent area and ends when the anesthetist is no longer in personal attendance, that is, when the patient may be safely placed under post-anesthetic supervision.\n",
      "\n",
      "Anesthesia Reimbursement Guidelines\n",
      "\n",
      "Effective Date:\n",
      "\n",
      "November 1, 2007\n",
      "\n",
      "Last Reviewed Date:\n",
      "\n",
      "January 26, 2023\n",
      "\n",
      "Purpose:\n",
      "\n",
      "Provide guidelines for the reimbursement of anesthesia services.\n",
      "\n",
      "Scope:\n",
      "\n",
      "All products are included, except:\n",
      "\n",
      "Products where Horizon BCBSNJ is secondary to Medicare (i.e., Medigap). COB.\n",
      "\n",
      "All Insured and Administrative Services Only (ASO) accounts are included.\n",
      "\n",
      "De\u0000nitions:\n",
      "\n",
      "Anesthesia - the administration of a drug or anesthetic agent by an anesthesiologist in order for a patient to obtain muscular relaxation and partial or total loss of sensation\n",
      "\n",
      "and/or consciousness.\n",
      "\n",
      "Anesthesia time - the actual number of anesthesia minutes as reported on the claim. Anesthesia time begins when the anesthetist begins to prepare the patient for the\n",
      "\n",
      "Anesthesia time - the actual number of anesthesia minutes as reported on the claim. Anesthesia time begins when the anesthetist begins to prepare the patient for the\n",
      "\n",
      "induction of anesthesia in the operating room or in an equivalent area and ends when the anesthetist is no longer in personal attendance, that is, when the patient may be safely placed under post-anesthetic supervision.\n",
      "\n",
      "Base unit value - each anesthesia code (procedure codes 00100-01999) is assigned a base unit value by the American Society of Anesthesiologists (ASA) and used for the purpose of establishing fee schedule allowances. Anesthesia services are paid on the basis of a relative value system, which include both base and actual time units. Base units\n",
      "\n",
      "    Question: What is the definition of anesthesia time?\n",
      "\n",
      "    Response:\n",
      "    \u001b[0m\n",
      "\n",
      "\u001b[1m> Finished chain.\u001b[0m\n",
      "\n",
      "\u001b[1m> Finished chain.\u001b[0m\n",
      "KnowledgeBaseDocs/Anesthesia/Anesthesia Reimbursement Guidelines.pdf\n",
      "What is the definition of anesthesia time?\n",
      "Anesthesia time - the actual number of anesthesia minutes as reported on the claim. Anesthesia time begins when the anesthetist begins to prepare the patient for the\n",
      "induction of anesthesia in the operating room or in an equivalent area and ends when the anesthetist is no longer in personal attendance, that is, when the patient may be safely placed under post-anesthetic supervision.\n"
     ]
    },
    {
     "name": "stdin",
     "output_type": "stream",
     "text": [
      "Would you like to ask a related question? Enter Y for yes and N for no. n\n"
     ]
    }
   ],
   "source": [
    "#Anesthesia\n",
    "answer_question(\"What is the definition of anesthesia time?\")"
   ]
  },
  {
   "cell_type": "code",
   "execution_count": 17,
   "id": "d10287c3-4b1e-479a-a0e1-82cf88d654a7",
   "metadata": {
    "tags": []
   },
   "outputs": [
    {
     "name": "stdin",
     "output_type": "stream",
     "text": [
      "What plan does the customer have? Enter BR for braven, MED for medicare, IC for insurance claim form,\n",
      " YA for Young Adult Coverage, AS for Assistant at Surgery, NS for Nutritional Support GEN for general, or ALL for everything.\n",
      " an\n"
     ]
    },
    {
     "name": "stderr",
     "output_type": "stream",
     "text": [
      "Using embedded DuckDB with persistence: data will be stored in: AIProjectDB/vector_db\n"
     ]
    },
    {
     "name": "stdout",
     "output_type": "stream",
     "text": [
      "\n",
      "\n",
      "\u001b[1m> Entering new StuffDocumentsChain chain...\u001b[0m\n",
      "\n",
      "\n",
      "\u001b[1m> Entering new LLMChain chain...\u001b[0m\n",
      "Prompt after formatting:\n",
      "\u001b[32;1m\u001b[1;3mBelow is an instruction that describes a task. Write a response that appropriately completes the request.\n",
      "\n",
      "    Instructions:\n",
      "    You are a customer service representative at a health insurance company and your job is to help providing the best accurate answer to a customer. \n",
      "    1. Limit your response to the information provided in this prompt. Do not conduct refer to external sources.\n",
      "    2. Focus on the infromation rpesented here to form your answer.\n",
      "    3. Do not include personal opinions or assumptions; stick to the facts provided in the prompt.\n",
      "    4. Explain the answer with reference to the provided paragraphs. If the answer is not in the paragraphs, say that you do not know.\n",
      "    5. Write your answer below the prompt.\n",
      "\n",
      "    Modi\u0000er Description\n",
      "\n",
      "Reimbursement\n",
      "\n",
      "AA\n",
      "\n",
      "Anesthesia Services performed personally by the anesthesiologist.\n",
      "\n",
      "Services are paid at 100% of the applicable Horizon allowance.*\n",
      "\n",
      "AD\n",
      "\n",
      "Medical supervision by a physician, more than 4 concurrent anesthesia procedures.\n",
      "\n",
      "Services are paid at 50% of the applicable Horizon allowance.*\n",
      "\n",
      "QK\n",
      "\n",
      "Medical direction of two, three, or four concurrent anesthesia procedures involving quali\u0000ed individuals.\n",
      "\n",
      "Services are paid at 50% of the applicable Horizon allowance.*\n",
      "\n",
      "QY\n",
      "\n",
      "Medical direction of one CRNA by an anesthesiologist.\n",
      "\n",
      "Services are paid at 50% of the applicable Horizon BCBSNJ allowance.*\n",
      "\n",
      "QX\n",
      "\n",
      "CRNA service, with medical direction by a physician.\n",
      "\n",
      "Services are paid at 50% of the applicable Horizon allowance*.\n",
      "\n",
      "QZ**\n",
      "\n",
      "1/5\n",
      "\n",
      "8/7/23, 7:53 PM\n",
      "\n",
      "Anesthesia Reimbursement Guidelines - Horizon Blue Cross Blue Shield of New Jersey\n",
      "\n",
      "Reimbursement Formula\n",
      "\n",
      "Time-based anesthesia services are reimbursed according to the following formula: (Time Units + Base Units) x Conversion Factor = Allowance\n",
      "\n",
      "Anesthesia Modi\u0000ers\n",
      "\n",
      "All anesthesia services shall be reported by use of anesthesia 5 digit procedure code plus applicable modi\u0000ers. Reimbursement guidelines for the anesthesia modi\u0000ers are noted below and would be applied to the Horizon BCBSNJ anesthesia allowance:\n",
      "\n",
      "Modi\u0000er Description\n",
      "\n",
      "Reimbursement\n",
      "\n",
      "AA\n",
      "\n",
      "Anesthesia Services performed personally by the anesthesiologist.\n",
      "\n",
      "Services are paid at 100% of the applicable Horizon allowance.*\n",
      "\n",
      "AD\n",
      "\n",
      "Medical supervision by a physician, more than 4 concurrent anesthesia procedures.\n",
      "\n",
      "**ITS home claims, Medicare Secondary, Federal Employee Health Program and claims submitted for the Horizon Medicare Advantage (MRSK) members when billed with a\n",
      "\n",
      "Modi\u0000er QZ are paid at 100% of the applicable Horizon allowance* which is based upon New Jersey's Administrative Code.\n",
      "\n",
      "Note: The Anesthesia Modi\u0000ers listed above are pricing modi\u0000ers and must be listed in the \u0000rst position to insure correct reimbursement. If the above modi\u0000ers are billed\n",
      "\n",
      "together, reimbursement will be at the lesser reimbursement percentage\n",
      "\n",
      "Modi\u0000ers QS, G8 and G9 are informational only, and do not affect reimbursement. Informational modi\u0000ers must be used in the second modi\u0000er position when billed in\n",
      "\n",
      "    Question: What is the reimbursement formula?\n",
      "\n",
      "    Response:\n",
      "    \u001b[0m\n",
      "\n",
      "\u001b[1m> Finished chain.\u001b[0m\n",
      "\n",
      "\u001b[1m> Finished chain.\u001b[0m\n",
      "KnowledgeBaseDocs/Anesthesia/Anesthesia Reimbursement Guidelines.pdf\n",
      "What is the reimbursement formula?\n",
      "The formula to calculate reimbursement for time based anesthesia services is as follows:\n",
      "\n",
      "(Time Units + Base Units) x Conversion Factor = Allowance\n"
     ]
    },
    {
     "name": "stdin",
     "output_type": "stream",
     "text": [
      "Would you like to ask a related question? Enter Y for yes and N for no. n\n"
     ]
    }
   ],
   "source": [
    "#Anesthesia\n",
    "answer_question(\"What is the reimbursement formula?\")"
   ]
  },
  {
   "cell_type": "code",
   "execution_count": 18,
   "id": "91c8112f-1570-487f-b547-21fa83a18b71",
   "metadata": {
    "tags": []
   },
   "outputs": [
    {
     "name": "stdin",
     "output_type": "stream",
     "text": [
      "What plan does the customer have? Enter BR for braven, MED for medicare, IC for insurance claim form,\n",
      " YA for Young Adult Coverage, AS for Assistant at Surgery, NS for Nutritional Support GEN for general, or ALL for everything.\n",
      " an\n"
     ]
    },
    {
     "name": "stderr",
     "output_type": "stream",
     "text": [
      "Using embedded DuckDB with persistence: data will be stored in: AIProjectDB/vector_db\n"
     ]
    },
    {
     "name": "stdout",
     "output_type": "stream",
     "text": [
      "\n",
      "\n",
      "\u001b[1m> Entering new StuffDocumentsChain chain...\u001b[0m\n",
      "\n",
      "\n",
      "\u001b[1m> Entering new LLMChain chain...\u001b[0m\n",
      "Prompt after formatting:\n",
      "\u001b[32;1m\u001b[1;3mBelow is an instruction that describes a task. Write a response that appropriately completes the request.\n",
      "\n",
      "    Instructions:\n",
      "    You are a customer service representative at a health insurance company and your job is to help providing the best accurate answer to a customer. \n",
      "    1. Limit your response to the information provided in this prompt. Do not conduct refer to external sources.\n",
      "    2. Focus on the infromation rpesented here to form your answer.\n",
      "    3. Do not include personal opinions or assumptions; stick to the facts provided in the prompt.\n",
      "    4. Explain the answer with reference to the provided paragraphs. If the answer is not in the paragraphs, say that you do not know.\n",
      "    5. Write your answer below the prompt.\n",
      "\n",
      "    **ITS home claims, Medicare Secondary, Federal Employee Health Program and claims submitted for the Horizon Medicare Advantage (MRSK) members when billed with a\n",
      "\n",
      "Modi\u0000er QZ are paid at 100% of the applicable Horizon allowance* which is based upon New Jersey's Administrative Code.\n",
      "\n",
      "Note: The Anesthesia Modi\u0000ers listed above are pricing modi\u0000ers and must be listed in the \u0000rst position to insure correct reimbursement. If the above modi\u0000ers are billed\n",
      "\n",
      "together, reimbursement will be at the lesser reimbursement percentage\n",
      "\n",
      "Modi\u0000ers QS, G8 and G9 are informational only, and do not affect reimbursement. Informational modi\u0000ers must be used in the second modi\u0000er position when billed in\n",
      "\n",
      "Base unit value - each anesthesia code (procedure codes 00100-01999) is assigned a base unit value by the American Society of Anesthesiologists (ASA) and used for the purpose of establishing fee schedule allowances. Anesthesia services are paid on the basis of a relative value system, which include both base and actual time units. Base units\n",
      "\n",
      "take into account the complexity, risk, and skill required to perform the service.\n",
      "\n",
      "Base Unit - value for each anesthesia code that re\u0000ects all activities other than anesthesia time. Anesthesia activities include usual pre-operative and post-operative visits, the\n",
      "\n",
      "administration of \u0000uids or blood incident to anesthesia care, and monitoring services.\n",
      "\n",
      "Policy:\n",
      "\n",
      "together, reimbursement will be at the lesser reimbursement percentage\n",
      "\n",
      "Modi\u0000ers QS, G8 and G9 are informational only, and do not affect reimbursement. Informational modi\u0000ers must be used in the second modi\u0000er position when billed in\n",
      "\n",
      "conjunction with a pricing anesthesia modi\u0000er (which must be submitted in the \u0000rst modi\u0000er position). Claims submitted with the informational modi\u0000er(s) without a valid\n",
      "\n",
      "anesthesia pricing modi\u0000er will be denied.\n",
      "\n",
      "QS\n",
      "\n",
      "Monitored anesthesia care service (MAC).\n",
      "\n",
      "G8\n",
      "\n",
      "MAC for deep complex complicated or markedly invasive surgical procedures and may be used in lieu of modi\u0000er QS.\n",
      "\n",
      "G9\n",
      "\n",
      "MAC for a patient who has a history of severe cardiopulmonary condition and may be used in lieu of modi\u0000er QS.\n",
      "\n",
      "Duplicate Anesthesia Services\n",
      "\n",
      "    Question: What is the desciption of Modifier AA?\n",
      "\n",
      "    Response:\n",
      "    \u001b[0m\n",
      "\n",
      "\u001b[1m> Finished chain.\u001b[0m\n",
      "\n",
      "\u001b[1m> Finished chain.\u001b[0m\n",
      "KnowledgeBaseDocs/Anesthesia/Anesthesia Reimbursement Guidelines.pdf\n",
      "What is the desciption of Modifier AA?\n",
      "Modifier AA is a modi\u0000er that describes a service by its ASA code. ASA codes are for fee schedule purposes only, and do not constitute authorization for a service to take place.\n"
     ]
    },
    {
     "name": "stdin",
     "output_type": "stream",
     "text": [
      "Would you like to ask a related question? Enter Y for yes and N for no. n\n"
     ]
    }
   ],
   "source": [
    "#Anesthesia\n",
    "answer_question(\"What is the desciption of Modifier AA?\")"
   ]
  },
  {
   "cell_type": "code",
   "execution_count": 19,
   "id": "4add69f7-1373-48f4-a644-1631be302193",
   "metadata": {
    "tags": []
   },
   "outputs": [
    {
     "name": "stdin",
     "output_type": "stream",
     "text": [
      "What plan does the customer have? Enter BR for braven, MED for medicare, IC for insurance claim form,\n",
      " YA for Young Adult Coverage, AS for Assistant at Surgery, NS for Nutritional Support GEN for general, or ALL for everything.\n",
      " an\n"
     ]
    },
    {
     "name": "stderr",
     "output_type": "stream",
     "text": [
      "Using embedded DuckDB with persistence: data will be stored in: AIProjectDB/vector_db\n"
     ]
    },
    {
     "name": "stdout",
     "output_type": "stream",
     "text": [
      "\n",
      "\n",
      "\u001b[1m> Entering new StuffDocumentsChain chain...\u001b[0m\n",
      "\n",
      "\n",
      "\u001b[1m> Entering new LLMChain chain...\u001b[0m\n",
      "Prompt after formatting:\n",
      "\u001b[32;1m\u001b[1;3mBelow is an instruction that describes a task. Write a response that appropriately completes the request.\n",
      "\n",
      "    Instructions:\n",
      "    You are a customer service representative at a health insurance company and your job is to help providing the best accurate answer to a customer. \n",
      "    1. Limit your response to the information provided in this prompt. Do not conduct refer to external sources.\n",
      "    2. Focus on the infromation rpesented here to form your answer.\n",
      "    3. Do not include personal opinions or assumptions; stick to the facts provided in the prompt.\n",
      "    4. Explain the answer with reference to the provided paragraphs. If the answer is not in the paragraphs, say that you do not know.\n",
      "    5. Write your answer below the prompt.\n",
      "\n",
      "    **ITS home claims, Medicare Secondary, Federal Employee Health Program and claims submitted for the Horizon Medicare Advantage (MRSK) members when billed with a\n",
      "\n",
      "Modi\u0000er QZ are paid at 100% of the applicable Horizon allowance* which is based upon New Jersey's Administrative Code.\n",
      "\n",
      "Note: The Anesthesia Modi\u0000ers listed above are pricing modi\u0000ers and must be listed in the \u0000rst position to insure correct reimbursement. If the above modi\u0000ers are billed\n",
      "\n",
      "together, reimbursement will be at the lesser reimbursement percentage\n",
      "\n",
      "Modi\u0000ers QS, G8 and G9 are informational only, and do not affect reimbursement. Informational modi\u0000ers must be used in the second modi\u0000er position when billed in\n",
      "\n",
      "Modi\u0000er Description\n",
      "\n",
      "Reimbursement\n",
      "\n",
      "AA\n",
      "\n",
      "Anesthesia Services performed personally by the anesthesiologist.\n",
      "\n",
      "Services are paid at 100% of the applicable Horizon allowance.*\n",
      "\n",
      "AD\n",
      "\n",
      "Medical supervision by a physician, more than 4 concurrent anesthesia procedures.\n",
      "\n",
      "Services are paid at 50% of the applicable Horizon allowance.*\n",
      "\n",
      "QK\n",
      "\n",
      "Medical direction of two, three, or four concurrent anesthesia procedures involving quali\u0000ed individuals.\n",
      "\n",
      "Services are paid at 50% of the applicable Horizon allowance.*\n",
      "\n",
      "QY\n",
      "\n",
      "Medical direction of one CRNA by an anesthesiologist.\n",
      "\n",
      "Services are paid at 50% of the applicable Horizon BCBSNJ allowance.*\n",
      "\n",
      "QX\n",
      "\n",
      "CRNA service, with medical direction by a physician.\n",
      "\n",
      "Services are paid at 50% of the applicable Horizon allowance*.\n",
      "\n",
      "QZ**\n",
      "\n",
      "together, reimbursement will be at the lesser reimbursement percentage\n",
      "\n",
      "Modi\u0000ers QS, G8 and G9 are informational only, and do not affect reimbursement. Informational modi\u0000ers must be used in the second modi\u0000er position when billed in\n",
      "\n",
      "conjunction with a pricing anesthesia modi\u0000er (which must be submitted in the \u0000rst modi\u0000er position). Claims submitted with the informational modi\u0000er(s) without a valid\n",
      "\n",
      "anesthesia pricing modi\u0000er will be denied.\n",
      "\n",
      "QS\n",
      "\n",
      "Monitored anesthesia care service (MAC).\n",
      "\n",
      "G8\n",
      "\n",
      "MAC for deep complex complicated or markedly invasive surgical procedures and may be used in lieu of modi\u0000er QS.\n",
      "\n",
      "G9\n",
      "\n",
      "MAC for a patient who has a history of severe cardiopulmonary condition and may be used in lieu of modi\u0000er QS.\n",
      "\n",
      "Duplicate Anesthesia Services\n",
      "\n",
      "    Question: What is the reimbursement of Modifier QX?\n",
      "\n",
      "    Response:\n",
      "    \u001b[0m\n",
      "\n",
      "\u001b[1m> Finished chain.\u001b[0m\n",
      "\n",
      "\u001b[1m> Finished chain.\u001b[0m\n",
      "KnowledgeBaseDocs/Anesthesia/Anesthesia Reimbursement Guidelines.pdf\n",
      "What is the reimbursement of Modifier QX?\n",
      "Reimbursement for Modifier QX is 50% of the applicable Horizon allowance.*\n"
     ]
    },
    {
     "name": "stdin",
     "output_type": "stream",
     "text": [
      "Would you like to ask a related question? Enter Y for yes and N for no. n\n"
     ]
    }
   ],
   "source": [
    "#Anesthesia\n",
    "answer_question(\"What is the reimbursement of Modifier QX?\")"
   ]
  },
  {
   "cell_type": "code",
   "execution_count": 20,
   "id": "fbc2007c-6920-4f13-957c-ed9d9bfe9d76",
   "metadata": {
    "tags": []
   },
   "outputs": [
    {
     "name": "stdin",
     "output_type": "stream",
     "text": [
      "What plan does the customer have? Enter BR for braven, MED for medicare, IC for insurance claim form,\n",
      " YA for Young Adult Coverage, AS for Assistant at Surgery, NS for Nutritional Support GEN for general, or ALL for everything.\n",
      " an\n"
     ]
    },
    {
     "name": "stderr",
     "output_type": "stream",
     "text": [
      "Using embedded DuckDB with persistence: data will be stored in: AIProjectDB/vector_db\n"
     ]
    },
    {
     "name": "stdout",
     "output_type": "stream",
     "text": [
      "\n",
      "\n",
      "\u001b[1m> Entering new StuffDocumentsChain chain...\u001b[0m\n",
      "\n",
      "\n",
      "\u001b[1m> Entering new LLMChain chain...\u001b[0m\n",
      "Prompt after formatting:\n",
      "\u001b[32;1m\u001b[1;3mBelow is an instruction that describes a task. Write a response that appropriately completes the request.\n",
      "\n",
      "    Instructions:\n",
      "    You are a customer service representative at a health insurance company and your job is to help providing the best accurate answer to a customer. \n",
      "    1. Limit your response to the information provided in this prompt. Do not conduct refer to external sources.\n",
      "    2. Focus on the infromation rpesented here to form your answer.\n",
      "    3. Do not include personal opinions or assumptions; stick to the facts provided in the prompt.\n",
      "    4. Explain the answer with reference to the provided paragraphs. If the answer is not in the paragraphs, say that you do not know.\n",
      "    5. Write your answer below the prompt.\n",
      "\n",
      "    together, reimbursement will be at the lesser reimbursement percentage\n",
      "\n",
      "Modi\u0000ers QS, G8 and G9 are informational only, and do not affect reimbursement. Informational modi\u0000ers must be used in the second modi\u0000er position when billed in\n",
      "\n",
      "conjunction with a pricing anesthesia modi\u0000er (which must be submitted in the \u0000rst modi\u0000er position). Claims submitted with the informational modi\u0000er(s) without a valid\n",
      "\n",
      "anesthesia pricing modi\u0000er will be denied.\n",
      "\n",
      "QS\n",
      "\n",
      "Monitored anesthesia care service (MAC).\n",
      "\n",
      "G8\n",
      "\n",
      "MAC for deep complex complicated or markedly invasive surgical procedures and may be used in lieu of modi\u0000er QS.\n",
      "\n",
      "G9\n",
      "\n",
      "MAC for a patient who has a history of severe cardiopulmonary condition and may be used in lieu of modi\u0000er QS.\n",
      "\n",
      "Duplicate Anesthesia Services\n",
      "\n",
      "**ITS home claims, Medicare Secondary, Federal Employee Health Program and claims submitted for the Horizon Medicare Advantage (MRSK) members when billed with a\n",
      "\n",
      "Modi\u0000er QZ are paid at 100% of the applicable Horizon allowance* which is based upon New Jersey's Administrative Code.\n",
      "\n",
      "Note: The Anesthesia Modi\u0000ers listed above are pricing modi\u0000ers and must be listed in the \u0000rst position to insure correct reimbursement. If the above modi\u0000ers are billed\n",
      "\n",
      "together, reimbursement will be at the lesser reimbursement percentage\n",
      "\n",
      "Modi\u0000ers QS, G8 and G9 are informational only, and do not affect reimbursement. Informational modi\u0000ers must be used in the second modi\u0000er position when billed in\n",
      "\n",
      "take into account the complexity, risk, and skill required to perform the service.\n",
      "\n",
      "Base Unit - value for each anesthesia code that re\u0000ects all activities other than anesthesia time. Anesthesia activities include usual pre-operative and post-operative visits, the\n",
      "\n",
      "administration of \u0000uids or blood incident to anesthesia care, and monitoring services.\n",
      "\n",
      "Policy:\n",
      "\n",
      "This policy has been developed using guidelines from the American Society of Anesthesiologists (ASA), the American Medical Association (AMA), and the Centers for Medicare and Medicaid Services (CMS). Anesthesia services must be reported using the appropriate procedure code from the anesthesia section of the Current Procedural Terminology\n",
      "\n",
      "(CPT®) book (00100-01999).\n",
      "\n",
      "    Question: What modifier are informational only?\n",
      "\n",
      "    Response:\n",
      "    \u001b[0m\n",
      "\n",
      "\u001b[1m> Finished chain.\u001b[0m\n",
      "\n",
      "\u001b[1m> Finished chain.\u001b[0m\n",
      "KnowledgeBaseDocs/Anesthesia/Anesthesia Reimbursement Guidelines.pdf\n",
      "What modifier are informational only?\n",
      "Informational modi\u0000ers are used when billed in conjunction with a pricing anesthesia modi\u0000er (which must be submitted in the \u0000rst modi\u0000er position) and claims submitted with the\n",
      "\n",
      "anesthesia pricing modi\u0000er(s) without a valid anesthesia pricing modi\u0000er will be denied.\n"
     ]
    },
    {
     "name": "stdin",
     "output_type": "stream",
     "text": [
      "Would you like to ask a related question? Enter Y for yes and N for no. n\n"
     ]
    }
   ],
   "source": [
    "#Anesthesia\n",
    "answer_question(\"What modifier are informational only?\")"
   ]
  },
  {
   "cell_type": "code",
   "execution_count": 21,
   "id": "b9aa5542-1ae0-4164-8f85-d0bed31d9dcb",
   "metadata": {
    "tags": []
   },
   "outputs": [
    {
     "name": "stdin",
     "output_type": "stream",
     "text": [
      "What plan does the customer have? Enter BR for braven, MED for medicare, IC for insurance claim form,\n",
      " YA for Young Adult Coverage, AS for Assistant at Surgery, NS for Nutritional Support GEN for general, or ALL for everything.\n",
      " an\n"
     ]
    },
    {
     "name": "stderr",
     "output_type": "stream",
     "text": [
      "Using embedded DuckDB with persistence: data will be stored in: AIProjectDB/vector_db\n"
     ]
    },
    {
     "name": "stdout",
     "output_type": "stream",
     "text": [
      "\n",
      "\n",
      "\u001b[1m> Entering new StuffDocumentsChain chain...\u001b[0m\n",
      "\n",
      "\n",
      "\u001b[1m> Entering new LLMChain chain...\u001b[0m\n",
      "Prompt after formatting:\n",
      "\u001b[32;1m\u001b[1;3mBelow is an instruction that describes a task. Write a response that appropriately completes the request.\n",
      "\n",
      "    Instructions:\n",
      "    You are a customer service representative at a health insurance company and your job is to help providing the best accurate answer to a customer. \n",
      "    1. Limit your response to the information provided in this prompt. Do not conduct refer to external sources.\n",
      "    2. Focus on the infromation rpesented here to form your answer.\n",
      "    3. Do not include personal opinions or assumptions; stick to the facts provided in the prompt.\n",
      "    4. Explain the answer with reference to the provided paragraphs. If the answer is not in the paragraphs, say that you do not know.\n",
      "    5. Write your answer below the prompt.\n",
      "\n",
      "    Duplicate anesthesia services submitted by the same physician (or physician group), different physician or other quali\u0000ed health care professional for the same patient on the\n",
      "\n",
      "same date of service will be denied.\n",
      "\n",
      "LIMITATIONS AND EXCLUSIONS:\n",
      "\n",
      "While reimbursement is considered, payment determination is subject to, but not limited to:\n",
      "\n",
      "Group or individual bene\u0000t\n",
      "\n",
      "Provider participation agreement\n",
      "\n",
      "Routine claim editing logic, including but not limited to incidental or mutually exclusive logic, and medical necessity\n",
      "\n",
      "Mandated or legislative required criteria will always supersede.\n",
      "\n",
      "History:\n",
      "\n",
      "2007: Policy Approved\n",
      "\n",
      "07/22/2015: Combined anesthesia policies #002, 012 and 013 into this single policy.\n",
      "\n",
      "Group or individual bene\u0000t\n",
      "\n",
      "Provider participation agreement\n",
      "\n",
      "Routine claim editing logic, including but not limited to incidental or mutually exclusive logic, and medical necessity\n",
      "\n",
      "Mandated or legislative required criteria will always supersede.\n",
      "\n",
      "History:\n",
      "\n",
      "2007: Policy Approved\n",
      "\n",
      "07/22/2015: Combined anesthesia policies #002, 012 and 013 into this single policy.\n",
      "\n",
      "05/25/2106: Added information to Policy and Procedure section about processing of duplicate anesthesia services.\n",
      "\n",
      "CPT® is a registered trademark of the American Medical Association.\n",
      "\n",
      "Policy 012_v3.0_01262023\n",
      "\n",
      "https://www.horizonblue.com/providers/policies-procedures/policies/reimbursement-policies-guidelines/anesthesia-reimbursement-guidelines\n",
      "\n",
      "2/5\n",
      "\n",
      "Modi\u0000er Description\n",
      "\n",
      "Reimbursement\n",
      "\n",
      "AA\n",
      "\n",
      "Anesthesia Services performed personally by the anesthesiologist.\n",
      "\n",
      "Services are paid at 100% of the applicable Horizon allowance.*\n",
      "\n",
      "AD\n",
      "\n",
      "Medical supervision by a physician, more than 4 concurrent anesthesia procedures.\n",
      "\n",
      "Services are paid at 50% of the applicable Horizon allowance.*\n",
      "\n",
      "QK\n",
      "\n",
      "Medical direction of two, three, or four concurrent anesthesia procedures involving quali\u0000ed individuals.\n",
      "\n",
      "Services are paid at 50% of the applicable Horizon allowance.*\n",
      "\n",
      "QY\n",
      "\n",
      "Medical direction of one CRNA by an anesthesiologist.\n",
      "\n",
      "Services are paid at 50% of the applicable Horizon BCBSNJ allowance.*\n",
      "\n",
      "QX\n",
      "\n",
      "CRNA service, with medical direction by a physician.\n",
      "\n",
      "Services are paid at 50% of the applicable Horizon allowance*.\n",
      "\n",
      "QZ**\n",
      "\n",
      "    Question: Are their any limitations and exclusions?\n",
      "\n",
      "    Response:\n",
      "    \u001b[0m\n",
      "\n",
      "\u001b[1m> Finished chain.\u001b[0m\n",
      "\n",
      "\u001b[1m> Finished chain.\u001b[0m\n",
      "KnowledgeBaseDocs/Anesthesia/Anesthesia Reimbursement Guidelines.pdf\n",
      "Are their any limitations and exclusions?\n",
      "Yes, there are limitations and exclusions to reimbursement of duplicate anesthesia services.  The following are limitations:  \n",
      "\n",
      "Provider participation agreement, or \"PPA\", will trump duplicate anesthesia services that are covered by a provider participation agreement.  This agreement typically addresses payment for anesthesia services provided by CRNAs, and contains terms that limit payment for a given service to a specified number of procedures or providers.  \n",
      "\n",
      "Routine claim editing logic, or \"RCEL\", will trump duplicate anesthesia services that include logic that would exclude a given service from reimbursement.  For example, if the service is considered \"mutually exclusive\" with another service included in a claim, and is therefore not reimbursable.  If RCEL excludes a service from reimbursement, the services are counted as one for the purposes of calculating limits and exceptions.\n",
      "\n",
      "Mandated or legislative required criteria will always supersede limitations and exclusions, although they will apply to certain limitations and exclusions in the event of a conflict.\n",
      "\n",
      "History:\n",
      "\n",
      "2015: Policy 012_v3.0_01262023\n",
      "\n",
      "07/22/2015: Combined anesthesia policies #002, 012 and 013 into this single policy.\n",
      "\n",
      "Added information to Policy and Procedure\n"
     ]
    },
    {
     "name": "stdin",
     "output_type": "stream",
     "text": [
      "Would you like to ask a related question? Enter Y for yes and N for no. n\n"
     ]
    }
   ],
   "source": [
    "#Anesthesia\n",
    "answer_question(\"Are their any limitations and exclusions?\")"
   ]
  },
  {
   "cell_type": "code",
   "execution_count": null,
   "id": "e0a6f5c8-74fa-45c3-b089-7083f3bc1127",
   "metadata": {
    "tags": []
   },
   "outputs": [],
   "source": [
    "generate_text(\"\"\"Question: I haven't gotten my vaccines this year. Will I owe a copay if I get the flu shot?\n",
    "Context: • Vaccines, including Pneumonia, Flu shots, Hepatitis B,\n",
    "COVID-19 and other vaccines (counseling for people with no sign of tobacco-related\n",
    "disease)\n",
    "• Vaccines, including Pneumonia, Flu shots, Hepatitis B,\n",
    "COVID-19 and other vaccines\n",
    "• “Welcome to Medicare” preventive visit (one-time)\n",
    "Any additional preventive services approved by Medicare during\n",
    "the contract year will be covered. Flu shot, Hepatitis B,\n",
    "Pneumonia, and COVID-19 vaccines are $0 copayment in-and\n",
    "out-of-network. \n",
    "\n",
    "Important Message About What You Pay for Vaccines – Our\n",
    "plan covers most Part D vaccines at no cost to you even if you\n",
    "haven’t paid your deductible. Call Member Services for more\n",
    "information.\n",
    "Covered Benefits\n",
    "NOTE: Services with a 1 may require prior authorization. \n",
    "\n",
    "$0 copayment\n",
    "• Out-of-network\n",
    "o $50 copayment in an office or freestanding facility\n",
    "o $110 copayment in an outpatient hospital\n",
    "Diagnostic Mammogram:\n",
    "• In-network: $0 copayment\n",
    "• Out-of-network:\n",
    "o $60 copayment in an office or freestanding facility\n",
    "o $175 copayment in an outpatient hospital\n",
    "Diagnostic radiology services (such as MRIs, CT scans):\n",
    "• In-network:\n",
    "o $40 copayment in an office or freestanding facility\n",
    "o $150 copayment in an outpatient hospital \n",
    "              \"\"\")"
   ]
  },
  {
   "cell_type": "code",
   "execution_count": null,
   "id": "59c12343-63bc-4b2f-ad4d-bdc21792d71d",
   "metadata": {
    "tags": []
   },
   "outputs": [],
   "source": [
    "generate_text(\"\"\"Question: Are hearing aids covered under my plan?\n",
    "Context: Your provider must submit claims to HearUSA\n",
    "for any in-network and out-of-network routine hearing\n",
    "exams.\n",
    "Fitting/Evaluation for hearing aid (1 per year):\n",
    "• In-network: $0 copayment\n",
    "• Out-of-network: $30 copayment\n",
    "• Call HearUSA to schedule a visit with an in-network\n",
    "provider. Your provider must submit claims to HearUSA\n",
    "for any in-network and out-of-network fitting/evaluation\n",
    "for hearing aid.\n",
    "Our plan covers up to $1,250 every year for hearing aids. Plan\n",
    "covers $750 toward the purchase of a hearing aid for one ear\n",
    "and $500 toward the purchase of a hearing aid for the second\n",
    "ear. You are responsible for payment beyond the $1,250\n",
    "coverage limit. One (1) year supply of batteries are included.\n",
    "\n",
    "Covered Benefits Braven Medicare Choice (PPO)\n",
    "NOTE: Services with a 1 may require prior authorization.\n",
    "Hearing Services You can obtain hearing aids from any HearUSA in-network\n",
    "provider at a discount. If you obtain hearing aids from an out-ofnetwork provider, submit your request to HearUSA for\n",
    "reimbursement up to a $1,250 coverage limit.\n",
    "Dental Services Routine dental services (preventive/diagnostic):\n",
    "\n",
    "In-network: $20 copayment\n",
    "• Out-of-network: $30 copayment\n",
    "Routine hearing exam (1 per year):\n",
    "• In-network: $0 copayment\n",
    "• Out-of-network: $30 copayment\n",
    "• Call HearUSA to schedule a visit with an in-network\n",
    "provider. Your provider must submit claims to HearUSA\n",
    "for any in-network and out-of-network routine hearing\n",
    "exams.\n",
    "Fitting/Evaluation for hearing aid (1 per year):\n",
    "• In-network: $0 copayment\n",
    "• Out-of-network: $30 copayment\n",
    "• Call HearUSA to schedule a visit with an in-network\n",
    "              \"\"\")"
   ]
  },
  {
   "cell_type": "code",
   "execution_count": 1,
   "id": "f06f3f0f-e077-4949-8845-686de1949c65",
   "metadata": {
    "tags": []
   },
   "outputs": [
    {
     "ename": "NameError",
     "evalue": "name 'answer_question' is not defined",
     "output_type": "error",
     "traceback": [
      "\u001b[0;31m---------------------------------------------------------------------------\u001b[0m",
      "\u001b[0;31mNameError\u001b[0m                                 Traceback (most recent call last)",
      "Cell \u001b[0;32mIn[1], line 1\u001b[0m\n\u001b[0;32m----> 1\u001b[0m \u001b[43manswer_question\u001b[49m(\u001b[38;5;124m\"\u001b[39m\u001b[38;5;124mAre their any limitations and exclusions?\u001b[39m\u001b[38;5;124m\"\u001b[39m)\n",
      "\u001b[0;31mNameError\u001b[0m: name 'answer_question' is not defined"
     ]
    }
   ],
   "source": [
    "answer_question(\"Are their any limitations and exclusions?\")"
   ]
  },
  {
   "cell_type": "code",
   "execution_count": null,
   "id": "864c0f05-5f55-4b3c-9743-bac9be7605d0",
   "metadata": {},
   "outputs": [],
   "source": [
    "answer_question(\"Are their any limitations and exclusions?\")"
   ]
  }
 ],
 "metadata": {
  "kernelspec": {
   "display_name": "conda_python3",
   "language": "python",
   "name": "conda_python3"
  },
  "language_info": {
   "codemirror_mode": {
    "name": "ipython",
    "version": 3
   },
   "file_extension": ".py",
   "mimetype": "text/x-python",
   "name": "python",
   "nbconvert_exporter": "python",
   "pygments_lexer": "ipython3",
   "version": "3.10.10"
  },
  "toc-autonumbering": true,
  "toc-showtags": false
 },
 "nbformat": 4,
 "nbformat_minor": 5
}
