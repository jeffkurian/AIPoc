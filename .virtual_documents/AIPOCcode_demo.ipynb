###transformer_name = 'sentence-transformers/all-MiniLM-L6-v2'
embedding_model_name = "sentence-transformers/all-mpnet-base-v2" #open source?
llm_name = "databricks/dolly-v2-2-8b"

KB_doc_folder = "KnowledgeBaseDocs"
vector_db_path = "AIProjectDB/vector_db"

text_chunk_size_nchar = 800
chunk_overlap_size = 400
load = True
maxSemResCount = 50
recomputePlanCollections = False


if load:
    get_ipython().getoutput("pip -q install git+https://github.com/huggingface/transformers")
    get_ipython().getoutput("pip -q install accelerate>=0.12.0")
    get_ipython().getoutput("pip install langchain")
    get_ipython().getoutput("pip install transformers")
    get_ipython().getoutput("pip install sentence-transformers")
    get_ipython().getoutput("pip install unstructured")
    get_ipython().getoutput("pip install chromadb==0.3.22 transformers==4.29.0")
    #!pip install chromadb-client
    get_ipython().getoutput("pip install pdf2image pdfminer")
    get_ipython().getoutput("pip install pdfminer.six")


import os
from sentence_transformers import SentenceTransformer
from langchain.embeddings import HuggingFaceEmbeddings

###model = SentenceTransformer(transformer_name)
embed_model = HuggingFaceEmbeddings(model_name=embedding_model_name)


#import chromadb
#from chromadb.config import Settings
#client = chromadb.PersistentClient(settings=Settings(chroma_api_impl="chromadb.api.fastapi.FastAPI", persist_directory=vector_db_path))
#client = chromadb.Client(Settings(chroma_api_impl="chromadb.api.fastapi.FastAPI", persist_directory=vector_db_path, chroma_server_host='LocalHost', chroma_server_http_port=8000))
#client = chromadb.HttpClient(host='localhost', port=8000)
#client = chromadb.Client()


from langchain.document_loaders import UnstructuredPDFLoader, OnlinePDFLoader
from langchain.text_splitter import RecursiveCharacterTextSplitter
import os.path
from langchain.vectorstores import Chroma

# Don't recompute the embeddings if they're already available
#full_collection = client.create_collection(name="public_docs", embedding_function=embed_model)
db = Chroma(collection_name="public_docs", embedding_function=embed_model, persist_directory=vector_db_path)
if not os.path.isdir(vector_db_path) or len(os.listdir(vector_db_path)) == 0:
    if not os.path.isdir(vector_db_path):
      print(f"creating folder {vector_db_path}")
      get_ipython().getoutput("mkdir -p {vector_db_path}")
    
    text_splitter = RecursiveCharacterTextSplitter(chunk_size=text_chunk_size_nchar,chunk_overlap=chunk_overlap_size)
    for foldername in os.listdir(KB_doc_folder):
        folderpath = KB_doc_folder + "/" + foldername
        for filename in os.listdir(folderpath):
            filepath = folderpath + "/" + filename
            with open(filepath):
                loader = UnstructuredPDFLoader(filepath) #creating multiple times? look into params
                data = loader.load()
                text_chunks = text_splitter.split_documents(data)

                print(f"Saving document embeddings under {vector_db_path}")
                db = Chroma.from_documents(collection_name="public_docs", documents=text_chunks, embedding=embed_model, persist_directory=vector_db_path)
                db.persist()


if recomputePlanCollections:
    if not os.path.isdir(vector_db_path):
      print(f"creating folder {vector_db_path}")
      get_ipython().getoutput("mkdir -p {vector_db_path}")
    
    text_splitter = RecursiveCharacterTextSplitter(chunk_size=text_chunk_size_nchar,chunk_overlap=chunk_overlap_size)
    for foldername in os.listdir(KB_doc_folder):
        folderpath = KB_doc_folder + "/" + foldername
        print(os.listdir(KB_doc_folder))
        for filename in os.listdir(folderpath):
            filepath = folderpath + "/" + filename
            with open(filepath):
                loader = UnstructuredPDFLoader(filepath) #creating multiple times? look into params
                data = loader.load()
                text_chunks = text_splitter.split_documents(data)
                #create a collection for each plan and add the documents to it

                print(f"Saving document embeddings of {foldername} under {vector_db_path}")
                db = Chroma.from_documents(collection_name=foldername, documents=text_chunks, embedding=embed_model, persist_directory=vector_db_path)
                db.persist()


#VC
#import chromadb
#chroma_client = chromadb.Client()
#chroma_client.list_collections()


#VC
#import chromadb
#from chromadb.config import Settings
# Example setup of the client to connect to your chroma server
#client = chromadb.HttpClient(host='localhost', port=8000)


def get_similar_chunks(question, similar_doc_count, colname):
    db_sem = Chroma(collection_name=colname, embedding_function=embed_model, persist_directory=vector_db_path)
    return db_sem.similarity_search(question, k=similar_doc_count)


#BRAVEN
#("I haven’t gotten any vaccines yet this year. Will I owe a copay if I get the flu shot?"):
#("What other vaccines can I get this year without owing a copay?", 3, "Braven"):
#("Will I owe a copay for lab services?", 3, "Braven"):
#("Will I owe a copay if I get an MRI?", 3, "Braven"):
#("My doctor recommended that I go to physical therapy.  Would that be covered? ", 3, "Braven"):
#("I am having surgery performed at a surgical center.  How much will I have to pay?", 3, "Braven"):
#("I am traveling out of the country and would like to know if I have coverage worldwide.", 3, "Braven"):
#("Would I owe a copayment for outpatient mental health services?", 3, "Braven"):
#("How do I find doctors that are in-network with my plan?", 3, "Braven"):
#("Can I go to an out-of-network provider?", 3, "Braven"):
#("Do I have to pay a deductible when using this medical plan?", 3, "Braven"):
#("I have to go for my annual physical exam.  How much will I have to pay for the visit?", 3, "Braven"):
#("Is there a nurse that I can speak with regarding a recent diagnosis I received?", 3, "Braven"):
#("Are hearing aids covered under my plan?", 3, "Braven"):
#("Do I have to pay for my annual dental cleaning?", 3, "Braven"):


import torch
from transformers import AutoTokenizer, AutoModelForCausalLM, pipeline
from langchain import PromptTemplate
from langchain.llms import HuggingFacePipeline
from langchain.chains.question_answering import load_qa_chain
from langchain.memory import ConversationSummaryBufferMemory


def build_qa_chain():
    torch.cuda.empty_cache()
    model_name = "databricks/dolly-v2-2-8b" 

    instruct_pipeline = pipeline(model=model_name, torch_dtype=torch.bfloat16, trust_remote_code=True, device_map="auto", return_full_text=True, max_new_tokens=256, top_p=0.95, top_k=maxSemResCount)

    # Defining our prompt content.langchain will load our similar documents as {context}
    template = """Below is an instruction that describes a task. Write a response that appropriately completes the request.

    Instructions:
    You are a customer service representative at a health insurance company and your job is to help providing the best accurate answer to a customer. 
    1. Limit your response to the information provided in this prompt. Do not conduct refer to external sources.
    2. Focus on the infromation rpesented here to form your answer.
    3. Do not include personal opinions or assumptions; stick to the facts provided in the prompt.
    4. Explain the answer with reference to the provided paragraphs. If the answer is not in the paragraphs, say that you do not know.
    5. Write your answer below the prompt.

    {context}

    Question: {question}

    Response:
    """
    prompt = PromptTemplate(input_variables=['context', 'question'], template=template)

    hf_pipe = HuggingFacePipeline(pipeline=instruct_pipeline)

    #summarizing the chat history
    #summarize_model = AutoModelForSeq2SeqLM.from_pretrained("t5-small", device_map="auto", torch_dtype=torch.bfloat16, trust_remote_code=True)
    #summarize_tokenizer = AutoTokenizer.from_pretrained("t5-small", padding_side="left", model_max_length = 512)
    #pipe_summary = pipeline("summarization", model=summarize_model, tokenizer=summarize_tokenizer) #, max_new_tokens=500, min_new_tokens=300
    # langchain pipeline doesn't support summarization yet, we added it as temp fix in the companion notebook _resources/00-init 
    #hf_summary = HuggingFacePipeline_WithSummarization(pipeline=pipe_summary)
    #will keep 500 token and then ask for a summary. Removes prefix as our model isn't trained on specific chat prefix and can get confused.
    #memory = ConversationSummaryBufferMemory(llm=hf_summary, memory_key="chat_history", input_key="question", max_token_limit=500, human_prefix = "", ai_prefix = "")

    return load_qa_chain(llm=hf_pipe, chain_type="stuff", prompt=prompt, verbose=True)

qa_chain = build_qa_chain()


db_YA=Chroma(collection_name="CoverageofYoungAdultsinNJ", embedding_function=embed_model, persist_directory=vector_db_path)

for chunk in get_similar_chunks("I am switching employers, will this impact my child’s DU31 plan?", 3, "Braven"):
    print("***************************New Chunk:\n")
    print(chunk)


def session():
    plan = input("What plan does the customer have? Enter BR for braven, MED for medicare, IC for insurance claim form,\n YA for Young Adult Coverage, AS for Assistant at Surgery, NS for Nutritional Support GEN for general, or ALL for everything.\n")
    if plan.upper()=="BR" or plan.upper()=="BRAVEN":
        #search from braven documentation
        return "Braven"
    elif plan.upper()=="MED" or plan.upper()=="MEDICARE":
        #search from medicare documentation
        return "Medicare"
    elif plan.upper()=="YA" or plan.upper()=="YOUNGADULT":
        return "CoverageofYoungAdultsinNJ"
    elif plan.upper()=="GEN" or plan.upper()=="GENERAL":
        #search general documents
        print("general") #NEEDS TO BE CHANGED
    elif plan.upper()=="IC" or plan.upper()=="INSURANCE CLAIM":
        return "HorizonMedicalHealthInsuranceClaimForm"
    elif plan.upper()=="AS" or plan.upper()=="ASSISTANT SURGERY":
        return "AssistantAtSurgery"
    elif plan.upper()=="NS" or plan.upper()=="NUTRITIONAL SUPPORT":
        return "NutrionalSupport"#"NutritionalSupport"
    elif plan.upper()=="AN" or plan.upper()=="ANESTHESIA":
        return "Anesthesia"
    elif plan.upper()=="ALL":
        #search all plans
        return "public_docs"
    else:
        print("Sorry, I'm not sure what you're saying")


def continueprompt():
    while True:
        ret = input("Would you like to ask a related question? Enter Y for yes and N for no.")
        if ret.upper()=="Y" or ret.upper()=="YES":
            return True
        elif ret.upper()=="N" or ret.upper()=="NO":
            return False
        else:
            print("I'm sorry, I didn't understand. Would you like to ask a related question? Enter Y for yes and N for no.")


def answer_question(question):
    plan = session()
    similar_chunks = get_similar_chunks(question, similar_doc_count=3, colname=plan)
    result = qa_chain({"input_documents": similar_chunks, "question": question})
    for d in result["input_documents"]:
        source_id = d.metadata["source"]
    print(source_id)
    res = question + result['output_text']
    print(res)
    if continueprompt()==True:
        newq = input("Please enter your next question.")
        answer_question(newq)


#BRAVEN
from langchain.vectorstores import Chroma
answer_question("I haven’t gotten any vaccines yet this year. Will I owe a copay if I get the flu shot?")


#BRAVEN
from langchain.vectorstores import Chroma
answer_question("I haven’t gotten any vaccines yet this year. Will I owe a copay if I get the flu shot?")


#BRAVEN
answer_question("What other vaccines have a $0 copay?")


#BRAVEN
answer_question("Will I owe a copay for lab services?")


answer_question("Who is the president of the US?")


#BRAVEN
answer_question("Will I owe a copay if I get an MRI?")


#BRAVEN
answer_question("My doctor recommended that I go to physical therapy.  Would that be covered?")


#BRAVEN
answer_question("I am having surgery performed at a surgical center.  How much will I have to pay?")


#BRAVEN
answer_question("I am traveling out of the country and would like to know if I have coverage worldwide.")


#BRAVEN
answer_question("Would I owe a copayment for outpatient mental health services?")


#BRAVEN
answer_question("How do I find doctors that are in-network with my plan?")


#BRAVEN
answer_question("Can I go to an out-of-network provider?")


#BRAVEN
answer_question("Do I have to pay a deductible when using this medical plan?")


#BRAVEN
answer_question("I have to go for my annual physical exam.  How much will I have to pay for the visit?")


#BRAVEN
answer_question("Is there a nurse that I can speak with regarding a recent diagnosis I received?")


#BRAVEN
answer_question("Are hearing aids covered under my plan?")


#BRAVEN
answer_question("Do I have to pay for my annual dental cleaning?")


#Horizon Med Claim Form
answer_question("Can you direct me to the form used to submit a health claim for reimbursement?")


#Horizon Med Claim Form
answer_question("What is the address that I can mail this to?")


answer_question("What is the criteria to buy a Horizon Dental insurance plan?")


answer_question("What is a phone number for dental plans?")


answer_question("Is there a dental plan for kids?")


answer_question("Will I owe a copay if I get an MRI?")


answer_question("Will I owe a copay for lab services?")


answer_question("My doctor recommended physical therapy. Would it be covered?")


answer_question("I am travelling out of the country and would like to know if I have worldwide coverage with Braven.")


answer_question("Does my plan cover gym memberships or fitness classes?")


answer_question("Does Medicare cover religious care?")


answer_question("Will I owe a copay for lab services?") #Braven


answer_question("Would I owe a copayment for outpatient mental health services?")


#YA Coverage
answer_question("My son is 28 years old. Can I add him to my job’s health insurance policy by taking the New Jersey Dependent Under 31 (DU31) election?")


#YA Coverage
answer_question("My group health plan is not subject to the DU31 law.  Are there any other options for my child?")


#YA Coverage
answer_question("I am turning 27 and am currently on my parent’s plan through their employer.  Will I be able to continue my coverage?")


#YA Coverage
answer_question("How can I enroll my daughter in a DU31 plan?")


#YA Coverage
answer_question("Is there a cost associated with adding my child by taking the New Jersey Under 31 (DU31) election?")


#YA Coverage
answer_question("I am switching employers, will this impact my child’s DU31 plan?")


#YA Coverage
answer_question("Can I enroll my son under a DU31 plan if he does not live in the same house as me?")


#Assistant At Surgery
answer_question("When was the Assistant at Surgery document's last revision date?")


#Assistant At Surgery
answer_question("What is the scope?")


#Assistant At Surgery
answer_question("What is a Modifier 82?")


#Assistant At Surgery
answer_question("What does a modifier 81 reimburse at?")


#Assistant At Surgery
answer_question("Are there any limitations and exclusions?")


#Nutritional Support
answer_question("When was the Nutritional Support policy's last review date?")


#Nutritional Support
answer_question("What is the infant formula mandate?")


#Nutritional Support
answer_question("Is Enteral Nutrition medically necessary?")


#Nutritional Support
answer_question("When is Relizorb medically necessary?")


#Nutritional Support
answer_question("What are the main types of infant formulas?")


#Nutritional Support
answer_question("What are the associated formula codes?")


#Nutritional Support
#When was this policy last reviewed?
#What is the infant formula mandate?
#Is Enteral Nutrition medically necessary?
#What are the main types of infant formulas?
#What are the associated formula codes?


import torch
from transformers import pipeline

generate_text=pipeline(model="databricks/dolly-v2-2-8b",
                       torch_dtype=torch.bfloat16,
                       trust_remote_code=True,
                       device_map="auto")


#Anesthesia
#What is the definition of anesthesia?
#What is the definition of anesthesia time?
#What is the reimbursement formula?
#What is the desciption of Modifier AA?
#What is the reimbursement of Modifier QX?
#What modifier are informational only?
#Are their any limitations and exclusions?


#Anesthesia
answer_question("What is the definition of anesthesia?")


#Anesthesia
answer_question("What is the definition of anesthesia time?")


#Anesthesia
answer_question("What is the reimbursement formula?")


#Anesthesia
answer_question("What is the desciption of Modifier AA?")


#Anesthesia
answer_question("What is the reimbursement of Modifier QX?")


#Anesthesia
answer_question("What modifier are informational only?")


#Anesthesia
answer_question("Are their any limitations and exclusions?")


generate_text("""Question: I haven't gotten my vaccines this year. Will I owe a copay if I get the flu shot?
Context: • Vaccines, including Pneumonia, Flu shots, Hepatitis B,
COVID-19 and other vaccines (counseling for people with no sign of tobacco-related
disease)
• Vaccines, including Pneumonia, Flu shots, Hepatitis B,
COVID-19 and other vaccines
• “Welcome to Medicare” preventive visit (one-time)
Any additional preventive services approved by Medicare during
the contract year will be covered. Flu shot, Hepatitis B,
Pneumonia, and COVID-19 vaccines are $0 copayment in-and
out-of-network. 

Important Message About What You Pay for Vaccines – Our
plan covers most Part D vaccines at no cost to you even if you
haven’t paid your deductible. Call Member Services for more
information.
Covered Benefits
NOTE: Services with a 1 may require prior authorization. 

$0 copayment
• Out-of-network
o $50 copayment in an office or freestanding facility
o $110 copayment in an outpatient hospital
Diagnostic Mammogram:
• In-network: $0 copayment
• Out-of-network:
o $60 copayment in an office or freestanding facility
o $175 copayment in an outpatient hospital
Diagnostic radiology services (such as MRIs, CT scans):
• In-network:
o $40 copayment in an office or freestanding facility
o $150 copayment in an outpatient hospital 
              """)


generate_text("""Question: Are hearing aids covered under my plan?
Context: Your provider must submit claims to HearUSA
for any in-network and out-of-network routine hearing
exams.
Fitting/Evaluation for hearing aid (1 per year):
• In-network: $0 copayment
• Out-of-network: $30 copayment
• Call HearUSA to schedule a visit with an in-network
provider. Your provider must submit claims to HearUSA
for any in-network and out-of-network fitting/evaluation
for hearing aid.
Our plan covers up to $1,250 every year for hearing aids. Plan
covers $750 toward the purchase of a hearing aid for one ear
and $500 toward the purchase of a hearing aid for the second
ear. You are responsible for payment beyond the $1,250
coverage limit. One (1) year supply of batteries are included.

Covered Benefits Braven Medicare Choice (PPO)
NOTE: Services with a 1 may require prior authorization.
Hearing Services You can obtain hearing aids from any HearUSA in-network
provider at a discount. If you obtain hearing aids from an out-ofnetwork provider, submit your request to HearUSA for
reimbursement up to a $1,250 coverage limit.
Dental Services Routine dental services (preventive/diagnostic):

In-network: $20 copayment
• Out-of-network: $30 copayment
Routine hearing exam (1 per year):
• In-network: $0 copayment
• Out-of-network: $30 copayment
• Call HearUSA to schedule a visit with an in-network
provider. Your provider must submit claims to HearUSA
for any in-network and out-of-network routine hearing
exams.
Fitting/Evaluation for hearing aid (1 per year):
• In-network: $0 copayment
• Out-of-network: $30 copayment
• Call HearUSA to schedule a visit with an in-network
              """)


answer_question("Are their any limitations and exclusions?")


answer_question("Are their any limitations and exclusions?")
