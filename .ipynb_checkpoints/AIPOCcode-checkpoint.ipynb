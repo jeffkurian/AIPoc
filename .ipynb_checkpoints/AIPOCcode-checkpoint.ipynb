{
 "cells": [
  {
   "cell_type": "code",
   "execution_count": 1,
   "id": "ab376be8-3607-41d6-b455-64865ba4a06e",
   "metadata": {},
   "outputs": [],
   "source": [
    "###transformer_name = 'sentence-transformers/all-MiniLM-L6-v2'\n",
    "embedding_model_name = \"sentence-transformers/all-mpnet-base-v2\" #open source?\n",
    "llm_name = \"databricks/dolly-v2-2-8b\"\n",
    "\n",
    "KB_doc_folder = \"KnowledgeBaseDocs\"\n",
    "vector_db_path = \"AIProjectDB/vector_db\"\n",
    "\n",
    "text_chunk_size_nchar = 500"
   ]
  },
  {
   "cell_type": "code",
   "execution_count": 2,
   "id": "e372f64c-4031-4d62-8daa-36fd38cec78a",
   "metadata": {
    "tags": []
   },
   "outputs": [
    {
     "name": "stdout",
     "output_type": "stream",
     "text": [
      "Requirement already satisfied: langchain in /home/studio-lab-user/.conda/envs/default/lib/python3.9/site-packages (0.0.248)\n",
      "Requirement already satisfied: SQLAlchemy<3,>=1.4 in /home/studio-lab-user/.conda/envs/default/lib/python3.9/site-packages (from langchain) (2.0.19)\n",
      "Requirement already satisfied: numpy<2,>=1 in /home/studio-lab-user/.conda/envs/default/lib/python3.9/site-packages (from langchain) (1.25.2)\n",
      "Requirement already satisfied: async-timeout<5.0.0,>=4.0.0 in /home/studio-lab-user/.conda/envs/default/lib/python3.9/site-packages (from langchain) (4.0.2)\n",
      "Requirement already satisfied: PyYAML>=5.4.1 in /home/studio-lab-user/.conda/envs/default/lib/python3.9/site-packages (from langchain) (6.0)\n",
      "Requirement already satisfied: dataclasses-json<0.6.0,>=0.5.7 in /home/studio-lab-user/.conda/envs/default/lib/python3.9/site-packages (from langchain) (0.5.14)\n",
      "Requirement already satisfied: langsmith<0.1.0,>=0.0.11 in /home/studio-lab-user/.conda/envs/default/lib/python3.9/site-packages (from langchain) (0.0.15)\n",
      "Requirement already satisfied: pydantic<2,>=1 in /home/studio-lab-user/.conda/envs/default/lib/python3.9/site-packages (from langchain) (1.10.12)\n",
      "Requirement already satisfied: tenacity<9.0.0,>=8.1.0 in /home/studio-lab-user/.conda/envs/default/lib/python3.9/site-packages (from langchain) (8.2.2)\n",
      "Requirement already satisfied: openapi-schema-pydantic<2.0,>=1.2 in /home/studio-lab-user/.conda/envs/default/lib/python3.9/site-packages (from langchain) (1.2.4)\n",
      "Requirement already satisfied: requests<3,>=2 in /home/studio-lab-user/.conda/envs/default/lib/python3.9/site-packages (from langchain) (2.31.0)\n",
      "Requirement already satisfied: aiohttp<4.0.0,>=3.8.3 in /home/studio-lab-user/.conda/envs/default/lib/python3.9/site-packages (from langchain) (3.8.5)\n",
      "Requirement already satisfied: numexpr<3.0.0,>=2.8.4 in /home/studio-lab-user/.conda/envs/default/lib/python3.9/site-packages (from langchain) (2.8.4)\n",
      "Requirement already satisfied: frozenlist>=1.1.1 in /home/studio-lab-user/.conda/envs/default/lib/python3.9/site-packages (from aiohttp<4.0.0,>=3.8.3->langchain) (1.4.0)\n",
      "Requirement already satisfied: yarl<2.0,>=1.0 in /home/studio-lab-user/.conda/envs/default/lib/python3.9/site-packages (from aiohttp<4.0.0,>=3.8.3->langchain) (1.9.2)\n",
      "Requirement already satisfied: aiosignal>=1.1.2 in /home/studio-lab-user/.conda/envs/default/lib/python3.9/site-packages (from aiohttp<4.0.0,>=3.8.3->langchain) (1.3.1)\n",
      "Requirement already satisfied: attrs>=17.3.0 in /home/studio-lab-user/.conda/envs/default/lib/python3.9/site-packages (from aiohttp<4.0.0,>=3.8.3->langchain) (22.2.0)\n",
      "Requirement already satisfied: charset-normalizer<4.0,>=2.0 in /home/studio-lab-user/.conda/envs/default/lib/python3.9/site-packages (from aiohttp<4.0.0,>=3.8.3->langchain) (3.2.0)\n",
      "Requirement already satisfied: multidict<7.0,>=4.5 in /home/studio-lab-user/.conda/envs/default/lib/python3.9/site-packages (from aiohttp<4.0.0,>=3.8.3->langchain) (6.0.4)\n",
      "Requirement already satisfied: marshmallow<4.0.0,>=3.18.0 in /home/studio-lab-user/.conda/envs/default/lib/python3.9/site-packages (from dataclasses-json<0.6.0,>=0.5.7->langchain) (3.20.1)\n",
      "Requirement already satisfied: typing-inspect<1,>=0.4.0 in /home/studio-lab-user/.conda/envs/default/lib/python3.9/site-packages (from dataclasses-json<0.6.0,>=0.5.7->langchain) (0.9.0)\n",
      "Requirement already satisfied: packaging>=17.0 in /home/studio-lab-user/.conda/envs/default/lib/python3.9/site-packages (from marshmallow<4.0.0,>=3.18.0->dataclasses-json<0.6.0,>=0.5.7->langchain) (23.0)\n",
      "Requirement already satisfied: typing-extensions>=4.2.0 in /home/studio-lab-user/.conda/envs/default/lib/python3.9/site-packages (from pydantic<2,>=1->langchain) (4.5.0)\n",
      "Requirement already satisfied: urllib3<3,>=1.21.1 in /home/studio-lab-user/.conda/envs/default/lib/python3.9/site-packages (from requests<3,>=2->langchain) (2.0.4)\n",
      "Requirement already satisfied: certifi>=2017.4.17 in /home/studio-lab-user/.conda/envs/default/lib/python3.9/site-packages (from requests<3,>=2->langchain) (2023.7.22)\n",
      "Requirement already satisfied: idna<4,>=2.5 in /home/studio-lab-user/.conda/envs/default/lib/python3.9/site-packages (from requests<3,>=2->langchain) (3.4)\n",
      "Requirement already satisfied: greenlet!=0.4.17 in /home/studio-lab-user/.conda/envs/default/lib/python3.9/site-packages (from SQLAlchemy<3,>=1.4->langchain) (2.0.2)\n",
      "Requirement already satisfied: mypy-extensions>=0.3.0 in /home/studio-lab-user/.conda/envs/default/lib/python3.9/site-packages (from typing-inspect<1,>=0.4.0->dataclasses-json<0.6.0,>=0.5.7->langchain) (1.0.0)\n",
      "Requirement already satisfied: transformers in /home/studio-lab-user/.conda/envs/default/lib/python3.9/site-packages (4.32.0.dev0)\n",
      "Requirement already satisfied: regex!=2019.12.17 in /home/studio-lab-user/.conda/envs/default/lib/python3.9/site-packages (from transformers) (2023.6.3)\n",
      "Requirement already satisfied: requests in /home/studio-lab-user/.conda/envs/default/lib/python3.9/site-packages (from transformers) (2.31.0)\n",
      "Requirement already satisfied: packaging>=20.0 in /home/studio-lab-user/.conda/envs/default/lib/python3.9/site-packages (from transformers) (23.0)\n",
      "Requirement already satisfied: huggingface-hub<1.0,>=0.14.1 in /home/studio-lab-user/.conda/envs/default/lib/python3.9/site-packages (from transformers) (0.16.4)\n",
      "Requirement already satisfied: pyyaml>=5.1 in /home/studio-lab-user/.conda/envs/default/lib/python3.9/site-packages (from transformers) (6.0)\n",
      "Requirement already satisfied: safetensors>=0.3.1 in /home/studio-lab-user/.conda/envs/default/lib/python3.9/site-packages (from transformers) (0.3.1)\n",
      "Requirement already satisfied: filelock in /home/studio-lab-user/.conda/envs/default/lib/python3.9/site-packages (from transformers) (3.12.2)\n",
      "Requirement already satisfied: numpy>=1.17 in /home/studio-lab-user/.conda/envs/default/lib/python3.9/site-packages (from transformers) (1.25.2)\n",
      "Requirement already satisfied: tokenizers!=0.11.3,<0.14,>=0.11.1 in /home/studio-lab-user/.conda/envs/default/lib/python3.9/site-packages (from transformers) (0.13.3)\n",
      "Requirement already satisfied: tqdm>=4.27 in /home/studio-lab-user/.conda/envs/default/lib/python3.9/site-packages (from transformers) (4.65.0)\n",
      "Requirement already satisfied: fsspec in /home/studio-lab-user/.conda/envs/default/lib/python3.9/site-packages (from huggingface-hub<1.0,>=0.14.1->transformers) (2023.6.0)\n",
      "Requirement already satisfied: typing-extensions>=3.7.4.3 in /home/studio-lab-user/.conda/envs/default/lib/python3.9/site-packages (from huggingface-hub<1.0,>=0.14.1->transformers) (4.5.0)\n",
      "Requirement already satisfied: certifi>=2017.4.17 in /home/studio-lab-user/.conda/envs/default/lib/python3.9/site-packages (from requests->transformers) (2023.7.22)\n",
      "Requirement already satisfied: charset-normalizer<4,>=2 in /home/studio-lab-user/.conda/envs/default/lib/python3.9/site-packages (from requests->transformers) (3.2.0)\n",
      "Requirement already satisfied: urllib3<3,>=1.21.1 in /home/studio-lab-user/.conda/envs/default/lib/python3.9/site-packages (from requests->transformers) (2.0.4)\n",
      "Requirement already satisfied: idna<4,>=2.5 in /home/studio-lab-user/.conda/envs/default/lib/python3.9/site-packages (from requests->transformers) (3.4)\n",
      "Requirement already satisfied: sentence-transformers in /home/studio-lab-user/.conda/envs/default/lib/python3.9/site-packages (2.2.2)\n",
      "Requirement already satisfied: torchvision in /home/studio-lab-user/.conda/envs/default/lib/python3.9/site-packages (from sentence-transformers) (0.15.2)\n",
      "Requirement already satisfied: huggingface-hub>=0.4.0 in /home/studio-lab-user/.conda/envs/default/lib/python3.9/site-packages (from sentence-transformers) (0.16.4)\n",
      "Requirement already satisfied: transformers<5.0.0,>=4.6.0 in /home/studio-lab-user/.conda/envs/default/lib/python3.9/site-packages (from sentence-transformers) (4.32.0.dev0)\n",
      "Requirement already satisfied: scipy in /home/studio-lab-user/.conda/envs/default/lib/python3.9/site-packages (from sentence-transformers) (1.11.1)\n",
      "Requirement already satisfied: torch>=1.6.0 in /home/studio-lab-user/.conda/envs/default/lib/python3.9/site-packages (from sentence-transformers) (2.0.1)\n",
      "Requirement already satisfied: numpy in /home/studio-lab-user/.conda/envs/default/lib/python3.9/site-packages (from sentence-transformers) (1.25.2)\n",
      "Requirement already satisfied: sentencepiece in /home/studio-lab-user/.conda/envs/default/lib/python3.9/site-packages (from sentence-transformers) (0.1.99)\n",
      "Requirement already satisfied: tqdm in /home/studio-lab-user/.conda/envs/default/lib/python3.9/site-packages (from sentence-transformers) (4.65.0)\n",
      "Requirement already satisfied: scikit-learn in /home/studio-lab-user/.conda/envs/default/lib/python3.9/site-packages (from sentence-transformers) (1.3.0)\n",
      "Requirement already satisfied: nltk in /home/studio-lab-user/.conda/envs/default/lib/python3.9/site-packages (from sentence-transformers) (3.8.1)\n",
      "Requirement already satisfied: requests in /home/studio-lab-user/.conda/envs/default/lib/python3.9/site-packages (from huggingface-hub>=0.4.0->sentence-transformers) (2.31.0)\n",
      "Requirement already satisfied: pyyaml>=5.1 in /home/studio-lab-user/.conda/envs/default/lib/python3.9/site-packages (from huggingface-hub>=0.4.0->sentence-transformers) (6.0)\n",
      "Requirement already satisfied: fsspec in /home/studio-lab-user/.conda/envs/default/lib/python3.9/site-packages (from huggingface-hub>=0.4.0->sentence-transformers) (2023.6.0)\n",
      "Requirement already satisfied: filelock in /home/studio-lab-user/.conda/envs/default/lib/python3.9/site-packages (from huggingface-hub>=0.4.0->sentence-transformers) (3.12.2)\n",
      "Requirement already satisfied: typing-extensions>=3.7.4.3 in /home/studio-lab-user/.conda/envs/default/lib/python3.9/site-packages (from huggingface-hub>=0.4.0->sentence-transformers) (4.5.0)\n",
      "Requirement already satisfied: packaging>=20.9 in /home/studio-lab-user/.conda/envs/default/lib/python3.9/site-packages (from huggingface-hub>=0.4.0->sentence-transformers) (23.0)\n",
      "Requirement already satisfied: nvidia-cufft-cu11==10.9.0.58 in /home/studio-lab-user/.conda/envs/default/lib/python3.9/site-packages (from torch>=1.6.0->sentence-transformers) (10.9.0.58)\n",
      "Requirement already satisfied: nvidia-cuda-runtime-cu11==11.7.99 in /home/studio-lab-user/.conda/envs/default/lib/python3.9/site-packages (from torch>=1.6.0->sentence-transformers) (11.7.99)\n",
      "Requirement already satisfied: nvidia-curand-cu11==10.2.10.91 in /home/studio-lab-user/.conda/envs/default/lib/python3.9/site-packages (from torch>=1.6.0->sentence-transformers) (10.2.10.91)\n",
      "Requirement already satisfied: networkx in /home/studio-lab-user/.conda/envs/default/lib/python3.9/site-packages (from torch>=1.6.0->sentence-transformers) (3.1)\n",
      "Requirement already satisfied: sympy in /home/studio-lab-user/.conda/envs/default/lib/python3.9/site-packages (from torch>=1.6.0->sentence-transformers) (1.12)\n",
      "Requirement already satisfied: nvidia-nccl-cu11==2.14.3 in /home/studio-lab-user/.conda/envs/default/lib/python3.9/site-packages (from torch>=1.6.0->sentence-transformers) (2.14.3)\n",
      "Requirement already satisfied: nvidia-cuda-cupti-cu11==11.7.101 in /home/studio-lab-user/.conda/envs/default/lib/python3.9/site-packages (from torch>=1.6.0->sentence-transformers) (11.7.101)\n",
      "Requirement already satisfied: nvidia-cusparse-cu11==11.7.4.91 in /home/studio-lab-user/.conda/envs/default/lib/python3.9/site-packages (from torch>=1.6.0->sentence-transformers) (11.7.4.91)\n",
      "Requirement already satisfied: nvidia-cusolver-cu11==11.4.0.1 in /home/studio-lab-user/.conda/envs/default/lib/python3.9/site-packages (from torch>=1.6.0->sentence-transformers) (11.4.0.1)\n",
      "Requirement already satisfied: triton==2.0.0 in /home/studio-lab-user/.conda/envs/default/lib/python3.9/site-packages (from torch>=1.6.0->sentence-transformers) (2.0.0)\n",
      "Requirement already satisfied: nvidia-cudnn-cu11==8.5.0.96 in /home/studio-lab-user/.conda/envs/default/lib/python3.9/site-packages (from torch>=1.6.0->sentence-transformers) (8.5.0.96)\n",
      "Requirement already satisfied: nvidia-cuda-nvrtc-cu11==11.7.99 in /home/studio-lab-user/.conda/envs/default/lib/python3.9/site-packages (from torch>=1.6.0->sentence-transformers) (11.7.99)\n",
      "Requirement already satisfied: nvidia-cublas-cu11==11.10.3.66 in /home/studio-lab-user/.conda/envs/default/lib/python3.9/site-packages (from torch>=1.6.0->sentence-transformers) (11.10.3.66)\n",
      "Requirement already satisfied: nvidia-nvtx-cu11==11.7.91 in /home/studio-lab-user/.conda/envs/default/lib/python3.9/site-packages (from torch>=1.6.0->sentence-transformers) (11.7.91)\n",
      "Requirement already satisfied: jinja2 in /home/studio-lab-user/.conda/envs/default/lib/python3.9/site-packages (from torch>=1.6.0->sentence-transformers) (3.1.2)\n",
      "Requirement already satisfied: setuptools in /home/studio-lab-user/.conda/envs/default/lib/python3.9/site-packages (from nvidia-cublas-cu11==11.10.3.66->torch>=1.6.0->sentence-transformers) (67.6.1)\n",
      "Requirement already satisfied: wheel in /home/studio-lab-user/.conda/envs/default/lib/python3.9/site-packages (from nvidia-cublas-cu11==11.10.3.66->torch>=1.6.0->sentence-transformers) (0.40.0)\n",
      "Requirement already satisfied: lit in /home/studio-lab-user/.conda/envs/default/lib/python3.9/site-packages (from triton==2.0.0->torch>=1.6.0->sentence-transformers) (16.0.6)\n",
      "Requirement already satisfied: cmake in /home/studio-lab-user/.conda/envs/default/lib/python3.9/site-packages (from triton==2.0.0->torch>=1.6.0->sentence-transformers) (3.27.0)\n",
      "Requirement already satisfied: tokenizers!=0.11.3,<0.14,>=0.11.1 in /home/studio-lab-user/.conda/envs/default/lib/python3.9/site-packages (from transformers<5.0.0,>=4.6.0->sentence-transformers) (0.13.3)\n",
      "Requirement already satisfied: regex!=2019.12.17 in /home/studio-lab-user/.conda/envs/default/lib/python3.9/site-packages (from transformers<5.0.0,>=4.6.0->sentence-transformers) (2023.6.3)\n",
      "Requirement already satisfied: safetensors>=0.3.1 in /home/studio-lab-user/.conda/envs/default/lib/python3.9/site-packages (from transformers<5.0.0,>=4.6.0->sentence-transformers) (0.3.1)\n",
      "Requirement already satisfied: MarkupSafe>=2.0 in /home/studio-lab-user/.conda/envs/default/lib/python3.9/site-packages (from jinja2->torch>=1.6.0->sentence-transformers) (2.1.2)\n",
      "Requirement already satisfied: joblib in /home/studio-lab-user/.conda/envs/default/lib/python3.9/site-packages (from nltk->sentence-transformers) (1.3.1)\n",
      "Requirement already satisfied: click in /home/studio-lab-user/.conda/envs/default/lib/python3.9/site-packages (from nltk->sentence-transformers) (8.1.6)\n",
      "Requirement already satisfied: urllib3<3,>=1.21.1 in /home/studio-lab-user/.conda/envs/default/lib/python3.9/site-packages (from requests->huggingface-hub>=0.4.0->sentence-transformers) (2.0.4)\n",
      "Requirement already satisfied: certifi>=2017.4.17 in /home/studio-lab-user/.conda/envs/default/lib/python3.9/site-packages (from requests->huggingface-hub>=0.4.0->sentence-transformers) (2023.7.22)\n",
      "Requirement already satisfied: charset-normalizer<4,>=2 in /home/studio-lab-user/.conda/envs/default/lib/python3.9/site-packages (from requests->huggingface-hub>=0.4.0->sentence-transformers) (3.2.0)\n",
      "Requirement already satisfied: idna<4,>=2.5 in /home/studio-lab-user/.conda/envs/default/lib/python3.9/site-packages (from requests->huggingface-hub>=0.4.0->sentence-transformers) (3.4)\n",
      "Requirement already satisfied: threadpoolctl>=2.0.0 in /home/studio-lab-user/.conda/envs/default/lib/python3.9/site-packages (from scikit-learn->sentence-transformers) (3.2.0)\n",
      "Requirement already satisfied: mpmath>=0.19 in /home/studio-lab-user/.conda/envs/default/lib/python3.9/site-packages (from sympy->torch>=1.6.0->sentence-transformers) (1.3.0)\n",
      "Requirement already satisfied: pillow!=8.3.*,>=5.3.0 in /home/studio-lab-user/.conda/envs/default/lib/python3.9/site-packages (from torchvision->sentence-transformers) (10.0.0)\n",
      "Requirement already satisfied: unstructured in /home/studio-lab-user/.conda/envs/default/lib/python3.9/site-packages (0.8.7)\n",
      "Requirement already satisfied: pillow in /home/studio-lab-user/.conda/envs/default/lib/python3.9/site-packages (from unstructured) (10.0.0)\n",
      "Requirement already satisfied: openpyxl in /home/studio-lab-user/.conda/envs/default/lib/python3.9/site-packages (from unstructured) (3.1.2)\n",
      "Requirement already satisfied: tabulate in /home/studio-lab-user/.conda/envs/default/lib/python3.9/site-packages (from unstructured) (0.9.0)\n",
      "Requirement already satisfied: filetype in /home/studio-lab-user/.conda/envs/default/lib/python3.9/site-packages (from unstructured) (1.2.0)\n",
      "Requirement already satisfied: pypandoc in /home/studio-lab-user/.conda/envs/default/lib/python3.9/site-packages (from unstructured) (1.11)\n",
      "Requirement already satisfied: nltk in /home/studio-lab-user/.conda/envs/default/lib/python3.9/site-packages (from unstructured) (3.8.1)\n",
      "Requirement already satisfied: pdfminer.six in /home/studio-lab-user/.conda/envs/default/lib/python3.9/site-packages (from unstructured) (20221105)\n",
      "Requirement already satisfied: markdown in /home/studio-lab-user/.conda/envs/default/lib/python3.9/site-packages (from unstructured) (3.4.4)\n",
      "Requirement already satisfied: pdf2image in /home/studio-lab-user/.conda/envs/default/lib/python3.9/site-packages (from unstructured) (1.16.3)\n",
      "Requirement already satisfied: lxml in /home/studio-lab-user/.conda/envs/default/lib/python3.9/site-packages (from unstructured) (4.9.3)\n",
      "Requirement already satisfied: msg-parser in /home/studio-lab-user/.conda/envs/default/lib/python3.9/site-packages (from unstructured) (1.2.0)\n",
      "Requirement already satisfied: python-magic in /home/studio-lab-user/.conda/envs/default/lib/python3.9/site-packages (from unstructured) (0.4.27)\n",
      "Requirement already satisfied: requests in /home/studio-lab-user/.conda/envs/default/lib/python3.9/site-packages (from unstructured) (2.31.0)\n",
      "Requirement already satisfied: chardet in /home/studio-lab-user/.conda/envs/default/lib/python3.9/site-packages (from unstructured) (5.1.0)\n",
      "Requirement already satisfied: python-docx in /home/studio-lab-user/.conda/envs/default/lib/python3.9/site-packages (from unstructured) (0.8.11)\n",
      "Requirement already satisfied: pandas in /home/studio-lab-user/.conda/envs/default/lib/python3.9/site-packages (from unstructured) (2.0.3)\n",
      "Requirement already satisfied: python-pptx in /home/studio-lab-user/.conda/envs/default/lib/python3.9/site-packages (from unstructured) (0.6.21)\n",
      "Requirement already satisfied: xlrd in /home/studio-lab-user/.conda/envs/default/lib/python3.9/site-packages (from unstructured) (2.0.1)\n",
      "Requirement already satisfied: importlib-metadata>=4.4 in /home/studio-lab-user/.conda/envs/default/lib/python3.9/site-packages (from markdown->unstructured) (6.1.0)\n",
      "Requirement already satisfied: zipp>=0.5 in /home/studio-lab-user/.conda/envs/default/lib/python3.9/site-packages (from importlib-metadata>=4.4->markdown->unstructured) (3.15.0)\n",
      "Requirement already satisfied: olefile>=0.46 in /home/studio-lab-user/.conda/envs/default/lib/python3.9/site-packages (from msg-parser->unstructured) (0.46)\n",
      "Requirement already satisfied: tqdm in /home/studio-lab-user/.conda/envs/default/lib/python3.9/site-packages (from nltk->unstructured) (4.65.0)\n",
      "Requirement already satisfied: joblib in /home/studio-lab-user/.conda/envs/default/lib/python3.9/site-packages (from nltk->unstructured) (1.3.1)\n",
      "Requirement already satisfied: click in /home/studio-lab-user/.conda/envs/default/lib/python3.9/site-packages (from nltk->unstructured) (8.1.6)\n",
      "Requirement already satisfied: regex>=2021.8.3 in /home/studio-lab-user/.conda/envs/default/lib/python3.9/site-packages (from nltk->unstructured) (2023.6.3)\n",
      "Requirement already satisfied: et-xmlfile in /home/studio-lab-user/.conda/envs/default/lib/python3.9/site-packages (from openpyxl->unstructured) (1.1.0)\n",
      "Requirement already satisfied: python-dateutil>=2.8.2 in /home/studio-lab-user/.conda/envs/default/lib/python3.9/site-packages (from pandas->unstructured) (2.8.2)\n",
      "Requirement already satisfied: pytz>=2020.1 in /home/studio-lab-user/.conda/envs/default/lib/python3.9/site-packages (from pandas->unstructured) (2023.3)\n",
      "Requirement already satisfied: tzdata>=2022.1 in /home/studio-lab-user/.conda/envs/default/lib/python3.9/site-packages (from pandas->unstructured) (2023.3)\n",
      "Requirement already satisfied: numpy>=1.20.3 in /home/studio-lab-user/.conda/envs/default/lib/python3.9/site-packages (from pandas->unstructured) (1.25.2)\n",
      "Requirement already satisfied: six>=1.5 in /home/studio-lab-user/.conda/envs/default/lib/python3.9/site-packages (from python-dateutil>=2.8.2->pandas->unstructured) (1.16.0)\n",
      "Requirement already satisfied: charset-normalizer>=2.0.0 in /home/studio-lab-user/.conda/envs/default/lib/python3.9/site-packages (from pdfminer.six->unstructured) (3.2.0)\n",
      "Requirement already satisfied: cryptography>=36.0.0 in /home/studio-lab-user/.conda/envs/default/lib/python3.9/site-packages (from pdfminer.six->unstructured) (41.0.2)\n",
      "Requirement already satisfied: cffi>=1.12 in /home/studio-lab-user/.conda/envs/default/lib/python3.9/site-packages (from cryptography>=36.0.0->pdfminer.six->unstructured) (1.15.1)\n",
      "Requirement already satisfied: pycparser in /home/studio-lab-user/.conda/envs/default/lib/python3.9/site-packages (from cffi>=1.12->cryptography>=36.0.0->pdfminer.six->unstructured) (2.21)\n",
      "Requirement already satisfied: XlsxWriter>=0.5.7 in /home/studio-lab-user/.conda/envs/default/lib/python3.9/site-packages (from python-pptx->unstructured) (3.1.2)\n",
      "Requirement already satisfied: idna<4,>=2.5 in /home/studio-lab-user/.conda/envs/default/lib/python3.9/site-packages (from requests->unstructured) (3.4)\n",
      "Requirement already satisfied: urllib3<3,>=1.21.1 in /home/studio-lab-user/.conda/envs/default/lib/python3.9/site-packages (from requests->unstructured) (2.0.4)\n",
      "Requirement already satisfied: certifi>=2017.4.17 in /home/studio-lab-user/.conda/envs/default/lib/python3.9/site-packages (from requests->unstructured) (2023.7.22)\n",
      "Requirement already satisfied: chromadb==0.3.22 in /home/studio-lab-user/.conda/envs/default/lib/python3.9/site-packages (0.3.22)\n",
      "Collecting transformers==4.29.0\n",
      "  Using cached transformers-4.29.0-py3-none-any.whl (7.1 MB)\n",
      "Requirement already satisfied: requests>=2.28 in /home/studio-lab-user/.conda/envs/default/lib/python3.9/site-packages (from chromadb==0.3.22) (2.31.0)\n",
      "Requirement already satisfied: pydantic>=1.9 in /home/studio-lab-user/.conda/envs/default/lib/python3.9/site-packages (from chromadb==0.3.22) (1.10.12)\n",
      "Requirement already satisfied: clickhouse-connect>=0.5.7 in /home/studio-lab-user/.conda/envs/default/lib/python3.9/site-packages (from chromadb==0.3.22) (0.6.8)\n",
      "Requirement already satisfied: pandas>=1.3 in /home/studio-lab-user/.conda/envs/default/lib/python3.9/site-packages (from chromadb==0.3.22) (2.0.3)\n",
      "Requirement already satisfied: hnswlib>=0.7 in /home/studio-lab-user/.conda/envs/default/lib/python3.9/site-packages (from chromadb==0.3.22) (0.7.0)\n",
      "Requirement already satisfied: numpy>=1.21.6 in /home/studio-lab-user/.conda/envs/default/lib/python3.9/site-packages (from chromadb==0.3.22) (1.25.2)\n",
      "Requirement already satisfied: duckdb>=0.7.1 in /home/studio-lab-user/.conda/envs/default/lib/python3.9/site-packages (from chromadb==0.3.22) (0.8.1)\n",
      "Requirement already satisfied: fastapi>=0.85.1 in /home/studio-lab-user/.conda/envs/default/lib/python3.9/site-packages (from chromadb==0.3.22) (0.100.1)\n",
      "Requirement already satisfied: uvicorn[standard]>=0.18.3 in /home/studio-lab-user/.conda/envs/default/lib/python3.9/site-packages (from chromadb==0.3.22) (0.23.2)\n",
      "Requirement already satisfied: sentence-transformers>=2.2.2 in /home/studio-lab-user/.conda/envs/default/lib/python3.9/site-packages (from chromadb==0.3.22) (2.2.2)\n",
      "Requirement already satisfied: typing-extensions>=4.5.0 in /home/studio-lab-user/.conda/envs/default/lib/python3.9/site-packages (from chromadb==0.3.22) (4.5.0)\n",
      "Requirement already satisfied: posthog>=2.4.0 in /home/studio-lab-user/.conda/envs/default/lib/python3.9/site-packages (from chromadb==0.3.22) (3.0.1)\n",
      "Requirement already satisfied: filelock in /home/studio-lab-user/.conda/envs/default/lib/python3.9/site-packages (from transformers==4.29.0) (3.12.2)\n",
      "Requirement already satisfied: huggingface-hub<1.0,>=0.11.0 in /home/studio-lab-user/.conda/envs/default/lib/python3.9/site-packages (from transformers==4.29.0) (0.16.4)\n",
      "Requirement already satisfied: packaging>=20.0 in /home/studio-lab-user/.conda/envs/default/lib/python3.9/site-packages (from transformers==4.29.0) (23.0)\n",
      "Requirement already satisfied: tqdm>=4.27 in /home/studio-lab-user/.conda/envs/default/lib/python3.9/site-packages (from transformers==4.29.0) (4.65.0)\n",
      "Requirement already satisfied: regex!=2019.12.17 in /home/studio-lab-user/.conda/envs/default/lib/python3.9/site-packages (from transformers==4.29.0) (2023.6.3)\n",
      "Requirement already satisfied: pyyaml>=5.1 in /home/studio-lab-user/.conda/envs/default/lib/python3.9/site-packages (from transformers==4.29.0) (6.0)\n",
      "Requirement already satisfied: tokenizers!=0.11.3,<0.14,>=0.11.1 in /home/studio-lab-user/.conda/envs/default/lib/python3.9/site-packages (from transformers==4.29.0) (0.13.3)\n",
      "Requirement already satisfied: zstandard in /home/studio-lab-user/.conda/envs/default/lib/python3.9/site-packages (from clickhouse-connect>=0.5.7->chromadb==0.3.22) (0.21.0)\n",
      "Requirement already satisfied: lz4 in /home/studio-lab-user/.conda/envs/default/lib/python3.9/site-packages (from clickhouse-connect>=0.5.7->chromadb==0.3.22) (4.3.2)\n",
      "Requirement already satisfied: urllib3>=1.26 in /home/studio-lab-user/.conda/envs/default/lib/python3.9/site-packages (from clickhouse-connect>=0.5.7->chromadb==0.3.22) (2.0.4)\n",
      "Requirement already satisfied: certifi in /home/studio-lab-user/.conda/envs/default/lib/python3.9/site-packages (from clickhouse-connect>=0.5.7->chromadb==0.3.22) (2023.7.22)\n",
      "Requirement already satisfied: pytz in /home/studio-lab-user/.conda/envs/default/lib/python3.9/site-packages (from clickhouse-connect>=0.5.7->chromadb==0.3.22) (2023.3)\n",
      "Requirement already satisfied: importlib-metadata in /home/studio-lab-user/.conda/envs/default/lib/python3.9/site-packages (from clickhouse-connect>=0.5.7->chromadb==0.3.22) (6.1.0)\n",
      "Requirement already satisfied: starlette<0.28.0,>=0.27.0 in /home/studio-lab-user/.conda/envs/default/lib/python3.9/site-packages (from fastapi>=0.85.1->chromadb==0.3.22) (0.27.0)\n",
      "Requirement already satisfied: fsspec in /home/studio-lab-user/.conda/envs/default/lib/python3.9/site-packages (from huggingface-hub<1.0,>=0.11.0->transformers==4.29.0) (2023.6.0)\n",
      "Requirement already satisfied: python-dateutil>=2.8.2 in /home/studio-lab-user/.conda/envs/default/lib/python3.9/site-packages (from pandas>=1.3->chromadb==0.3.22) (2.8.2)\n",
      "Requirement already satisfied: tzdata>=2022.1 in /home/studio-lab-user/.conda/envs/default/lib/python3.9/site-packages (from pandas>=1.3->chromadb==0.3.22) (2023.3)\n",
      "Requirement already satisfied: six>=1.5 in /home/studio-lab-user/.conda/envs/default/lib/python3.9/site-packages (from posthog>=2.4.0->chromadb==0.3.22) (1.16.0)\n",
      "Requirement already satisfied: backoff>=1.10.0 in /home/studio-lab-user/.conda/envs/default/lib/python3.9/site-packages (from posthog>=2.4.0->chromadb==0.3.22) (2.2.1)\n",
      "Requirement already satisfied: monotonic>=1.5 in /home/studio-lab-user/.conda/envs/default/lib/python3.9/site-packages (from posthog>=2.4.0->chromadb==0.3.22) (1.6)\n",
      "Requirement already satisfied: charset-normalizer<4,>=2 in /home/studio-lab-user/.conda/envs/default/lib/python3.9/site-packages (from requests>=2.28->chromadb==0.3.22) (3.2.0)\n",
      "Requirement already satisfied: idna<4,>=2.5 in /home/studio-lab-user/.conda/envs/default/lib/python3.9/site-packages (from requests>=2.28->chromadb==0.3.22) (3.4)\n",
      "Requirement already satisfied: scikit-learn in /home/studio-lab-user/.conda/envs/default/lib/python3.9/site-packages (from sentence-transformers>=2.2.2->chromadb==0.3.22) (1.3.0)\n",
      "Requirement already satisfied: torch>=1.6.0 in /home/studio-lab-user/.conda/envs/default/lib/python3.9/site-packages (from sentence-transformers>=2.2.2->chromadb==0.3.22) (2.0.1)\n",
      "Requirement already satisfied: scipy in /home/studio-lab-user/.conda/envs/default/lib/python3.9/site-packages (from sentence-transformers>=2.2.2->chromadb==0.3.22) (1.11.1)\n",
      "Requirement already satisfied: sentencepiece in /home/studio-lab-user/.conda/envs/default/lib/python3.9/site-packages (from sentence-transformers>=2.2.2->chromadb==0.3.22) (0.1.99)\n",
      "Requirement already satisfied: torchvision in /home/studio-lab-user/.conda/envs/default/lib/python3.9/site-packages (from sentence-transformers>=2.2.2->chromadb==0.3.22) (0.15.2)\n",
      "Requirement already satisfied: nltk in /home/studio-lab-user/.conda/envs/default/lib/python3.9/site-packages (from sentence-transformers>=2.2.2->chromadb==0.3.22) (3.8.1)\n",
      "Requirement already satisfied: anyio<5,>=3.4.0 in /home/studio-lab-user/.conda/envs/default/lib/python3.9/site-packages (from starlette<0.28.0,>=0.27.0->fastapi>=0.85.1->chromadb==0.3.22) (3.6.2)\n",
      "Requirement already satisfied: sniffio>=1.1 in /home/studio-lab-user/.conda/envs/default/lib/python3.9/site-packages (from anyio<5,>=3.4.0->starlette<0.28.0,>=0.27.0->fastapi>=0.85.1->chromadb==0.3.22) (1.3.0)\n",
      "Requirement already satisfied: nvidia-cuda-cupti-cu11==11.7.101 in /home/studio-lab-user/.conda/envs/default/lib/python3.9/site-packages (from torch>=1.6.0->sentence-transformers>=2.2.2->chromadb==0.3.22) (11.7.101)\n",
      "Requirement already satisfied: nvidia-cublas-cu11==11.10.3.66 in /home/studio-lab-user/.conda/envs/default/lib/python3.9/site-packages (from torch>=1.6.0->sentence-transformers>=2.2.2->chromadb==0.3.22) (11.10.3.66)\n",
      "Requirement already satisfied: nvidia-cusolver-cu11==11.4.0.1 in /home/studio-lab-user/.conda/envs/default/lib/python3.9/site-packages (from torch>=1.6.0->sentence-transformers>=2.2.2->chromadb==0.3.22) (11.4.0.1)\n",
      "Requirement already satisfied: triton==2.0.0 in /home/studio-lab-user/.conda/envs/default/lib/python3.9/site-packages (from torch>=1.6.0->sentence-transformers>=2.2.2->chromadb==0.3.22) (2.0.0)\n",
      "Requirement already satisfied: sympy in /home/studio-lab-user/.conda/envs/default/lib/python3.9/site-packages (from torch>=1.6.0->sentence-transformers>=2.2.2->chromadb==0.3.22) (1.12)\n",
      "Requirement already satisfied: networkx in /home/studio-lab-user/.conda/envs/default/lib/python3.9/site-packages (from torch>=1.6.0->sentence-transformers>=2.2.2->chromadb==0.3.22) (3.1)\n",
      "Requirement already satisfied: nvidia-cuda-runtime-cu11==11.7.99 in /home/studio-lab-user/.conda/envs/default/lib/python3.9/site-packages (from torch>=1.6.0->sentence-transformers>=2.2.2->chromadb==0.3.22) (11.7.99)\n",
      "Requirement already satisfied: nvidia-nccl-cu11==2.14.3 in /home/studio-lab-user/.conda/envs/default/lib/python3.9/site-packages (from torch>=1.6.0->sentence-transformers>=2.2.2->chromadb==0.3.22) (2.14.3)\n",
      "Requirement already satisfied: nvidia-curand-cu11==10.2.10.91 in /home/studio-lab-user/.conda/envs/default/lib/python3.9/site-packages (from torch>=1.6.0->sentence-transformers>=2.2.2->chromadb==0.3.22) (10.2.10.91)\n",
      "Requirement already satisfied: nvidia-nvtx-cu11==11.7.91 in /home/studio-lab-user/.conda/envs/default/lib/python3.9/site-packages (from torch>=1.6.0->sentence-transformers>=2.2.2->chromadb==0.3.22) (11.7.91)\n",
      "Requirement already satisfied: nvidia-cuda-nvrtc-cu11==11.7.99 in /home/studio-lab-user/.conda/envs/default/lib/python3.9/site-packages (from torch>=1.6.0->sentence-transformers>=2.2.2->chromadb==0.3.22) (11.7.99)\n",
      "Requirement already satisfied: nvidia-cufft-cu11==10.9.0.58 in /home/studio-lab-user/.conda/envs/default/lib/python3.9/site-packages (from torch>=1.6.0->sentence-transformers>=2.2.2->chromadb==0.3.22) (10.9.0.58)\n",
      "Requirement already satisfied: jinja2 in /home/studio-lab-user/.conda/envs/default/lib/python3.9/site-packages (from torch>=1.6.0->sentence-transformers>=2.2.2->chromadb==0.3.22) (3.1.2)\n",
      "Requirement already satisfied: nvidia-cusparse-cu11==11.7.4.91 in /home/studio-lab-user/.conda/envs/default/lib/python3.9/site-packages (from torch>=1.6.0->sentence-transformers>=2.2.2->chromadb==0.3.22) (11.7.4.91)\n",
      "Requirement already satisfied: nvidia-cudnn-cu11==8.5.0.96 in /home/studio-lab-user/.conda/envs/default/lib/python3.9/site-packages (from torch>=1.6.0->sentence-transformers>=2.2.2->chromadb==0.3.22) (8.5.0.96)\n",
      "Requirement already satisfied: wheel in /home/studio-lab-user/.conda/envs/default/lib/python3.9/site-packages (from nvidia-cublas-cu11==11.10.3.66->torch>=1.6.0->sentence-transformers>=2.2.2->chromadb==0.3.22) (0.40.0)\n",
      "Requirement already satisfied: setuptools in /home/studio-lab-user/.conda/envs/default/lib/python3.9/site-packages (from nvidia-cublas-cu11==11.10.3.66->torch>=1.6.0->sentence-transformers>=2.2.2->chromadb==0.3.22) (67.6.1)\n",
      "Requirement already satisfied: cmake in /home/studio-lab-user/.conda/envs/default/lib/python3.9/site-packages (from triton==2.0.0->torch>=1.6.0->sentence-transformers>=2.2.2->chromadb==0.3.22) (3.27.0)\n",
      "Requirement already satisfied: lit in /home/studio-lab-user/.conda/envs/default/lib/python3.9/site-packages (from triton==2.0.0->torch>=1.6.0->sentence-transformers>=2.2.2->chromadb==0.3.22) (16.0.6)\n",
      "Requirement already satisfied: click>=7.0 in /home/studio-lab-user/.conda/envs/default/lib/python3.9/site-packages (from uvicorn[standard]>=0.18.3->chromadb==0.3.22) (8.1.6)\n",
      "Requirement already satisfied: h11>=0.8 in /home/studio-lab-user/.conda/envs/default/lib/python3.9/site-packages (from uvicorn[standard]>=0.18.3->chromadb==0.3.22) (0.14.0)\n",
      "Requirement already satisfied: websockets>=10.4 in /home/studio-lab-user/.conda/envs/default/lib/python3.9/site-packages (from uvicorn[standard]>=0.18.3->chromadb==0.3.22) (11.0.3)\n",
      "Requirement already satisfied: python-dotenv>=0.13 in /home/studio-lab-user/.conda/envs/default/lib/python3.9/site-packages (from uvicorn[standard]>=0.18.3->chromadb==0.3.22) (1.0.0)\n",
      "Requirement already satisfied: uvloop!=0.15.0,!=0.15.1,>=0.14.0 in /home/studio-lab-user/.conda/envs/default/lib/python3.9/site-packages (from uvicorn[standard]>=0.18.3->chromadb==0.3.22) (0.17.0)\n",
      "Requirement already satisfied: httptools>=0.5.0 in /home/studio-lab-user/.conda/envs/default/lib/python3.9/site-packages (from uvicorn[standard]>=0.18.3->chromadb==0.3.22) (0.6.0)\n",
      "Requirement already satisfied: watchfiles>=0.13 in /home/studio-lab-user/.conda/envs/default/lib/python3.9/site-packages (from uvicorn[standard]>=0.18.3->chromadb==0.3.22) (0.19.0)\n",
      "Requirement already satisfied: zipp>=0.5 in /home/studio-lab-user/.conda/envs/default/lib/python3.9/site-packages (from importlib-metadata->clickhouse-connect>=0.5.7->chromadb==0.3.22) (3.15.0)\n",
      "Requirement already satisfied: MarkupSafe>=2.0 in /home/studio-lab-user/.conda/envs/default/lib/python3.9/site-packages (from jinja2->torch>=1.6.0->sentence-transformers>=2.2.2->chromadb==0.3.22) (2.1.2)\n",
      "Requirement already satisfied: joblib in /home/studio-lab-user/.conda/envs/default/lib/python3.9/site-packages (from nltk->sentence-transformers>=2.2.2->chromadb==0.3.22) (1.3.1)\n",
      "Requirement already satisfied: threadpoolctl>=2.0.0 in /home/studio-lab-user/.conda/envs/default/lib/python3.9/site-packages (from scikit-learn->sentence-transformers>=2.2.2->chromadb==0.3.22) (3.2.0)\n",
      "Requirement already satisfied: mpmath>=0.19 in /home/studio-lab-user/.conda/envs/default/lib/python3.9/site-packages (from sympy->torch>=1.6.0->sentence-transformers>=2.2.2->chromadb==0.3.22) (1.3.0)\n",
      "Requirement already satisfied: pillow!=8.3.*,>=5.3.0 in /home/studio-lab-user/.conda/envs/default/lib/python3.9/site-packages (from torchvision->sentence-transformers>=2.2.2->chromadb==0.3.22) (10.0.0)\n",
      "Installing collected packages: transformers\n",
      "  Attempting uninstall: transformers\n",
      "    Found existing installation: transformers 4.32.0.dev0\n",
      "    Uninstalling transformers-4.32.0.dev0:\n",
      "      Successfully uninstalled transformers-4.32.0.dev0\n",
      "Successfully installed transformers-4.29.0\n"
     ]
    }
   ],
   "source": [
    "!pip -q install git+https://github.com/huggingface/transformers # need to install from github\n",
    "!pip -q install accelerate>=0.12.0\n",
    "!pip install langchain\n",
    "!pip install transformers\n",
    "!pip install sentence-transformers\n",
    "!pip install unstructured\n",
    "!pip install chromadb==0.3.22 transformers==4.29.0"
   ]
  },
  {
   "cell_type": "code",
   "execution_count": 3,
   "id": "c7f8df3d-aead-4ab8-9009-57efb34149b1",
   "metadata": {
    "tags": []
   },
   "outputs": [],
   "source": [
    "import os\n",
    "from sentence_transformers import SentenceTransformer\n",
    "from langchain.embeddings import HuggingFaceEmbeddings\n",
    "\n",
    "###model = SentenceTransformer(transformer_name)\n",
    "embed_model = HuggingFaceEmbeddings(model_name=embedding_model_name)"
   ]
  },
  {
   "cell_type": "code",
   "execution_count": 4,
   "id": "39ec06d1-d2b4-4d6e-aa3c-12bfc406dc09",
   "metadata": {
    "tags": []
   },
   "outputs": [],
   "source": [
    "from langchain.document_loaders import UnstructuredPDFLoader, OnlinePDFLoader\n",
    "from langchain.text_splitter import RecursiveCharacterTextSplitter\n",
    "import os.path\n",
    "from langchain.vectorstores import Chroma\n",
    "\n",
    "i=1\n",
    "#KB_doc_folder\n",
    "\n",
    "completetextlist = []\n",
    "# Don't recompute the embeddings if they're already available\n",
    "if not os.path.isdir(vector_db_path) or len(os.listdir(vector_db_path)) == 0:\n",
    "    if not os.path.isdir(vector_db_path):\n",
    "      print(f\"creating folder {vector_db_path}\")\n",
    "      !mkdir -p {vector_db_path}\n",
    "    \n",
    "    for filename in os.listdir(KB_doc_folder):\n",
    "        with open(os.path.join(KB_doc_folder, filename)) as f:\n",
    "            path = KB_doc_folder + \"/\" + filename\n",
    "            loader = UnstructuredPDFLoader(path) #creating multiple times?\n",
    "            data = loader.load()\n",
    "            text_splitter = RecursiveCharacterTextSplitter(chunk_size=text_chunk_size_nchar,chunk_overlap=0)\n",
    "            texts = text_splitter.split_documents(data)\n",
    "            completetextlist = completetextlist + texts\n",
    "            \n",
    "            print(f\"Saving document embeddings under {vector_db_path}\")\n",
    "            db = Chroma.from_documents(collection_name=\"public_docs\", documents=texts, embedding=embed_model, persist_directory=vector_db_path)\n",
    "            db.persist()"
   ]
  },
  {
   "cell_type": "code",
   "execution_count": 5,
   "id": "39817571-7425-4295-8808-c5a771a3b70b",
   "metadata": {
    "tags": []
   },
   "outputs": [
    {
     "name": "stderr",
     "output_type": "stream",
     "text": [
      "Using embedded DuckDB with persistence: data will be stored in: AIProjectDB/vector_db\n"
     ]
    },
    {
     "name": "stdout",
     "output_type": "stream",
     "text": [
      "page_content='“Affordable dental and vision plans?”\\n\\n2016 Dental & Vision Plans for Individuals & Families\\n\\nHORIZON DENTAL\\n\\nYour sight and smile are important parts of your total health.\\n\\nThat’s why Horizon Blue Cross Blue Shield of New Jersey offers affordable vision and dental plans, so you can get the total coverage and savings you need for yourself or your whole family.' metadata={'source': 'KnowledgeBaseDocs/HorizonDentalandVisionPlans.pdf'}\n",
      "\n",
      "*****************************New Chunk:\n"
     ]
    }
   ],
   "source": [
    "db = Chroma(collection_name=\"public_docs\", embedding_function=embed_model, persist_directory=vector_db_path)\n",
    "\n",
    "def get_similar_docs(question, similar_doc_count):\n",
    "  return db.similarity_search(question, k=similar_doc_count)\n",
    "\n",
    "# Let's test it:\n",
    "sim_doc_count = 1\n",
    "for doc in get_similar_docs(\"What is the most cost effective dental plan?\", sim_doc_count):\n",
    "  print(doc)\n",
    "  print(\"\\n*****************************New Chunk:\")"
   ]
  },
  {
   "cell_type": "code",
   "execution_count": 6,
   "id": "344e4de4-d94e-46dc-8937-0e8153f70de0",
   "metadata": {
    "tags": []
   },
   "outputs": [
    {
     "name": "stdout",
     "output_type": "stream",
     "text": [
      "page_content='There is a 7-day waiting period after your “effective date” (the date your coverage begins) before vision claims will be paid. All Horizon Vision plans can be purchased with a medical plan or by themselves. You must have a primary residence in New Jersey and be age 19 or older.\\n\\nLearn more about Horizon Vision plans and enroll online at HorizonBlue.com/Plans.\\n\\nHORIZON DENTAL & VISION\\n\\nCall 1-844-826-5528 to learn more or enroll online at HorizonBlue.com/Plans.\\n\\nGET ANSWERS & ENROLL' metadata={'source': 'KnowledgeBaseDocs/HorizonDentalandVisionPlans.pdf'}\n",
      "\n",
      "*****************************New Chunk:\n",
      "page_content='Horizon Dental plans do not have waiting periods for diagnostic or preventive coverage. However, some dental plans have waiting periods for certain coverage and procedures. For example, if you enroll in Horizon Healthy Smiles, you would have to wait 6 months before amalgam (silver) fillings would be covered. See the dental plan guide for details.\\n\\nE F P T O Z\\n\\nHORIZON VISION' metadata={'source': 'KnowledgeBaseDocs/HorizonDentalandVisionPlans.pdf'}\n",
      "\n",
      "*****************************New Chunk:\n",
      "page_content='to see if the service was billed to Medicare. If you’re in a Medicare health plan, check the statements you get from your plan.\\n\\nLog into (or create) your secure Medicare account at Medicare.gov to view\\n\\nyour Medicare claims if you have Original Medicare. Your claims are generally available online within 24 hours after processing. You can also use Medicare’s Blue Button to download your claims information. See page 109. You can also call 1-800-MEDICARE.' metadata={'source': 'KnowledgeBaseDocs/Medicare and You Handbook 2023.pdf'}\n",
      "\n",
      "*****************************New Chunk:\n"
     ]
    }
   ],
   "source": [
    "for doc in get_similar_docs(\"What is the waiting period before vision claims are paid?\", 3):\n",
    "  print(doc)\n",
    "  print(\"\\n*****************************New Chunk:\")"
   ]
  },
  {
   "cell_type": "code",
   "execution_count": 7,
   "id": "b046b817-e94d-4774-857a-4be6b07e6601",
   "metadata": {
    "tags": []
   },
   "outputs": [],
   "source": [
    "from transformers import AutoTokenizer, AutoModelForCausalLM, pipeline\n",
    "import torch\n",
    "from langchain import PromptTemplate\n",
    "from langchain.llms import HuggingFacePipeline\n",
    "from langchain.chains.question_answering import load_qa_chain\n",
    "\n",
    "def build_qa_chain():\n",
    "  torch.cuda.empty_cache()\n",
    "  model_name = \"databricks/dolly-v2-2-8b\" \n",
    "\n",
    "  instruct_pipeline = pipeline(model=model_name, torch_dtype=torch.bfloat16, trust_remote_code=True, device_map=\"auto\", return_full_text=True, max_new_tokens=256, top_p=0.95, top_k=50)\n",
    "\n",
    "  # Defining our prompt content.langchain will load our similar documents as {context}\n",
    "  template = \"\"\"Below is an instruction that describes a task. Write a response that appropriately completes the request.\n",
    " \n",
    "  Instruction:\n",
    "  You are a customer service representative at a health insurance company and your job is to help providing the best accurate answer to a customer. \n",
    "  Use only information in the following paragraphs to answer the question at the end. Explain the answer with reference to these paragraphs. If you don't know, say that you do not know.\n",
    " \n",
    "  {context}\n",
    " \n",
    "  Question: {question}\n",
    " \n",
    "  Response:\n",
    "  \"\"\"\n",
    "  prompt = PromptTemplate(input_variables=['context', 'question'], template=template)\n",
    " \n",
    "  hf_pipe = HuggingFacePipeline(pipeline=instruct_pipeline)\n",
    "  return load_qa_chain(llm=hf_pipe, chain_type=\"stuff\", prompt=prompt, verbose=True)\n",
    "\n",
    "qa_chain = build_qa_chain()"
   ]
  },
  {
   "cell_type": "code",
   "execution_count": 8,
   "id": "07a572ba-67d5-432e-bed1-375cf7beefb3",
   "metadata": {},
   "outputs": [],
   "source": [
    "def session():\n",
    "    plan = input(\"What plan does the customer have? Enter BR for braven, MED for medicare, GEN for general, or ALL for everything.\\n\")\n",
    "    if plan.upper()==\"BR\" or plan.upper()==\"BRAVEN\":\n",
    "        #search from braven documentation\n",
    "        print(\"braven\")\n",
    "    elif plan.upper()==\"MED\" or plan.upper()==\"MEDICARE\":\n",
    "        #search from medicare documentation\n",
    "        print(\"medicare\")\n",
    "    elif plan.upper()==\"GEN\" or plan.upper()==\"GENERAL\":\n",
    "        #search everything/general\n",
    "        print(\"general\")\n",
    "    elif plan.upper()==\"ALL\":\n",
    "        #search all plans\n",
    "        print(\"all\")\n",
    "    else:\n",
    "        print(\"Sorry, I'm not sure what you're saying\")"
   ]
  },
  {
   "cell_type": "code",
   "execution_count": 9,
   "id": "9c00558c-94fc-4700-aad5-337b727b30b8",
   "metadata": {
    "tags": []
   },
   "outputs": [],
   "source": [
    "def continueprompt():\n",
    "    while True:\n",
    "        ret = input(\"Would you like to ask a related question? Enter Y for yes and N for no.\")\n",
    "        if ret.upper()==\"Y\" or ret.upper()==\"YES\":\n",
    "            return True\n",
    "        elif ret.upper()==\"N\" or ret.upper()==\"NO\":\n",
    "            return False\n",
    "        else:\n",
    "            print(\"I'm sorry, I didn't understand. Would you like to ask a related question? Enter Y for yes and N for no.\")"
   ]
  },
  {
   "cell_type": "code",
   "execution_count": 10,
   "id": "ea895ccb-22e1-4337-a694-6749596748d3",
   "metadata": {
    "tags": []
   },
   "outputs": [],
   "source": [
    "def answer_question(question):\n",
    "    session()\n",
    "    similar_docs = get_similar_docs(question, similar_doc_count=2)\n",
    "    result = qa_chain({\"input_documents\": similar_docs, \"question\": question})\n",
    "    #result_html = f\"<p><blockquote style=\\\"font-size:24\\\">{question}</blockquote></p>\"\n",
    "    #result_html += f\"<p><blockquote style=\\\"font-size:18px\\\">{result['output_text']}</blockquote></p>\"\n",
    "    #result_html += \"<p><hr/></p>\"\n",
    "    for d in result[\"input_documents\"]:\n",
    "        source_id = d.metadata[\"source\"]\n",
    "    print(source_id)\n",
    "    #  result_html += f\"<p><blockquote>{d.page_content}<br/>(Source: <a href=\\\"https://gardening.stackexchange.com/a/{source_id}\\\">{source_id}</a>)</blockquote></p>\"\n",
    "    #displayHTML(result_html)\n",
    "    res = question + result['output_text']\n",
    "    print(res)\n",
    "    if continueprompt()==True:\n",
    "        newq = input(\"Please enter your next question.\")\n",
    "        answer_question(newq)"
   ]
  },
  {
   "cell_type": "code",
   "execution_count": null,
   "id": "406ab8ff-2fa7-4c0e-8418-4a6c6bd32aed",
   "metadata": {
    "tags": []
   },
   "outputs": [],
   "source": [
    "answer_question(\"What is the criteria to buy a Horizon Dental insurance plan?\")"
   ]
  },
  {
   "cell_type": "code",
   "execution_count": null,
   "id": "c0ce2d10-ea22-43ba-bb3a-54d589aee9d0",
   "metadata": {
    "tags": []
   },
   "outputs": [],
   "source": [
    "answer_question(\"What is a phone number for dental plans?\")"
   ]
  },
  {
   "cell_type": "code",
   "execution_count": null,
   "id": "ae2b59cf-2697-4908-a386-a8b880b39d05",
   "metadata": {
    "tags": []
   },
   "outputs": [],
   "source": [
    "answer_question(\"Is there a dental plan for kids?\")"
   ]
  },
  {
   "cell_type": "code",
   "execution_count": null,
   "id": "ab9e6630-f4f5-4556-b8e0-873499ba49cd",
   "metadata": {},
   "outputs": [],
   "source": [
    "answer_question(\"Will I owe a copay if I get an MRI?\")"
   ]
  },
  {
   "cell_type": "code",
   "execution_count": null,
   "id": "7dba73ed-2826-4c69-ad25-028acfe7840f",
   "metadata": {
    "tags": []
   },
   "outputs": [],
   "source": [
    "answer_question(\"Will I owe a copay for lab services?\")"
   ]
  },
  {
   "cell_type": "code",
   "execution_count": null,
   "id": "40f06d03-f16f-46b0-a774-17352b6d4d7d",
   "metadata": {
    "tags": []
   },
   "outputs": [],
   "source": [
    "answer_question(\"My doctor recommended physical therapy. Would it be covered?\")"
   ]
  },
  {
   "cell_type": "code",
   "execution_count": null,
   "id": "938c1999-a363-43b3-b41e-8fe67d1d5999",
   "metadata": {
    "tags": []
   },
   "outputs": [],
   "source": [
    "answer_question(\"I am travelling out of the country and would like to know if I have worldwide coverage with Braven.\")"
   ]
  },
  {
   "cell_type": "code",
   "execution_count": null,
   "id": "909b5aa2-ca30-4cd5-a741-eae41754f30e",
   "metadata": {},
   "outputs": [],
   "source": []
  }
 ],
 "metadata": {
  "kernelspec": {
   "display_name": "default:Python",
   "language": "python",
   "name": "conda-env-default-py"
  },
  "language_info": {
   "codemirror_mode": {
    "name": "ipython",
    "version": 3
   },
   "file_extension": ".py",
   "mimetype": "text/x-python",
   "name": "python",
   "nbconvert_exporter": "python",
   "pygments_lexer": "ipython3",
   "version": "3.9.16"
  }
 },
 "nbformat": 4,
 "nbformat_minor": 5
}
