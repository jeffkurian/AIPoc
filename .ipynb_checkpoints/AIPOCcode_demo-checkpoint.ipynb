{
 "cells": [
  {
   "cell_type": "code",
   "execution_count": 1,
   "id": "ab376be8-3607-41d6-b455-64865ba4a06e",
   "metadata": {},
   "outputs": [],
   "source": [
    "###transformer_name = 'sentence-transformers/all-MiniLM-L6-v2'\n",
    "embedding_model_name = \"sentence-transformers/all-mpnet-base-v2\" #open source?\n",
    "llm_name = \"databricks/dolly-v2-2-8b\"\n",
    "\n",
    "KB_doc_folder = \"KnowledgeBaseDocs\"\n",
    "vector_db_path = \"AIProjectDB/vector_db\"\n",
    "\n",
    "text_chunk_size_nchar = 500\n",
    "load = False\n",
    "maxSemResCount = 50\n",
    "recomputePlanCollections = False"
   ]
  },
  {
   "cell_type": "code",
   "execution_count": 2,
   "id": "e372f64c-4031-4d62-8daa-36fd38cec78a",
   "metadata": {
    "tags": []
   },
   "outputs": [],
   "source": [
    "if load:\n",
    "    !pip -q install git+https://github.com/huggingface/transformers\n",
    "    !pip -q install accelerate>=0.12.0\n",
    "    !pip install langchain\n",
    "    !pip install transformers\n",
    "    !pip install sentence-transformers\n",
    "    !pip install unstructured\n",
    "    !pip install chromadb==0.3.22 transformers==4.29.0\n",
    "    #!pip install chromadb-client\n",
    "    !pip install pdf2image pdfminer\n",
    "    !pip install pdfminer.six"
   ]
  },
  {
   "cell_type": "code",
   "execution_count": 3,
   "id": "c7f8df3d-aead-4ab8-9009-57efb34149b1",
   "metadata": {
    "tags": []
   },
   "outputs": [],
   "source": [
    "import os\n",
    "from sentence_transformers import SentenceTransformer\n",
    "from langchain.embeddings import HuggingFaceEmbeddings\n",
    "\n",
    "###model = SentenceTransformer(transformer_name)\n",
    "embed_model = HuggingFaceEmbeddings(model_name=embedding_model_name)"
   ]
  },
  {
   "cell_type": "code",
   "execution_count": 4,
   "id": "41fb86ec-5ba8-47f5-a30c-bc741e5231d3",
   "metadata": {
    "tags": []
   },
   "outputs": [],
   "source": [
    "#import chromadb\n",
    "#from chromadb.config import Settings\n",
    "#client = chromadb.PersistentClient(settings=Settings(chroma_api_impl=\"chromadb.api.fastapi.FastAPI\", persist_directory=vector_db_path))\n",
    "#client = chromadb.Client(Settings(chroma_api_impl=\"chromadb.api.fastapi.FastAPI\", persist_directory=vector_db_path, chroma_server_host='LocalHost', chroma_server_http_port=8000))\n",
    "#client = chromadb.HttpClient(host='localhost', port=8000)\n",
    "#client = chromadb.Client()"
   ]
  },
  {
   "cell_type": "code",
   "execution_count": 5,
   "id": "39ec06d1-d2b4-4d6e-aa3c-12bfc406dc09",
   "metadata": {
    "tags": []
   },
   "outputs": [
    {
     "name": "stderr",
     "output_type": "stream",
     "text": [
      "Using embedded DuckDB with persistence: data will be stored in: AIProjectDB/vector_db\n"
     ]
    }
   ],
   "source": [
    "from langchain.document_loaders import UnstructuredPDFLoader, OnlinePDFLoader\n",
    "from langchain.text_splitter import RecursiveCharacterTextSplitter\n",
    "import os.path\n",
    "from langchain.vectorstores import Chroma\n",
    "\n",
    "# Don't recompute the embeddings if they're already available\n",
    "#full_collection = client.create_collection(name=\"public_docs\", embedding_function=embed_model)\n",
    "db = Chroma(collection_name=\"public_docs\", embedding_function=embed_model, persist_directory=vector_db_path)\n",
    "if not os.path.isdir(vector_db_path) or len(os.listdir(vector_db_path)) == 0:\n",
    "    if not os.path.isdir(vector_db_path):\n",
    "      print(f\"creating folder {vector_db_path}\")\n",
    "      !mkdir -p {vector_db_path}\n",
    "    \n",
    "    text_splitter = RecursiveCharacterTextSplitter(chunk_size=text_chunk_size_nchar,chunk_overlap=0)\n",
    "    for foldername in os.listdir(KB_doc_folder):\n",
    "        folderpath = KB_doc_folder + \"/\" + foldername\n",
    "        for filename in os.listdir(folderpath):\n",
    "            filepath = folderpath + \"/\" + filename\n",
    "            with open(filepath):\n",
    "                loader = UnstructuredPDFLoader(filepath) #creating multiple times? look into params\n",
    "                data = loader.load()\n",
    "                text_chunks = text_splitter.split_documents(data)\n",
    "\n",
    "                print(f\"Saving document embeddings under {vector_db_path}\")\n",
    "                db = Chroma.from_documents(collection_name=\"public_docs\", documents=text_chunks, embedding=embed_model, persist_directory=vector_db_path)\n",
    "                db.persist()"
   ]
  },
  {
   "cell_type": "code",
   "execution_count": 6,
   "id": "5ee89f6e-eb75-4527-aff3-48b42daad65f",
   "metadata": {
    "tags": []
   },
   "outputs": [],
   "source": [
    "if recomputePlanCollections:\n",
    "    if not os.path.isdir(vector_db_path):\n",
    "      print(f\"creating folder {vector_db_path}\")\n",
    "      !mkdir -p {vector_db_path}\n",
    "    \n",
    "    text_splitter = RecursiveCharacterTextSplitter(chunk_size=text_chunk_size_nchar,chunk_overlap=0)\n",
    "    for foldername in os.listdir(KB_doc_folder):\n",
    "        folderpath = KB_doc_folder + \"/\" + foldername\n",
    "        for filename in os.listdir(folderpath):\n",
    "            filepath = folderpath + \"/\" + filename\n",
    "            with open(filepath):\n",
    "                loader = UnstructuredPDFLoader(filepath) #creating multiple times? look into params\n",
    "                data = loader.load()\n",
    "                text_chunks = text_splitter.split_documents(data)\n",
    "                #create a collection for each plan and add the documents to it\n",
    "\n",
    "                print(f\"Saving document embeddings under {vector_db_path}\")\n",
    "                db = Chroma.from_documents(collection_name=foldername, documents=text_chunks, embedding=embed_model, persist_directory=vector_db_path)\n",
    "                db.persist()"
   ]
  },
  {
   "cell_type": "code",
   "execution_count": null,
   "id": "3cf79ca1-b071-4d54-965c-559c5b6a80cf",
   "metadata": {
    "tags": []
   },
   "outputs": [
    {
     "name": "stderr",
     "output_type": "stream",
     "text": [
      "Using embedded DuckDB with persistence: data will be stored in: AIProjectDB/vector_db\n"
     ]
    },
    {
     "name": "stdout",
     "output_type": "stream",
     "text": [
      "page_content='“Affordable dental and vision plans?”\\n\\n2016 Dental & Vision Plans for Individuals & Families\\n\\nHORIZON DENTAL\\n\\nYour sight and smile are important parts of your total health.\\n\\nThat’s why Horizon Blue Cross Blue Shield of New Jersey offers affordable vision and dental plans, so you can get the total coverage and savings you need for yourself or your whole family.' metadata={'source': 'KnowledgeBaseDocs/HorizonDentalVision/HorizonDentalandVisionPlans.pdf'}\n",
      "page_content='Horizon Individual Dental covers most eligible preventive dental services with no deductible, copayment, or benefit maximum. This plan provides access to the Horizon Dental Choice Network. Your selected primary care dentist coordinates all your dental needs. If there is a service or procedure your dentist is unable to complete, you will be referred to a participating specialist. In your first year, you’ll save 30 percent on covered major services. When you stay with the same primary care' metadata={'source': 'KnowledgeBaseDocs/HorizonDentalVision/HorizonDentalandVisionPlans.pdf'}\n",
      "page_content='Visit HorizonBlue.com/Dental to learn more about Horizon Dental plans or enroll online at HorizonBlue.com/Plans.\\n\\nHorizon Centurion Dental\\n\\nHorizon Centurion Dental, our lowest-cost dental program, offers individuals and families an affordable dental program. Simply visit a participating Horizon PPO Network dentist for eligible services to receive dental care at reduced fees.\\n\\nHorizon Individual Dental' metadata={'source': 'KnowledgeBaseDocs/HorizonDentalVision/HorizonDentalandVisionPlans.pdf'}\n"
     ]
    }
   ],
   "source": [
    "db_HorizonDentalandVisionPlans = Chroma(collection_name=\"HorizonDentalVision\", embedding_function=embed_model, persist_directory=vector_db_path)\n",
    "\n",
    "for chunk in db_HorizonDentalandVisionPlans.similarity_search(\"What is the most cost effective dental plan?\", 3):\n",
    "    print(chunk)"
   ]
  },
  {
   "cell_type": "code",
   "execution_count": null,
   "id": "d5061a5a-f197-41b0-a170-2fa3d539adc9",
   "metadata": {
    "tags": []
   },
   "outputs": [],
   "source": [
    "#VC\n",
    "#import chromadb\n",
    "#chroma_client = chromadb.Client()\n",
    "#chroma_client.list_collections()"
   ]
  },
  {
   "cell_type": "code",
   "execution_count": null,
   "id": "97ed6fca-dba2-4f56-963b-963786f3cbe9",
   "metadata": {
    "tags": []
   },
   "outputs": [],
   "source": [
    "#VC\n",
    "#import chromadb\n",
    "#from chromadb.config import Settings\n",
    "# Example setup of the client to connect to your chroma server\n",
    "#client = chromadb.HttpClient(host='localhost', port=8000)"
   ]
  },
  {
   "cell_type": "code",
   "execution_count": 7,
   "id": "05f662b6-7107-4e63-8af6-e8c5e74526ed",
   "metadata": {
    "tags": []
   },
   "outputs": [],
   "source": [
    "def get_similar_chunks(question, similar_doc_count, colname):\n",
    "    db_sem = Chroma(collection_name=colname, embedding_function=embed_model, persist_directory=vector_db_path)\n",
    "    return db_sem.similarity_search(question, k=similar_doc_count)"
   ]
  },
  {
   "cell_type": "code",
   "execution_count": null,
   "id": "344e4de4-d94e-46dc-8937-0e8153f70de0",
   "metadata": {
    "collapsed": true,
    "jupyter": {
     "outputs_hidden": true
    },
    "tags": []
   },
   "outputs": [
    {
     "name": "stderr",
     "output_type": "stream",
     "text": [
      "Using embedded DuckDB with persistence: data will be stored in: AIProjectDB/vector_db\n"
     ]
    },
    {
     "name": "stdout",
     "output_type": "stream",
     "text": [
      "*****************************New Chunk:\n",
      "\n",
      "page_content='There is a 7-day waiting period after your “effective date” (the date your coverage begins) before vision claims will be paid. All Horizon Vision plans can be purchased with a medical plan or by themselves. You must have a primary residence in New Jersey and be age 19 or older.\\n\\nLearn more about Horizon Vision plans and enroll online at HorizonBlue.com/Plans.\\n\\nHORIZON DENTAL & VISION\\n\\nCall 1-844-826-5528 to learn more or enroll online at HorizonBlue.com/Plans.\\n\\nGET ANSWERS & ENROLL' metadata={'source': 'KnowledgeBaseDocs/HorizonDentalVision/HorizonDentalandVisionPlans.pdf'}\n",
      "*****************************New Chunk:\n",
      "\n",
      "page_content='Horizon Dental plans do not have waiting periods for diagnostic or preventive coverage. However, some dental plans have waiting periods for certain coverage and procedures. For example, if you enroll in Horizon Healthy Smiles, you would have to wait 6 months before amalgam (silver) fillings would be covered. See the dental plan guide for details.\\n\\nE F P T O Z\\n\\nHORIZON VISION' metadata={'source': 'KnowledgeBaseDocs/HorizonDentalVision/HorizonDentalandVisionPlans.pdf'}\n",
      "*****************************New Chunk:\n",
      "\n",
      "page_content='Mail-order contact lenses\\n\\nLaser-vision-correction discounts (up to 25% off)\\n\\nLow-vision services\\n\\nVision Care Savings at Home & Away\\n\\nHorizon Vision plans are administered through Davis Vision, with thousands of vision professionals in New Jersey and nationwide, including Visionworks retail locations. Find your vision professional at HorizonBlue.com/DoctorFinder.\\n\\nGET ANSWERS & ENROLL Call 1-844-826-5528\\n\\nEligibility & Waiting Periods' metadata={'source': 'KnowledgeBaseDocs/HorizonDentalVision/HorizonDentalandVisionPlans.pdf'}\n"
     ]
    }
   ],
   "source": [
    "for textchunk in get_similar_chunks(\"What is the waiting period before vision claims are paid?\", 3, \"HorizonDentalVision\"):\n",
    "    print(\"*****************************New Chunk:\\n\")\n",
    "    print(textchunk)"
   ]
  },
  {
   "cell_type": "code",
   "execution_count": null,
   "id": "d7d683af-a292-4ed7-8fc2-1ada89afbdcc",
   "metadata": {
    "collapsed": true,
    "jupyter": {
     "outputs_hidden": true
    },
    "tags": []
   },
   "outputs": [
    {
     "name": "stderr",
     "output_type": "stream",
     "text": [
      "Using embedded DuckDB with persistence: data will be stored in: AIProjectDB/vector_db\n"
     ]
    },
    {
     "name": "stdout",
     "output_type": "stream",
     "text": [
      "*****************************New Chunk:\n",
      "\n",
      "page_content='o $60 copayment in an office or freestanding facility o $175 copayment in an outpatient hospital\\n\\nLab Services:\\n\\n\\n\\nIn-network:\\n\\no $0 copayment\\n\\nOut-of-network:\\n\\no $20 copayment at an office o $50 copayment at an outpatient hospital\\n\\nCovered Benefits NOTE: Services with a 1 may require prior authorization. Diagnostic Services/ Labs/ Imaging1\\n\\nBraven Medicare Choice (PPO)\\n\\nDiagnostic tests and procedures:\\n\\n\\n\\nIn-network:' metadata={'source': 'KnowledgeBaseDocs/Braven/BravenMedicalChoicePPOBergen.pdf'}\n",
      "*****************************New Chunk:\n",
      "\n",
      "page_content='• Out-of-network\\n\\nIn-network: $0 copayment\\n\\no $50 copayment in an office or freestanding facility o $110 copayment in an outpatient hospital\\n\\nDiagnostic Mammogram:\\n\\n• Out-of-network:\\n\\nIn-network: $0 copayment\\n\\no $60 copayment in an office or freestanding facility o $175 copayment in an outpatient hospital\\n\\nDiagnostic radiology services (such as MRIs, CT scans):\\n\\n\\n\\nIn-network:\\n\\no $40 copayment in an office or freestanding facility o $150 copayment in an outpatient hospital\\n\\nOut-of-network:' metadata={'source': 'KnowledgeBaseDocs/Braven/BravenMedicalChoicePPOBergen.pdf'}\n",
      "*****************************New Chunk:\n",
      "\n",
      "page_content='$95 copayment (worldwide) Copayment waived if admitted to a hospital within 24 hours for the same condition. See the “Inpatient Hospital Coverage” section of this booklet for other costs.\\n\\n$40 copayment • $95 copayment for worldwide coverage\\n\\nUrgently Needed Services\\n\\nCopayment waived if admitted to a hospital within 24 hours for the same condition. See the “Inpatient Hospital Coverage” section of this booklet for other costs. Diagnostic Colonoscopy:\\n\\nDiagnostic Services/ Labs/ Imaging1' metadata={'source': 'KnowledgeBaseDocs/Braven/BravenMedicalChoicePPOBergen.pdf'}\n"
     ]
    }
   ],
   "source": [
    "for textchunk in get_similar_chunks(\"Will I owe a copay for lab services?\", 3, \"Braven\"):\n",
    "  print(\"*****************************New Chunk:\\n\")\n",
    "  print(textchunk)"
   ]
  },
  {
   "cell_type": "code",
   "execution_count": null,
   "id": "19006aa1-811c-4f27-9f15-06254fe092ae",
   "metadata": {
    "collapsed": true,
    "jupyter": {
     "outputs_hidden": true
    },
    "tags": []
   },
   "outputs": [
    {
     "name": "stderr",
     "output_type": "stream",
     "text": [
      "Using embedded DuckDB with persistence: data will be stored in: AIProjectDB/vector_db\n"
     ]
    },
    {
     "name": "stdout",
     "output_type": "stream",
     "text": [
      "*****************************New Chunk:\n",
      "\n",
      "page_content='Important Message About What You Pay for Vaccines – Our plan covers most Part D vaccines at no cost to you even if you haven’t paid your deductible. Call Member Services for more information.\\n\\nCovered Benefits NOTE: Services with a 1 may require prior authorization. Emergency Care\\n\\nBraven Medicare Choice (PPO)' metadata={'source': 'KnowledgeBaseDocs/Braven/BravenMedicalChoicePPOBergen.pdf'}\n",
      "*****************************New Chunk:\n",
      "\n",
      "page_content='(counseling for people with no sign of tobacco-related disease)\\n\\nVaccines, including Pneumonia, Flu shots, Hepatitis B,\\n\\nCOVID-19 and other vaccines\\n\\n“Welcome to Medicare” preventive visit (one-time)\\n\\nAny additional preventive services approved by Medicare during the contract year will be covered. Flu shot, Hepatitis B, Pneumonia, and COVID-19 vaccines are $0 copayment in-and out-of-network.' metadata={'source': 'KnowledgeBaseDocs/Braven/BravenMedicalChoicePPOBergen.pdf'}\n",
      "*****************************New Chunk:\n",
      "\n",
      "page_content='Costs may differ based on mail order pharmacy type. Coverage Gap Phase' metadata={'source': 'KnowledgeBaseDocs/Braven/BravenMedicalChoicePPOBergen.pdf'}\n"
     ]
    }
   ],
   "source": [
    "for textchunk in get_similar_chunks(\"I haven’t gotten any vaccines yet this year. Will I owe a copay if I get the flu shot?\", 3, \"Braven\"):\n",
    "  print(\"*****************************New Chunk:\\n\")\n",
    "  print(textchunk)"
   ]
  },
  {
   "cell_type": "code",
   "execution_count": null,
   "id": "c7d6de49-20ea-4d1e-b9da-50cbe0c1c800",
   "metadata": {
    "collapsed": true,
    "jupyter": {
     "outputs_hidden": true
    },
    "tags": []
   },
   "outputs": [
    {
     "name": "stderr",
     "output_type": "stream",
     "text": [
      "Using embedded DuckDB with persistence: data will be stored in: AIProjectDB/vector_db\n"
     ]
    },
    {
     "name": "stdout",
     "output_type": "stream",
     "text": [
      "*****************************New Chunk:\n",
      "\n",
      "page_content='(counseling for people with no sign of tobacco-related disease)\\n\\nVaccines, including Pneumonia, Flu shots, Hepatitis B,\\n\\nCOVID-19 and other vaccines\\n\\n“Welcome to Medicare” preventive visit (one-time)\\n\\nAny additional preventive services approved by Medicare during the contract year will be covered. Flu shot, Hepatitis B, Pneumonia, and COVID-19 vaccines are $0 copayment in-and out-of-network.' metadata={'source': 'KnowledgeBaseDocs/Braven/BravenMedicalChoicePPOBergen.pdf'}\n",
      "*****************************New Chunk:\n",
      "\n",
      "page_content='Important Message About What You Pay for Vaccines – Our plan covers most Part D vaccines at no cost to you even if you haven’t paid your deductible. Call Member Services for more information.\\n\\nCovered Benefits NOTE: Services with a 1 may require prior authorization. Emergency Care\\n\\nBraven Medicare Choice (PPO)' metadata={'source': 'KnowledgeBaseDocs/Braven/BravenMedicalChoicePPOBergen.pdf'}\n",
      "*****************************New Chunk:\n",
      "\n",
      "page_content='• Out-of-network\\n\\nIn-network: $0 copayment\\n\\no $50 copayment in an office or freestanding facility o $110 copayment in an outpatient hospital\\n\\nDiagnostic Mammogram:\\n\\n• Out-of-network:\\n\\nIn-network: $0 copayment\\n\\no $60 copayment in an office or freestanding facility o $175 copayment in an outpatient hospital\\n\\nDiagnostic radiology services (such as MRIs, CT scans):\\n\\n\\n\\nIn-network:\\n\\no $40 copayment in an office or freestanding facility o $150 copayment in an outpatient hospital\\n\\nOut-of-network:' metadata={'source': 'KnowledgeBaseDocs/Braven/BravenMedicalChoicePPOBergen.pdf'}\n"
     ]
    }
   ],
   "source": [
    "for textchunk in get_similar_chunks(\"What other vaccines can I get this year without owing a copay?\", 3, \"Braven\"):\n",
    "  print(\"*****************************New Chunk:\\n\")\n",
    "  print(textchunk)"
   ]
  },
  {
   "cell_type": "code",
   "execution_count": null,
   "id": "1cd0950e-1ff5-40ee-969f-ad2c5790dcae",
   "metadata": {
    "collapsed": true,
    "jupyter": {
     "outputs_hidden": true
    },
    "tags": []
   },
   "outputs": [
    {
     "name": "stderr",
     "output_type": "stream",
     "text": [
      "Using embedded DuckDB with persistence: data will be stored in: AIProjectDB/vector_db\n"
     ]
    },
    {
     "name": "stdout",
     "output_type": "stream",
     "text": [
      "*****************************New Chunk:\n",
      "\n",
      "page_content='o $60 copayment in an office or freestanding facility o $175 copayment in an outpatient hospital\\n\\nLab Services:\\n\\n\\n\\nIn-network:\\n\\no $0 copayment\\n\\nOut-of-network:\\n\\no $20 copayment at an office o $50 copayment at an outpatient hospital\\n\\nCovered Benefits NOTE: Services with a 1 may require prior authorization. Diagnostic Services/ Labs/ Imaging1\\n\\nBraven Medicare Choice (PPO)\\n\\nDiagnostic tests and procedures:\\n\\n\\n\\nIn-network:' metadata={'source': 'KnowledgeBaseDocs/Braven/BravenMedicalChoicePPOBergen.pdf'}\n",
      "*****************************New Chunk:\n",
      "\n",
      "page_content='• Out-of-network\\n\\nIn-network: $0 copayment\\n\\no $50 copayment in an office or freestanding facility o $110 copayment in an outpatient hospital\\n\\nDiagnostic Mammogram:\\n\\n• Out-of-network:\\n\\nIn-network: $0 copayment\\n\\no $60 copayment in an office or freestanding facility o $175 copayment in an outpatient hospital\\n\\nDiagnostic radiology services (such as MRIs, CT scans):\\n\\n\\n\\nIn-network:\\n\\no $40 copayment in an office or freestanding facility o $150 copayment in an outpatient hospital\\n\\nOut-of-network:' metadata={'source': 'KnowledgeBaseDocs/Braven/BravenMedicalChoicePPOBergen.pdf'}\n",
      "*****************************New Chunk:\n",
      "\n",
      "page_content='$95 copayment (worldwide) Copayment waived if admitted to a hospital within 24 hours for the same condition. See the “Inpatient Hospital Coverage” section of this booklet for other costs.\\n\\n$40 copayment • $95 copayment for worldwide coverage\\n\\nUrgently Needed Services\\n\\nCopayment waived if admitted to a hospital within 24 hours for the same condition. See the “Inpatient Hospital Coverage” section of this booklet for other costs. Diagnostic Colonoscopy:\\n\\nDiagnostic Services/ Labs/ Imaging1' metadata={'source': 'KnowledgeBaseDocs/Braven/BravenMedicalChoicePPOBergen.pdf'}\n"
     ]
    }
   ],
   "source": [
    "for textchunk in get_similar_chunks(\"Will I owe a copay for lab services?\", 3, \"Braven\"):\n",
    "  print(\"*****************************New Chunk:\\n\")\n",
    "  print(textchunk)"
   ]
  },
  {
   "cell_type": "code",
   "execution_count": null,
   "id": "827896b4-7755-420e-8306-10f43f731567",
   "metadata": {
    "collapsed": true,
    "jupyter": {
     "outputs_hidden": true
    },
    "tags": []
   },
   "outputs": [
    {
     "name": "stderr",
     "output_type": "stream",
     "text": [
      "Using embedded DuckDB with persistence: data will be stored in: AIProjectDB/vector_db\n"
     ]
    },
    {
     "name": "stdout",
     "output_type": "stream",
     "text": [
      "*****************************New Chunk:\n",
      "\n",
      "page_content='• Out-of-network\\n\\nIn-network: $0 copayment\\n\\no $50 copayment in an office or freestanding facility o $110 copayment in an outpatient hospital\\n\\nDiagnostic Mammogram:\\n\\n• Out-of-network:\\n\\nIn-network: $0 copayment\\n\\no $60 copayment in an office or freestanding facility o $175 copayment in an outpatient hospital\\n\\nDiagnostic radiology services (such as MRIs, CT scans):\\n\\n\\n\\nIn-network:\\n\\no $40 copayment in an office or freestanding facility o $150 copayment in an outpatient hospital\\n\\nOut-of-network:' metadata={'source': 'KnowledgeBaseDocs/Braven/BravenMedicalChoicePPOBergen.pdf'}\n",
      "*****************************New Chunk:\n",
      "\n",
      "page_content='o $0 copayment at an office o $30 copayment at a freestanding facility o $50 copayment at an outpatient hospital\\n\\nOut-of-network:\\n\\no $50 copayment at an office o $110 copayment at an outpatient hospital\\n\\nTherapeutic Radiology:\\n\\nX-Rays: •\\n\\nIn- and out-of-network: 20% of the cost\\n\\nIn-network:\\n\\no $0 copayment at an office o $25 copayment at all other places of service\\n\\nOut-of-network: $40 copayment\\n\\nHearing Services (continued on next page)\\n\\nExam to diagnose and treat hearing and balance issues:' metadata={'source': 'KnowledgeBaseDocs/Braven/BravenMedicalChoicePPOBergen.pdf'}\n",
      "*****************************New Chunk:\n",
      "\n",
      "page_content='o $60 copayment in an office or freestanding facility o $175 copayment in an outpatient hospital\\n\\nLab Services:\\n\\n\\n\\nIn-network:\\n\\no $0 copayment\\n\\nOut-of-network:\\n\\no $20 copayment at an office o $50 copayment at an outpatient hospital\\n\\nCovered Benefits NOTE: Services with a 1 may require prior authorization. Diagnostic Services/ Labs/ Imaging1\\n\\nBraven Medicare Choice (PPO)\\n\\nDiagnostic tests and procedures:\\n\\n\\n\\nIn-network:' metadata={'source': 'KnowledgeBaseDocs/Braven/BravenMedicalChoicePPOBergen.pdf'}\n"
     ]
    }
   ],
   "source": [
    "for textchunk in get_similar_chunks(\"Will I owe a copay if I get an MRI?\", 3, \"Braven\"):\n",
    "  print(\"*****************************New Chunk:\\n\")\n",
    "  print(textchunk)"
   ]
  },
  {
   "cell_type": "code",
   "execution_count": null,
   "id": "7fdf461d-2be7-452f-a82c-5655e4f9210d",
   "metadata": {
    "collapsed": true,
    "jupyter": {
     "outputs_hidden": true
    },
    "tags": []
   },
   "outputs": [
    {
     "name": "stderr",
     "output_type": "stream",
     "text": [
      "Using embedded DuckDB with persistence: data will be stored in: AIProjectDB/vector_db\n"
     ]
    },
    {
     "name": "stdout",
     "output_type": "stream",
     "text": [
      "*****************************New Chunk:\n",
      "\n",
      "page_content='Our plan covers up to 100 days per benefit period. A new benefit period begins each time you have not been readmitted to a SNF for 60 consecutive days since your last discharge. Each benefit period begins with the Day 1 copayment or coinsurance listed above. There is no annual limit to the number of benefit periods. • In-network: $20 copayment per visit • Out-of-network: $30 copayment per visit\\n\\nPhysical Therapy1\\n\\nAmbulance1\\n\\nIn-network:' metadata={'source': 'KnowledgeBaseDocs/Braven/BravenMedicalChoicePPOBergen.pdf'}\n",
      "*****************************New Chunk:\n",
      "\n",
      "page_content='Medicare Part B Drugs1\\n\\nIn- and Out-of-network: 20% of the cost • In-network: $0 copayment • Out-of-network: $10 copayment\\n\\nAnnual Physical Exam\\n\\nCovered Benefits NOTE: Services with a 1 may require prior authorization. Cardiac Rehab\\n\\nBraven Medicare Choice (PPO)\\n\\nCardiac (heart) rehab services (for a maximum of 2 one-hour sessions per day for up to 36 sessions during a 36-week period):\\n\\nIn-network: $15 copayment • Out-of-network: $25 copayment\\n\\nChiropractic Care' metadata={'source': 'KnowledgeBaseDocs/Braven/BravenMedicalChoicePPOBergen.pdf'}\n",
      "*****************************New Chunk:\n",
      "\n",
      "page_content='Special Supplemental Benefit for Chronically Ill (SSBCI)\\n\\nCovered Benefits NOTE: Services with a 1 may require prior authorization. Supervised Exercise Therapy (SET) for Symptomatic Peripheral Artery Disease (PAD) Telehealth\\n\\nBraven Medicare Choice (PPO)\\n\\nIn-network: $20 copayment • Out-of-network: $30 copayment\\n\\n$0 copayment for urgently needed services and behavioral health. Must use our preferred vendor.\\n\\nPrescription Drugs Deductible Phase\\n\\nBraven Medicare Choice (PPO)' metadata={'source': 'KnowledgeBaseDocs/Braven/BravenMedicalChoicePPOBergen.pdf'}\n"
     ]
    }
   ],
   "source": [
    "for textchunk in get_similar_chunks(\"My doctor recommended that I go to physical therapy.  Would that be covered? \", 3, \"Braven\"):\n",
    "  print(\"*****************************New Chunk:\\n\")\n",
    "  print(textchunk)"
   ]
  },
  {
   "cell_type": "code",
   "execution_count": null,
   "id": "f02d7891-568f-40c9-9461-bf3c40c270f8",
   "metadata": {
    "collapsed": true,
    "jupyter": {
     "outputs_hidden": true
    },
    "tags": []
   },
   "outputs": [
    {
     "name": "stderr",
     "output_type": "stream",
     "text": [
      "Using embedded DuckDB with persistence: data will be stored in: AIProjectDB/vector_db\n"
     ]
    },
    {
     "name": "stdout",
     "output_type": "stream",
     "text": [
      "*****************************New Chunk:\n",
      "\n",
      "page_content='Ambulatory Surgical Center1\\n\\nDoctor Visits1\\n\\nPrimary Care Physician:\\n\\nIn-network: $0 copayment • Out-of-network: $10 copayment\\n\\nSpecialists: • In-network: $20 copayment • Out-of-network: $30 copayment\\n\\nCovered Benefits NOTE: Services with a 1 may require prior authorization. Preventive Care\\n\\nBraven Medicare Choice (PPO)\\n\\nIn-network: $0 copayment • Out-of-network: $10 copayment\\n\\nOur plan covers many preventive services, including:' metadata={'source': 'KnowledgeBaseDocs/Braven/BravenMedicalChoicePPOBergen.pdf'}\n",
      "*****************************New Chunk:\n",
      "\n",
      "page_content='• Out-of-network\\n\\nIn-network: $0 copayment\\n\\no $50 copayment in an office or freestanding facility o $110 copayment in an outpatient hospital\\n\\nDiagnostic Mammogram:\\n\\n• Out-of-network:\\n\\nIn-network: $0 copayment\\n\\no $60 copayment in an office or freestanding facility o $175 copayment in an outpatient hospital\\n\\nDiagnostic radiology services (such as MRIs, CT scans):\\n\\n\\n\\nIn-network:\\n\\no $40 copayment in an office or freestanding facility o $150 copayment in an outpatient hospital\\n\\nOut-of-network:' metadata={'source': 'KnowledgeBaseDocs/Braven/BravenMedicalChoicePPOBergen.pdf'}\n",
      "*****************************New Chunk:\n",
      "\n",
      "page_content='In-network: $60 copayment • Out-of-network: $70 copayment • In-network: $20 copayment • Out-of-network: $30 copayment • In-network: 20% of the cost • Out-of-network: 20% of the cost\\n\\nPartial Hospitalization Services1 Pulmonary Rehabilitation\\n\\nRenal Dialysis' metadata={'source': 'KnowledgeBaseDocs/Braven/BravenMedicalChoicePPOBergen.pdf'}\n"
     ]
    }
   ],
   "source": [
    "for textchunk in get_similar_chunks(\"I am having surgery performed at a surgical center.  How much will I have to pay?\", 3, \"Braven\"):\n",
    "  print(\"*****************************New Chunk:\\n\")\n",
    "  print(textchunk)"
   ]
  },
  {
   "cell_type": "code",
   "execution_count": null,
   "id": "75f58739-038d-48ff-919c-42a34a3d4c44",
   "metadata": {
    "collapsed": true,
    "jupyter": {
     "outputs_hidden": true
    },
    "tags": []
   },
   "outputs": [
    {
     "name": "stderr",
     "output_type": "stream",
     "text": [
      "Using embedded DuckDB with persistence: data will be stored in: AIProjectDB/vector_db\n"
     ]
    },
    {
     "name": "stdout",
     "output_type": "stream",
     "text": [
      "*****************************New Chunk:\n",
      "\n",
      "page_content='This booklet gives you a summary of what we cover and what you pay. It doesn’t list every service we cover or list every limitation or exclusion. To get a complete list of services, cost shares and exclusions, please refer to our Evidence of Coverage, which can be found online at BravenHealth.com/2023EOCChoice. Or, you can call us at 1-833-272-8360 (TTY 711) to request a mailed copy. Hours of operation are: October 1 – March 31: Monday – Sunday, from 8:00 a.m. to 8:00 p.m., ET and April 1 –' metadata={'source': 'KnowledgeBaseDocs/Braven/BravenMedicalChoicePPOBergen.pdf'}\n",
      "*****************************New Chunk:\n",
      "\n",
      "page_content='• Out-of-network\\n\\nIn-network: $0 copayment\\n\\no $50 copayment in an office or freestanding facility o $110 copayment in an outpatient hospital\\n\\nDiagnostic Mammogram:\\n\\n• Out-of-network:\\n\\nIn-network: $0 copayment\\n\\no $60 copayment in an office or freestanding facility o $175 copayment in an outpatient hospital\\n\\nDiagnostic radiology services (such as MRIs, CT scans):\\n\\n\\n\\nIn-network:\\n\\no $40 copayment in an office or freestanding facility o $150 copayment in an outpatient hospital\\n\\nOut-of-network:' metadata={'source': 'KnowledgeBaseDocs/Braven/BravenMedicalChoicePPOBergen.pdf'}\n",
      "*****************************New Chunk:\n",
      "\n",
      "page_content='Ambulatory Surgical Center1\\n\\nDoctor Visits1\\n\\nPrimary Care Physician:\\n\\nIn-network: $0 copayment • Out-of-network: $10 copayment\\n\\nSpecialists: • In-network: $20 copayment • Out-of-network: $30 copayment\\n\\nCovered Benefits NOTE: Services with a 1 may require prior authorization. Preventive Care\\n\\nBraven Medicare Choice (PPO)\\n\\nIn-network: $0 copayment • Out-of-network: $10 copayment\\n\\nOur plan covers many preventive services, including:' metadata={'source': 'KnowledgeBaseDocs/Braven/BravenMedicalChoicePPOBergen.pdf'}\n"
     ]
    }
   ],
   "source": [
    "for textchunk in get_similar_chunks(\"I am traveling out of the country and would like to know if I have coverage worldwide.\", 3, \"Braven\"):\n",
    "  print(\"*****************************New Chunk:\\n\")\n",
    "  print(textchunk)"
   ]
  },
  {
   "cell_type": "code",
   "execution_count": null,
   "id": "ccd1cc6a-28ad-4d52-be17-a48267179442",
   "metadata": {
    "collapsed": true,
    "jupyter": {
     "outputs_hidden": true
    },
    "tags": []
   },
   "outputs": [
    {
     "name": "stderr",
     "output_type": "stream",
     "text": [
      "Using embedded DuckDB with persistence: data will be stored in: AIProjectDB/vector_db\n"
     ]
    },
    {
     "name": "stdout",
     "output_type": "stream",
     "text": [
      "*****************************New Chunk:\n",
      "\n",
      "page_content='o $374 copayment per day for days 1 through 5 o $0 copayment for days 6 through 90\\n\\nOur plan covers up to 190 days in a lifetime for inpatient\\n\\nmental health care in a psychiatric hospital. Outpatient individual or group therapy office visit:\\n\\nIn-network: $40 copayment • Out-of-network: $50 copayment\\n\\nSkilled Nursing Facility (SNF)1\\n\\nIn-network:\\n\\n$0 copayment for days 1 through 20 • $196 copayment for days 21 through 100\\n\\nOut-of-network:\\n\\n20% of the cost per stay' metadata={'source': 'KnowledgeBaseDocs/Braven/BravenMedicalChoicePPOBergen.pdf'}\n",
      "*****************************New Chunk:\n",
      "\n",
      "page_content='$0 copayment for a 24/7 toll-free Nurse Line, a confidential service that enables the member to speak with a registered nurse to assist with health-related questions and concerns. Occupational therapy office visit\\n\\nOutpatient Rehabilitation1\\n\\nIn-network: $20 copayment • Out-of-network: $30 copayment Speech and language therapy office visit • In-network: $20 copayment • Out-of-network: $30 copayment • • Out-of-network: $50 copayment for individual or group\\n\\nOutpatient Substance Use 1' metadata={'source': 'KnowledgeBaseDocs/Braven/BravenMedicalChoicePPOBergen.pdf'}\n",
      "*****************************New Chunk:\n",
      "\n",
      "page_content=\"$0 copayment for hospice care from a Medicare-certified hospice. You may have to pay part of the cost for drugs and respite care. Hospice is covered by Original Medicare, not our plan. Please contact us for more details. $0 copayment for in-home support services including, but not limited to: transportation for grocery shopping, medication pick up, and doctor's appointments, technical guidance, reminders, light house help, light exercise and activity. Limited to 36 hours per year. Additional\" metadata={'source': 'KnowledgeBaseDocs/Braven/BravenMedicalChoicePPOBergen.pdf'}\n"
     ]
    }
   ],
   "source": [
    "for textchunk in get_similar_chunks(\"Would I owe a copayment for outpatient mental health services?\", 3, \"Braven\"):\n",
    "  print(\"*****************************New Chunk:\\n\")\n",
    "  print(textchunk)"
   ]
  },
  {
   "cell_type": "code",
   "execution_count": null,
   "id": "cd377f31-7144-442b-affc-0a890ebd4803",
   "metadata": {
    "collapsed": true,
    "jupyter": {
     "outputs_hidden": true
    },
    "tags": []
   },
   "outputs": [
    {
     "name": "stderr",
     "output_type": "stream",
     "text": [
      "Using embedded DuckDB with persistence: data will be stored in: AIProjectDB/vector_db\n"
     ]
    },
    {
     "name": "stdout",
     "output_type": "stream",
     "text": [
      "*****************************New Chunk:\n",
      "\n",
      "page_content='Ambulatory Surgical Center1\\n\\nDoctor Visits1\\n\\nPrimary Care Physician:\\n\\nIn-network: $0 copayment • Out-of-network: $10 copayment\\n\\nSpecialists: • In-network: $20 copayment • Out-of-network: $30 copayment\\n\\nCovered Benefits NOTE: Services with a 1 may require prior authorization. Preventive Care\\n\\nBraven Medicare Choice (PPO)\\n\\nIn-network: $0 copayment • Out-of-network: $10 copayment\\n\\nOur plan covers many preventive services, including:' metadata={'source': 'KnowledgeBaseDocs/Braven/BravenMedicalChoicePPOBergen.pdf'}\n",
      "*****************************New Chunk:\n",
      "\n",
      "page_content='Visit BravenHealth.com for more information.\\n\\nNetwork providers and pharmacies\\n\\nBraven Medicare Choice (PPO) has a network of doctors, hospitals, pharmacies and other providers. If you use the providers in our network, you may pay less for your covered services. But if you want to, you can also use providers that are not in our network. You can search for a network provider online at doctorfinder.bravenhealth.com.' metadata={'source': 'KnowledgeBaseDocs/Braven/BravenMedicalChoicePPOBergen.pdf'}\n",
      "*****************************New Chunk:\n",
      "\n",
      "page_content='You must generally use network pharmacies to fill your prescriptions for covered Part D Drugs. You can search for a network pharmacy online at bravenhealth.com/find-network-pharmacies.\\n\\nYou can always call us and we will send you a copy of the provider directory and pharmacy directories.' metadata={'source': 'KnowledgeBaseDocs/Braven/BravenMedicalChoicePPOBergen.pdf'}\n"
     ]
    }
   ],
   "source": [
    "for textchunk in get_similar_chunks(\"How do I find doctors that are in-network with my plan?\", 3, \"Braven\"):\n",
    "  print(\"*****************************New Chunk:\\n\")\n",
    "  print(textchunk)"
   ]
  },
  {
   "cell_type": "code",
   "execution_count": null,
   "id": "d4a4f731-c2e4-4055-99ec-945465705364",
   "metadata": {
    "collapsed": true,
    "jupyter": {
     "outputs_hidden": true
    },
    "tags": []
   },
   "outputs": [
    {
     "name": "stderr",
     "output_type": "stream",
     "text": [
      "Using embedded DuckDB with persistence: data will be stored in: AIProjectDB/vector_db\n"
     ]
    },
    {
     "name": "stdout",
     "output_type": "stream",
     "text": [
      "*****************************New Chunk:\n",
      "\n",
      "page_content='Out-of-network/non-contracted providers are under no obligation to treat plan members, except in emergency situations. Please call our customer service number or see your Evidence of Coverage for more information, including the cost-sharing that applies to out-of-network services. Braven Health has a Medicare contract to offer HMO and PPO Medicare Advantage and Medicare Advantage with Prescription Drug plans. Enrollment in Braven Health’s products depends on contract renewal. Products are' metadata={'source': 'KnowledgeBaseDocs/Braven/BravenMedicalChoicePPOBergen.pdf'}\n",
      "*****************************New Chunk:\n",
      "\n",
      "page_content='Out-of-network/non-contracted providers are under no obligation to treat plan members, except in emergency situations. Please call our customer service number or see your Evidence of Coverage for more information, including the cost-sharing that applies to out-of-network services. Braven Health has a Medicare contract to offer HMO and PPO Medicare Advantage and Medicare Advantage with Prescription Drug plans, including group Medicare Advantage and group Medicare Advantage with Prescription Drug' metadata={'source': 'KnowledgeBaseDocs/Braven/BravenMedicalChoicePPOBergen.pdf'}\n",
      "*****************************New Chunk:\n",
      "\n",
      "page_content='Visit BravenHealth.com for more information.\\n\\nNetwork providers and pharmacies\\n\\nBraven Medicare Choice (PPO) has a network of doctors, hospitals, pharmacies and other providers. If you use the providers in our network, you may pay less for your covered services. But if you want to, you can also use providers that are not in our network. You can search for a network provider online at doctorfinder.bravenhealth.com.' metadata={'source': 'KnowledgeBaseDocs/Braven/BravenMedicalChoicePPOBergen.pdf'}\n"
     ]
    }
   ],
   "source": [
    "for textchunk in get_similar_chunks(\"Can I go to an out-of-network provider?\", 3, \"Braven\"):\n",
    "  print(\"*****************************New Chunk:\\n\")\n",
    "  print(textchunk)"
   ]
  },
  {
   "cell_type": "code",
   "execution_count": null,
   "id": "2b2cda63-5347-4a9c-b826-a91c6227a9f2",
   "metadata": {
    "collapsed": true,
    "jupyter": {
     "outputs_hidden": true
    },
    "tags": []
   },
   "outputs": [
    {
     "name": "stderr",
     "output_type": "stream",
     "text": [
      "Using embedded DuckDB with persistence: data will be stored in: AIProjectDB/vector_db\n"
     ]
    },
    {
     "name": "stdout",
     "output_type": "stream",
     "text": [
      "*****************************New Chunk:\n",
      "\n",
      "page_content='Annual Medical Deductible Maximum Out-of-Pocket Responsibility (does not include prescription drugs)\\n\\n$6,700 per year for services you receive from in-network\\n\\nproviders.\\n\\n$10,000 per year for services you receive from in- network and out-of-network providers combined.' metadata={'source': 'KnowledgeBaseDocs/Braven/BravenMedicalChoicePPOBergen.pdf'}\n",
      "*****************************New Chunk:\n",
      "\n",
      "page_content='Important Message About What You Pay for Vaccines – Our plan covers most Part D vaccines at no cost to you even if you haven’t paid your deductible. Call Member Services for more information.\\n\\nCovered Benefits NOTE: Services with a 1 may require prior authorization. Emergency Care\\n\\nBraven Medicare Choice (PPO)' metadata={'source': 'KnowledgeBaseDocs/Braven/BravenMedicalChoicePPOBergen.pdf'}\n",
      "*****************************New Chunk:\n",
      "\n",
      "page_content='Ambulatory Surgical Center1\\n\\nDoctor Visits1\\n\\nPrimary Care Physician:\\n\\nIn-network: $0 copayment • Out-of-network: $10 copayment\\n\\nSpecialists: • In-network: $20 copayment • Out-of-network: $30 copayment\\n\\nCovered Benefits NOTE: Services with a 1 may require prior authorization. Preventive Care\\n\\nBraven Medicare Choice (PPO)\\n\\nIn-network: $0 copayment • Out-of-network: $10 copayment\\n\\nOur plan covers many preventive services, including:' metadata={'source': 'KnowledgeBaseDocs/Braven/BravenMedicalChoicePPOBergen.pdf'}\n"
     ]
    }
   ],
   "source": [
    "for textchunk in get_similar_chunks(\"Do I have to pay a deductible when using this medical plan?\", 3, \"Braven\"):\n",
    "  print(\"*****************************New Chunk:\\n\")\n",
    "  print(textchunk)"
   ]
  },
  {
   "cell_type": "code",
   "execution_count": null,
   "id": "e65a589d-091e-4521-974e-dfd98db0ae44",
   "metadata": {
    "collapsed": true,
    "jupyter": {
     "outputs_hidden": true
    },
    "tags": []
   },
   "outputs": [
    {
     "name": "stderr",
     "output_type": "stream",
     "text": [
      "Using embedded DuckDB with persistence: data will be stored in: AIProjectDB/vector_db\n"
     ]
    },
    {
     "name": "stdout",
     "output_type": "stream",
     "text": [
      "*****************************New Chunk:\n",
      "\n",
      "page_content='In- and Out-of-network: $0 copayment\\n\\nGlaucoma screening:\\n\\nIn-network: $0 copayment • Out-of-network: $10 copayment\\n\\nExam to diagnose and treat diseases and conditions of the eye:\\n\\nIn-network: $20 copayment • Out-of-network: $30 copayment\\n\\nDiabetic retinal exam:\\n\\nIn-network: $0 copayment • Out-of-network: $30 copayment' metadata={'source': 'KnowledgeBaseDocs/Braven/BravenMedicalChoicePPOBergen.pdf'}\n",
      "*****************************New Chunk:\n",
      "\n",
      "page_content='• Out-of-network\\n\\nIn-network: $0 copayment\\n\\no $50 copayment in an office or freestanding facility o $110 copayment in an outpatient hospital\\n\\nDiagnostic Mammogram:\\n\\n• Out-of-network:\\n\\nIn-network: $0 copayment\\n\\no $60 copayment in an office or freestanding facility o $175 copayment in an outpatient hospital\\n\\nDiagnostic radiology services (such as MRIs, CT scans):\\n\\n\\n\\nIn-network:\\n\\no $40 copayment in an office or freestanding facility o $150 copayment in an outpatient hospital\\n\\nOut-of-network:' metadata={'source': 'KnowledgeBaseDocs/Braven/BravenMedicalChoicePPOBergen.pdf'}\n",
      "*****************************New Chunk:\n",
      "\n",
      "page_content='o $0 copayment for cleaning (up to 3 per year) o $0 copayment for fluoride treatment (1 every 6\\n\\nmonths)\\n\\no $0 copayment for a full mouth x-ray (1 every 3\\n\\nyears)\\n\\no $0 copayment for bitewing x-ray (1 every 6\\n\\nmonths)\\n\\no $0 copayment for oral exam (up to 3 per year)' metadata={'source': 'KnowledgeBaseDocs/Braven/BravenMedicalChoicePPOBergen.pdf'}\n"
     ]
    }
   ],
   "source": [
    "for textchunk in get_similar_chunks(\"I have to go for my annual physical exam.  How much will I have to pay for the visit?\", 3, \"Braven\"):\n",
    "  print(\"*****************************New Chunk:\\n\")\n",
    "  print(textchunk)"
   ]
  },
  {
   "cell_type": "code",
   "execution_count": null,
   "id": "322288ab-9bfc-4baf-86d6-269c19bd14aa",
   "metadata": {
    "collapsed": true,
    "jupyter": {
     "outputs_hidden": true
    },
    "tags": []
   },
   "outputs": [
    {
     "name": "stderr",
     "output_type": "stream",
     "text": [
      "Using embedded DuckDB with persistence: data will be stored in: AIProjectDB/vector_db\n"
     ]
    },
    {
     "name": "stdout",
     "output_type": "stream",
     "text": [
      "*****************************New Chunk:\n",
      "\n",
      "page_content=\"French: Nous proposons des services gratuits d'interprétation pour répondre à toutes vos questions relatives à notre régime de santé ou d'assurance-médicaments. Pour accéder au service d'interprétation, il vous suffit de nous appeler au 1-844-498-9393. Un interlocuteur parlant Français pourra vous aider. Ce service est gratuit.\" metadata={'source': 'KnowledgeBaseDocs/Braven/BravenMedicalChoicePPOBergen.pdf'}\n",
      "*****************************New Chunk:\n",
      "\n",
      "page_content='Braven Health Civil Rights Coordinator Three Penn Plaza East, PP-12L Newark, NJ 07105-2200\\n\\nYou can also file a civil rights complaint with the U.S. Department of Health and Human Services, Office for Civil Rights, electronically through the Office for Civil Rights Complaint Portal, available at https://ocrportal.hhs.gov/ocr/portal/lobby.jsf, or by mail or phone at:' metadata={'source': 'KnowledgeBaseDocs/Braven/BravenMedicalChoicePPOBergen.pdf'}\n",
      "*****************************New Chunk:\n",
      "\n",
      "page_content='Filing a Section 1557 Grievance If you believe that Braven Health has failed to provide the free communication aids and services or discriminated against you for one of the reasons described above, you can file a discrimination complaint also known as a Section 1557 Grievance. Braven Health’s Civil Rights Coordinator can be reached by calling the Member Services number on the back of your member ID card or by writing to:' metadata={'source': 'KnowledgeBaseDocs/Braven/BravenMedicalChoicePPOBergen.pdf'}\n"
     ]
    }
   ],
   "source": [
    "for textchunk in get_similar_chunks(\"Is there a nurse that I can speak with regarding a recent diagnosis I received?\", 3, \"Braven\"):\n",
    "  print(\"*****************************New Chunk:\\n\")\n",
    "  print(textchunk)"
   ]
  },
  {
   "cell_type": "code",
   "execution_count": null,
   "id": "2ab4eb4f-6bc2-4a90-a937-b950ec5edb5e",
   "metadata": {
    "collapsed": true,
    "jupyter": {
     "outputs_hidden": true
    },
    "tags": []
   },
   "outputs": [
    {
     "name": "stderr",
     "output_type": "stream",
     "text": [
      "Using embedded DuckDB with persistence: data will be stored in: AIProjectDB/vector_db\n"
     ]
    },
    {
     "name": "stdout",
     "output_type": "stream",
     "text": [
      "*****************************New Chunk:\n",
      "\n",
      "page_content='provider. Your provider must submit claims to HearUSA for any in-network and out-of-network fitting/evaluation for hearing aid.\\n\\nOur plan covers up to $1,250 every year for hearing aids. Plan covers $750 toward the purchase of a hearing aid for one ear and $500 toward the purchase of a hearing aid for the second ear. You are responsible for payment beyond the $1,250 coverage limit. One (1) year supply of batteries are included.' metadata={'source': 'KnowledgeBaseDocs/Braven/BravenMedicalChoicePPOBergen.pdf'}\n",
      "*****************************New Chunk:\n",
      "\n",
      "page_content='Covered Benefits NOTE: Services with a 1 may require prior authorization. Hearing Services\\n\\nBraven Medicare Choice (PPO)\\n\\nYou can obtain hearing aids from any HearUSA in-network provider at a discount. If you obtain hearing aids from an out-of- network provider, submit your request to HearUSA for reimbursement up to a $1,250 coverage limit. Routine dental services (preventive/diagnostic):\\n\\nDental Services\\n\\n\\n\\nIn- and Out-of-network:' metadata={'source': 'KnowledgeBaseDocs/Braven/BravenMedicalChoicePPOBergen.pdf'}\n",
      "*****************************New Chunk:\n",
      "\n",
      "page_content='In-network: $20 copayment • Out-of-network: $30 copayment\\n\\nRoutine hearing exam (1 per year): • In-network: $0 copayment • Out-of-network: $30 copayment • Call HearUSA to schedule a visit with an in-network\\n\\nprovider. Your provider must submit claims to HearUSA for any in-network and out-of-network routine hearing exams.\\n\\nFitting/Evaluation for hearing aid (1 per year):\\n\\nIn-network: $0 copayment • Out-of-network: $30 copayment • Call HearUSA to schedule a visit with an in-network' metadata={'source': 'KnowledgeBaseDocs/Braven/BravenMedicalChoicePPOBergen.pdf'}\n"
     ]
    }
   ],
   "source": [
    "for textchunk in get_similar_chunks(\"Are hearing aids covered under my plan?\", 3, \"Braven\"):\n",
    "  print(\"*****************************New Chunk:\\n\")\n",
    "  print(textchunk)"
   ]
  },
  {
   "cell_type": "code",
   "execution_count": null,
   "id": "fdaef4fd-1ae7-47da-a4e8-fd5f09effb56",
   "metadata": {
    "collapsed": true,
    "jupyter": {
     "outputs_hidden": true
    },
    "tags": []
   },
   "outputs": [
    {
     "name": "stderr",
     "output_type": "stream",
     "text": [
      "Using embedded DuckDB with persistence: data will be stored in: AIProjectDB/vector_db\n"
     ]
    },
    {
     "name": "stdout",
     "output_type": "stream",
     "text": [
      "*****************************New Chunk:\n",
      "\n",
      "page_content='o $0 copayment for cleaning (up to 3 per year) o $0 copayment for fluoride treatment (1 every 6\\n\\nmonths)\\n\\no $0 copayment for a full mouth x-ray (1 every 3\\n\\nyears)\\n\\no $0 copayment for bitewing x-ray (1 every 6\\n\\nmonths)\\n\\no $0 copayment for oral exam (up to 3 per year)' metadata={'source': 'KnowledgeBaseDocs/Braven/BravenMedicalChoicePPOBergen.pdf'}\n",
      "*****************************New Chunk:\n",
      "\n",
      "page_content='Comprehensive dental services (restorative, endodontics, periodontics and simple extractions): In- and Out-of-network: o 50% coinsurance o $1,000 coverage maximum per year (coverage maximum does not apply to preventive and diagnostic services) Medicare-covered dental services:\\n\\n\\n\\n\\n\\nIn- and Out-of-network: 20% of the cost\\n\\nRoutine eye exam (1 every year): • In-network: $0 copayment • Out-of-network: $30 copayment\\n\\nVision Services\\n\\nEyeglasses or contact lenses after cataract surgery' metadata={'source': 'KnowledgeBaseDocs/Braven/BravenMedicalChoicePPOBergen.pdf'}\n",
      "*****************************New Chunk:\n",
      "\n",
      "page_content='(counseling for people with no sign of tobacco-related disease)\\n\\nVaccines, including Pneumonia, Flu shots, Hepatitis B,\\n\\nCOVID-19 and other vaccines\\n\\n“Welcome to Medicare” preventive visit (one-time)\\n\\nAny additional preventive services approved by Medicare during the contract year will be covered. Flu shot, Hepatitis B, Pneumonia, and COVID-19 vaccines are $0 copayment in-and out-of-network.' metadata={'source': 'KnowledgeBaseDocs/Braven/BravenMedicalChoicePPOBergen.pdf'}\n"
     ]
    }
   ],
   "source": [
    "for textchunk in get_similar_chunks(\"Do I have to pay for my annual dental cleaning?\", 3, \"Braven\"):\n",
    "  print(\"*****************************New Chunk:\\n\")\n",
    "  print(textchunk)"
   ]
  },
  {
   "cell_type": "code",
   "execution_count": null,
   "id": "ea840e98-05ba-4c5a-b68c-37589b68721c",
   "metadata": {
    "tags": []
   },
   "outputs": [],
   "source": [
    "#BRAVEN\n",
    "#(\"I haven’t gotten any vaccines yet this year. Will I owe a copay if I get the flu shot?\"):\n",
    "#(\"What other vaccines can I get this year without owing a copay?\", 3, \"Braven\"):\n",
    "#(\"Will I owe a copay for lab services?\", 3, \"Braven\"):\n",
    "#(\"Will I owe a copay if I get an MRI?\", 3, \"Braven\"):\n",
    "#(\"My doctor recommended that I go to physical therapy.  Would that be covered? \", 3, \"Braven\"):\n",
    "#(\"I am having surgery performed at a surgical center.  How much will I have to pay?\", 3, \"Braven\"):\n",
    "#(\"I am traveling out of the country and would like to know if I have coverage worldwide.\", 3, \"Braven\"):\n",
    "#(\"Would I owe a copayment for outpatient mental health services?\", 3, \"Braven\"):\n",
    "#(\"How do I find doctors that are in-network with my plan?\", 3, \"Braven\"):\n",
    "#(\"Can I go to an out-of-network provider?\", 3, \"Braven\"):\n",
    "#(\"Do I have to pay a deductible when using this medical plan?\", 3, \"Braven\"):\n",
    "#(\"I have to go for my annual physical exam.  How much will I have to pay for the visit?\", 3, \"Braven\"):\n",
    "#(\"Is there a nurse that I can speak with regarding a recent diagnosis I received?\", 3, \"Braven\"):\n",
    "#(\"Are hearing aids covered under my plan?\", 3, \"Braven\"):\n",
    "#(\"Do I have to pay for my annual dental cleaning?\", 3, \"Braven\"):"
   ]
  },
  {
   "cell_type": "code",
   "execution_count": null,
   "id": "56c1e82f-0e82-400b-a03b-6a4e92fe4644",
   "metadata": {
    "tags": []
   },
   "outputs": [],
   "source": [
    "for filename in os.listdir(\"KnowledgeBaseDocs/CoverageofYoungAdultsinNJ\"):\n",
    "    filepath = \"KnowledgeBaseDocs/CoverageofYoungAdultsinNJ\" + \"/\" + filename\n",
    "    with open(filepath):\n",
    "        loader = UnstructuredPDFLoader(filepath) #creating multiple times? look into params\n",
    "        data = loader.load()\n",
    "        text_chunks = text_splitter.split_documents(data)\n",
    "        #create a collection for each plan and add the documents to it\n",
    "\n",
    "        print(f\"Saving document embeddings under {vector_db_path}\")\n",
    "        db = Chroma.from_documents(collection_name=\"CoverageofYoungAdultsinNJ\", documents=text_chunks, embedding=embed_model, persist_directory=vector_db_path)\n",
    "        db.persist()"
   ]
  },
  {
   "cell_type": "code",
   "execution_count": 8,
   "id": "b046b817-e94d-4774-857a-4be6b07e6601",
   "metadata": {
    "tags": []
   },
   "outputs": [],
   "source": [
    "import torch\n",
    "from transformers import AutoTokenizer, AutoModelForCausalLM, pipeline\n",
    "from langchain import PromptTemplate\n",
    "from langchain.llms import HuggingFacePipeline\n",
    "from langchain.chains.question_answering import load_qa_chain\n",
    "from langchain.memory import ConversationSummaryBufferMemory\n",
    "\n",
    "\n",
    "def build_qa_chain():\n",
    "    torch.cuda.empty_cache()\n",
    "    model_name = \"databricks/dolly-v2-2-8b\" \n",
    "\n",
    "    instruct_pipeline = pipeline(model=model_name, torch_dtype=torch.bfloat16, trust_remote_code=True, device_map=\"auto\", return_full_text=True, max_new_tokens=256, top_p=0.95, top_k=maxSemResCount)\n",
    "\n",
    "    # Defining our prompt content.langchain will load our similar documents as {context}\n",
    "    template = \"\"\"Below is an instruction that describes a task. Write a response that appropriately completes the request.\n",
    "\n",
    "    Instruction:\n",
    "    You are a customer service representative at a health insurance company and your job is to help providing the best accurate answer to a customer. \n",
    "    The answer should only use information in the provided paragraphs to answer the question. Explain the answer with reference to these paragraphs. If the answer is not in the paragraphs, say that you do not know.\n",
    "\n",
    "    {context}\n",
    "\n",
    "    Question: {question}\n",
    "\n",
    "    Response:\n",
    "    \"\"\"\n",
    "    prompt = PromptTemplate(input_variables=['context', 'question'], template=template)\n",
    "\n",
    "    hf_pipe = HuggingFacePipeline(pipeline=instruct_pipeline)\n",
    "\n",
    "    #summarizing the chat history\n",
    "    #summarize_model = AutoModelForSeq2SeqLM.from_pretrained(\"t5-small\", device_map=\"auto\", torch_dtype=torch.bfloat16, trust_remote_code=True)\n",
    "    #summarize_tokenizer = AutoTokenizer.from_pretrained(\"t5-small\", padding_side=\"left\", model_max_length = 512)\n",
    "    #pipe_summary = pipeline(\"summarization\", model=summarize_model, tokenizer=summarize_tokenizer) #, max_new_tokens=500, min_new_tokens=300\n",
    "    # langchain pipeline doesn't support summarization yet, we added it as temp fix in the companion notebook _resources/00-init \n",
    "    #hf_summary = HuggingFacePipeline_WithSummarization(pipeline=pipe_summary)\n",
    "    #will keep 500 token and then ask for a summary. Removes prefix as our model isn't trained on specific chat prefix and can get confused.\n",
    "    #memory = ConversationSummaryBufferMemory(llm=hf_summary, memory_key=\"chat_history\", input_key=\"question\", max_token_limit=500, human_prefix = \"\", ai_prefix = \"\")\n",
    "\n",
    "    return load_qa_chain(llm=hf_pipe, chain_type=\"stuff\", prompt=prompt, verbose=True)\n",
    "\n",
    "qa_chain = build_qa_chain()"
   ]
  },
  {
   "cell_type": "code",
   "execution_count": 9,
   "id": "07a572ba-67d5-432e-bed1-375cf7beefb3",
   "metadata": {},
   "outputs": [],
   "source": [
    "def session():\n",
    "    plan = input(\"What plan does the customer have? Enter BR for braven, MED for medicare, IC for insurance claim form, GEN for general, or ALL for everything.\\n\")\n",
    "    if plan.upper()==\"BR\" or plan.upper()==\"BRAVEN\":\n",
    "        #search from braven documentation\n",
    "        return \"Braven\"\n",
    "    elif plan.upper()==\"MED\" or plan.upper()==\"MEDICARE\":\n",
    "        #search from medicare documentation\n",
    "        return \"Medicare\"\n",
    "    elif plan.upper()==\"GEN\" or plan.upper()==\"GENERAL\":\n",
    "        #search general documents\n",
    "        print(\"general\") #NEEDS TO BE CHANGED\n",
    "    elif plan.upper()==\"IC\" or plan.upper()==\"INSURANCE CLAIM\":\n",
    "        return \"HorizonMedicalHealthInsuranceClaimForm\"\n",
    "    elif plan.upper()==\"ALL\":\n",
    "        #search all plans\n",
    "        return \"public_docs\"\n",
    "    else:\n",
    "        print(\"Sorry, I'm not sure what you're saying\")"
   ]
  },
  {
   "cell_type": "code",
   "execution_count": 10,
   "id": "9c00558c-94fc-4700-aad5-337b727b30b8",
   "metadata": {
    "tags": []
   },
   "outputs": [],
   "source": [
    "def continueprompt():\n",
    "    while True:\n",
    "        ret = input(\"Would you like to ask a related question? Enter Y for yes and N for no.\")\n",
    "        if ret.upper()==\"Y\" or ret.upper()==\"YES\":\n",
    "            return True\n",
    "        elif ret.upper()==\"N\" or ret.upper()==\"NO\":\n",
    "            return False\n",
    "        else:\n",
    "            print(\"I'm sorry, I didn't understand. Would you like to ask a related question? Enter Y for yes and N for no.\")"
   ]
  },
  {
   "cell_type": "code",
   "execution_count": 11,
   "id": "ea895ccb-22e1-4337-a694-6749596748d3",
   "metadata": {
    "tags": []
   },
   "outputs": [],
   "source": [
    "def answer_question(question):\n",
    "    plan = session()\n",
    "    similar_chunks = get_similar_chunks(question, similar_doc_count=3, colname=plan)\n",
    "    result = qa_chain({\"input_documents\": similar_chunks, \"question\": question})\n",
    "    for d in result[\"input_documents\"]:\n",
    "        source_id = d.metadata[\"source\"]\n",
    "    print(source_id)\n",
    "    res = question + result['output_text']\n",
    "    print(res)\n",
    "    if continueprompt()==True:\n",
    "        newq = input(\"Please enter your next question.\")\n",
    "        answer_question(newq)"
   ]
  },
  {
   "cell_type": "code",
   "execution_count": 12,
   "id": "fee96cb9-4d83-4709-91c8-3ffe74b6b47d",
   "metadata": {
    "tags": []
   },
   "outputs": [
    {
     "name": "stdin",
     "output_type": "stream",
     "text": [
      "What plan does the customer have? Enter BR for braven, MED for medicare, IC for insurance claim form, GEN for general, or ALL for everything.\n",
      " BR\n"
     ]
    },
    {
     "name": "stderr",
     "output_type": "stream",
     "text": [
      "Using embedded DuckDB with persistence: data will be stored in: AIProjectDB/vector_db\n"
     ]
    },
    {
     "name": "stdout",
     "output_type": "stream",
     "text": [
      "\n",
      "\n",
      "\u001b[1m> Entering new StuffDocumentsChain chain...\u001b[0m\n",
      "\n",
      "\n",
      "\u001b[1m> Entering new LLMChain chain...\u001b[0m\n",
      "Prompt after formatting:\n",
      "\u001b[32;1m\u001b[1;3mBelow is an instruction that describes a task. Write a response that appropriately completes the request.\n",
      "\n",
      "    Instruction:\n",
      "    You are a customer service representative at a health insurance company and your job is to help providing the best accurate answer to a customer. \n",
      "    The answer should only use information in the provided paragraphs to answer the question. Explain the answer with reference to these paragraphs. If the answer is not in the paragraphs, say that you do not know.\n",
      "\n",
      "    Important Message About What You Pay for Vaccines – Our plan covers most Part D vaccines at no cost to you even if you haven’t paid your deductible. Call Member Services for more information.\n",
      "\n",
      "Covered Benefits NOTE: Services with a 1 may require prior authorization. Emergency Care\n",
      "\n",
      "Braven Medicare Choice (PPO)\n",
      "\n",
      "(counseling for people with no sign of tobacco-related disease)\n",
      "\n",
      "Vaccines, including Pneumonia, Flu shots, Hepatitis B,\n",
      "\n",
      "COVID-19 and other vaccines\n",
      "\n",
      "“Welcome to Medicare” preventive visit (one-time)\n",
      "\n",
      "Any additional preventive services approved by Medicare during the contract year will be covered. Flu shot, Hepatitis B, Pneumonia, and COVID-19 vaccines are $0 copayment in-and out-of-network.\n",
      "\n",
      "Costs may differ based on mail order pharmacy type. Coverage Gap Phase\n",
      "\n",
      "    Question: I haven’t gotten any vaccines yet this year. Will I owe a copay if I get the flu shot?\n",
      "\n",
      "    Response:\n",
      "    \u001b[0m\n",
      "\n",
      "\u001b[1m> Finished chain.\u001b[0m\n",
      "\n",
      "\u001b[1m> Finished chain.\u001b[0m\n",
      "KnowledgeBaseDocs/Braven/BravenMedicalChoicePPOBergen.pdf\n",
      "I haven’t gotten any vaccines yet this year. Will I owe a copay if I get the flu shot?\n",
      "The answer is that you will not owe a copay if you get the flu shot.\n"
     ]
    },
    {
     "name": "stdin",
     "output_type": "stream",
     "text": [
      "Would you like to ask a related question? Enter Y for yes and N for no. n\n"
     ]
    }
   ],
   "source": [
    "#BRAVEN\n",
    "from langchain.vectorstores import Chroma\n",
    "answer_question(\"I haven’t gotten any vaccines yet this year. Will I owe a copay if I get the flu shot?\")"
   ]
  },
  {
   "cell_type": "code",
   "execution_count": 15,
   "id": "ea92e602-fc0d-4950-a992-d8e24f01596d",
   "metadata": {
    "tags": []
   },
   "outputs": [
    {
     "name": "stdin",
     "output_type": "stream",
     "text": [
      "What plan does the customer have? Enter BR for braven, MED for medicare, IC for insurance claim form, GEN for general, or ALL for everything.\n",
      " br\n"
     ]
    },
    {
     "name": "stderr",
     "output_type": "stream",
     "text": [
      "Using embedded DuckDB with persistence: data will be stored in: AIProjectDB/vector_db\n"
     ]
    },
    {
     "name": "stdout",
     "output_type": "stream",
     "text": [
      "\n",
      "\n",
      "\u001b[1m> Entering new StuffDocumentsChain chain...\u001b[0m\n",
      "\n",
      "\n",
      "\u001b[1m> Entering new LLMChain chain...\u001b[0m\n",
      "Prompt after formatting:\n",
      "\u001b[32;1m\u001b[1;3mBelow is an instruction that describes a task. Write a response that appropriately completes the request.\n",
      "\n",
      "    Instruction:\n",
      "    You are a customer service representative at a health insurance company and your job is to help providing the best accurate answer to a customer. \n",
      "    The answer should only use information in the provided paragraphs to answer the question. Explain the answer with reference to these paragraphs. If the answer is not in the paragraphs, say that you do not know.\n",
      "\n",
      "    (counseling for people with no sign of tobacco-related disease)\n",
      "\n",
      "Vaccines, including Pneumonia, Flu shots, Hepatitis B,\n",
      "\n",
      "COVID-19 and other vaccines\n",
      "\n",
      "“Welcome to Medicare” preventive visit (one-time)\n",
      "\n",
      "Any additional preventive services approved by Medicare during the contract year will be covered. Flu shot, Hepatitis B, Pneumonia, and COVID-19 vaccines are $0 copayment in-and out-of-network.\n",
      "\n",
      "Important Message About What You Pay for Vaccines – Our plan covers most Part D vaccines at no cost to you even if you haven’t paid your deductible. Call Member Services for more information.\n",
      "\n",
      "Covered Benefits NOTE: Services with a 1 may require prior authorization. Emergency Care\n",
      "\n",
      "Braven Medicare Choice (PPO)\n",
      "\n",
      "$0 per year for Tiers 1, 2 and 6. $150 per year for Tiers 3, 4 and 5 only. Standard Pharmacy One-month supply\n",
      "\n",
      "Initial Coverage Phase\n",
      "\n",
      "Preferred Mail Order Three-month supply $0 copayment $12 copayment $141 copayment $300 copayment Not offered $0 copayment\n",
      "\n",
      "Standard Mail Order Three-month supply\n",
      "\n",
      "    Question: What other vaccines have a $0 copay?\n",
      "\n",
      "    Response:\n",
      "    \u001b[0m\n",
      "\n",
      "\u001b[1m> Finished chain.\u001b[0m\n",
      "\n",
      "\u001b[1m> Finished chain.\u001b[0m\n",
      "KnowledgeBaseDocs/Braven/BravenMedicalChoicePPOBergen.pdf\n",
      "What other vaccines have a $0 copay?\n",
      "Pneumonia, Flu shots, Hepatitis B\n"
     ]
    },
    {
     "name": "stdin",
     "output_type": "stream",
     "text": [
      "Would you like to ask a related question? Enter Y for yes and N for no. n\n"
     ]
    }
   ],
   "source": [
    "#BRAVEN\n",
    "answer_question(\"What other vaccines have a $0 copay?\")"
   ]
  },
  {
   "cell_type": "code",
   "execution_count": 13,
   "id": "62d43025-32ad-4e8c-b6b8-bd9fdc93c279",
   "metadata": {
    "tags": []
   },
   "outputs": [
    {
     "name": "stdin",
     "output_type": "stream",
     "text": [
      "What plan does the customer have? Enter BR for braven, MED for medicare, IC for insurance claim form, GEN for general, or ALL for everything.\n",
      " BR\n"
     ]
    },
    {
     "name": "stderr",
     "output_type": "stream",
     "text": [
      "Using embedded DuckDB with persistence: data will be stored in: AIProjectDB/vector_db\n"
     ]
    },
    {
     "name": "stdout",
     "output_type": "stream",
     "text": [
      "\n",
      "\n",
      "\u001b[1m> Entering new StuffDocumentsChain chain...\u001b[0m\n",
      "\n",
      "\n",
      "\u001b[1m> Entering new LLMChain chain...\u001b[0m\n",
      "Prompt after formatting:\n",
      "\u001b[32;1m\u001b[1;3mBelow is an instruction that describes a task. Write a response that appropriately completes the request.\n",
      "\n",
      "    Instruction:\n",
      "    You are a customer service representative at a health insurance company and your job is to help providing the best accurate answer to a customer. \n",
      "    The answer should only use information in the provided paragraphs to answer the question. Explain the answer with reference to these paragraphs. If the answer is not in the paragraphs, say that you do not know.\n",
      "\n",
      "    o $60 copayment in an office or freestanding facility o $175 copayment in an outpatient hospital\n",
      "\n",
      "Lab Services:\n",
      "\n",
      "\n",
      "\n",
      "In-network:\n",
      "\n",
      "o $0 copayment\n",
      "\n",
      "Out-of-network:\n",
      "\n",
      "o $20 copayment at an office o $50 copayment at an outpatient hospital\n",
      "\n",
      "Covered Benefits NOTE: Services with a 1 may require prior authorization. Diagnostic Services/ Labs/ Imaging1\n",
      "\n",
      "Braven Medicare Choice (PPO)\n",
      "\n",
      "Diagnostic tests and procedures:\n",
      "\n",
      "\n",
      "\n",
      "In-network:\n",
      "\n",
      "• Out-of-network\n",
      "\n",
      "In-network: $0 copayment\n",
      "\n",
      "o $50 copayment in an office or freestanding facility o $110 copayment in an outpatient hospital\n",
      "\n",
      "Diagnostic Mammogram:\n",
      "\n",
      "• Out-of-network:\n",
      "\n",
      "In-network: $0 copayment\n",
      "\n",
      "o $60 copayment in an office or freestanding facility o $175 copayment in an outpatient hospital\n",
      "\n",
      "Diagnostic radiology services (such as MRIs, CT scans):\n",
      "\n",
      "\n",
      "\n",
      "In-network:\n",
      "\n",
      "o $40 copayment in an office or freestanding facility o $150 copayment in an outpatient hospital\n",
      "\n",
      "Out-of-network:\n",
      "\n",
      "$95 copayment (worldwide) Copayment waived if admitted to a hospital within 24 hours for the same condition. See the “Inpatient Hospital Coverage” section of this booklet for other costs.\n",
      "\n",
      "$40 copayment • $95 copayment for worldwide coverage\n",
      "\n",
      "Urgently Needed Services\n",
      "\n",
      "Copayment waived if admitted to a hospital within 24 hours for the same condition. See the “Inpatient Hospital Coverage” section of this booklet for other costs. Diagnostic Colonoscopy:\n",
      "\n",
      "Diagnostic Services/ Labs/ Imaging1\n",
      "\n",
      "    Question: Will I owe a copay for lab services?\n",
      "\n",
      "    Response:\n",
      "    \u001b[0m\n",
      "\n",
      "\u001b[1m> Finished chain.\u001b[0m\n",
      "\n",
      "\u001b[1m> Finished chain.\u001b[0m\n",
      "KnowledgeBaseDocs/Braven/BravenMedicalChoicePPOBergen.pdf\n",
      "Will I owe a copay for lab services?\n",
      "You do not have a copayment in-network for lab services in your health insurance coverage. However, you will have a $20 copay in-network for lab services at an office and a $50 copay in-network for lab services at an outpatient hospital.\n"
     ]
    },
    {
     "name": "stdin",
     "output_type": "stream",
     "text": [
      "Would you like to ask a related question? Enter Y for yes and N for no. n\n"
     ]
    }
   ],
   "source": [
    "#BRAVEN\n",
    "answer_question(\"Will I owe a copay for lab services?\")"
   ]
  },
  {
   "cell_type": "code",
   "execution_count": 14,
   "id": "55299b11-2fec-44b3-b2b4-dd7c480f3004",
   "metadata": {
    "tags": []
   },
   "outputs": [
    {
     "name": "stdin",
     "output_type": "stream",
     "text": [
      "What plan does the customer have? Enter BR for braven, MED for medicare, IC for insurance claim form, GEN for general, or ALL for everything.\n",
      " BR\n"
     ]
    },
    {
     "name": "stderr",
     "output_type": "stream",
     "text": [
      "Using embedded DuckDB with persistence: data will be stored in: AIProjectDB/vector_db\n"
     ]
    },
    {
     "name": "stdout",
     "output_type": "stream",
     "text": [
      "\n",
      "\n",
      "\u001b[1m> Entering new StuffDocumentsChain chain...\u001b[0m\n",
      "\n",
      "\n",
      "\u001b[1m> Entering new LLMChain chain...\u001b[0m\n",
      "Prompt after formatting:\n",
      "\u001b[32;1m\u001b[1;3mBelow is an instruction that describes a task. Write a response that appropriately completes the request.\n",
      "\n",
      "    Instruction:\n",
      "    You are a customer service representative at a health insurance company and your job is to help providing the best accurate answer to a customer. \n",
      "    The answer should only use information in the provided paragraphs to answer the question. Explain the answer with reference to these paragraphs. If the answer is not in the paragraphs, say that you do not know.\n",
      "\n",
      "    September 30: Monday – Friday, from 8:00 a.m. to 8:00 p.m., ET.\n",
      "\n",
      "the chronically ill. Not all members qualify.\n",
      "\n",
      "Y0159_ECN008565SB2023_M\n",
      "\n",
      "Notice of Nondiscrimination\n",
      "\n",
      "    Question: Who is the president of the US?\n",
      "\n",
      "    Response:\n",
      "    \u001b[0m\n",
      "\n",
      "\u001b[1m> Finished chain.\u001b[0m\n",
      "\n",
      "\u001b[1m> Finished chain.\u001b[0m\n",
      "KnowledgeBaseDocs/Braven/BravenMedicalChoicePPOBergen.pdf\n",
      "Who is the president of the US?\n",
      "President of the US is Donald J. Trump\n"
     ]
    },
    {
     "name": "stdin",
     "output_type": "stream",
     "text": [
      "Would you like to ask a related question? Enter Y for yes and N for no. n\n"
     ]
    }
   ],
   "source": [
    "answer_question(\"Who is the president of the US?\")"
   ]
  },
  {
   "cell_type": "code",
   "execution_count": 15,
   "id": "cad4722c-d067-45c7-9362-8ae3717b2ef0",
   "metadata": {
    "tags": []
   },
   "outputs": [
    {
     "name": "stdin",
     "output_type": "stream",
     "text": [
      "What plan does the customer have? Enter BR for braven, MED for medicare, IC for insurance claim form, GEN for general, or ALL for everything.\n",
      " BR\n"
     ]
    },
    {
     "name": "stderr",
     "output_type": "stream",
     "text": [
      "Using embedded DuckDB with persistence: data will be stored in: AIProjectDB/vector_db\n"
     ]
    },
    {
     "name": "stdout",
     "output_type": "stream",
     "text": [
      "\n",
      "\n",
      "\u001b[1m> Entering new StuffDocumentsChain chain...\u001b[0m\n",
      "\n",
      "\n",
      "\u001b[1m> Entering new LLMChain chain...\u001b[0m\n",
      "Prompt after formatting:\n",
      "\u001b[32;1m\u001b[1;3mBelow is an instruction that describes a task. Write a response that appropriately completes the request.\n",
      "\n",
      "    Instruction:\n",
      "    You are a customer service representative at a health insurance company and your job is to help providing the best accurate answer to a customer. \n",
      "    The answer should only use information in the provided paragraphs to answer the question. Explain the answer with reference to these paragraphs. If the answer is not in the paragraphs, say that you do not know.\n",
      "\n",
      "    • Out-of-network\n",
      "\n",
      "In-network: $0 copayment\n",
      "\n",
      "o $50 copayment in an office or freestanding facility o $110 copayment in an outpatient hospital\n",
      "\n",
      "Diagnostic Mammogram:\n",
      "\n",
      "• Out-of-network:\n",
      "\n",
      "In-network: $0 copayment\n",
      "\n",
      "o $60 copayment in an office or freestanding facility o $175 copayment in an outpatient hospital\n",
      "\n",
      "Diagnostic radiology services (such as MRIs, CT scans):\n",
      "\n",
      "\n",
      "\n",
      "In-network:\n",
      "\n",
      "o $40 copayment in an office or freestanding facility o $150 copayment in an outpatient hospital\n",
      "\n",
      "Out-of-network:\n",
      "\n",
      "o $0 copayment at an office o $30 copayment at a freestanding facility o $50 copayment at an outpatient hospital\n",
      "\n",
      "Out-of-network:\n",
      "\n",
      "o $50 copayment at an office o $110 copayment at an outpatient hospital\n",
      "\n",
      "Therapeutic Radiology:\n",
      "\n",
      "X-Rays: •\n",
      "\n",
      "In- and out-of-network: 20% of the cost\n",
      "\n",
      "In-network:\n",
      "\n",
      "o $0 copayment at an office o $25 copayment at all other places of service\n",
      "\n",
      "Out-of-network: $40 copayment\n",
      "\n",
      "Hearing Services (continued on next page)\n",
      "\n",
      "Exam to diagnose and treat hearing and balance issues:\n",
      "\n",
      "o $60 copayment in an office or freestanding facility o $175 copayment in an outpatient hospital\n",
      "\n",
      "Lab Services:\n",
      "\n",
      "\n",
      "\n",
      "In-network:\n",
      "\n",
      "o $0 copayment\n",
      "\n",
      "Out-of-network:\n",
      "\n",
      "o $20 copayment at an office o $50 copayment at an outpatient hospital\n",
      "\n",
      "Covered Benefits NOTE: Services with a 1 may require prior authorization. Diagnostic Services/ Labs/ Imaging1\n",
      "\n",
      "Braven Medicare Choice (PPO)\n",
      "\n",
      "Diagnostic tests and procedures:\n",
      "\n",
      "\n",
      "\n",
      "In-network:\n",
      "\n",
      "    Question: Will I owe a copay if I get an MRI?\n",
      "\n",
      "    Response:\n",
      "    \u001b[0m\n",
      "\n",
      "\u001b[1m> Finished chain.\u001b[0m\n",
      "\n",
      "\u001b[1m> Finished chain.\u001b[0m\n",
      "KnowledgeBaseDocs/Braven/BravenMedicalChoicePPOBergen.pdf\n",
      "Will I owe a copay if I get an MRI?\n",
      "MRI's have a 20% copay in-network and out-of-pocket. You will not owe a copay for an outpatient MRI unless the test is performed at an out-of-network facility and you don't have Bronze, Silver, or Gold coverage. You will owe a 20% coinsurance for in-patient services unless you have Bronze, Silver, or Gold coverage.\n"
     ]
    },
    {
     "name": "stdin",
     "output_type": "stream",
     "text": [
      "Would you like to ask a related question? Enter Y for yes and N for no. n\n"
     ]
    }
   ],
   "source": [
    "#BRAVEN\n",
    "answer_question(\"Will I owe a copay if I get an MRI?\")"
   ]
  },
  {
   "cell_type": "code",
   "execution_count": 18,
   "id": "9f29a0c3-9e2a-40ad-b254-349edfe58bac",
   "metadata": {
    "tags": []
   },
   "outputs": [
    {
     "name": "stdin",
     "output_type": "stream",
     "text": [
      "What plan does the customer have? Enter BR for braven, MED for medicare, IC for insurance claim form, GEN for general, or ALL for everything.\n",
      " br\n"
     ]
    },
    {
     "name": "stderr",
     "output_type": "stream",
     "text": [
      "Using embedded DuckDB with persistence: data will be stored in: AIProjectDB/vector_db\n"
     ]
    },
    {
     "name": "stdout",
     "output_type": "stream",
     "text": [
      "\n",
      "\n",
      "\u001b[1m> Entering new StuffDocumentsChain chain...\u001b[0m\n",
      "\n",
      "\n",
      "\u001b[1m> Entering new LLMChain chain...\u001b[0m\n",
      "Prompt after formatting:\n",
      "\u001b[32;1m\u001b[1;3mBelow is an instruction that describes a task. Write a response that appropriately completes the request.\n",
      "\n",
      "    Instruction:\n",
      "    You are a customer service representative at a health insurance company and your job is to help providing the best accurate answer to a customer. \n",
      "    The answer should only use information in the provided paragraphs to answer the question. Explain the answer with reference to these paragraphs. If the answer is not in the paragraphs, say that you do not know.\n",
      "\n",
      "    Our plan covers up to 100 days per benefit period. A new benefit period begins each time you have not been readmitted to a SNF for 60 consecutive days since your last discharge. Each benefit period begins with the Day 1 copayment or coinsurance listed above. There is no annual limit to the number of benefit periods. • In-network: $20 copayment per visit • Out-of-network: $30 copayment per visit\n",
      "\n",
      "Physical Therapy1\n",
      "\n",
      "Ambulance1\n",
      "\n",
      "In-network:\n",
      "\n",
      "Medicare Part B Drugs1\n",
      "\n",
      "In- and Out-of-network: 20% of the cost • In-network: $0 copayment • Out-of-network: $10 copayment\n",
      "\n",
      "Annual Physical Exam\n",
      "\n",
      "Covered Benefits NOTE: Services with a 1 may require prior authorization. Cardiac Rehab\n",
      "\n",
      "Braven Medicare Choice (PPO)\n",
      "\n",
      "Cardiac (heart) rehab services (for a maximum of 2 one-hour sessions per day for up to 36 sessions during a 36-week period):\n",
      "\n",
      "In-network: $15 copayment • Out-of-network: $25 copayment\n",
      "\n",
      "Chiropractic Care\n",
      "\n",
      "Special Supplemental Benefit for Chronically Ill (SSBCI)\n",
      "\n",
      "Covered Benefits NOTE: Services with a 1 may require prior authorization. Supervised Exercise Therapy (SET) for Symptomatic Peripheral Artery Disease (PAD) Telehealth\n",
      "\n",
      "Braven Medicare Choice (PPO)\n",
      "\n",
      "In-network: $20 copayment • Out-of-network: $30 copayment\n",
      "\n",
      "$0 copayment for urgently needed services and behavioral health. Must use our preferred vendor.\n",
      "\n",
      "Prescription Drugs Deductible Phase\n",
      "\n",
      "Braven Medicare Choice (PPO)\n",
      "\n",
      "    Question: My doctor recommended that I go to physical therapy.  Would that be covered?\n",
      "\n",
      "    Response:\n",
      "    \u001b[0m\n",
      "\n",
      "\u001b[1m> Finished chain.\u001b[0m\n",
      "\n",
      "\u001b[1m> Finished chain.\u001b[0m\n",
      "KnowledgeBaseDocs/Braven/BravenMedicalChoicePPOBergen.pdf\n",
      "My doctor recommended that I go to physical therapy.  Would that be covered?\n",
      "Physical Therapy is covered by your benefits plan.\n"
     ]
    },
    {
     "name": "stdin",
     "output_type": "stream",
     "text": [
      "Would you like to ask a related question? Enter Y for yes and N for no. n\n"
     ]
    }
   ],
   "source": [
    "#BRAVEN\n",
    "answer_question(\"My doctor recommended that I go to physical therapy.  Would that be covered?\")"
   ]
  },
  {
   "cell_type": "code",
   "execution_count": null,
   "id": "5d10a9db-60a4-4099-944e-afdabc0f2718",
   "metadata": {
    "tags": []
   },
   "outputs": [
    {
     "name": "stdin",
     "output_type": "stream",
     "text": [
      "What plan does the customer have? Enter BR for braven, MED for medicare, IC for insurance claim form, GEN for general, or ALL for everything.\n",
      " br\n"
     ]
    },
    {
     "name": "stderr",
     "output_type": "stream",
     "text": [
      "Using embedded DuckDB with persistence: data will be stored in: AIProjectDB/vector_db\n"
     ]
    },
    {
     "name": "stdout",
     "output_type": "stream",
     "text": [
      "\n",
      "\n",
      "\u001b[1m> Entering new StuffDocumentsChain chain...\u001b[0m\n",
      "\n",
      "\n",
      "\u001b[1m> Entering new LLMChain chain...\u001b[0m\n",
      "Prompt after formatting:\n",
      "\u001b[32;1m\u001b[1;3mBelow is an instruction that describes a task. Write a response that appropriately completes the request.\n",
      "\n",
      "    Instruction:\n",
      "    You are a customer service representative at a health insurance company and your job is to help providing the best accurate answer to a customer. \n",
      "    The answer should only use information in the provided paragraphs to answer the question. Explain the answer with reference to these paragraphs. If the answer is not in the paragraphs, say that you do not know.\n",
      "\n",
      "    Ambulatory Surgical Center1\n",
      "\n",
      "Doctor Visits1\n",
      "\n",
      "Primary Care Physician:\n",
      "\n",
      "In-network: $0 copayment • Out-of-network: $10 copayment\n",
      "\n",
      "Specialists: • In-network: $20 copayment • Out-of-network: $30 copayment\n",
      "\n",
      "Covered Benefits NOTE: Services with a 1 may require prior authorization. Preventive Care\n",
      "\n",
      "Braven Medicare Choice (PPO)\n",
      "\n",
      "In-network: $0 copayment • Out-of-network: $10 copayment\n",
      "\n",
      "Our plan covers many preventive services, including:\n",
      "\n",
      "• Out-of-network\n",
      "\n",
      "In-network: $0 copayment\n",
      "\n",
      "o $50 copayment in an office or freestanding facility o $110 copayment in an outpatient hospital\n",
      "\n",
      "Diagnostic Mammogram:\n",
      "\n",
      "• Out-of-network:\n",
      "\n",
      "In-network: $0 copayment\n",
      "\n",
      "o $60 copayment in an office or freestanding facility o $175 copayment in an outpatient hospital\n",
      "\n",
      "Diagnostic radiology services (such as MRIs, CT scans):\n",
      "\n",
      "\n",
      "\n",
      "In-network:\n",
      "\n",
      "o $40 copayment in an office or freestanding facility o $150 copayment in an outpatient hospital\n",
      "\n",
      "Out-of-network:\n",
      "\n",
      "In-network: $60 copayment • Out-of-network: $70 copayment • In-network: $20 copayment • Out-of-network: $30 copayment • In-network: 20% of the cost • Out-of-network: 20% of the cost\n",
      "\n",
      "Partial Hospitalization Services1 Pulmonary Rehabilitation\n",
      "\n",
      "Renal Dialysis\n",
      "\n",
      "    Question: I am having surgery performed at a surgical center.  How much will I have to pay?\n",
      "\n",
      "    Response:\n",
      "    \u001b[0m\n",
      "\n",
      "\u001b[1m> Finished chain.\u001b[0m\n",
      "\n",
      "\u001b[1m> Finished chain.\u001b[0m\n",
      "KnowledgeBaseDocs/Braven/BravenMedicalChoicePPOBergen.pdf\n",
      "I am having surgery performed at a surgical center.  How much will I have to pay?\n",
      "If you go to a surgical center for a surgery the cost of the visit is covered by the health insurance company. The cost of the surgical center visit may include the cost for any ancillary services such as a hospital stay after the surgery, anesthesia, recovery room services, services in the post-anesthesia recovery unit, additional tests or medicine, and any other items or services that are performed during the patient's stay. Some surgical centers will have a deductible that the patient will pay before insurance kicks in for the rest of the cost of the visit. Some surgical centers have an out of network price which is higher than the in-network price. Out-of-pocket expenses for a surgical center visit may be about $250 - $600. If you are having a non- surgical center visit then your insurance would pay the fee for the visit, but it is not yet known how much the insurance will pay for ancillary services of a visit to a surgical center.\n"
     ]
    }
   ],
   "source": [
    "#BRAVEN\n",
    "answer_question(\"I am having surgery performed at a surgical center.  How much will I have to pay?\")"
   ]
  },
  {
   "cell_type": "code",
   "execution_count": null,
   "id": "cbad981e-eaa5-412d-9d11-4dfadc363847",
   "metadata": {
    "tags": []
   },
   "outputs": [],
   "source": [
    "#BRAVEN\n",
    "answer_question(\"I am traveling out of the country and would like to know if I have coverage worldwide.\")"
   ]
  },
  {
   "cell_type": "code",
   "execution_count": null,
   "id": "a0fdb80b-4b63-44ba-ae87-45d6ee107403",
   "metadata": {
    "tags": []
   },
   "outputs": [],
   "source": [
    "#BRAVEN\n",
    "answer_question(\"Would I owe a copayment for outpatient mental health services?\")"
   ]
  },
  {
   "cell_type": "code",
   "execution_count": null,
   "id": "5150337a-1c9d-4c00-b2dd-23f0f217adea",
   "metadata": {
    "tags": []
   },
   "outputs": [],
   "source": [
    "#BRAVEN\n",
    "answer_question(\"How do I find doctors that are in-network with my plan?\")"
   ]
  },
  {
   "cell_type": "code",
   "execution_count": null,
   "id": "1916fb94-daec-45fa-8f3a-231dcc896bdf",
   "metadata": {
    "tags": []
   },
   "outputs": [],
   "source": [
    "#BRAVEN\n",
    "answer_question(\"Can I go to an out-of-network provider?\")"
   ]
  },
  {
   "cell_type": "code",
   "execution_count": null,
   "id": "8611261b-156c-448f-be65-03a8922c9843",
   "metadata": {
    "tags": []
   },
   "outputs": [],
   "source": [
    "#BRAVEN\n",
    "answer_question(\"Do I have to pay a deductible when using this medical plan?\")"
   ]
  },
  {
   "cell_type": "code",
   "execution_count": 23,
   "id": "1bd74342-d650-4f8a-a444-ebafe41e5385",
   "metadata": {
    "collapsed": true,
    "jupyter": {
     "outputs_hidden": true
    },
    "tags": []
   },
   "outputs": [
    {
     "name": "stdin",
     "output_type": "stream",
     "text": [
      "What plan does the customer have? Enter BR for braven, MED for medicare, GEN for general, or ALL for everything.\n",
      " br\n"
     ]
    },
    {
     "name": "stderr",
     "output_type": "stream",
     "text": [
      "Using embedded DuckDB with persistence: data will be stored in: AIProjectDB/vector_db\n"
     ]
    },
    {
     "name": "stdout",
     "output_type": "stream",
     "text": [
      "\n",
      "\n",
      "\u001b[1m> Entering new StuffDocumentsChain chain...\u001b[0m\n",
      "\n",
      "\n",
      "\u001b[1m> Entering new LLMChain chain...\u001b[0m\n",
      "Prompt after formatting:\n",
      "\u001b[32;1m\u001b[1;3mBelow is an instruction that describes a task. Write a response that appropriately completes the request.\n",
      "\n",
      "    Instruction:\n",
      "    You are a customer service representative at a health insurance company and your job is to help providing the best accurate answer to a customer. \n",
      "    Use only information in the following paragraphs to answer the question at the end. Explain the answer with reference to these paragraphs. If you don't know, say that you do not know.\n",
      "\n",
      "    In- and Out-of-network: $0 copayment\n",
      "\n",
      "Glaucoma screening:\n",
      "\n",
      "In-network: $0 copayment • Out-of-network: $10 copayment\n",
      "\n",
      "Exam to diagnose and treat diseases and conditions of the eye:\n",
      "\n",
      "In-network: $20 copayment • Out-of-network: $30 copayment\n",
      "\n",
      "Diabetic retinal exam:\n",
      "\n",
      "In-network: $0 copayment • Out-of-network: $30 copayment\n",
      "\n",
      "• Out-of-network\n",
      "\n",
      "In-network: $0 copayment\n",
      "\n",
      "o $50 copayment in an office or freestanding facility o $110 copayment in an outpatient hospital\n",
      "\n",
      "Diagnostic Mammogram:\n",
      "\n",
      "• Out-of-network:\n",
      "\n",
      "In-network: $0 copayment\n",
      "\n",
      "o $60 copayment in an office or freestanding facility o $175 copayment in an outpatient hospital\n",
      "\n",
      "Diagnostic radiology services (such as MRIs, CT scans):\n",
      "\n",
      "\n",
      "\n",
      "In-network:\n",
      "\n",
      "o $40 copayment in an office or freestanding facility o $150 copayment in an outpatient hospital\n",
      "\n",
      "Out-of-network:\n",
      "\n",
      "o $0 copayment for cleaning (up to 3 per year) o $0 copayment for fluoride treatment (1 every 6\n",
      "\n",
      "months)\n",
      "\n",
      "o $0 copayment for a full mouth x-ray (1 every 3\n",
      "\n",
      "years)\n",
      "\n",
      "o $0 copayment for bitewing x-ray (1 every 6\n",
      "\n",
      "months)\n",
      "\n",
      "o $0 copayment for oral exam (up to 3 per year)\n",
      "\n",
      "    Question: I have to go for my annual physical exam.  How much will I have to pay for the visit?\n",
      "\n",
      "    Response:\n",
      "    \u001b[0m\n",
      "\n",
      "\u001b[1m> Finished chain.\u001b[0m\n",
      "\n",
      "\u001b[1m> Finished chain.\u001b[0m\n",
      "KnowledgeBaseDocs/Braven/BravenMedicalChoicePPOBergen.pdf\n",
      "I have to go for my annual physical exam.  How much will I have to pay for the visit?\n",
      "Your annual physical exam will cost you $150 regardless of insurance coverage.  But if you have insurance you may be eligible for a discount.  You can check with your insurance provider to find out if you are eligible for a discount.\n"
     ]
    },
    {
     "name": "stdin",
     "output_type": "stream",
     "text": [
      "Would you like to ask a related question? Enter Y for yes and N for no. N\n"
     ]
    }
   ],
   "source": [
    "#BRAVEN\n",
    "answer_question(\"I have to go for my annual physical exam.  How much will I have to pay for the visit?\")"
   ]
  },
  {
   "cell_type": "code",
   "execution_count": 24,
   "id": "eb494be0-3583-4944-8c30-c4c64eb94a0b",
   "metadata": {
    "tags": []
   },
   "outputs": [
    {
     "name": "stdin",
     "output_type": "stream",
     "text": [
      "What plan does the customer have? Enter BR for braven, MED for medicare, GEN for general, or ALL for everything.\n",
      " br\n"
     ]
    },
    {
     "name": "stderr",
     "output_type": "stream",
     "text": [
      "Using embedded DuckDB with persistence: data will be stored in: AIProjectDB/vector_db\n"
     ]
    },
    {
     "name": "stdout",
     "output_type": "stream",
     "text": [
      "\n",
      "\n",
      "\u001b[1m> Entering new StuffDocumentsChain chain...\u001b[0m\n",
      "\n",
      "\n",
      "\u001b[1m> Entering new LLMChain chain...\u001b[0m\n",
      "Prompt after formatting:\n",
      "\u001b[32;1m\u001b[1;3mBelow is an instruction that describes a task. Write a response that appropriately completes the request.\n",
      "\n",
      "    Instruction:\n",
      "    You are a customer service representative at a health insurance company and your job is to help providing the best accurate answer to a customer. \n",
      "    Use only information in the following paragraphs to answer the question at the end. Explain the answer with reference to these paragraphs. If you don't know, say that you do not know.\n",
      "\n",
      "    French: Nous proposons des services gratuits d'interprétation pour répondre à toutes vos questions relatives à notre régime de santé ou d'assurance-médicaments. Pour accéder au service d'interprétation, il vous suffit de nous appeler au 1-844-498-9393. Un interlocuteur parlant Français pourra vous aider. Ce service est gratuit.\n",
      "\n",
      "Braven Health Civil Rights Coordinator Three Penn Plaza East, PP-12L Newark, NJ 07105-2200\n",
      "\n",
      "You can also file a civil rights complaint with the U.S. Department of Health and Human Services, Office for Civil Rights, electronically through the Office for Civil Rights Complaint Portal, available at https://ocrportal.hhs.gov/ocr/portal/lobby.jsf, or by mail or phone at:\n",
      "\n",
      "Filing a Section 1557 Grievance If you believe that Braven Health has failed to provide the free communication aids and services or discriminated against you for one of the reasons described above, you can file a discrimination complaint also known as a Section 1557 Grievance. Braven Health’s Civil Rights Coordinator can be reached by calling the Member Services number on the back of your member ID card or by writing to:\n",
      "\n",
      "    Question: Is there a nurse that I can speak with regarding a recent diagnosis I received?\n",
      "\n",
      "    Response:\n",
      "    \u001b[0m\n",
      "\n",
      "\u001b[1m> Finished chain.\u001b[0m\n",
      "\n",
      "\u001b[1m> Finished chain.\u001b[0m\n",
      "KnowledgeBaseDocs/Braven/BravenMedicalChoicePPOBergen.pdf\n",
      "Is there a nurse that I can speak with regarding a recent diagnosis I received?\n",
      "No, there is not. However, we can certainly connect you to the appropriate team to assist with your diagnosis. Please contact Customer Care at 1-844-498-9393.\n"
     ]
    },
    {
     "name": "stdin",
     "output_type": "stream",
     "text": [
      "Would you like to ask a related question? Enter Y for yes and N for no. N\n"
     ]
    }
   ],
   "source": [
    "#BRAVEN\n",
    "answer_question(\"Is there a nurse that I can speak with regarding a recent diagnosis I received?\")"
   ]
  },
  {
   "cell_type": "code",
   "execution_count": 25,
   "id": "d1324671-9f10-4748-89d4-df3f9ea4bc4f",
   "metadata": {
    "tags": []
   },
   "outputs": [
    {
     "name": "stdin",
     "output_type": "stream",
     "text": [
      "What plan does the customer have? Enter BR for braven, MED for medicare, GEN for general, or ALL for everything.\n",
      " br\n"
     ]
    },
    {
     "name": "stderr",
     "output_type": "stream",
     "text": [
      "Using embedded DuckDB with persistence: data will be stored in: AIProjectDB/vector_db\n"
     ]
    },
    {
     "name": "stdout",
     "output_type": "stream",
     "text": [
      "\n",
      "\n",
      "\u001b[1m> Entering new StuffDocumentsChain chain...\u001b[0m\n",
      "\n",
      "\n",
      "\u001b[1m> Entering new LLMChain chain...\u001b[0m\n",
      "Prompt after formatting:\n",
      "\u001b[32;1m\u001b[1;3mBelow is an instruction that describes a task. Write a response that appropriately completes the request.\n",
      "\n",
      "    Instruction:\n",
      "    You are a customer service representative at a health insurance company and your job is to help providing the best accurate answer to a customer. \n",
      "    Use only information in the following paragraphs to answer the question at the end. Explain the answer with reference to these paragraphs. If you don't know, say that you do not know.\n",
      "\n",
      "    provider. Your provider must submit claims to HearUSA for any in-network and out-of-network fitting/evaluation for hearing aid.\n",
      "\n",
      "Our plan covers up to $1,250 every year for hearing aids. Plan covers $750 toward the purchase of a hearing aid for one ear and $500 toward the purchase of a hearing aid for the second ear. You are responsible for payment beyond the $1,250 coverage limit. One (1) year supply of batteries are included.\n",
      "\n",
      "Covered Benefits NOTE: Services with a 1 may require prior authorization. Hearing Services\n",
      "\n",
      "Braven Medicare Choice (PPO)\n",
      "\n",
      "You can obtain hearing aids from any HearUSA in-network provider at a discount. If you obtain hearing aids from an out-of- network provider, submit your request to HearUSA for reimbursement up to a $1,250 coverage limit. Routine dental services (preventive/diagnostic):\n",
      "\n",
      "Dental Services\n",
      "\n",
      "\n",
      "\n",
      "In- and Out-of-network:\n",
      "\n",
      "In-network: $20 copayment • Out-of-network: $30 copayment\n",
      "\n",
      "Routine hearing exam (1 per year): • In-network: $0 copayment • Out-of-network: $30 copayment • Call HearUSA to schedule a visit with an in-network\n",
      "\n",
      "provider. Your provider must submit claims to HearUSA for any in-network and out-of-network routine hearing exams.\n",
      "\n",
      "Fitting/Evaluation for hearing aid (1 per year):\n",
      "\n",
      "In-network: $0 copayment • Out-of-network: $30 copayment • Call HearUSA to schedule a visit with an in-network\n",
      "\n",
      "    Question: Are hearing aids covered under my plan?\n",
      "\n",
      "    Response:\n",
      "    \u001b[0m\n",
      "\n",
      "\u001b[1m> Finished chain.\u001b[0m\n",
      "\n",
      "\u001b[1m> Finished chain.\u001b[0m\n",
      "KnowledgeBaseDocs/Braven/BravenMedicalChoicePPOBergen.pdf\n",
      "Are hearing aids covered under my plan?\n",
      "Hearing aids are a covered benefit under your plan if they are provided under an in-network provider. In-network provider means provider that has received a reimbursement from HearUSA for this service. For example, if you go to an in-network provider for a routine hearing exam, the insurance company will pay for the hearing aid that is provided at the in-network provider.\n"
     ]
    },
    {
     "name": "stdin",
     "output_type": "stream",
     "text": [
      "Would you like to ask a related question? Enter Y for yes and N for no. N\n"
     ]
    }
   ],
   "source": [
    "#BRAVEN\n",
    "answer_question(\"Are hearing aids covered under my plan?\")"
   ]
  },
  {
   "cell_type": "code",
   "execution_count": 26,
   "id": "b4695bda-ea72-4b7f-8e6c-a3ab0dc4e4b6",
   "metadata": {
    "collapsed": true,
    "jupyter": {
     "outputs_hidden": true
    },
    "tags": []
   },
   "outputs": [
    {
     "name": "stdin",
     "output_type": "stream",
     "text": [
      "What plan does the customer have? Enter BR for braven, MED for medicare, GEN for general, or ALL for everything.\n",
      " br\n"
     ]
    },
    {
     "name": "stderr",
     "output_type": "stream",
     "text": [
      "Using embedded DuckDB with persistence: data will be stored in: AIProjectDB/vector_db\n"
     ]
    },
    {
     "name": "stdout",
     "output_type": "stream",
     "text": [
      "\n",
      "\n",
      "\u001b[1m> Entering new StuffDocumentsChain chain...\u001b[0m\n",
      "\n",
      "\n",
      "\u001b[1m> Entering new LLMChain chain...\u001b[0m\n",
      "Prompt after formatting:\n",
      "\u001b[32;1m\u001b[1;3mBelow is an instruction that describes a task. Write a response that appropriately completes the request.\n",
      "\n",
      "    Instruction:\n",
      "    You are a customer service representative at a health insurance company and your job is to help providing the best accurate answer to a customer. \n",
      "    Use only information in the following paragraphs to answer the question at the end. Explain the answer with reference to these paragraphs. If you don't know, say that you do not know.\n",
      "\n",
      "    o $0 copayment for cleaning (up to 3 per year) o $0 copayment for fluoride treatment (1 every 6\n",
      "\n",
      "months)\n",
      "\n",
      "o $0 copayment for a full mouth x-ray (1 every 3\n",
      "\n",
      "years)\n",
      "\n",
      "o $0 copayment for bitewing x-ray (1 every 6\n",
      "\n",
      "months)\n",
      "\n",
      "o $0 copayment for oral exam (up to 3 per year)\n",
      "\n",
      "Comprehensive dental services (restorative, endodontics, periodontics and simple extractions): In- and Out-of-network: o 50% coinsurance o $1,000 coverage maximum per year (coverage maximum does not apply to preventive and diagnostic services) Medicare-covered dental services:\n",
      "\n",
      "\n",
      "\n",
      "\n",
      "\n",
      "In- and Out-of-network: 20% of the cost\n",
      "\n",
      "Routine eye exam (1 every year): • In-network: $0 copayment • Out-of-network: $30 copayment\n",
      "\n",
      "Vision Services\n",
      "\n",
      "Eyeglasses or contact lenses after cataract surgery\n",
      "\n",
      "(counseling for people with no sign of tobacco-related disease)\n",
      "\n",
      "Vaccines, including Pneumonia, Flu shots, Hepatitis B,\n",
      "\n",
      "COVID-19 and other vaccines\n",
      "\n",
      "“Welcome to Medicare” preventive visit (one-time)\n",
      "\n",
      "Any additional preventive services approved by Medicare during the contract year will be covered. Flu shot, Hepatitis B, Pneumonia, and COVID-19 vaccines are $0 copayment in-and out-of-network.\n",
      "\n",
      "    Question: Do I have to pay for my annual dental cleaning?\n",
      "\n",
      "    Response:\n",
      "    \u001b[0m\n",
      "\n",
      "\u001b[1m> Finished chain.\u001b[0m\n",
      "\n",
      "\u001b[1m> Finished chain.\u001b[0m\n",
      "KnowledgeBaseDocs/Braven/BravenMedicalChoicePPOBergen.pdf\n",
      "Do I have to pay for my annual dental cleaning?\n",
      "The following is the answer to your question:\n",
      "\n",
      "o $0 copayment for cleaning (up to 3 per year)\n"
     ]
    },
    {
     "name": "stdin",
     "output_type": "stream",
     "text": [
      "Would you like to ask a related question? Enter Y for yes and N for no. N\n"
     ]
    }
   ],
   "source": [
    "#BRAVEN\n",
    "answer_question(\"Do I have to pay for my annual dental cleaning?\")"
   ]
  },
  {
   "cell_type": "code",
   "execution_count": 32,
   "id": "551bec0a-7d68-41cd-9537-8001e23fc1c1",
   "metadata": {
    "tags": []
   },
   "outputs": [
    {
     "name": "stdin",
     "output_type": "stream",
     "text": [
      "What plan does the customer have? Enter BR for braven, MED for medicare, IC for insurance claim form, GEN for general, or ALL for everything.\n",
      " IC\n"
     ]
    },
    {
     "name": "stderr",
     "output_type": "stream",
     "text": [
      "Using embedded DuckDB with persistence: data will be stored in: AIProjectDB/vector_db\n"
     ]
    },
    {
     "name": "stdout",
     "output_type": "stream",
     "text": [
      "\n",
      "\n",
      "\u001b[1m> Entering new StuffDocumentsChain chain...\u001b[0m\n",
      "\n",
      "\n",
      "\u001b[1m> Entering new LLMChain chain...\u001b[0m\n",
      "Prompt after formatting:\n",
      "\u001b[32;1m\u001b[1;3mBelow is an instruction that describes a task. Write a response that appropriately completes the request.\n",
      "\n",
      "    Instruction:\n",
      "    You are a customer service representative at a health insurance company and your job is to help providing the best accurate answer to a customer. \n",
      "    Use only information in the following paragraphs to answer the question at the end. Explain the answer with reference to these paragraphs. If you don't know, say that you do not know.\n",
      "\n",
      "    You may complete the required fields below online and then save or print a copy for submission. To save a completed copy to your computer, choose File > Save As to rename the file and save the form with your information to your computer. Horizon Medical Health Insurance Claim Form\n",
      "\n",
      "Please Print This Form In Color (If Available).\n",
      "\n",
      "THIS FORM CAN BE DOWNLOADED FROM OUR WEB SITE AT www.HorizonBlue.com\n",
      "\n",
      "INSURED’S INFORMATION\n",
      "\n",
      "1. LAST NAME\n",
      "\n",
      "FIRST NAME\n",
      "\n",
      "MI\n",
      "\n",
      "2. DATE OF BIRTH\n",
      "\n",
      "3. SEX\n",
      "\n",
      "YYYY\n",
      "\n",
      "OTHER INSURANCE INFORMATION 20. LAST NAME OF POLICY HOLDER\n",
      "\n",
      "MI\n",
      "\n",
      "FIRST NAME\n",
      "\n",
      "22. SEX\n",
      "\n",
      "21. DATE OF BIRTH\n",
      "\n",
      "23. IDENTIFICATION NUMBER\n",
      "\n",
      "/\n",
      "\n",
      "/\n",
      "\n",
      "MM\n",
      "\n",
      "DD\n",
      "\n",
      "YYYY\n",
      "\n",
      "M\n",
      "\n",
      "F\n",
      "\n",
      "25. EMPLOYER’S NAME OR SCHOOL NAME\n",
      "\n",
      "24. TELEPHONE NUMBER\n",
      "\n",
      "(Include Area Code)\n",
      "\n",
      "26. INSURANCE PLAN NAME OR PROGRAM NAME\n",
      "\n",
      "AUTHORIZATION 27.I certify that the information provided on this claim form is correct and complete, and that I am claiming benefits only for charges actually incurred by the patient named.\n",
      "\n",
      "Use the Horizon Blue app to submit your claims for reimbursement: • Take a picture of your medical bill and completed claim form. • Look for the More button on the lower right-hand side of the app and click Claims. • Then click Submit a Claim to upload.\n",
      "\n",
      "Make sure your pictures are legible and clear.\n",
      "\n",
      "    Question: Can you direct me to the form used to submit a health claim for reimbursement?\n",
      "\n",
      "    Response:\n",
      "    \u001b[0m\n",
      "\n",
      "\u001b[1m> Finished chain.\u001b[0m\n",
      "\n",
      "\u001b[1m> Finished chain.\u001b[0m\n",
      "KnowledgeBaseDocs/HorizonMedicalHealthInsuranceClaimForm/HorizonMedicalHealthInsuranceClaimForm.pdf\n",
      "Can you direct me to the form used to submit a health claim for reimbursement?\n",
      "I am unable to provide you with the form used to submit a health claim for reimbursement.  This information is available on the Horizon Blue website. Please review this information and if you still have questions please feel free to contact Horizon Blue Customer Care at 1-800-772-7181.\n"
     ]
    },
    {
     "name": "stdin",
     "output_type": "stream",
     "text": [
      "Would you like to ask a related question? Enter Y for yes and N for no. N\n"
     ]
    }
   ],
   "source": [
    "#Horizon Med Claim Form\n",
    "answer_question(\"Can you direct me to the form used to submit a health claim for reimbursement?\")"
   ]
  },
  {
   "cell_type": "code",
   "execution_count": 33,
   "id": "f54a00a0-8a87-47e9-bfb0-4d4cb838fa06",
   "metadata": {
    "tags": []
   },
   "outputs": [
    {
     "name": "stdin",
     "output_type": "stream",
     "text": [
      "What plan does the customer have? Enter BR for braven, MED for medicare, IC for insurance claim form, GEN for general, or ALL for everything.\n",
      " IC\n"
     ]
    },
    {
     "name": "stderr",
     "output_type": "stream",
     "text": [
      "Using embedded DuckDB with persistence: data will be stored in: AIProjectDB/vector_db\n"
     ]
    },
    {
     "name": "stdout",
     "output_type": "stream",
     "text": [
      "\n",
      "\n",
      "\u001b[1m> Entering new StuffDocumentsChain chain...\u001b[0m\n",
      "\n",
      "\n",
      "\u001b[1m> Entering new LLMChain chain...\u001b[0m\n",
      "Prompt after formatting:\n",
      "\u001b[32;1m\u001b[1;3mBelow is an instruction that describes a task. Write a response that appropriately completes the request.\n",
      "\n",
      "    Instruction:\n",
      "    You are a customer service representative at a health insurance company and your job is to help providing the best accurate answer to a customer. \n",
      "    Use only information in the following paragraphs to answer the question at the end. Explain the answer with reference to these paragraphs. If you don't know, say that you do not know.\n",
      "\n",
      "    To download the app, text GetApp to 422-272 or go to the App Store® or Google Play®. If you already have the Horizon Blue app, make sure you have the latest version by visiting the appropriate app store for updates.\n",
      "\n",
      "For technical support, call the eService desk at 1-888-777-5075, weekdays, 7 a.m. to 6 p.m., Eastern Time.\n",
      "\n",
      "OR\n",
      "\n",
      "7190 (0921)\n",
      "\n",
      "Please mail completed claim form to:\n",
      "\n",
      "Horizon Blue Cross Blue Shield of New Jersey P.O. Box 1609 Newark, New Jersey 07101-1609\n",
      "\n",
      "DATE SEE BACK OF THIS FORM FOR IMPORTANT INFORMATION\n",
      "\n",
      "An Independent Licensee of the Blue Cross and Blue Shield Association\n",
      "\n",
      "7190 (0921)\n",
      "\n",
      "FRAUD WARNING ANY PERSON WHO KNOWINGLY FILES A STATEMENT OF CLAIM CONTAINING ANY FALSE OR MISLEADING INFORMATION IS SUBJECT TO CRIMINAL AND CIVIL PENALTIES\n",
      "\n",
      "TO REPORT SUSPECTED FRAUD CALL 1-800-624-2048 AT HORIZON BLUE CROSS BLUE SHIELD OF NEW JERSEY\n",
      "\n",
      "7190 (0921)\n",
      "\n",
      "Reset Form\n",
      "\n",
      "    Question: What is the fax number that I can submit this to?\n",
      "\n",
      "    Response:\n",
      "    \u001b[0m\n",
      "\n",
      "\u001b[1m> Finished chain.\u001b[0m\n",
      "\n",
      "\u001b[1m> Finished chain.\u001b[0m\n",
      "KnowledgeBaseDocs/HorizonMedicalHealthInsuranceClaimForm/HorizonMedicalHealthInsuranceClaimForm.pdf\n",
      "What is the fax number that I can submit this to?\n",
      "Horizon Blue Cross Blue Shield of New Jersey has a dedicated fax line so you can send your claim form to them via fax at 7190 (0921).\n"
     ]
    },
    {
     "name": "stdin",
     "output_type": "stream",
     "text": [
      "Would you like to ask a related question? Enter Y for yes and N for no. N\n"
     ]
    }
   ],
   "source": [
    "#Horizon Med Claim Form\n",
    "answer_question(\"What is the fax number that I can submit this to?\")"
   ]
  },
  {
   "cell_type": "code",
   "execution_count": 34,
   "id": "f20f9a2a-172e-457b-bd5f-490dacbee65b",
   "metadata": {
    "tags": []
   },
   "outputs": [
    {
     "name": "stdin",
     "output_type": "stream",
     "text": [
      "What plan does the customer have? Enter BR for braven, MED for medicare, IC for insurance claim form, GEN for general, or ALL for everything.\n",
      " IC\n"
     ]
    },
    {
     "name": "stderr",
     "output_type": "stream",
     "text": [
      "Using embedded DuckDB with persistence: data will be stored in: AIProjectDB/vector_db\n"
     ]
    },
    {
     "name": "stdout",
     "output_type": "stream",
     "text": [
      "\n",
      "\n",
      "\u001b[1m> Entering new StuffDocumentsChain chain...\u001b[0m\n",
      "\n",
      "\n",
      "\u001b[1m> Entering new LLMChain chain...\u001b[0m\n",
      "Prompt after formatting:\n",
      "\u001b[32;1m\u001b[1;3mBelow is an instruction that describes a task. Write a response that appropriately completes the request.\n",
      "\n",
      "    Instruction:\n",
      "    You are a customer service representative at a health insurance company and your job is to help providing the best accurate answer to a customer. \n",
      "    Use only information in the following paragraphs to answer the question at the end. Explain the answer with reference to these paragraphs. If you don't know, say that you do not know.\n",
      "\n",
      "    DATE SEE BACK OF THIS FORM FOR IMPORTANT INFORMATION\n",
      "\n",
      "An Independent Licensee of the Blue Cross and Blue Shield Association\n",
      "\n",
      "7190 (0921)\n",
      "\n",
      "28. AUTHORIZATION FOR ASSIGNMENT OF BENEFITS 29. Horizon Blue Cross Blue Shield of New Jersey, at its discretion, may accept an Assignment of Benefits. I the undersigned, authorize and request Horizon Blue Cross Blue\n",
      "\n",
      "Shield of New Jersey, to make payment for benefits which may be due herein to: Payment will be sent to the Provider if this section is completed.\n",
      "\n",
      "NAME OF HEALTH CARE PROFESSIONAL\n",
      "\n",
      "TAX NUMBER (Required) / /\n",
      "\n",
      "NPI NUMBER\n",
      "\n",
      "SIGNATURE OF INSURED\n",
      "\n",
      "I authorize any hospital, physician or other provider who participated in the care and treatment of the patient to release to Horizon Blue Cross Blue Shield of New Jersey all medical or other information requested for the processing of this claim form. I hereby agree to reimburse Horizon Blue Cross Blue Shield of New Jersey, in full should this claim be incorrectly paid.\n",
      "\n",
      "/\n",
      "\n",
      "/\n",
      "\n",
      "28. SIGNATURE OF PATIENT (unless a minor)\n",
      "\n",
      "DATE\n",
      "\n",
      "    Question: What is the address that I can mail this to?\n",
      "\n",
      "    Response:\n",
      "    \u001b[0m\n",
      "\n",
      "\u001b[1m> Finished chain.\u001b[0m\n",
      "\n",
      "\u001b[1m> Finished chain.\u001b[0m\n",
      "KnowledgeBaseDocs/HorizonMedicalHealthInsuranceClaimForm/HorizonMedicalHealthInsuranceClaimForm.pdf\n",
      "What is the address that I can mail this to?\n",
      "To complete this form, you must provide your address. You will receive information about our health care plans and how to enroll in coverage by mail. Once you enroll in a plan, you will be able to choose which doctors, hospitals and other providers will be covered by your plan.\n"
     ]
    },
    {
     "name": "stdin",
     "output_type": "stream",
     "text": [
      "Would you like to ask a related question? Enter Y for yes and N for no. N\n"
     ]
    }
   ],
   "source": [
    "#Horizon Med Claim Form\n",
    "answer_question(\"What is the address that I can mail this to?\")"
   ]
  },
  {
   "cell_type": "code",
   "execution_count": null,
   "id": "406ab8ff-2fa7-4c0e-8418-4a6c6bd32aed",
   "metadata": {
    "tags": []
   },
   "outputs": [],
   "source": [
    "answer_question(\"What is the criteria to buy a Horizon Dental insurance plan?\")"
   ]
  },
  {
   "cell_type": "code",
   "execution_count": null,
   "id": "c0ce2d10-ea22-43ba-bb3a-54d589aee9d0",
   "metadata": {
    "tags": []
   },
   "outputs": [],
   "source": [
    "answer_question(\"What is a phone number for dental plans?\")"
   ]
  },
  {
   "cell_type": "code",
   "execution_count": null,
   "id": "ae2b59cf-2697-4908-a386-a8b880b39d05",
   "metadata": {
    "tags": []
   },
   "outputs": [],
   "source": [
    "answer_question(\"Is there a dental plan for kids?\")"
   ]
  },
  {
   "cell_type": "code",
   "execution_count": null,
   "id": "ab9e6630-f4f5-4556-b8e0-873499ba49cd",
   "metadata": {},
   "outputs": [],
   "source": [
    "answer_question(\"Will I owe a copay if I get an MRI?\")"
   ]
  },
  {
   "cell_type": "code",
   "execution_count": null,
   "id": "7dba73ed-2826-4c69-ad25-028acfe7840f",
   "metadata": {
    "tags": []
   },
   "outputs": [],
   "source": [
    "answer_question(\"Will I owe a copay for lab services?\")"
   ]
  },
  {
   "cell_type": "code",
   "execution_count": null,
   "id": "40f06d03-f16f-46b0-a774-17352b6d4d7d",
   "metadata": {
    "tags": []
   },
   "outputs": [],
   "source": [
    "answer_question(\"My doctor recommended physical therapy. Would it be covered?\")"
   ]
  },
  {
   "cell_type": "code",
   "execution_count": null,
   "id": "938c1999-a363-43b3-b41e-8fe67d1d5999",
   "metadata": {
    "tags": []
   },
   "outputs": [],
   "source": [
    "answer_question(\"I am travelling out of the country and would like to know if I have worldwide coverage with Braven.\")"
   ]
  },
  {
   "cell_type": "code",
   "execution_count": null,
   "id": "909b5aa2-ca30-4cd5-a741-eae41754f30e",
   "metadata": {
    "tags": []
   },
   "outputs": [],
   "source": [
    "answer_question(\"Does my plan cover gym memberships or fitness classes?\")"
   ]
  },
  {
   "cell_type": "code",
   "execution_count": 29,
   "id": "9f74b1e6-22e8-4bde-a335-dff3593501e3",
   "metadata": {
    "tags": []
   },
   "outputs": [
    {
     "name": "stdin",
     "output_type": "stream",
     "text": [
      "What plan does the customer have? Enter BR for braven, MED for medicare, GEN for general, or ALL for everything.\n",
      " med\n"
     ]
    },
    {
     "name": "stderr",
     "output_type": "stream",
     "text": [
      "Using embedded DuckDB with persistence: data will be stored in: AIProjectDB/vector_db\n"
     ]
    },
    {
     "name": "stdout",
     "output_type": "stream",
     "text": [
      "\n",
      "\n",
      "\u001b[1m> Entering new StuffDocumentsChain chain...\u001b[0m\n",
      "\n",
      "\n",
      "\u001b[1m> Entering new LLMChain chain...\u001b[0m\n",
      "Prompt after formatting:\n",
      "\u001b[32;1m\u001b[1;3mBelow is an instruction that describes a task. Write a response that appropriately completes the request.\n",
      "\n",
      "    Instruction:\n",
      "    You are a customer service representative at a health insurance company and your job is to help providing the best accurate answer to a customer. \n",
      "    Use only information in the following paragraphs to answer the question at the end. Explain the answer with reference to these paragraphs. If you don't know, say that you do not know.\n",
      "\n",
      "    Religious non-medical health care institution (inpatient care) If you qualify for inpatient hospital or skilled nursing facility care in these facilities, Medicare will only cover inpatient, non-religious, non-medical items and services, like room and board, and items or services that don’t need a doctor’s order or prescription (like unmedicated wound dressings or use of a simple walker). Medicare doesn’t cover the religious portion of this type of care.\n",
      "\n",
      "Hospice care • Home health care • Inpatient care in a religious non-medical health care institution\n",
      "\n",
      "See pages 26–29 for a list of common services Part A covers and general descriptions.\n",
      "\n",
      "For more information on Part A-covered services, visit Medicare.gov/coverage.\n",
      "\n",
      "or services that Medicare doesn’t cover.\n",
      "\n",
      "    Question: Does Medicare cover religious care?\n",
      "\n",
      "    Response:\n",
      "    \u001b[0m\n",
      "\n",
      "\u001b[1m> Finished chain.\u001b[0m\n",
      "\n",
      "\u001b[1m> Finished chain.\u001b[0m\n",
      "KnowledgeBaseDocs/Medicare/MedicareHandbook.pdf\n",
      "Does Medicare cover religious care?\n",
      "Medicare does not cover religious care.\n"
     ]
    },
    {
     "name": "stdin",
     "output_type": "stream",
     "text": [
      "Would you like to ask a related question? Enter Y for yes and N for no. N\n"
     ]
    }
   ],
   "source": [
    "answer_question(\"Does Medicare cover religious care?\")"
   ]
  },
  {
   "cell_type": "code",
   "execution_count": null,
   "id": "e718bba0-b805-4e7a-9a93-fd52f6f2ac1f",
   "metadata": {
    "tags": []
   },
   "outputs": [],
   "source": [
    "answer_question(\"Will I owe a copay for lab services?\") #Braven"
   ]
  },
  {
   "cell_type": "code",
   "execution_count": null,
   "id": "7f1600bf-9d21-4633-975d-bdaa8fb78424",
   "metadata": {
    "tags": []
   },
   "outputs": [],
   "source": [
    "answer_question(\"Would I owe a copayment for outpatient mental health services?\")"
   ]
  },
  {
   "cell_type": "code",
   "execution_count": null,
   "id": "34665639-b891-43c1-9738-19d9a8256fcf",
   "metadata": {},
   "outputs": [],
   "source": [
    "db.list_collections()"
   ]
  },
  {
   "cell_type": "code",
   "execution_count": null,
   "id": "52603a37-2b3a-4c5e-87f7-0d12f40286fe",
   "metadata": {},
   "outputs": [],
   "source": []
  }
 ],
 "metadata": {
  "kernelspec": {
   "display_name": "default:Python",
   "language": "python",
   "name": "conda-env-default-py"
  },
  "language_info": {
   "codemirror_mode": {
    "name": "ipython",
    "version": 3
   },
   "file_extension": ".py",
   "mimetype": "text/x-python",
   "name": "python",
   "nbconvert_exporter": "python",
   "pygments_lexer": "ipython3",
   "version": "3.9.16"
  },
  "toc-autonumbering": true,
  "toc-showtags": false
 },
 "nbformat": 4,
 "nbformat_minor": 5
}
